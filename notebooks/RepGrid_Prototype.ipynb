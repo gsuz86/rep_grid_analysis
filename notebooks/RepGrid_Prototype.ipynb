{
 "cells": [
  {
   "cell_type": "code",
   "execution_count": 4,
   "metadata": {},
   "outputs": [],
   "source": [
    "import numpy as np\n",
    "import matplotlib.pyplot as plt\n",
    "import matplotlib\n",
    "from scipy.stats import pearsonr\n",
    "from scipy.stats import spearmanr\n",
    "from sklearn.preprocessing import StandardScaler\n",
    "from sklearn.decomposition import PCA\n",
    "import pandas as pd"
   ]
  },
  {
   "cell_type": "markdown",
   "metadata": {},
   "source": [
    "### Json file that I'll get from the webapp"
   ]
  },
  {
   "cell_type": "code",
   "execution_count": 5,
   "metadata": {},
   "outputs": [],
   "source": [
    "elements_const = ['Myself right now', \n",
    "                  'Myself as I would like to be',\n",
    "                  'Myself with my boss',\n",
    "                  'Myself with a co-worker I dislike',\n",
    "                  'Myself in a tense meeting',\n",
    "                  'Myself after a bad day',\n",
    "                  'Myself after a good day',\n",
    "                  'Myself with family'\n",
    "                 ]\n",
    "constructs_const = ['successful(1) / unsuccessful(7)',\n",
    "                    'hard-working(1) / lazy(7)',\n",
    "                    'positive(1) / negative(7)',\n",
    "                    'friendly(1) /  unfriendly(7)',\n",
    "                    'quiet(1) / talkative(7)',\n",
    "                    'boring(1) / fun(7)',\n",
    "                    'happy(1) / unhappy(7)',\n",
    "                    'understanding(1) / not understanding(7)',\n",
    "                    'motivated(1) / unmotivated(7)',\n",
    "                    'confident(1) / not confident(7)'\n",
    "]"
   ]
  },
  {
   "cell_type": "code",
   "execution_count": 6,
   "metadata": {},
   "outputs": [
    {
     "data": {
      "text/plain": [
       "['successful(1) / unsuccessful(7)',\n",
       " 'hard-working(1) / lazy(7)',\n",
       " 'positive(1) / negative(7)',\n",
       " 'friendly(1) /  unfriendly(7)',\n",
       " 'quiet(1) / talkative(7)',\n",
       " 'boring(1) / fun(7)',\n",
       " 'happy(1) / unhappy(7)',\n",
       " 'understanding(1) / not understanding(7)',\n",
       " 'motivated(1) / unmotivated(7)',\n",
       " 'confident(1) / not confident(7)']"
      ]
     },
     "execution_count": 6,
     "metadata": {},
     "output_type": "execute_result"
    }
   ],
   "source": [
    "constructs_const"
   ]
  },
  {
   "cell_type": "code",
   "execution_count": 7,
   "metadata": {},
   "outputs": [
    {
     "name": "stdout",
     "output_type": "stream",
     "text": [
      "10\n",
      "successful(1) / unsuccessful(7)\n"
     ]
    }
   ],
   "source": [
    "print(len(constructs_const))\n",
    "print(constructs_const[0])"
   ]
  },
  {
   "cell_type": "code",
   "execution_count": 8,
   "metadata": {},
   "outputs": [],
   "source": [
    "input_const = [\n",
    "    {\n",
    "    'name_construct': constructs_const[0],\n",
    "        'elements': [\n",
    "        {\n",
    "            'name': elements_const[0],\n",
    "            'rating': 3,\n",
    "        },\n",
    "        {\n",
    "            'name': elements_const[1],\n",
    "            'rating': 1,\n",
    "        },\n",
    "        {\n",
    "            'name': elements_const[2],\n",
    "            'rating': 4,\n",
    "        },\n",
    "        {\n",
    "            'name': elements_const[3],\n",
    "            'rating': 3,\n",
    "        },\n",
    "        {\n",
    "            'name': elements_const[4],\n",
    "            'rating': 3,\n",
    "        },\n",
    "        {\n",
    "            'name': elements_const[5],\n",
    "            'rating': 4,\n",
    "        },\n",
    "        {\n",
    "            'name': elements_const[6],\n",
    "            'rating': 2,\n",
    "        },\n",
    "        {\n",
    "            'name': elements_const[7],\n",
    "            'rating': 2,\n",
    "        }\n",
    "    ]\n",
    "    },\n",
    "    {\n",
    "    'name_construct': constructs_const[1],\n",
    "        'elements': [\n",
    "        {\n",
    "            'name': elements_const[0],\n",
    "            'rating': 4,\n",
    "        },\n",
    "        {\n",
    "            'name': elements_const[1],\n",
    "            'rating': 2,\n",
    "        },\n",
    "        {\n",
    "            'name': elements_const[2],\n",
    "            'rating': 3,\n",
    "        },\n",
    "        {\n",
    "            'name': elements_const[3],\n",
    "            'rating': 5,\n",
    "        },\n",
    "        {\n",
    "            'name': elements_const[4],\n",
    "            'rating': 4,\n",
    "        },\n",
    "        {\n",
    "            'name': elements_const[5],\n",
    "            'rating': 5,\n",
    "        },\n",
    "        {\n",
    "            'name': elements_const[6],\n",
    "            'rating': 1,\n",
    "        },\n",
    "        {\n",
    "            'name': elements_const[7],\n",
    "            'rating': 6,\n",
    "        }\n",
    "        ]\n",
    "    },\n",
    "    {\n",
    "    'name_construct': constructs_const[2],\n",
    "        'elements': [\n",
    "        {\n",
    "            'name': elements_const[0],\n",
    "            'rating': 2,\n",
    "        },\n",
    "        {\n",
    "            'name': elements_const[1],\n",
    "            'rating': 2,\n",
    "        },\n",
    "        {\n",
    "            'name': elements_const[2],\n",
    "            'rating': 2,\n",
    "        },\n",
    "        {\n",
    "            'name': elements_const[3],\n",
    "            'rating': 6,\n",
    "        },\n",
    "        {\n",
    "            'name': elements_const[4],\n",
    "            'rating': 5,\n",
    "        },\n",
    "        {\n",
    "            'name': elements_const[5],\n",
    "            'rating': 6,\n",
    "        },\n",
    "        {\n",
    "            'name': elements_const[6],\n",
    "            'rating': 1,\n",
    "        },\n",
    "        {\n",
    "            'name': elements_const[7],\n",
    "            'rating': 3,\n",
    "        }\n",
    "        ]\n",
    "    },\n",
    "    {\n",
    "    'name_construct': constructs_const[3],\n",
    "        'elements': [\n",
    "        {\n",
    "            'name': elements_const[0],\n",
    "            'rating': 4,\n",
    "        },\n",
    "        {\n",
    "            'name': elements_const[1],\n",
    "            'rating': 2,\n",
    "        },\n",
    "        {\n",
    "            'name': elements_const[2],\n",
    "            'rating': 3,\n",
    "        },\n",
    "        {\n",
    "            'name': elements_const[3],\n",
    "            'rating': 5,\n",
    "        },\n",
    "        {\n",
    "            'name': elements_const[4],\n",
    "            'rating': 5,\n",
    "        },\n",
    "        {\n",
    "            'name': elements_const[5],\n",
    "            'rating': 5,\n",
    "        },\n",
    "        {\n",
    "            'name': elements_const[6],\n",
    "            'rating': 2,\n",
    "        },\n",
    "        {\n",
    "            'name': elements_const[7],\n",
    "            'rating': 5,\n",
    "        }\n",
    "        ]\n",
    "    },\n",
    "        {\n",
    "        'name_construct': constructs_const[4],\n",
    "        'elements': [\n",
    "        {\n",
    "            'name': elements_const[0],\n",
    "            'rating': 5,\n",
    "        },\n",
    "        {\n",
    "            'name': elements_const[1],\n",
    "            'rating': 5,\n",
    "        },\n",
    "        {\n",
    "            'name': elements_const[2],\n",
    "            'rating': 4,\n",
    "        },\n",
    "        {\n",
    "            'name': elements_const[3],\n",
    "            'rating': 4,\n",
    "        },\n",
    "        {\n",
    "            'name': elements_const[4],\n",
    "            'rating': 5,\n",
    "        },\n",
    "        {\n",
    "            'name': elements_const[5],\n",
    "            'rating': 3,\n",
    "        },\n",
    "        {\n",
    "            'name': elements_const[6],\n",
    "            'rating': 5,\n",
    "        },\n",
    "        {\n",
    "            'name': elements_const[7],\n",
    "            'rating': 4,\n",
    "        }\n",
    "        ]\n",
    "    },\n",
    "    {\n",
    "    'name_construct': constructs_const[5],\n",
    "        'elements': [\n",
    "        {\n",
    "            'name': elements_const[0],\n",
    "            'rating': 6,\n",
    "        },\n",
    "        {\n",
    "            'name': elements_const[1],\n",
    "            'rating': 7,\n",
    "        },\n",
    "        {\n",
    "            'name': elements_const[2],\n",
    "            'rating': 4,\n",
    "        },\n",
    "        {\n",
    "            'name': elements_const[3],\n",
    "            'rating': 2,\n",
    "        },\n",
    "        {\n",
    "            'name': elements_const[4],\n",
    "            'rating': 4,\n",
    "        },\n",
    "        {\n",
    "            'name': elements_const[5],\n",
    "            'rating': 2,\n",
    "        },\n",
    "        {\n",
    "            'name': elements_const[6],\n",
    "            'rating': 6,\n",
    "        },\n",
    "        {\n",
    "            'name': elements_const[7],\n",
    "            'rating': 5,\n",
    "        }\n",
    "        ]\n",
    "    },\n",
    "    {\n",
    "    'name_construct': constructs_const[6],\n",
    "        'elements': [\n",
    "        {\n",
    "            'name': elements_const[0],\n",
    "            'rating': 2,\n",
    "        },\n",
    "        {\n",
    "            'name': elements_const[1],\n",
    "            'rating': 2,\n",
    "        },\n",
    "        {\n",
    "            'name': elements_const[2],\n",
    "            'rating': 4,\n",
    "        },\n",
    "        {\n",
    "            'name': elements_const[3],\n",
    "            'rating': 5,\n",
    "        },\n",
    "        {\n",
    "            'name': elements_const[4],\n",
    "            'rating': 4,\n",
    "        },\n",
    "        {\n",
    "            'name': elements_const[5],\n",
    "            'rating': 6,\n",
    "        },\n",
    "        {\n",
    "            'name': elements_const[6],\n",
    "            'rating': 1,\n",
    "        },\n",
    "        {\n",
    "            'name': elements_const[7],\n",
    "            'rating': 3,\n",
    "        }\n",
    "        ]\n",
    "    },\n",
    "    {\n",
    "    'name_construct': constructs_const[7],\n",
    "        'elements': [\n",
    "        {\n",
    "            'name': elements_const[0],\n",
    "            'rating': 4,\n",
    "        },\n",
    "        {\n",
    "            'name': elements_const[1],\n",
    "            'rating': 1,\n",
    "        },\n",
    "        {\n",
    "            'name': elements_const[2],\n",
    "            'rating': 3,\n",
    "        },\n",
    "        {\n",
    "            'name': elements_const[3],\n",
    "            'rating': 5,\n",
    "        },\n",
    "        {\n",
    "            'name': elements_const[4],\n",
    "            'rating': 4,\n",
    "        },\n",
    "        {\n",
    "            'name': elements_const[5],\n",
    "            'rating': 6,\n",
    "        },\n",
    "        {\n",
    "            'name': elements_const[6],\n",
    "            'rating': 2,\n",
    "        },\n",
    "        {\n",
    "            'name': elements_const[7],\n",
    "            'rating': 3,\n",
    "        }\n",
    "        ]\n",
    "    },\n",
    "    {\n",
    "    'name_construct': constructs_const[8],\n",
    "        'elements': [\n",
    "        {\n",
    "            'name': elements_const[0],\n",
    "            'rating': 3,\n",
    "        },\n",
    "        {\n",
    "            'name': elements_const[1],\n",
    "            'rating': 1,\n",
    "        },\n",
    "        {\n",
    "            'name': elements_const[2],\n",
    "            'rating': 2,\n",
    "        },\n",
    "        {\n",
    "            'name': elements_const[3],\n",
    "            'rating': 6,\n",
    "        },\n",
    "        {\n",
    "            'name': elements_const[4],\n",
    "            'rating': 3,\n",
    "        },\n",
    "        {\n",
    "            'name': elements_const[5],\n",
    "            'rating': 6,\n",
    "        },\n",
    "        {\n",
    "            'name': elements_const[6],\n",
    "            'rating': 2,\n",
    "        },\n",
    "        {\n",
    "            'name': elements_const[7],\n",
    "            'rating': 3,\n",
    "        }\n",
    "        ]\n",
    "    },\n",
    "    {\n",
    "    'name_construct': constructs_const[9],\n",
    "        'elements': [\n",
    "        {\n",
    "            'name': elements_const[0],\n",
    "            'rating': 3,\n",
    "        },\n",
    "        {\n",
    "            'name': elements_const[1],\n",
    "            'rating': 2,\n",
    "        },\n",
    "        {\n",
    "            'name': elements_const[2],\n",
    "            'rating': 2,\n",
    "        },\n",
    "        {\n",
    "            'name': elements_const[3],\n",
    "            'rating': 2,\n",
    "        },\n",
    "        {\n",
    "            'name': elements_const[4],\n",
    "            'rating': 4,\n",
    "        },\n",
    "        {\n",
    "            'name': elements_const[5],\n",
    "            'rating': 4,\n",
    "        },\n",
    "        {\n",
    "            'name': elements_const[6],\n",
    "            'rating': 1,\n",
    "        },\n",
    "        {\n",
    "            'name': elements_const[7],\n",
    "            'rating': 1,\n",
    "        }\n",
    "        ]\n",
    "    },\n",
    "]\n"
   ]
  },
  {
   "cell_type": "markdown",
   "metadata": {},
   "source": [
    "# Code "
   ]
  },
  {
   "cell_type": "markdown",
   "metadata": {},
   "source": [
    "## Parsing input"
   ]
  },
  {
   "cell_type": "markdown",
   "metadata": {},
   "source": [
    "### Extract elements, constructs, and ratings"
   ]
  },
  {
   "cell_type": "code",
   "execution_count": 9,
   "metadata": {},
   "outputs": [
    {
     "name": "stdout",
     "output_type": "stream",
     "text": [
      "{'name_construct': 'successful(1) / unsuccessful(7)', 'elements': [{'name': 'Myself right now', 'rating': 3}, {'name': 'Myself as I would like to be', 'rating': 1}, {'name': 'Myself with my boss', 'rating': 4}, {'name': 'Myself with a co-worker I dislike', 'rating': 3}, {'name': 'Myself in a tense meeting', 'rating': 3}, {'name': 'Myself after a bad day', 'rating': 4}, {'name': 'Myself after a good day', 'rating': 2}, {'name': 'Myself with family', 'rating': 2}]}\n"
     ]
    }
   ],
   "source": [
    "for i in input_const:\n",
    "    print(i)\n",
    "    break"
   ]
  },
  {
   "cell_type": "code",
   "execution_count": 10,
   "metadata": {},
   "outputs": [
    {
     "name": "stdout",
     "output_type": "stream",
     "text": [
      "['successful(1) / unsuccessful(7)', 'hard-working(1) / lazy(7)', 'positive(1) / negative(7)', 'friendly(1) /  unfriendly(7)', 'quiet(1) / talkative(7)', 'boring(1) / fun(7)', 'happy(1) / unhappy(7)', 'understanding(1) / not understanding(7)', 'motivated(1) / unmotivated(7)', 'confident(1) / not confident(7)'] ['Myself right now', 'Myself as I would like to be', 'Myself with my boss', 'Myself with a co-worker I dislike', 'Myself in a tense meeting', 'Myself after a bad day', 'Myself after a good day', 'Myself with family']\n"
     ]
    }
   ],
   "source": [
    "def extract_elems_and_constructs(input_json):\n",
    "    contructs = []\n",
    "    elements = []\n",
    "    i = 0\n",
    "    for vals in input_json:\n",
    "        contructs.append(vals['name_construct'])\n",
    "        if i ==0:\n",
    "            for j in vals['elements']:\n",
    "                elements.append(j['name'])\n",
    "            i=1\n",
    "    return contructs, elements\n",
    "constructs, elements = extract_elems_and_constructs(input_const)\n",
    "print(constructs, elements)"
   ]
  },
  {
   "cell_type": "code",
   "execution_count": 11,
   "metadata": {},
   "outputs": [
    {
     "name": "stdout",
     "output_type": "stream",
     "text": [
      "[[3, 1, 4, 3, 3, 4, 2, 2], [4, 2, 3, 5, 4, 5, 1, 6], [2, 2, 2, 6, 5, 6, 1, 3], [4, 2, 3, 5, 5, 5, 2, 5], [5, 5, 4, 4, 5, 3, 5, 4], [6, 7, 4, 2, 4, 2, 6, 5], [2, 2, 4, 5, 4, 6, 1, 3], [4, 1, 3, 5, 4, 6, 2, 3], [3, 1, 2, 6, 3, 6, 2, 3], [3, 2, 2, 2, 4, 4, 1, 1]]\n"
     ]
    }
   ],
   "source": [
    "def extract_matrix_rating(input_json):\n",
    "    # Get the rating for each construct\n",
    "    matrix_rating = [[]]\n",
    "    band = True\n",
    "    for vals in input_json:\n",
    "        aux = []\n",
    "        for e in vals['elements']: \n",
    "            aux.append(e['rating'])\n",
    "        if band:\n",
    "            matrix_rating[0]=aux\n",
    "            band=False\n",
    "        else:\n",
    "            matrix_rating.append(aux) \n",
    "    return matrix_rating\n",
    "matrix_rating = extract_matrix_rating(input_const)\n",
    "print(matrix_rating)"
   ]
  },
  {
   "cell_type": "code",
   "execution_count": 12,
   "metadata": {},
   "outputs": [
    {
     "data": {
      "text/plain": [
       "[[3, 1, 4, 3, 3, 4, 2, 2],\n",
       " [4, 2, 3, 5, 4, 5, 1, 6],\n",
       " [2, 2, 2, 6, 5, 6, 1, 3],\n",
       " [4, 2, 3, 5, 5, 5, 2, 5],\n",
       " [5, 5, 4, 4, 5, 3, 5, 4],\n",
       " [6, 7, 4, 2, 4, 2, 6, 5],\n",
       " [2, 2, 4, 5, 4, 6, 1, 3],\n",
       " [4, 1, 3, 5, 4, 6, 2, 3],\n",
       " [3, 1, 2, 6, 3, 6, 2, 3],\n",
       " [3, 2, 2, 2, 4, 4, 1, 1]]"
      ]
     },
     "execution_count": 12,
     "metadata": {},
     "output_type": "execute_result"
    }
   ],
   "source": [
    "matrix_rating"
   ]
  },
  {
   "cell_type": "code",
   "execution_count": 13,
   "metadata": {},
   "outputs": [
    {
     "data": {
      "text/plain": [
       "3"
      ]
     },
     "execution_count": 13,
     "metadata": {},
     "output_type": "execute_result"
    }
   ],
   "source": [
    "matrix_rating[9][0]"
   ]
  },
  {
   "cell_type": "code",
   "execution_count": 14,
   "metadata": {},
   "outputs": [
    {
     "name": "stdout",
     "output_type": "stream",
     "text": [
      "3\n",
      "4\n",
      "2\n"
     ]
    }
   ],
   "source": [
    "print(matrix_rating[0][0])\n",
    "print(matrix_rating[1][0])\n",
    "print(matrix_rating[2][0])"
   ]
  },
  {
   "cell_type": "code",
   "execution_count": 15,
   "metadata": {},
   "outputs": [
    {
     "data": {
      "text/plain": [
       "10"
      ]
     },
     "execution_count": 15,
     "metadata": {},
     "output_type": "execute_result"
    }
   ],
   "source": [
    "len(matrix_rating)"
   ]
  },
  {
   "cell_type": "code",
   "execution_count": 16,
   "metadata": {},
   "outputs": [],
   "source": [
    "# cast matrix into a numpy type\n",
    "rep_grid = np.array(matrix_rating)\n",
    "#rep_grid = np.array([matrix_rating])"
   ]
  },
  {
   "cell_type": "code",
   "execution_count": 17,
   "metadata": {},
   "outputs": [],
   "source": [
    "a = np.array(matrix_rating)\n",
    " \n"
   ]
  },
  {
   "cell_type": "code",
   "execution_count": 18,
   "metadata": {},
   "outputs": [
    {
     "name": "stdout",
     "output_type": "stream",
     "text": [
      "[[3 1 4 3 3 4 2 2]\n",
      " [4 2 3 5 4 5 1 6]\n",
      " [2 2 2 6 5 6 1 3]\n",
      " [4 2 3 5 5 5 2 5]\n",
      " [5 5 4 4 5 3 5 4]\n",
      " [6 7 4 2 4 2 6 5]\n",
      " [2 2 4 5 4 6 1 3]\n",
      " [4 1 3 5 4 6 2 3]\n",
      " [3 1 2 6 3 6 2 3]\n",
      " [3 2 2 2 4 4 1 1]]\n"
     ]
    }
   ],
   "source": [
    "print(a)"
   ]
  },
  {
   "cell_type": "code",
   "execution_count": 19,
   "metadata": {},
   "outputs": [
    {
     "data": {
      "text/plain": [
       "[3, 1, 4, 3, 3, 4, 2, 2]"
      ]
     },
     "execution_count": 19,
     "metadata": {},
     "output_type": "execute_result"
    }
   ],
   "source": [
    "matrix_rating[0]"
   ]
  },
  {
   "cell_type": "code",
   "execution_count": 20,
   "metadata": {},
   "outputs": [],
   "source": [
    "a = np.array([])\n",
    "a = np.append(a, [a, matrix_rating[0]])\n",
    "a = np.append(a, [a, matrix_rating[1]])"
   ]
  },
  {
   "cell_type": "code",
   "execution_count": 21,
   "metadata": {},
   "outputs": [
    {
     "name": "stdout",
     "output_type": "stream",
     "text": [
      "[array([], dtype=float64) list([3, 1, 4, 3, 3, 4, 2, 2])\n",
      " array([array([], dtype=float64), list([3, 1, 4, 3, 3, 4, 2, 2])],\n",
      "      dtype=object)\n",
      " list([4, 2, 3, 5, 4, 5, 1, 6])]\n"
     ]
    }
   ],
   "source": [
    "print(a)"
   ]
  },
  {
   "cell_type": "code",
   "execution_count": 22,
   "metadata": {},
   "outputs": [],
   "source": [
    "def inverse_matrix(matrix_rating):\n",
    "    mat_constructs = [[]]\n",
    "    for i in range(0,len(matrix_rating[0])):\n",
    "        aux = []\n",
    "        for j in range(0,len(matrix_rating)):\n",
    "            aux.append(matrix_rating[j][i])\n",
    "        if i == 0:\n",
    "            mat_constructs[0] = aux\n",
    "        else:\n",
    "            mat_constructs.append(aux)\n",
    "    mat_constructs = np.array(mat_constructs)\n",
    "    return mat_constructs\n",
    "rep_grid_const = inverse_matrix(matrix_rating)"
   ]
  },
  {
   "cell_type": "code",
   "execution_count": 23,
   "metadata": {},
   "outputs": [
    {
     "data": {
      "text/plain": [
       "array([[3, 4, 2, 4, 5, 6, 2, 4, 3, 3],\n",
       "       [1, 2, 2, 2, 5, 7, 2, 1, 1, 2],\n",
       "       [4, 3, 2, 3, 4, 4, 4, 3, 2, 2],\n",
       "       [3, 5, 6, 5, 4, 2, 5, 5, 6, 2],\n",
       "       [3, 4, 5, 5, 5, 4, 4, 4, 3, 4],\n",
       "       [4, 5, 6, 5, 3, 2, 6, 6, 6, 4],\n",
       "       [2, 1, 1, 2, 5, 6, 1, 2, 2, 1],\n",
       "       [2, 6, 3, 5, 4, 5, 3, 3, 3, 1]])"
      ]
     },
     "execution_count": 23,
     "metadata": {},
     "output_type": "execute_result"
    }
   ],
   "source": [
    "rep_grid_const"
   ]
  },
  {
   "cell_type": "markdown",
   "metadata": {},
   "source": [
    "# Plot heatmap with the ratings"
   ]
  },
  {
   "cell_type": "code",
   "execution_count": 24,
   "metadata": {},
   "outputs": [],
   "source": [
    "def heatmap(data, row_labels, col_labels, ax=None,\n",
    "            cbar_kw={}, cbarlabel=\"\", **kwargs):\n",
    "    \"\"\"\n",
    "    Create a heatmap from a numpy array and two lists of labels.\n",
    "\n",
    "    Parameters\n",
    "    ----------\n",
    "    data\n",
    "        A 2D numpy array of shape (N, M).\n",
    "    row_labels\n",
    "        A list or array of length N with the labels for the rows.\n",
    "    col_labels\n",
    "        A list or array of length M with the labels for the columns.\n",
    "    ax\n",
    "        A `matplotlib.axes.Axes` instance to which the heatmap is plotted.  If\n",
    "        not provided, use current axes or create a new one.  Optional.\n",
    "    cbar_kw\n",
    "        A dictionary with arguments to `matplotlib.Figure.colorbar`.  Optional.\n",
    "    cbarlabel\n",
    "        The label for the colorbar.  Optional.\n",
    "    **kwargs\n",
    "        All other arguments are forwarded to `imshow`.\n",
    "    \"\"\"\n",
    "\n",
    "    if not ax:\n",
    "        ax = plt.gca()\n",
    "\n",
    "    # Plot the heatmap\n",
    "    im = ax.imshow(data, **kwargs)\n",
    "\n",
    "    # Create colorbar\n",
    "    cbar = ax.figure.colorbar(im, ax=ax, **cbar_kw)\n",
    "    cbar.ax.set_ylabel(cbarlabel, rotation=-90, va=\"bottom\")\n",
    "\n",
    "    # We want to show all ticks...\n",
    "    ax.set_xticks(np.arange(data.shape[1]))\n",
    "    ax.set_yticks(np.arange(data.shape[0]))\n",
    "    # ... and label them with the respective list entries.\n",
    "    ax.set_xticklabels(col_labels)\n",
    "    ax.set_yticklabels(row_labels)\n",
    "\n",
    "    # Let the horizontal axes labeling appear on top.\n",
    "    ax.tick_params(top=True, bottom=False,\n",
    "                   labeltop=True, labelbottom=False)\n",
    "\n",
    "    # Rotate the tick labels and set their alignment.\n",
    "    plt.setp(ax.get_xticklabels(), rotation=-30, ha=\"right\",\n",
    "             rotation_mode=\"anchor\")\n",
    "\n",
    "    # Turn spines off and create white grid.\n",
    "    for edge, spine in ax.spines.items():\n",
    "        spine.set_visible(False)\n",
    "\n",
    "    ax.set_xticks(np.arange(data.shape[1]+1)-.5, minor=True)\n",
    "    ax.set_yticks(np.arange(data.shape[0]+1)-.5, minor=True)\n",
    "    ax.grid(which=\"minor\", color=\"w\", linestyle='-', linewidth=3)\n",
    "    ax.tick_params(which=\"minor\", bottom=False, left=False)\n",
    "\n",
    "    return im, cbar\n",
    "\n",
    "\n",
    "def annotate_heatmap(im, data=None, valfmt=\"{x:.2f}\",\n",
    "                     textcolors=[\"black\", \"white\"],\n",
    "                     threshold=None, **textkw):\n",
    "    \"\"\"\n",
    "    A function to annotate a heatmap.\n",
    "\n",
    "    Parameters\n",
    "    ----------\n",
    "    im\n",
    "        The AxesImage to be labeled.\n",
    "    data\n",
    "        Data used to annotate.  If None, the image's data is used.  Optional.\n",
    "    valfmt\n",
    "        The format of the annotations inside the heatmap.  This should either\n",
    "        use the string format method, e.g. \"$ {x:.2f}\", or be a\n",
    "        `matplotlib.ticker.Formatter`.  Optional.\n",
    "    textcolors\n",
    "        A list or array of two color specifications.  The first is used for\n",
    "        values below a threshold, the second for those above.  Optional.\n",
    "    threshold\n",
    "        Value in data units according to which the colors from textcolors are\n",
    "        applied.  If None (the default) uses the middle of the colormap as\n",
    "        separation.  Optional.\n",
    "    **kwargs\n",
    "        All other arguments are forwarded to each call to `text` used to create\n",
    "        the text labels.\n",
    "    \"\"\"\n",
    "\n",
    "    if not isinstance(data, (list, np.ndarray)):\n",
    "        data = im.get_array()\n",
    "\n",
    "    # Normalize the threshold to the images color range.\n",
    "    if threshold is not None:\n",
    "        threshold = im.norm(threshold)\n",
    "    else:\n",
    "        threshold = im.norm(data.max())/2.\n",
    "\n",
    "    # Set default alignment to center, but allow it to be\n",
    "    # overwritten by textkw.\n",
    "    kw = dict(horizontalalignment=\"center\",\n",
    "              verticalalignment=\"center\")\n",
    "    kw.update(textkw)\n",
    "\n",
    "    # Get the formatter in case a string is supplied\n",
    "    if isinstance(valfmt, str):\n",
    "        valfmt = matplotlib.ticker.StrMethodFormatter(valfmt)\n",
    "\n",
    "    # Loop over the data and create a `Text` for each \"pixel\".\n",
    "    # Change the text's color depending on the data.\n",
    "    texts = []\n",
    "    for i in range(data.shape[0]):\n",
    "        for j in range(data.shape[1]):\n",
    "            kw.update(color=textcolors[int(im.norm(data[i, j]) > threshold)])\n",
    "            text = im.axes.text(j, i, valfmt(data[i, j], None), **kw)\n",
    "            texts.append(text)\n",
    "\n",
    "    return texts"
   ]
  },
  {
   "cell_type": "markdown",
   "metadata": {},
   "source": [
    "### Using the heatmap functions above"
   ]
  },
  {
   "cell_type": "code",
   "execution_count": 25,
   "metadata": {},
   "outputs": [
    {
     "data": {
      "image/png": "[encoded data removed]",
      "text/plain": [
       "<Figure size 720x576 with 2 Axes>"
      ]
     },
     "metadata": {
      "needs_background": "light"
     },
     "output_type": "display_data"
    }
   ],
   "source": [
    "fig, ax = plt.subplots(figsize=(10,8))\n",
    "im, cbar = heatmap(rep_grid, constructs, elements, ax=ax,\n",
    "                   cmap=\"YlGn\", cbarlabel=\"Rating  [1: left construct ; 7: right construct]\")\n",
    "ax.figure.axes[-1].yaxis.label.set_size(14)\n",
    "texts = annotate_heatmap(im, valfmt=\"{x:.0f}\")\n",
    "plt.xticks(size=14)\n",
    "plt.yticks(size=14)\n",
    "fig.tight_layout()\n",
    "#file_name_fig = 'rep_grid_user_'+str(user)+'.png'\n",
    "#plt.savefig(file_name_fig)\n",
    "plt.show()\n"
   ]
  },
  {
   "cell_type": "markdown",
   "metadata": {},
   "source": [
    "### Calculate discrepancies, correlations, profiles, and most important construct"
   ]
  },
  {
   "cell_type": "code",
   "execution_count": 26,
   "metadata": {},
   "outputs": [
    {
     "data": {
      "text/plain": [
       "' unsuccessful'"
      ]
     },
     "execution_count": 26,
     "metadata": {},
     "output_type": "execute_result"
    }
   ],
   "source": [
    "constructs_const[0].split('/')[1].split('(')[0]"
   ]
  },
  {
   "cell_type": "code",
   "execution_count": 27,
   "metadata": {},
   "outputs": [
    {
     "data": {
      "text/plain": [
       "3"
      ]
     },
     "execution_count": 27,
     "metadata": {},
     "output_type": "execute_result"
    }
   ],
   "source": [
    "rep_grid[0][0]"
   ]
  },
  {
   "cell_type": "code",
   "execution_count": 28,
   "metadata": {},
   "outputs": [
    {
     "name": "stdout",
     "output_type": "stream",
     "text": [
      "Constructs that you should focus on improving\n",
      "['understanding(1) / not understanding(7)']\n"
     ]
    }
   ],
   "source": [
    "def calc_constructs_to_improve(rep_grid, constructs, self_ind=0, ideal_ind=1):\n",
    "    out_const = []\n",
    "    ind=0\n",
    "    for vec in rep_grid:\n",
    "        if np.abs(vec[self_ind]-vec[ideal_ind])>=3:\n",
    "            out_const.append(constructs[ind])\n",
    "        ind+=1\n",
    "    return out_const\n",
    "out_const = calc_constructs_to_improve(rep_grid=rep_grid, constructs=constructs, self_ind=0, ideal_ind=1)\n",
    "print('Constructs that you should focus on improving')\n",
    "print(out_const)\n"
   ]
  },
  {
   "cell_type": "code",
   "execution_count": 29,
   "metadata": {},
   "outputs": [
    {
     "name": "stdout",
     "output_type": "stream",
     "text": [
      "[1, 2, 2, 2, 5, 7, 2, 1, 1, 2]\n"
     ]
    }
   ],
   "source": [
    "def get_column(rep_grid, ind):\n",
    "    out_ = []\n",
    "    for vec in rep_grid:\n",
    "        out_.append(vec[ind])\n",
    "    return out_\n",
    "print(get_column(rep_grid,1))"
   ]
  },
  {
   "cell_type": "code",
   "execution_count": 30,
   "metadata": {},
   "outputs": [
    {
     "ename": "NameError",
     "evalue": "name 'tttt' is not defined",
     "output_type": "error",
     "traceback": [
      "\u001b[0;31m---------------------------------------------------------------------------\u001b[0m",
      "\u001b[0;31mNameError\u001b[0m                                 Traceback (most recent call last)",
      "\u001b[0;32m<ipython-input-30-180ce7c87868>\u001b[0m in \u001b[0;36m<module>\u001b[0;34m\u001b[0m\n\u001b[0;32m----> 1\u001b[0;31m \u001b[0mtttt\u001b[0m\u001b[0;34m\u001b[0m\u001b[0;34m\u001b[0m\u001b[0m\n\u001b[0m",
      "\u001b[0;31mNameError\u001b[0m: name 'tttt' is not defined"
     ]
    }
   ],
   "source": [
    "tttt"
   ]
  },
  {
   "cell_type": "code",
   "execution_count": null,
   "metadata": {},
   "outputs": [],
   "source": [
    "rep_grid"
   ]
  },
  {
   "cell_type": "code",
   "execution_count": null,
   "metadata": {},
   "outputs": [],
   "source": [
    "tttt =np.array([[ 1, 1, 4, 4, 1, 1 ],\n",
    "  [ 1, 1, 4, 4, 1, 1 ],\n",
    "  [ 1, 4, 4, 4, 1, 1 ],\n",
    "  [ 1, 1, 1, 1, 1, 1 ],\n",
    "  [ 1, 1, 1, 1, 1, 1 ],\n",
    "  [ 1, 1, 1, 1, 1, 1 ],\n",
    "  [ 1, 1, 1, 1, 1, 1 ],\n",
    "  [ 1, 1, 1, 1, 1, 1 ],\n",
    "  [ 1, 1, 1, 1, 1, 1 ],\n",
    "  [ 1, 1, 1, 1, 1, 1 ] ])"
   ]
  },
  {
   "cell_type": "code",
   "execution_count": 31,
   "metadata": {},
   "outputs": [
    {
     "data": {
      "text/plain": [
       "(0.7071067811865476, 0.11611652351681553)"
      ]
     },
     "execution_count": 31,
     "metadata": {},
     "output_type": "execute_result"
    }
   ],
   "source": [
    "pearsonr([ 1, 1, 4, 4, 1, 1 ], [ 1, 4, 4, 4, 1, 1 ])"
   ]
  },
  {
   "cell_type": "code",
   "execution_count": 32,
   "metadata": {},
   "outputs": [
    {
     "ename": "NameError",
     "evalue": "name 'tttt' is not defined",
     "output_type": "error",
     "traceback": [
      "\u001b[0;31m---------------------------------------------------------------------------\u001b[0m",
      "\u001b[0;31mNameError\u001b[0m                                 Traceback (most recent call last)",
      "\u001b[0;32m<ipython-input-32-312276dfdbc1>\u001b[0m in \u001b[0;36m<module>\u001b[0;34m\u001b[0m\n\u001b[1;32m     13\u001b[0m     \u001b[0;32mreturn\u001b[0m \u001b[0mcorr\u001b[0m\u001b[0;34m\u001b[0m\u001b[0;34m\u001b[0m\u001b[0m\n\u001b[1;32m     14\u001b[0m \u001b[0;34m\u001b[0m\u001b[0m\n\u001b[0;32m---> 15\u001b[0;31m \u001b[0mscore\u001b[0m \u001b[0;34m=\u001b[0m \u001b[0mcalc_corr_self_ideal\u001b[0m\u001b[0;34m(\u001b[0m\u001b[0mrep_grid\u001b[0m\u001b[0;34m=\u001b[0m\u001b[0mtttt\u001b[0m\u001b[0;34m,\u001b[0m \u001b[0mself_ind\u001b[0m\u001b[0;34m=\u001b[0m\u001b[0;36m0\u001b[0m\u001b[0;34m,\u001b[0m \u001b[0mideal_ind\u001b[0m\u001b[0;34m=\u001b[0m\u001b[0;36m1\u001b[0m\u001b[0;34m)\u001b[0m\u001b[0;34m\u001b[0m\u001b[0;34m\u001b[0m\u001b[0m\n\u001b[0m\u001b[1;32m     16\u001b[0m \u001b[0mprint\u001b[0m\u001b[0;34m(\u001b[0m\u001b[0;34m\"score\"\u001b[0m\u001b[0;34m)\u001b[0m\u001b[0;34m\u001b[0m\u001b[0;34m\u001b[0m\u001b[0m\n\u001b[1;32m     17\u001b[0m \u001b[0mprint\u001b[0m\u001b[0;34m(\u001b[0m\u001b[0mscore\u001b[0m\u001b[0;34m)\u001b[0m\u001b[0;34m\u001b[0m\u001b[0;34m\u001b[0m\u001b[0m\n",
      "\u001b[0;31mNameError\u001b[0m: name 'tttt' is not defined"
     ]
    }
   ],
   "source": [
    "def calc_corr_self_ideal(rep_grid, self_ind=0, ideal_ind=1):\n",
    "    self_ = get_column(rep_grid, ind = self_ind)\n",
    "    print('self_')\n",
    "    print(self_)\n",
    "    ideal_ = get_column(rep_grid, ind = ideal_ind)\n",
    "    print('ideal_')\n",
    "    print(ideal_)\n",
    "    corr, _ = pearsonr(self_, ideal_)\n",
    "    print('corr = ' , corr)\n",
    "    #print('pearson cor: ', corr)\n",
    "    #corr, _ = spearmanr(self_, ideal_)\n",
    "    #print('spearman cor: ', corr)\n",
    "    return corr\n",
    "\n",
    "score = calc_corr_self_ideal(rep_grid=tttt, self_ind=0, ideal_ind=1)\n",
    "print(\"score\")\n",
    "print(score)\n",
    "if score >= 0.7:\n",
    "    print('You have HIGH correlation between who you are and WHO you would like to be -- this could manisfest in HIGH self-confidence')\n",
    "elif score < 0:\n",
    "    print('You have LOW correlation between who you are and WHO you would like to be -- this could manisfest in LOW selfself-esteemteem')\n",
    "else:\n",
    "    print('You have a MODERATE correlation between who you are and who you would like to be')"
   ]
  },
  {
   "cell_type": "code",
   "execution_count": 33,
   "metadata": {},
   "outputs": [
    {
     "name": "stdout",
     "output_type": "stream",
     "text": [
      "[0 1 2 3 4 5 6 7]\n",
      "[0 2 3 4 5 6 7]\n"
     ]
    }
   ],
   "source": [
    "a = np.arange(0,int(np.size(rep_grid)/len(rep_grid)))\n",
    "print(a)\n",
    "a = a[np.arange(len(a))!=1]\n",
    "print(a)"
   ]
  },
  {
   "cell_type": "code",
   "execution_count": 34,
   "metadata": {},
   "outputs": [
    {
     "ename": "NameError",
     "evalue": "name 'tttt' is not defined",
     "output_type": "error",
     "traceback": [
      "\u001b[0;31m---------------------------------------------------------------------------\u001b[0m",
      "\u001b[0;31mNameError\u001b[0m                                 Traceback (most recent call last)",
      "\u001b[0;32m<ipython-input-34-320ffa0fa968>\u001b[0m in \u001b[0;36m<module>\u001b[0;34m\u001b[0m\n\u001b[1;32m     14\u001b[0m     \u001b[0;32mreturn\u001b[0m \u001b[0mnp\u001b[0m\u001b[0;34m.\u001b[0m\u001b[0mmean\u001b[0m\u001b[0;34m(\u001b[0m\u001b[0mcorr_vec\u001b[0m\u001b[0;34m)\u001b[0m\u001b[0;34m\u001b[0m\u001b[0;34m\u001b[0m\u001b[0m\n\u001b[1;32m     15\u001b[0m \u001b[0;34m\u001b[0m\u001b[0m\n\u001b[0;32m---> 16\u001b[0;31m \u001b[0mscore\u001b[0m \u001b[0;34m=\u001b[0m \u001b[0mcalc_corr_other_ideal\u001b[0m\u001b[0;34m(\u001b[0m\u001b[0mrep_grid\u001b[0m\u001b[0;34m=\u001b[0m\u001b[0mtttt\u001b[0m\u001b[0;34m,\u001b[0m \u001b[0mself_ind\u001b[0m\u001b[0;34m=\u001b[0m\u001b[0;36m0\u001b[0m\u001b[0;34m)\u001b[0m\u001b[0;34m\u001b[0m\u001b[0;34m\u001b[0m\u001b[0m\n\u001b[0m\u001b[1;32m     17\u001b[0m \u001b[0mprint\u001b[0m\u001b[0;34m(\u001b[0m\u001b[0;34m\"score\"\u001b[0m\u001b[0;34m)\u001b[0m\u001b[0;34m\u001b[0m\u001b[0;34m\u001b[0m\u001b[0m\n\u001b[1;32m     18\u001b[0m \u001b[0mprint\u001b[0m\u001b[0;34m(\u001b[0m\u001b[0mscore\u001b[0m\u001b[0;34m)\u001b[0m\u001b[0;34m\u001b[0m\u001b[0;34m\u001b[0m\u001b[0m\n",
      "\u001b[0;31mNameError\u001b[0m: name 'tttt' is not defined"
     ]
    }
   ],
   "source": [
    "def calc_corr_other_ideal(rep_grid, self_ind=1):\n",
    "    corr_vec=[]\n",
    "    self_ = get_column(rep_grid, ind = self_ind)\n",
    "    others_ = np.arange(0,int(np.size(rep_grid)/len(rep_grid)))\n",
    "    others_ = others_[np.arange(len(others_))!=self_ind]\n",
    "    for val in others_:\n",
    "        oth_ = get_column(rep_grid, ind = val)\n",
    "        print('self_ ', self_)\n",
    "        print('oth_ ', oth_)\n",
    "        print('correlation = ',pearsonr(self_, oth_))\n",
    "        corr, _ = pearsonr(self_, oth_)\n",
    "        corr_vec.append(corr)\n",
    "    print('vector = ',corr_vec)\n",
    "    return np.mean(corr_vec)\n",
    "\n",
    "score = calc_corr_other_ideal(rep_grid=tttt, self_ind=0)\n",
    "print(\"score\")\n",
    "print(score)\n",
    "if score<0.00001:\n",
    "    print('The current situations are NOT great!')\n",
    "else:\n",
    "    print('On average, the situations experienced at work are great! ')"
   ]
  },
  {
   "cell_type": "code",
   "execution_count": 35,
   "metadata": {},
   "outputs": [
    {
     "ename": "NameError",
     "evalue": "name 'test' is not defined",
     "output_type": "error",
     "traceback": [
      "\u001b[0;31m---------------------------------------------------------------------------\u001b[0m",
      "\u001b[0;31mNameError\u001b[0m                                 Traceback (most recent call last)",
      "\u001b[0;32m<ipython-input-35-7a69727e6310>\u001b[0m in \u001b[0;36m<module>\u001b[0;34m\u001b[0m\n\u001b[1;32m     21\u001b[0m \u001b[0;34m\u001b[0m\u001b[0m\n\u001b[1;32m     22\u001b[0m \u001b[0;34m\u001b[0m\u001b[0m\n\u001b[0;32m---> 23\u001b[0;31m \u001b[0melem_bad\u001b[0m\u001b[0;34m,\u001b[0m \u001b[0mconst_bad\u001b[0m \u001b[0;34m=\u001b[0m \u001b[0mcalc_bad_situations\u001b[0m\u001b[0;34m(\u001b[0m\u001b[0mrep_grid\u001b[0m\u001b[0;34m=\u001b[0m\u001b[0mtest\u001b[0m\u001b[0;34m,\u001b[0m \u001b[0mconstructs\u001b[0m\u001b[0;34m=\u001b[0m\u001b[0mconstructs\u001b[0m\u001b[0;34m,\u001b[0m \u001b[0melements\u001b[0m\u001b[0;34m=\u001b[0m\u001b[0melements\u001b[0m\u001b[0;34m,\u001b[0m \u001b[0mself_ind\u001b[0m\u001b[0;34m=\u001b[0m\u001b[0;36m0\u001b[0m\u001b[0;34m,\u001b[0m \u001b[0mideal_ind\u001b[0m\u001b[0;34m=\u001b[0m\u001b[0;36m1\u001b[0m\u001b[0;34m)\u001b[0m\u001b[0;34m\u001b[0m\u001b[0;34m\u001b[0m\u001b[0m\n\u001b[0m\u001b[1;32m     24\u001b[0m \u001b[0mprint\u001b[0m\u001b[0;34m(\u001b[0m\u001b[0melem_bad\u001b[0m\u001b[0;34m)\u001b[0m\u001b[0;34m\u001b[0m\u001b[0;34m\u001b[0m\u001b[0m\n\u001b[1;32m     25\u001b[0m \u001b[0mprint\u001b[0m\u001b[0;34m(\u001b[0m\u001b[0mconst_bad\u001b[0m\u001b[0;34m)\u001b[0m\u001b[0;34m\u001b[0m\u001b[0;34m\u001b[0m\u001b[0m\n",
      "\u001b[0;31mNameError\u001b[0m: name 'test' is not defined"
     ]
    }
   ],
   "source": [
    "def calc_bad_situations(rep_grid, constructs, elements, self_ind=0, ideal_ind=1):\n",
    "    out_elem = []\n",
    "    out_const = []\n",
    "    ind=0\n",
    "    for vec in rep_grid:\n",
    "        if np.abs(vec[self_ind]-vec[ideal_ind])<=1:\n",
    "            self_ = np.abs(vec[2:len(vec)]-vec[self_ind])\n",
    "            self_ = np.where(self_>=3)[0]\n",
    "            ideal_ = np.abs(vec[2:len(vec)]-vec[ideal_ind])\n",
    "            ideal_ = np.where(ideal_>=3)[0]\n",
    "            total_ = np.append(self_, ideal_)\n",
    "            total_ = np.unique(total_)\n",
    "            if total_.any():\n",
    "                for t in total_:\n",
    "                    out_elem.append(elements[t+2])\n",
    "                out_const.append(constructs[ind])\n",
    "        ind+=1\n",
    "    out_elem= list(dict.fromkeys(out_elem))\n",
    "    out_const= list(dict.fromkeys(out_const))\n",
    "    return out_elem, out_const\n",
    "\n",
    "\n",
    "elem_bad, const_bad = calc_bad_situations(rep_grid=test, constructs=constructs, elements=elements, self_ind=0, ideal_ind=1)\n",
    "print(elem_bad)\n",
    "print(const_bad)\n",
    "\n",
    "\n"
   ]
  },
  {
   "cell_type": "code",
   "execution_count": 36,
   "metadata": {},
   "outputs": [
    {
     "ename": "NameError",
     "evalue": "name 'test' is not defined",
     "output_type": "error",
     "traceback": [
      "\u001b[0;31m---------------------------------------------------------------------------\u001b[0m",
      "\u001b[0;31mNameError\u001b[0m                                 Traceback (most recent call last)",
      "\u001b[0;32m<ipython-input-36-b803cbc78f12>\u001b[0m in \u001b[0;36m<module>\u001b[0;34m\u001b[0m\n\u001b[1;32m     43\u001b[0m \u001b[0;31m# out_elem, out_const = calc_bad_situations(rep_grid=rep_grid, constructs=constructs, elements=elements, self_ind=0, ideal_ind=1)\u001b[0m\u001b[0;34m\u001b[0m\u001b[0;34m\u001b[0m\u001b[0;34m\u001b[0m\u001b[0m\n\u001b[1;32m     44\u001b[0m \u001b[0;31m# text_ = calc_bad_situations(rep_grid=rep_grid, constructs=constructs, elements=elements, self_ind=0, ideal_ind=1)\u001b[0m\u001b[0;34m\u001b[0m\u001b[0;34m\u001b[0m\u001b[0;34m\u001b[0m\u001b[0m\n\u001b[0;32m---> 45\u001b[0;31m \u001b[0mtext_\u001b[0m \u001b[0;34m=\u001b[0m \u001b[0mcalc_bad_situations\u001b[0m\u001b[0;34m(\u001b[0m\u001b[0mrep_grid\u001b[0m\u001b[0;34m=\u001b[0m\u001b[0mtest\u001b[0m\u001b[0;34m,\u001b[0m \u001b[0mconstructs\u001b[0m\u001b[0;34m=\u001b[0m\u001b[0mconstructs\u001b[0m\u001b[0;34m,\u001b[0m \u001b[0melements\u001b[0m\u001b[0;34m=\u001b[0m\u001b[0melements\u001b[0m\u001b[0;34m,\u001b[0m \u001b[0mself_ind\u001b[0m\u001b[0;34m=\u001b[0m\u001b[0;36m0\u001b[0m\u001b[0;34m,\u001b[0m \u001b[0mideal_ind\u001b[0m\u001b[0;34m=\u001b[0m\u001b[0;36m1\u001b[0m\u001b[0;34m)\u001b[0m\u001b[0;34m\u001b[0m\u001b[0;34m\u001b[0m\u001b[0m\n\u001b[0m\u001b[1;32m     46\u001b[0m \u001b[0mprint\u001b[0m\u001b[0;34m(\u001b[0m\u001b[0mtext_\u001b[0m\u001b[0;34m)\u001b[0m\u001b[0;34m\u001b[0m\u001b[0;34m\u001b[0m\u001b[0m\n\u001b[1;32m     47\u001b[0m \u001b[0;34m\u001b[0m\u001b[0m\n",
      "\u001b[0;31mNameError\u001b[0m: name 'test' is not defined"
     ]
    }
   ],
   "source": [
    "def calc_bad_situations_2(rep_grid, constructs, elements, self_ind=0, ideal_ind=1):\n",
    "    out_elem = [[]]\n",
    "    out_const = []\n",
    "    ind=0\n",
    "    band = True\n",
    "    for vec in rep_grid:\n",
    "        if np.abs(vec[self_ind]-vec[ideal_ind])<=1:\n",
    "            self_ = np.abs(vec[2:len(vec)]-vec[self_ind])\n",
    "            self_ = np.where(self_>=3)[0]\n",
    "            ideal_ = np.abs(vec[2:len(vec)]-vec[ideal_ind])\n",
    "            ideal_ = np.where(ideal_>=3)[0]\n",
    "            total_ = np.append(self_, ideal_)\n",
    "            total_ = np.unique(total_)\n",
    "            if total_.any():\n",
    "                aux = []\n",
    "                for t in total_:\n",
    "                    aux.append(elements[t+2])\n",
    "                if band:\n",
    "                    out_elem[0] = aux\n",
    "                    band = False\n",
    "                else:\n",
    "                    out_elem.append(aux)\n",
    "                out_const.append(constructs[ind])\n",
    "        ind+=1\n",
    "    const_text = elem_text = ''\n",
    "    for c in out_const:\n",
    "        const_text+=c.split('/')[1].split('(')[0]+ ' '\n",
    "    for e in out_elem:\n",
    "        elem_text+=e[0].split(' ')[3]+ ' '\n",
    "    text_ = 'Seems like you more '+const_text+' '+\\\n",
    "    'than you typically are when you are with your (or having a) '+elem_text+' '\n",
    "    print('######## out_elem ########')\n",
    "    print(out_elem)\n",
    "    print('######## out_const ########')\n",
    "    print(out_const)\n",
    "    print('###########################')\n",
    "    for e in out_elem:\n",
    "        print(e)\n",
    "    return text_\n",
    "    #return out_elem, out_const\n",
    "\n",
    "# call the function for testing\n",
    "# out_elem, out_const = calc_bad_situations(rep_grid=rep_grid, constructs=constructs, elements=elements, self_ind=0, ideal_ind=1)\n",
    "# text_ = calc_bad_situations(rep_grid=rep_grid, constructs=constructs, elements=elements, self_ind=0, ideal_ind=1)\n",
    "text_ = calc_bad_situations(rep_grid=test, constructs=constructs, elements=elements, self_ind=0, ideal_ind=1)\n",
    "print(text_)\n",
    "\n"
   ]
  },
  {
   "cell_type": "code",
   "execution_count": 37,
   "metadata": {},
   "outputs": [],
   "source": [
    "test = [[3, 1, 4, 3, 3, 4, 2, 2],\n",
    "      [4, 2, 3, 5, 4, 5, 1, 6],\n",
    "      [2, 2, 2, 6, 5, 6, 1, 3],\n",
    "      [4, 2, 3, 5, 5, 5, 2, 5],\n",
    "      [5, 5, 4, 4, 5, 3, 5, 4],\n",
    "      [6, 7, 4, 2, 4, 2, 6, 5],\n",
    "      [2, 2, 4, 5, 4, 6, 1, 3],\n",
    "      [4, 1, 3, 5, 4, 6, 2, 3],\n",
    "      [3, 1, 2, 6, 3, 6, 2, 3],\n",
    "      [3, 2, 2, 2, 4, 4, 1, 1]\n",
    "    ]"
   ]
  },
  {
   "cell_type": "code",
   "execution_count": 38,
   "metadata": {},
   "outputs": [
    {
     "data": {
      "text/plain": [
       "array([[3, 1, 4, 3, 3, 4, 2, 2],\n",
       "       [4, 2, 3, 5, 4, 5, 1, 6],\n",
       "       [2, 2, 2, 6, 5, 6, 1, 3],\n",
       "       [4, 2, 3, 5, 5, 5, 2, 5],\n",
       "       [5, 5, 4, 4, 5, 3, 5, 4],\n",
       "       [6, 7, 4, 2, 4, 2, 6, 5],\n",
       "       [2, 2, 4, 5, 4, 6, 1, 3],\n",
       "       [4, 1, 3, 5, 4, 6, 2, 3],\n",
       "       [3, 1, 2, 6, 3, 6, 2, 3],\n",
       "       [3, 2, 2, 2, 4, 4, 1, 1]])"
      ]
     },
     "execution_count": 38,
     "metadata": {},
     "output_type": "execute_result"
    }
   ],
   "source": [
    "rep_grid"
   ]
  },
  {
   "cell_type": "code",
   "execution_count": 39,
   "metadata": {},
   "outputs": [],
   "source": [
    "test = np.array(test)"
   ]
  },
  {
   "cell_type": "code",
   "execution_count": 40,
   "metadata": {},
   "outputs": [
    {
     "data": {
      "text/plain": [
       "array([[3, 1, 4, 3, 3, 4, 2, 2],\n",
       "       [4, 2, 3, 5, 4, 5, 1, 6],\n",
       "       [2, 2, 2, 6, 5, 6, 1, 3],\n",
       "       [4, 2, 3, 5, 5, 5, 2, 5],\n",
       "       [5, 5, 4, 4, 5, 3, 5, 4],\n",
       "       [6, 7, 4, 2, 4, 2, 6, 5],\n",
       "       [2, 2, 4, 5, 4, 6, 1, 3],\n",
       "       [4, 1, 3, 5, 4, 6, 2, 3],\n",
       "       [3, 1, 2, 6, 3, 6, 2, 3],\n",
       "       [3, 2, 2, 2, 4, 4, 1, 1]])"
      ]
     },
     "execution_count": 40,
     "metadata": {},
     "output_type": "execute_result"
    }
   ],
   "source": [
    "test"
   ]
  },
  {
   "cell_type": "code",
   "execution_count": 41,
   "metadata": {},
   "outputs": [
    {
     "data": {
      "text/plain": [
       "'successful'"
      ]
     },
     "execution_count": 41,
     "metadata": {},
     "output_type": "execute_result"
    }
   ],
   "source": [
    "constructs_const[0].split('(')[0]"
   ]
  },
  {
   "cell_type": "code",
   "execution_count": 42,
   "metadata": {},
   "outputs": [
    {
     "ename": "NameError",
     "evalue": "name 'text_' is not defined",
     "output_type": "error",
     "traceback": [
      "\u001b[0;31m---------------------------------------------------------------------------\u001b[0m",
      "\u001b[0;31mNameError\u001b[0m                                 Traceback (most recent call last)",
      "\u001b[0;32m<ipython-input-42-a662d79acfec>\u001b[0m in \u001b[0;36m<module>\u001b[0;34m\u001b[0m\n\u001b[0;32m----> 1\u001b[0;31m \u001b[0mtext_\u001b[0m\u001b[0;34m\u001b[0m\u001b[0;34m\u001b[0m\u001b[0m\n\u001b[0m",
      "\u001b[0;31mNameError\u001b[0m: name 'text_' is not defined"
     ]
    }
   ],
   "source": [
    "text_"
   ]
  },
  {
   "cell_type": "code",
   "execution_count": 43,
   "metadata": {},
   "outputs": [
    {
     "data": {
      "text/plain": [
       "'right'"
      ]
     },
     "execution_count": 43,
     "metadata": {},
     "output_type": "execute_result"
    }
   ],
   "source": [
    "elements_const[0].split(' ')[1]"
   ]
  },
  {
   "cell_type": "code",
   "execution_count": 44,
   "metadata": {},
   "outputs": [
    {
     "data": {
      "text/plain": [
       "array([[3, 1, 4, 3, 3, 4, 2, 2],\n",
       "       [4, 2, 3, 5, 4, 5, 1, 6],\n",
       "       [2, 2, 2, 6, 5, 6, 1, 3],\n",
       "       [4, 2, 3, 5, 5, 5, 2, 5],\n",
       "       [5, 5, 4, 4, 5, 3, 5, 4],\n",
       "       [6, 7, 4, 2, 4, 2, 6, 5],\n",
       "       [2, 2, 4, 5, 4, 6, 1, 3],\n",
       "       [4, 1, 3, 5, 4, 6, 2, 3],\n",
       "       [3, 1, 2, 6, 3, 6, 2, 3],\n",
       "       [3, 2, 2, 2, 4, 4, 1, 1]])"
      ]
     },
     "execution_count": 44,
     "metadata": {},
     "output_type": "execute_result"
    }
   ],
   "source": [
    "rep_grid"
   ]
  },
  {
   "cell_type": "code",
   "execution_count": 45,
   "metadata": {},
   "outputs": [],
   "source": [
    "rep_grid[0][0]=4"
   ]
  },
  {
   "cell_type": "code",
   "execution_count": null,
   "metadata": {},
   "outputs": [],
   "source": []
  },
  {
   "cell_type": "code",
   "execution_count": 46,
   "metadata": {},
   "outputs": [
    {
     "data": {
      "text/plain": [
       "['successful(1) / unsuccessful(7)',\n",
       " 'hard-working(1) / lazy(7)',\n",
       " 'positive(1) / negative(7)',\n",
       " 'friendly(1) /  unfriendly(7)',\n",
       " 'quiet(1) / talkative(7)',\n",
       " 'boring(1) / fun(7)',\n",
       " 'happy(1) / unhappy(7)',\n",
       " 'understanding(1) / not understanding(7)',\n",
       " 'motivated(1) / unmotivated(7)',\n",
       " 'confident(1) / not confident(7)']"
      ]
     },
     "execution_count": 46,
     "metadata": {},
     "output_type": "execute_result"
    }
   ],
   "source": [
    "constructs"
   ]
  },
  {
   "cell_type": "code",
   "execution_count": 47,
   "metadata": {},
   "outputs": [
    {
     "data": {
      "text/plain": [
       "['Myself right now',\n",
       " 'Myself as I would like to be',\n",
       " 'Myself with my boss',\n",
       " 'Myself with a co-worker I dislike',\n",
       " 'Myself in a tense meeting',\n",
       " 'Myself after a bad day',\n",
       " 'Myself after a good day',\n",
       " 'Myself with family']"
      ]
     },
     "execution_count": 47,
     "metadata": {},
     "output_type": "execute_result"
    }
   ],
   "source": [
    "elements"
   ]
  },
  {
   "cell_type": "code",
   "execution_count": 48,
   "metadata": {},
   "outputs": [
    {
     "data": {
      "text/plain": [
       "array([[4, 1, 4, 3, 3, 4, 2, 2],\n",
       "       [4, 2, 3, 5, 4, 5, 1, 6],\n",
       "       [2, 2, 2, 6, 5, 6, 1, 3],\n",
       "       [4, 2, 3, 5, 5, 5, 2, 5],\n",
       "       [5, 5, 4, 4, 5, 3, 5, 4],\n",
       "       [6, 7, 4, 2, 4, 2, 6, 5],\n",
       "       [2, 2, 4, 5, 4, 6, 1, 3],\n",
       "       [4, 1, 3, 5, 4, 6, 2, 3],\n",
       "       [3, 1, 2, 6, 3, 6, 2, 3],\n",
       "       [3, 2, 2, 2, 4, 4, 1, 1]])"
      ]
     },
     "execution_count": 48,
     "metadata": {},
     "output_type": "execute_result"
    }
   ],
   "source": [
    "rep_grid"
   ]
  },
  {
   "cell_type": "code",
   "execution_count": 49,
   "metadata": {},
   "outputs": [],
   "source": [
    "ideal_ = np.abs(rep_grid[0][2:len(rep_grid[0])]-rep_grid[0][1])"
   ]
  },
  {
   "cell_type": "code",
   "execution_count": 50,
   "metadata": {},
   "outputs": [
    {
     "data": {
      "text/plain": [
       "array([3, 2, 2, 3, 1, 1])"
      ]
     },
     "execution_count": 50,
     "metadata": {},
     "output_type": "execute_result"
    }
   ],
   "source": [
    "ideal_"
   ]
  },
  {
   "cell_type": "code",
   "execution_count": 51,
   "metadata": {},
   "outputs": [],
   "source": [
    "ideal_ = np.where(ideal_<=1)[0]"
   ]
  },
  {
   "cell_type": "code",
   "execution_count": 52,
   "metadata": {},
   "outputs": [
    {
     "data": {
      "text/plain": [
       "True"
      ]
     },
     "execution_count": 52,
     "metadata": {},
     "output_type": "execute_result"
    }
   ],
   "source": [
    "ideal_.any()"
   ]
  },
  {
   "cell_type": "code",
   "execution_count": 53,
   "metadata": {},
   "outputs": [
    {
     "name": "stdout",
     "output_type": "stream",
     "text": [
      "4\n",
      "5\n"
     ]
    }
   ],
   "source": [
    "for t in ideal_:\n",
    "    print(t)"
   ]
  },
  {
   "cell_type": "code",
   "execution_count": 54,
   "metadata": {},
   "outputs": [
    {
     "data": {
      "text/plain": [
       "['Myself right now',\n",
       " 'Myself as I would like to be',\n",
       " 'Myself with my boss',\n",
       " 'Myself with a co-worker I dislike',\n",
       " 'Myself in a tense meeting',\n",
       " 'Myself after a bad day',\n",
       " 'Myself after a good day',\n",
       " 'Myself with family']"
      ]
     },
     "execution_count": 54,
     "metadata": {},
     "output_type": "execute_result"
    }
   ],
   "source": [
    "elements"
   ]
  },
  {
   "cell_type": "code",
   "execution_count": 55,
   "metadata": {},
   "outputs": [
    {
     "data": {
      "text/plain": [
       "array([4, 1, 4, 3, 3, 4, 2, 2])"
      ]
     },
     "execution_count": 55,
     "metadata": {},
     "output_type": "execute_result"
    }
   ],
   "source": [
    "rep_grid[0]"
   ]
  },
  {
   "cell_type": "code",
   "execution_count": 56,
   "metadata": {},
   "outputs": [
    {
     "name": "stdout",
     "output_type": "stream",
     "text": [
      "['Myself after a good day', 'Myself with family']\n",
      "['successful(1) / unsuccessful(7)', 'understanding(1) / not understanding(7)']\n"
     ]
    }
   ],
   "source": [
    "def calc_good_situations(rep_grid, constructs, elements, self_ind=0, ideal_ind=1):\n",
    "    out_elem = []\n",
    "    out_const = []\n",
    "    ind=0\n",
    "    for vec in rep_grid:\n",
    "        if np.abs(vec[self_ind]-vec[ideal_ind])>=3:\n",
    "            ideal_ = np.abs(vec[2:len(vec)]-vec[ideal_ind])\n",
    "            ideal_ = np.where(ideal_<=1)[0]\n",
    "            if ideal_.any():\n",
    "                aux = []\n",
    "                for t in ideal_: \n",
    "                    out_elem.append(elements[t+2])\n",
    "                out_const.append(constructs[ind])\n",
    "        ind+=1\n",
    "    out_elem= list(dict.fromkeys(out_elem))\n",
    "    out_const= list(dict.fromkeys(out_const))\n",
    "    return out_elem, out_const\n",
    "\n",
    "elemens, const = calc_good_situations(rep_grid=rep_grid, constructs=constructs, elements=elements, self_ind=0, ideal_ind=1)\n",
    "print(elemens)\n",
    "print(const)\n",
    "\n"
   ]
  },
  {
   "cell_type": "code",
   "execution_count": 57,
   "metadata": {},
   "outputs": [
    {
     "name": "stdout",
     "output_type": "stream",
     "text": [
      "successful(1) / unsuccessful(7)\n",
      "understanding(1) / not understanding(7)\n",
      "out_const\n",
      "['successful(1) / unsuccessful(7)', 'understanding(1) / not understanding(7)']\n",
      "out_elem\n",
      "[['Myself after a good day', 'Myself with family'], ['Myself after a good day']]\n",
      "Seems like you want to work on being more successful understanding  but when you are with your (or having a) good good  (day) you already are.\n"
     ]
    }
   ],
   "source": [
    "def calc_good_situations(rep_grid, constructs, elements, self_ind=0, ideal_ind=1):\n",
    "    out_elem = [[]]\n",
    "    out_const = []\n",
    "    ind=0\n",
    "    band = True\n",
    "    for vec in rep_grid:\n",
    "        if np.abs(vec[self_ind]-vec[ideal_ind])>=3:\n",
    "            ideal_ = np.abs(vec[2:len(vec)]-vec[ideal_ind])\n",
    "            ideal_ = np.where(ideal_<=1)[0]\n",
    "            if ideal_.any():\n",
    "                aux = []\n",
    "                for t in ideal_: \n",
    "                    #print('elements[t]')\n",
    "                    #print(elements[t])\n",
    "                    #print('elements[t+2]')\n",
    "                    #print(elements[t+2])\n",
    "                    aux.append(elements[t+2])\n",
    "                if band:\n",
    "                    out_elem[0] = aux\n",
    "                    band = False\n",
    "                else:\n",
    "                    out_elem.append(aux)\n",
    "                out_const.append(constructs[ind])\n",
    "        ind+=1\n",
    "    const_text = elem_text = ''\n",
    "    for c in out_const:\n",
    "        print(c)\n",
    "        const_text+=c.split('(')[0]+ ' '\n",
    "    for e in out_elem:\n",
    "        elem_text+=e[0].split(' ')[3]+ ' '\n",
    "    text_ = 'Seems like you want to work on being more '+const_text+' '+\\\n",
    "    'but when you are with your (or having a) '+elem_text+' (day) you already are.'\n",
    "    #return out_elem, out_const\n",
    "    print('out_const')\n",
    "    print(out_const)\n",
    "    print('out_elem')\n",
    "    print(out_elem)\n",
    "    return text_\n",
    "\n",
    "text_ = calc_good_situations(rep_grid=rep_grid, constructs=constructs, elements=elements, self_ind=0, ideal_ind=1)\n",
    "print(text_)\n"
   ]
  },
  {
   "cell_type": "code",
   "execution_count": 58,
   "metadata": {},
   "outputs": [
    {
     "name": "stdout",
     "output_type": "stream",
     "text": [
      "Seems like you want to work on being moreAAA but when you are with your (or having) AAA you already are.\n"
     ]
    }
   ],
   "source": [
    "const_text=elem_text='AAA'\n",
    "\n",
    "text_ = 'Seems like you want to work on being more'+const_text+' '+'but when you are with your (or having) '+elem_text+' you already are.'\n",
    "print(text_)"
   ]
  },
  {
   "cell_type": "code",
   "execution_count": 59,
   "metadata": {},
   "outputs": [],
   "source": [
    "def calc_state_of_situations(rep_grid, self_ind):\n",
    "    count = 0\n",
    "    for vec in rep_grid:\n",
    "        if vec[self_ind]!=4:\n",
    "            self_pole = True\n",
    "            if vec[self_ind] >= 5  : self_pole = False\n",
    "            for val in vec[np.arange(len(vec))!=self_ind]:\n",
    "                if val!=4:\n",
    "                    other_pole = True\n",
    "                    if val >= 5  : other_pole = False\n",
    "                    if self_pole != other_pole:\n",
    "                        count+=1\n",
    "        else:\n",
    "            pass\n",
    "    if count / np.size(rep_grid) > 0.38:\n",
    "        print('You have a detrimental self-perception on the rated situations')\n",
    "    else:\n",
    "        #print('You have a healthy self-perception on the rated situations')\n",
    "        print('You have a healthy self-perception on the rated situations')\n",
    "    calc_state_of_situations(rep_grid=rep_grid, self_ind=0)"
   ]
  },
  {
   "cell_type": "code",
   "execution_count": 60,
   "metadata": {},
   "outputs": [
    {
     "name": "stdout",
     "output_type": "stream",
     "text": [
      "-3\n"
     ]
    }
   ],
   "source": [
    "a = 3\n",
    "a*=-1\n",
    "print(a)"
   ]
  },
  {
   "cell_type": "code",
   "execution_count": 61,
   "metadata": {},
   "outputs": [
    {
     "data": {
      "text/plain": [
       "array([0., 0., 0., 0., 0., 0., 0., 0.])"
      ]
     },
     "execution_count": 61,
     "metadata": {},
     "output_type": "execute_result"
    }
   ],
   "source": [
    "np.zeros(np.shape(rep_grid)[1])"
   ]
  },
  {
   "cell_type": "code",
   "execution_count": 62,
   "metadata": {},
   "outputs": [
    {
     "ename": "NameError",
     "evalue": "name 'test2' is not defined",
     "output_type": "error",
     "traceback": [
      "\u001b[0;31m---------------------------------------------------------------------------\u001b[0m",
      "\u001b[0;31mNameError\u001b[0m                                 Traceback (most recent call last)",
      "\u001b[0;32m<ipython-input-62-d551179295f3>\u001b[0m in \u001b[0;36m<module>\u001b[0;34m\u001b[0m\n\u001b[1;32m     49\u001b[0m \u001b[0;31m# text_ = most_meaningful_values_pca(rep_grid=test_rep_grid, col_names=constructs_const, top_k=2, elements_or_constructs='elements')\u001b[0m\u001b[0;34m\u001b[0m\u001b[0;34m\u001b[0m\u001b[0;34m\u001b[0m\u001b[0m\n\u001b[1;32m     50\u001b[0m \u001b[0;31m# print(text_)\u001b[0m\u001b[0;34m\u001b[0m\u001b[0;34m\u001b[0m\u001b[0;34m\u001b[0m\u001b[0m\n\u001b[0;32m---> 51\u001b[0;31m \u001b[0mtest_rep_grid_construct\u001b[0m \u001b[0;34m=\u001b[0m \u001b[0minverse_matrix\u001b[0m\u001b[0;34m(\u001b[0m\u001b[0mtest2\u001b[0m\u001b[0;34m)\u001b[0m\u001b[0;34m\u001b[0m\u001b[0;34m\u001b[0m\u001b[0m\n\u001b[0m\u001b[1;32m     52\u001b[0m \u001b[0mtext_\u001b[0m \u001b[0;34m=\u001b[0m \u001b[0mmost_meaningful_values_pca\u001b[0m\u001b[0;34m(\u001b[0m\u001b[0mrep_grid\u001b[0m\u001b[0;34m=\u001b[0m\u001b[0mtest_rep_grid_construct\u001b[0m\u001b[0;34m,\u001b[0m \u001b[0mcol_names\u001b[0m\u001b[0;34m=\u001b[0m\u001b[0mconstructs_const\u001b[0m\u001b[0;34m,\u001b[0m \u001b[0mtop_k\u001b[0m\u001b[0;34m=\u001b[0m\u001b[0;36m2\u001b[0m\u001b[0;34m,\u001b[0m \u001b[0melements_or_constructs\u001b[0m\u001b[0;34m=\u001b[0m\u001b[0;34m'constructs'\u001b[0m\u001b[0;34m)\u001b[0m\u001b[0;34m\u001b[0m\u001b[0;34m\u001b[0m\u001b[0m\n\u001b[1;32m     53\u001b[0m \u001b[0mprint\u001b[0m\u001b[0;34m(\u001b[0m\u001b[0mtext_\u001b[0m\u001b[0;34m)\u001b[0m\u001b[0;34m\u001b[0m\u001b[0;34m\u001b[0m\u001b[0m\n",
      "\u001b[0;31mNameError\u001b[0m: name 'test2' is not defined"
     ]
    }
   ],
   "source": [
    "def most_meaningful_values_pca(rep_grid, col_names, top_k, elements_or_constructs):\n",
    "    top_k*=-1\n",
    "    meaninful = np.zeros(np.shape(rep_grid)[1])\n",
    "    scaler=StandardScaler()\n",
    "    scaler.fit(rep_grid)\n",
    "    X_scaled=scaler.transform(rep_grid)\n",
    "    band = True\n",
    "    n_components = 2\n",
    "    while(band):\n",
    "        pca=PCA(n_components=n_components)\n",
    "        pca.fit(X_scaled) \n",
    "        X_pca=pca.transform(X_scaled)\n",
    "        ex_variance=np.var(X_pca,axis=0)\n",
    "        print('explained raw variance: ', ex_variance)\n",
    "        ex_variance_ratio = ex_variance/np.sum(ex_variance)\n",
    "        print('explained variance: ', ex_variance_ratio)\n",
    "        if np.sum(ex_variance_ratio)>=0.8:\n",
    "            band=False\n",
    "        else:\n",
    "            n_components+=1\n",
    "    # get the meaningful elements or constructs (i.e. col_names)\n",
    "    exp_var_ind = 0\n",
    "    for p in pca.components_:\n",
    "        sum_ = np.sum(np.abs(p))\n",
    "        ind = 0\n",
    "        for i in p:\n",
    "            meaninful[ind] += (np.abs(i)/sum_)*ex_variance_ratio[exp_var_ind]\n",
    "            ind+=1\n",
    "        exp_var_ind+=1\n",
    "    # create text with the most interesting/meaningful elements or constructs\n",
    "    print('meaninful vector : ')\n",
    "    for mmm in meaninful:\n",
    "        print(mmm)\n",
    "    ind_elem = np.argsort(meaninful)[top_k:]\n",
    "    text_ = 'The most meaningful '+elements_or_constructs+ \\\n",
    "    ' for you according to your patterns of ranking are '\n",
    "    for x in ind_elem:\n",
    "        text_=text_+col_names[x]+' and '\n",
    "    text_=text_[0:-4]\n",
    "    return text_\n",
    "\n",
    "#text_ = most_meaningful_values_pca(rep_grid=rep_grid, col_names=elements_const, top_k=2, elements_or_constructs='elements')\n",
    "#print(text_)\n",
    "#text_ = most_meaningful_values_pca(rep_grid=rep_grid_const, col_names=constructs_const, top_k=2, elements_or_constructs='constructs')\n",
    "#print(text_)\n",
    "# test_rep_grid_construct = inverse_matrix(test_rep_grid)\n",
    "# text_ = most_meaningful_values_pca(rep_grid=test_rep_grid_construct, col_names=elements_const, top_k=2, elements_or_constructs='constructs')\n",
    "# print(text_)\n",
    "# text_ = most_meaningful_values_pca(rep_grid=test_rep_grid, col_names=constructs_const, top_k=2, elements_or_constructs='elements')\n",
    "# print(text_)\n",
    "test_rep_grid_construct = inverse_matrix(test2)\n",
    "text_ = most_meaningful_values_pca(rep_grid=test_rep_grid_construct, col_names=constructs_const, top_k=2, elements_or_constructs='constructs')\n",
    "print(text_)\n",
    "text_ = most_meaningful_values_pca(rep_grid=test2, col_names=elements_const, top_k=2, elements_or_constructs='elements')\n",
    "print(text_)"
   ]
  },
  {
   "cell_type": "code",
   "execution_count": 63,
   "metadata": {},
   "outputs": [
    {
     "data": {
      "text/plain": [
       "array([[4, 1, 4, 3, 3, 4, 2, 2],\n",
       "       [4, 2, 3, 5, 4, 5, 1, 6],\n",
       "       [2, 2, 2, 6, 5, 6, 1, 3],\n",
       "       [4, 2, 3, 5, 5, 5, 2, 5],\n",
       "       [5, 5, 4, 4, 5, 3, 5, 4],\n",
       "       [6, 7, 4, 2, 4, 2, 6, 5],\n",
       "       [2, 2, 4, 5, 4, 6, 1, 3],\n",
       "       [4, 1, 3, 5, 4, 6, 2, 3],\n",
       "       [3, 1, 2, 6, 3, 6, 2, 3],\n",
       "       [3, 2, 2, 2, 4, 4, 1, 1]])"
      ]
     },
     "execution_count": 63,
     "metadata": {},
     "output_type": "execute_result"
    }
   ],
   "source": [
    "rep_grid"
   ]
  },
  {
   "cell_type": "code",
   "execution_count": 64,
   "metadata": {},
   "outputs": [],
   "source": [
    "test_rep_grid = np.array([[ 1, 1, 1, 1, 1, 1, 1, 1, 1, 1 ],\n",
    "  [ 1, 1, 1, 1, 1, 1, 1, 1, 1, 1 ],\n",
    "  [ 1, 1, 1, 1, 1, 1, 1, 1, 1, 1 ],\n",
    "  [ 3, 5, 6, 5, 4, 2, 5, 5, 6, 2 ],\n",
    "  [ 1, 1, 1, 1, 1, 1, 1, 1, 1, 1 ],\n",
    "  [ 1, 1, 1, 1, 1, 1, 1, 1, 1, 1 ],\n",
    "  [ 1, 1, 1, 1, 1, 1, 1, 1, 1, 1],\n",
    "  [ 2, 6, 3, 5, 4, 5, 3, 3, 3, 1]])"
   ]
  },
  {
   "cell_type": "code",
   "execution_count": 65,
   "metadata": {},
   "outputs": [
    {
     "data": {
      "text/plain": [
       "array([[1, 1, 1, 1, 1, 1, 1, 1, 1, 1],\n",
       "       [1, 1, 1, 1, 1, 1, 1, 1, 1, 1],\n",
       "       [1, 1, 1, 1, 1, 1, 1, 1, 1, 1],\n",
       "       [3, 5, 6, 5, 4, 2, 5, 5, 6, 2],\n",
       "       [1, 1, 1, 1, 1, 1, 1, 1, 1, 1],\n",
       "       [1, 1, 1, 1, 1, 1, 1, 1, 1, 1],\n",
       "       [1, 1, 1, 1, 1, 1, 1, 1, 1, 1],\n",
       "       [2, 6, 3, 5, 4, 5, 3, 3, 3, 1]])"
      ]
     },
     "execution_count": 65,
     "metadata": {},
     "output_type": "execute_result"
    }
   ],
   "source": [
    "test_rep_grid"
   ]
  },
  {
   "cell_type": "code",
   "execution_count": 66,
   "metadata": {},
   "outputs": [
    {
     "data": {
      "text/plain": [
       "1.0"
      ]
     },
     "execution_count": 66,
     "metadata": {},
     "output_type": "execute_result"
    }
   ],
   "source": [
    "0.73171783 +0.26828217"
   ]
  },
  {
   "cell_type": "code",
   "execution_count": 67,
   "metadata": {},
   "outputs": [],
   "source": [
    "a = 'hola and'"
   ]
  },
  {
   "cell_type": "code",
   "execution_count": 68,
   "metadata": {},
   "outputs": [
    {
     "data": {
      "text/plain": [
       "'hola '"
      ]
     },
     "execution_count": 68,
     "metadata": {},
     "output_type": "execute_result"
    }
   ],
   "source": [
    "a[0:-3]"
   ]
  },
  {
   "cell_type": "code",
   "execution_count": 69,
   "metadata": {},
   "outputs": [],
   "source": [
    "test2 = np.array([[ 1, 1, 1, 3, 1, 1, 1, 2 ],\n",
    "  [ 1, 1, 1, 5, 1, 1, 1, 6 ],\n",
    "  [ 1, 1, 1, 6, 1, 1, 1, 3 ],\n",
    "  [ 1, 1, 1, 5, 1, 1, 1, 5 ],\n",
    "  [ 1, 1, 1, 4, 1, 1, 1, 4 ],\n",
    "  [ 1, 1, 1, 2, 1, 1, 1, 5 ],\n",
    "  [ 1, 1, 1, 5, 1, 1, 1, 3 ],\n",
    "  [ 1, 1, 1, 5, 1, 1, 1, 3 ],\n",
    "  [ 1, 1, 1, 6, 1, 1, 1, 3 ],\n",
    "  [ 1, 1, 1, 2, 1, 1, 1, 1 ] ])"
   ]
  },
  {
   "cell_type": "code",
   "execution_count": 70,
   "metadata": {},
   "outputs": [],
   "source": [
    "import pandas as pd"
   ]
  },
  {
   "cell_type": "code",
   "execution_count": 71,
   "metadata": {},
   "outputs": [],
   "source": [
    "user_finish = pd.read_csv('codes_13_03.csv')"
   ]
  },
  {
   "cell_type": "code",
   "execution_count": 72,
   "metadata": {},
   "outputs": [
    {
     "data": {
      "text/plain": [
       "157"
      ]
     },
     "execution_count": 72,
     "metadata": {},
     "output_type": "execute_result"
    }
   ],
   "source": [
    "len(user_finish)"
   ]
  },
  {
   "cell_type": "code",
   "execution_count": 73,
   "metadata": {},
   "outputs": [],
   "source": [
    "def remove_non_valid(data):\n",
    "    curated = data.copy()\n",
    "    i_ = curated.loc[curated[curated.keys()[0]].str.contains('oliver|sara|unde')]\n",
    "    curated = curated.drop(list(i_.index.values.astype(int)), axis=0)\n",
    "    return curated"
   ]
  },
  {
   "cell_type": "code",
   "execution_count": 74,
   "metadata": {},
   "outputs": [],
   "source": [
    "curated = remove_non_valid(user_finish)"
   ]
  },
  {
   "cell_type": "code",
   "execution_count": 75,
   "metadata": {},
   "outputs": [
    {
     "data": {
      "text/plain": [
       "134"
      ]
     },
     "execution_count": 75,
     "metadata": {},
     "output_type": "execute_result"
    }
   ],
   "source": [
    "len(curated)"
   ]
  },
  {
   "cell_type": "code",
   "execution_count": 174,
   "metadata": {},
   "outputs": [],
   "source": [
    "import ast\n",
    "import numpy as np\n",
    "#time_rating = get_time_and_rating(csvRows=csvRows_study, string = 'end_repodrid_result_question_1')\n",
    "#time_rating = get_time_and_rating(csvRows=csvRows_study, string = 'identity_result_page_question_3')\n",
    "time_rating = get_time_and_rating_user(csvRows=csvRows, string = 'end_repodrid_result_question_1', user='sara')\n",
    "#time_rating = get_time_and_feel(csvRows=csvRows, string = 'end_repodrid_result_question_2')\n",
    "#len(time_rating['rating'])\n",
    "#sum(np.array(time_rating['rating'])<=6)\n",
    "#(sum(np.array(time_rating['rating'])>=9) - sum(np.array(time_rating['rating'])<=6))/len(time_rating['rating'])*100"
   ]
  },
  {
   "cell_type": "code",
   "execution_count": 179,
   "metadata": {},
   "outputs": [
    {
     "data": {
      "text/plain": [
       "20.5"
      ]
     },
     "execution_count": 179,
     "metadata": {},
     "output_type": "execute_result"
    }
   ],
   "source": [
    "np.median(time_rating['time'])"
   ]
  },
  {
   "cell_type": "code",
   "execution_count": 155,
   "metadata": {},
   "outputs": [],
   "source": [
    "df['nps_identity']=time_rating['rating']"
   ]
  },
  {
   "cell_type": "code",
   "execution_count": 271,
   "metadata": {},
   "outputs": [
    {
     "data": {
      "text/plain": [
       "81"
      ]
     },
     "execution_count": 271,
     "metadata": {},
     "output_type": "execute_result"
    }
   ],
   "source": [
    "sum(curated[curated.keys()[1]]<=19)"
   ]
  },
  {
   "cell_type": "code",
   "execution_count": 104,
   "metadata": {},
   "outputs": [
    {
     "data": {
      "text/plain": [
       "69"
      ]
     },
     "execution_count": 104,
     "metadata": {},
     "output_type": "execute_result"
    }
   ],
   "source": [
    "np.max(curated[curated.keys()[1]])"
   ]
  },
  {
   "cell_type": "code",
   "execution_count": 207,
   "metadata": {},
   "outputs": [
    {
     "data": {
      "text/plain": [
       "19.34285714285714"
      ]
     },
     "execution_count": 207,
     "metadata": {},
     "output_type": "execute_result"
    }
   ],
   "source": [
    "np.mean(curated[curated.keys()[1]])"
   ]
  },
  {
   "cell_type": "code",
   "execution_count": 213,
   "metadata": {},
   "outputs": [
    {
     "data": {
      "text/plain": [
       "17.0"
      ]
     },
     "execution_count": 213,
     "metadata": {},
     "output_type": "execute_result"
    }
   ],
   "source": [
    "np.median(curated[curated.keys()[1]])"
   ]
  },
  {
   "cell_type": "code",
   "execution_count": 208,
   "metadata": {},
   "outputs": [
    {
     "data": {
      "text/plain": [
       "'TimeSpent'"
      ]
     },
     "execution_count": 208,
     "metadata": {},
     "output_type": "execute_result"
    }
   ],
   "source": [
    "curated.keys()[1]"
   ]
  },
  {
   "cell_type": "code",
   "execution_count": 209,
   "metadata": {},
   "outputs": [
    {
     "data": {
      "text/plain": [
       "4"
      ]
     },
     "execution_count": 209,
     "metadata": {},
     "output_type": "execute_result"
    }
   ],
   "source": [
    "sum(curated[curated.keys()[1]]>=40)"
   ]
  },
  {
   "cell_type": "code",
   "execution_count": 210,
   "metadata": {},
   "outputs": [
    {
     "data": {
      "text/html": [
       "<div>\n",
       "<style scoped>\n",
       "    .dataframe tbody tr th:only-of-type {\n",
       "        vertical-align: middle;\n",
       "    }\n",
       "\n",
       "    .dataframe tbody tr th {\n",
       "        vertical-align: top;\n",
       "    }\n",
       "\n",
       "    .dataframe thead th {\n",
       "        text-align: right;\n",
       "    }\n",
       "</style>\n",
       "<table border=\"1\" class=\"dataframe\">\n",
       "  <thead>\n",
       "    <tr style=\"text-align: right;\">\n",
       "      <th></th>\n",
       "      <th>ActivationCode</th>\n",
       "      <th>TimeSpent</th>\n",
       "    </tr>\n",
       "  </thead>\n",
       "  <tbody>\n",
       "    <tr>\n",
       "      <th>1</th>\n",
       "      <td>6p5vutqW</td>\n",
       "      <td>16</td>\n",
       "    </tr>\n",
       "    <tr>\n",
       "      <th>2</th>\n",
       "      <td>lZUOKm6S</td>\n",
       "      <td>24</td>\n",
       "    </tr>\n",
       "    <tr>\n",
       "      <th>3</th>\n",
       "      <td>rhyDsIWL</td>\n",
       "      <td>67</td>\n",
       "    </tr>\n",
       "    <tr>\n",
       "      <th>4</th>\n",
       "      <td>fwQXfY83</td>\n",
       "      <td>25</td>\n",
       "    </tr>\n",
       "    <tr>\n",
       "      <th>5</th>\n",
       "      <td>ZF8MGC0T</td>\n",
       "      <td>10</td>\n",
       "    </tr>\n",
       "  </tbody>\n",
       "</table>\n",
       "</div>"
      ],
      "text/plain": [
       "  ActivationCode  TimeSpent\n",
       "1      6p5vutqW          16\n",
       "2      lZUOKm6S          24\n",
       "3      rhyDsIWL          67\n",
       "4      fwQXfY83          25\n",
       "5      ZF8MGC0T          10"
      ]
     },
     "execution_count": 210,
     "metadata": {},
     "output_type": "execute_result"
    }
   ],
   "source": [
    "curated.head(5)"
   ]
  },
  {
   "cell_type": "code",
   "execution_count": 211,
   "metadata": {},
   "outputs": [
    {
     "data": {
      "text/plain": [
       "(array([ 2.,  3., 12., 10., 16., 14., 11., 11.,  6.,  6.,  2.,  5.,  1.,\n",
       "         2.,  0.,  0.,  0.,  0.,  0.,  0.,  0.,  0.,  0.,  1.,  0.,  1.,\n",
       "         0.,  0.,  0.,  2.]),\n",
       " array([ 5.        ,  7.13333333,  9.26666667, 11.4       , 13.53333333,\n",
       "        15.66666667, 17.8       , 19.93333333, 22.06666667, 24.2       ,\n",
       "        26.33333333, 28.46666667, 30.6       , 32.73333333, 34.86666667,\n",
       "        37.        , 39.13333333, 41.26666667, 43.4       , 45.53333333,\n",
       "        47.66666667, 49.8       , 51.93333333, 54.06666667, 56.2       ,\n",
       "        58.33333333, 60.46666667, 62.6       , 64.73333333, 66.86666667,\n",
       "        69.        ]),\n",
       " <a list of 30 Patch objects>)"
      ]
     },
     "execution_count": 211,
     "metadata": {},
     "output_type": "execute_result"
    },
    {
     "data": {
      "image/png": "[encoded data removed]",
      "text/plain": [
       "<Figure size 432x288 with 1 Axes>"
      ]
     },
     "metadata": {
      "needs_background": "light"
     },
     "output_type": "display_data"
    }
   ],
   "source": [
    "plt.hist(curated[curated.keys()[1]], bins = 30)"
   ]
  },
  {
   "cell_type": "code",
   "execution_count": 212,
   "metadata": {},
   "outputs": [
    {
     "data": {
      "text/plain": [
       "10.70276205688319"
      ]
     },
     "execution_count": 212,
     "metadata": {},
     "output_type": "execute_result"
    }
   ],
   "source": [
    "np.std(curated[curated.keys()[1]])"
   ]
  },
  {
   "cell_type": "markdown",
   "metadata": {},
   "source": [
    "# test to be removed"
   ]
  },
  {
   "cell_type": "code",
   "execution_count": 87,
   "metadata": {},
   "outputs": [],
   "source": [
    "str_ = ['CLOZAPINE 25mg TABLETS(500'S)                           ','APIXABAN!2.5mg!TABLETS (60 tabs)', 'MOVICOL!SACHETS (20 sachets)', 'LITHIUM CITRATE!520mgApprox5.5mmol/5mL!SfLiqdP...', 'CLOZAPINE!50mg!TABLETS (100 tabs)(Denzapine)']"
   ]
  },
  {
   "cell_type": "code",
   "execution_count": 105,
   "metadata": {},
   "outputs": [
    {
     "name": "stdout",
     "output_type": "stream",
     "text": [
      "APIXABAN!2.5mg!TABLETS (60 tabs)\n",
      "2\n",
      "MOVICOL!SACHETS (20 sachets)\n",
      "20\n",
      "LITHIUM CITRATE!520mgApprox5.5mmol/5mL!SfLiqdP...\n",
      "520\n",
      "CLOZAPINE!50mg!TABLETS (100 tabs)(Denzapine)\n",
      "50\n"
     ]
    }
   ],
   "source": [
    "for s in str_:\n",
    "    print(s)\n",
    "    split = s.split('!')\n",
    "    for t in split:\n",
    "        out_ = [int(val) for val in re.findall(r'\\b\\d+', t)]\n",
    "        if out_:\n",
    "            print(out_[0])\n",
    "            break"
   ]
  },
  {
   "cell_type": "code",
   "execution_count": 92,
   "metadata": {},
   "outputs": [],
   "source": [
    "test = str_[3].split('!')"
   ]
  },
  {
   "cell_type": "code",
   "execution_count": 94,
   "metadata": {},
   "outputs": [
    {
     "name": "stdout",
     "output_type": "stream",
     "text": [
      "['CLOZAPINE', '50mg', 'TABLETS (100 tabs)(Denzapine)']\n"
     ]
    }
   ],
   "source": [
    "print(test)"
   ]
  },
  {
   "cell_type": "code",
   "execution_count": 98,
   "metadata": {},
   "outputs": [
    {
     "data": {
      "text/plain": [
       "[50]"
      ]
     },
     "execution_count": 98,
     "metadata": {},
     "output_type": "execute_result"
    }
   ],
   "source": [
    "[int(s) for s in re.findall(r'\\b\\d+', '50mg')]"
   ]
  },
  {
   "cell_type": "code",
   "execution_count": 100,
   "metadata": {},
   "outputs": [
    {
     "name": "stdout",
     "output_type": "stream",
     "text": [
      "[50]\n",
      "[100]\n"
     ]
    }
   ],
   "source": [
    "import re\n",
    "for t in test:\n",
    "    out_ = [int(s) for s in re.findall(r'\\b\\d+', t)]\n",
    "    if out_:\n",
    "        print(out_)"
   ]
  },
  {
   "cell_type": "code",
   "execution_count": 77,
   "metadata": {},
   "outputs": [],
   "source": [
    "a = []"
   ]
  },
  {
   "cell_type": "code",
   "execution_count": 79,
   "metadata": {},
   "outputs": [
    {
     "ename": "AttributeError",
     "evalue": "'list' object has no attribute 'is_empty'",
     "output_type": "error",
     "traceback": [
      "\u001b[0;31m---------------------------------------------------------------------------\u001b[0m",
      "\u001b[0;31mAttributeError\u001b[0m                            Traceback (most recent call last)",
      "\u001b[0;32m<ipython-input-79-5dd94e6ebf4b>\u001b[0m in \u001b[0;36m<module>\u001b[0;34m\u001b[0m\n\u001b[0;32m----> 1\u001b[0;31m \u001b[0;32mif\u001b[0m \u001b[0ma\u001b[0m\u001b[0;34m.\u001b[0m\u001b[0mis_empty\u001b[0m\u001b[0;34m(\u001b[0m\u001b[0;34m)\u001b[0m\u001b[0;34m:\u001b[0m\u001b[0;34m\u001b[0m\u001b[0;34m\u001b[0m\u001b[0m\n\u001b[0m\u001b[1;32m      2\u001b[0m     \u001b[0mprint\u001b[0m\u001b[0;34m(\u001b[0m\u001b[0;34m'a'\u001b[0m\u001b[0;34m)\u001b[0m\u001b[0;34m\u001b[0m\u001b[0;34m\u001b[0m\u001b[0m\n",
      "\u001b[0;31mAttributeError\u001b[0m: 'list' object has no attribute 'is_empty'"
     ]
    }
   ],
   "source": [
    "if a.is_empty():\n",
    "    print('a')"
   ]
  },
  {
   "cell_type": "markdown",
   "metadata": {},
   "source": [
    "# Rep grid prototype results"
   ]
  },
  {
   "cell_type": "code",
   "execution_count": 282,
   "metadata": {},
   "outputs": [],
   "source": [
    "#info_study = pd.read_csv('total_06_03.csv', header=None)"
   ]
  },
  {
   "cell_type": "code",
   "execution_count": 243,
   "metadata": {},
   "outputs": [
    {
     "data": {
      "text/plain": [
       "Int64Index([  0,   1,   2,   3,   4,   5,   6,   7,   8,   9,\n",
       "            ...\n",
       "            135, 136, 137, 138, 139, 140, 141, 142, 143, 144],\n",
       "           dtype='int64', length=145)"
      ]
     },
     "execution_count": 243,
     "metadata": {},
     "output_type": "execute_result"
    }
   ],
   "source": [
    "info_study.keys()"
   ]
  },
  {
   "cell_type": "code",
   "execution_count": 244,
   "metadata": {},
   "outputs": [
    {
     "data": {
      "text/plain": [
       "Int64Index([  0,   1,   2,   3,   4,   5,   6,   7,   8,   9,\n",
       "            ...\n",
       "            135, 136, 137, 138, 139, 140, 141, 142, 143, 144],\n",
       "           dtype='int64', length=145)"
      ]
     },
     "execution_count": 244,
     "metadata": {},
     "output_type": "execute_result"
    }
   ],
   "source": [
    "info_study.keys()"
   ]
  },
  {
   "cell_type": "code",
   "execution_count": 247,
   "metadata": {},
   "outputs": [
    {
     "data": {
      "text/plain": [
       "0    {\"repgridselection\":[\"element-0\"\n",
       "1    {\"repgridselection\":[\"element-0\"\n",
       "Name: 2, dtype: object"
      ]
     },
     "execution_count": 247,
     "metadata": {},
     "output_type": "execute_result"
    }
   ],
   "source": [
    "info_study[2]"
   ]
  },
  {
   "cell_type": "code",
   "execution_count": 76,
   "metadata": {},
   "outputs": [],
   "source": [
    "# Read the CSV file in (skipping first row).\n",
    "import csv\n",
    "csvFilename = 'total_last.csv'\n",
    "csvRows = []\n",
    "csvFileObj = open(csvFilename)\n",
    "readerObj = csv.reader(csvFileObj)\n",
    "for row in readerObj:\n",
    "    #if readerObj.line_num == 1:\n",
    "    #    continue    # skip first row\n",
    "    csvRows.append(row)\n",
    "csvFileObj.close()"
   ]
  },
  {
   "cell_type": "code",
   "execution_count": 77,
   "metadata": {},
   "outputs": [
    {
     "data": {
      "text/plain": [
       "158"
      ]
     },
     "execution_count": 77,
     "metadata": {},
     "output_type": "execute_result"
    }
   ],
   "source": [
    "len(csvRows)"
   ]
  },
  {
   "cell_type": "code",
   "execution_count": 79,
   "metadata": {},
   "outputs": [],
   "source": [
    "def get_index_study(csvRows):\n",
    "    valid_index = []\n",
    "    not_valid = ['sara', 'oliver', 'undefi']\n",
    "    for i, vals in enumerate(csvRows):\n",
    "        if [True for i in not_valid if i in vals[0]]:\n",
    "            pass\n",
    "        else:\n",
    "            valid_index.append(i)\n",
    "    return valid_index\n",
    "valid_index = get_index_study(csvRows=csvRows)\n",
    "csvRows_study = [csvRows[i] for i in valid_index]"
   ]
  },
  {
   "cell_type": "code",
   "execution_count": 181,
   "metadata": {},
   "outputs": [
    {
     "data": {
      "text/plain": [
       "16"
      ]
     },
     "execution_count": 181,
     "metadata": {},
     "output_type": "execute_result"
    }
   ],
   "source": [
    "len(csvRows_sara_study)"
   ]
  },
  {
   "cell_type": "code",
   "execution_count": 180,
   "metadata": {},
   "outputs": [],
   "source": [
    "def get_index_diary_study(csvRows):\n",
    "    valid_index = []\n",
    "    not_valid = ['sara']\n",
    "    for i, vals in enumerate(csvRows):\n",
    "        if [True for i in not_valid if i in vals[0]]:\n",
    "            valid_index.append(i)\n",
    "        else:\n",
    "            pass\n",
    "    return valid_index\n",
    "valid_index = get_index_diary_study(csvRows=csvRows)\n",
    "csvRows_sara_study = [csvRows[i] for i in valid_index]"
   ]
  },
  {
   "cell_type": "code",
   "execution_count": 80,
   "metadata": {},
   "outputs": [],
   "source": [
    "def get_stress_score(csvRows):\n",
    "    opposite = [3,4,6,7]\n",
    "    scores_ = []\n",
    "    for ind in csvRows:\n",
    "        score = 0\n",
    "        for i, vals in enumerate(ind):\n",
    "            if \"percieved-stress0\" in vals:\n",
    "                start = i\n",
    "                break\n",
    "        stress_score = ind[start:start+10]\n",
    "        for i, vals in enumerate(stress_score):\n",
    "            aux = 0\n",
    "            if \"never\" in vals and \"almost never\" not in vals:\n",
    "                aux=0\n",
    "            elif \"almost never\" in vals:\n",
    "                aux=1\n",
    "            elif \"sometimes\" in vals:\n",
    "                aux=2\n",
    "            elif \"fairly often\" in vals:\n",
    "                aux=3\n",
    "            elif \"very often\" in vals:\n",
    "                aux=4\n",
    "            if i in opposite:\n",
    "                score+=abs(aux-4)\n",
    "            else: \n",
    "                if i not in opposite:\n",
    "                    score+=aux\n",
    "        scores_.append(score)\n",
    "    return scores_\n",
    "scores_ = get_stress_score(csvRows=csvRows_study)"
   ]
  },
  {
   "cell_type": "code",
   "execution_count": 81,
   "metadata": {},
   "outputs": [
    {
     "name": "stdout",
     "output_type": "stream",
     "text": [
      "no stress\n",
      "22\n",
      "moderate stress\n",
      "95\n",
      "high stress\n",
      "17\n"
     ]
    }
   ],
   "source": [
    "#plt.hist(scores_)\n",
    "print('no stress')\n",
    "print(len([i for i in scores_ if i <13]))\n",
    "print('moderate stress')\n",
    "print(len([i for i in scores_ if i >=13 and i<=26]))\n",
    "print('high stress')\n",
    "print(len([i for i in scores_ if i >=27]))\n"
   ]
  },
  {
   "cell_type": "code",
   "execution_count": 82,
   "metadata": {},
   "outputs": [],
   "source": [
    "def get_time_and_rating(csvRows, string):\n",
    "    total = {}\n",
    "    total['time'] = []\n",
    "    total['rating'] = []\n",
    "    for ind in csvRows:\n",
    "        total['time'].append(int(ind[1]))\n",
    "        i = 0\n",
    "        for str_ in ind:\n",
    "            #if 'end_repodrid_result_question_1' in str_:\n",
    "            #if 'identity_result_page_question_3' in str_:\n",
    "            if string in str_:\n",
    "                str_ = '{\"'+str_\n",
    "                str_ = str_.replace(':','\":')\n",
    "                str_ = str_+'}'\n",
    "                str_ = ast.literal_eval(str_)\n",
    "                #total['rating'].append(int(str_['end_repodrid_result_question_1']))\n",
    "                #total['rating'].append(int(str_['identity_result_page_question_3']))\n",
    "                total['rating'].append(int(str_[string]))\n",
    "    return total\n",
    "        "
   ]
  },
  {
   "cell_type": "code",
   "execution_count": 83,
   "metadata": {},
   "outputs": [],
   "source": [
    "def get_time_and_rating_user(csvRows, string, user):\n",
    "    total = {}\n",
    "    total['user'] = []\n",
    "    total['time'] = []\n",
    "    total['rating'] = []\n",
    "    for ind in csvRows:\n",
    "        if user in ind[0]:\n",
    "            total['user'].append(ind[0])\n",
    "            total['time'].append(int(ind[1]))\n",
    "            i = 0\n",
    "            for str_ in ind:\n",
    "                #if 'end_repodrid_result_question_1' in str_:\n",
    "                #if 'identity_result_page_question_3' in str_:\n",
    "                if string in str_:\n",
    "                    str_ = '{\"'+str_\n",
    "                    str_ = str_.replace(':','\":')\n",
    "                    str_ = str_+'}'\n",
    "                    str_ = ast.literal_eval(str_)\n",
    "                    #total['rating'].append(int(str_['end_repodrid_result_question_1']))\n",
    "                    #total['rating'].append(int(str_['identity_result_page_question_3']))\n",
    "                    total['rating'].append(int(str_[string]))\n",
    "    return total\n",
    "        "
   ]
  },
  {
   "cell_type": "code",
   "execution_count": 84,
   "metadata": {},
   "outputs": [],
   "source": [
    "def get_time_and_feel(csvRows, string):\n",
    "    total = {}\n",
    "    total['time'] = []\n",
    "    total['rating'] = []\n",
    "    for ind in csvRows:\n",
    "        total['time'].append(int(ind[1]))\n",
    "        i = 0\n",
    "        for str_ in ind:\n",
    "            #if 'end_repodrid_result_question_1' in str_:\n",
    "            #if 'identity_result_page_question_3' in str_:\n",
    "            if string in str_:\n",
    "                str_ = '{\"'+str_\n",
    "                str_ = str_.replace(':','\":')\n",
    "                str_ = str_+'}'\n",
    "                str_ = ast.literal_eval(str_)\n",
    "                #total['rating'].append(int(str_['end_repodrid_result_question_1']))\n",
    "                #total['rating'].append(int(str_['identity_result_page_question_3']))\n",
    "                if 'Worse' in str_[string]:\n",
    "                    total['rating'].append(-1)\n",
    "                if 'Same' in str_[string]:\n",
    "                    total['rating'].append(0)\n",
    "                if 'Better' in str_[string]:\n",
    "                    total['rating'].append(1)\n",
    "                    \n",
    "    return total"
   ]
  },
  {
   "cell_type": "code",
   "execution_count": 188,
   "metadata": {},
   "outputs": [],
   "source": [
    "import ast\n",
    "import numpy as np\n",
    "time_rating = get_time_and_rating(csvRows=csvRows_study, string = 'end_repodrid_result_question_1')\n",
    "#time_rating = get_time_and_rating(csvRows=csvRows_study, string = 'identity_result_page_question_3')\n",
    "#time_rating = get_time_and_rating_user(csvRows=csvRows_study, string = 'end_repodrid_result_question_1', user='sara')\n",
    "#time_rating = get_time_and_feel(csvRows=csvRows, string = 'end_repodrid_result_question_2')"
   ]
  },
  {
   "cell_type": "code",
   "execution_count": 165,
   "metadata": {},
   "outputs": [],
   "source": [
    "aux_1 = time_rating"
   ]
  },
  {
   "cell_type": "code",
   "execution_count": 189,
   "metadata": {},
   "outputs": [
    {
     "data": {
      "text/plain": [
       "18.0"
      ]
     },
     "execution_count": 189,
     "metadata": {},
     "output_type": "execute_result"
    }
   ],
   "source": [
    "np.median(np.array(aux_1['time']))"
   ]
  },
  {
   "cell_type": "code",
   "execution_count": 167,
   "metadata": {},
   "outputs": [],
   "source": [
    "aux_1['rating'] = np.array(aux_1['rating'])"
   ]
  },
  {
   "cell_type": "code",
   "execution_count": 191,
   "metadata": {},
   "outputs": [
    {
     "data": {
      "text/plain": [
       "134"
      ]
     },
     "execution_count": 191,
     "metadata": {},
     "output_type": "execute_result"
    }
   ],
   "source": [
    "len(csvRows_study)"
   ]
  },
  {
   "cell_type": "code",
   "execution_count": 168,
   "metadata": {},
   "outputs": [],
   "source": [
    "ind_ = aux_1['time']>=0"
   ]
  },
  {
   "cell_type": "code",
   "execution_count": 454,
   "metadata": {},
   "outputs": [
    {
     "data": {
      "text/plain": [
       "(array([ 3.,  6.,  7.,  6.,  6., 17., 21., 17., 20., 31.]),\n",
       " array([ 1. ,  1.9,  2.8,  3.7,  4.6,  5.5,  6.4,  7.3,  8.2,  9.1, 10. ]),\n",
       " <a list of 10 Patch objects>)"
      ]
     },
     "execution_count": 454,
     "metadata": {},
     "output_type": "execute_result"
    },
    {
     "data": {
      "image/png": "[encoded data removed]",
      "text/plain": [
       "<Figure size 432x288 with 1 Axes>"
      ]
     },
     "metadata": {
      "needs_background": "light"
     },
     "output_type": "display_data"
    }
   ],
   "source": [
    "plt.hist(aux_1['rating'], bins = 10)"
   ]
  },
  {
   "cell_type": "code",
   "execution_count": 190,
   "metadata": {},
   "outputs": [
    {
     "data": {
      "text/plain": [
       "['GmFzhmi5 ',\n",
       " ' 14 ',\n",
       " '{\"repgridselection\":[\"element-0\"',\n",
       " 'element-1',\n",
       " 'element-11',\n",
       " 'element-4',\n",
       " 'element-12',\n",
       " 'element-13]',\n",
       " 'marital_status:\"Married\"',\n",
       " 'gender:\"Female\"',\n",
       " 'age:31',\n",
       " 'number_of_kids:1',\n",
       " 'percieved-stress0:\"almost never\"',\n",
       " 'percieved-stress1:\"sometimes\"',\n",
       " 'percieved-stress2:\"almost never\"',\n",
       " 'percieved-stress3:\"fairly often\"',\n",
       " 'percieved-stress4:\"fairly often\"',\n",
       " 'percieved-stress5:\"almost never\"',\n",
       " 'percieved-stress6:\"fairly often\"',\n",
       " 'percieved-stress7:\"fairly often\"',\n",
       " 'percieved-stress8:\"almost never\"',\n",
       " 'percieved-stress9:\"almost never\"',\n",
       " 'stressful-situations-Punctual:\"stressful\"',\n",
       " 'stressful-situations-Organised:\"stressful\"',\n",
       " 'stressful-situations-Hardworking:\"very stressful\"',\n",
       " 'stressful-situations-TeamPlayer:\"very stressful\"',\n",
       " 'stressful-situations-Serious:\"stressful\"',\n",
       " 'stressful-situations-Playful:\"very stressful\"',\n",
       " 'stressful-situations-Thoughtful:\"stressful\"',\n",
       " 'stressful-situations-Spontaneous:\"stressful\"',\n",
       " 'stressful-situations-Helpful:\"very stressful\"',\n",
       " 'stressful-situations-Influential:\"stressful\"',\n",
       " 'stressful-situations-Fast-Paced:\"stressful\"',\n",
       " 'stressful-situations-Liberal:\"stressful\"',\n",
       " 'stressful-situations-Conservative:\"somewhat stressful\"',\n",
       " 'stressful-situations-Independent:\"somewhat stressful\"',\n",
       " 'stressful-situations-Compromising:\"somewhat stressful\"',\n",
       " 'stressful-situations-Opinionated:\"somewhat stressful\"',\n",
       " 'rating_0-0:\"4\"',\n",
       " 'rating_0-1:\"6\"',\n",
       " 'rating_0-4:\"6\"',\n",
       " 'rating_0-11:\"1\"',\n",
       " 'rating_0-12:\"5\"',\n",
       " 'rating_0-13:\"4\"',\n",
       " 'rating_1-0:\"5\"',\n",
       " 'rating_1-1:\"6\"',\n",
       " 'rating_1-4:\"6\"',\n",
       " 'rating_1-11:\"2\"',\n",
       " 'rating_1-12:\"6\"',\n",
       " 'rating_1-13:\"5\"',\n",
       " 'rating_2-0:\"4\"',\n",
       " 'rating_2-1:\"6\"',\n",
       " 'rating_2-4:\"6\"',\n",
       " 'rating_2-11:\"2\"',\n",
       " 'rating_2-12:\"5\"',\n",
       " 'rating_2-13:\"4\"',\n",
       " 'rating_3-0:\"5\"',\n",
       " 'rating_3-1:\"6\"',\n",
       " 'rating_3-4:\"6\"',\n",
       " 'rating_3-11:\"2\"',\n",
       " 'rating_3-12:\"6\"',\n",
       " 'rating_3-13:\"5\"',\n",
       " 'rating_4-0:\"6\"',\n",
       " 'rating_4-1:\"7\"',\n",
       " 'rating_4-4:\"6\"',\n",
       " 'rating_4-11:\"2\"',\n",
       " 'rating_4-12:\"6\"',\n",
       " 'rating_4-13:\"5\"',\n",
       " 'rating_5-0:\"5\"',\n",
       " 'rating_5-1:\"6\"',\n",
       " 'rating_5-4:\"6\"',\n",
       " 'rating_5-11:\"2\"',\n",
       " 'rating_5-12:\"6\"',\n",
       " 'rating_5-13:\"4\"',\n",
       " 'rating_6-0:\"5\"',\n",
       " 'rating_6-1:\"5\"',\n",
       " 'rating_6-4:\"6\"',\n",
       " 'rating_6-11:\"5\"',\n",
       " 'rating_6-12:\"6\"',\n",
       " 'rating_6-13:\"6\"',\n",
       " 'rating_7-0:\"5\"',\n",
       " 'rating_7-1:\"6\"',\n",
       " 'rating_7-4:\"6\"',\n",
       " 'rating_7-11:\"4\"',\n",
       " 'rating_7-12:\"6\"',\n",
       " 'rating_7-13:\"5\"',\n",
       " 'rating_8-0:\"5\"',\n",
       " 'rating_8-1:\"7\"',\n",
       " 'rating_8-4:\"6\"',\n",
       " 'rating_8-11:\"5\"',\n",
       " 'rating_8-12:\"6\"',\n",
       " 'rating_8-13:\"6\"',\n",
       " 'rating_9-0:\"5\"',\n",
       " 'rating_9-1:\"7\"',\n",
       " 'rating_9-4:\"6\"',\n",
       " 'rating_9-11:\"3\"',\n",
       " 'rating_9-12:\"5\"',\n",
       " 'rating_9-13:\"5\"',\n",
       " 'repgrids_results1_question_1:\"Agree\"',\n",
       " 'repgrids_results1_question_2:\"Agree\"',\n",
       " 'repgrids_results2_question_1:\"Agree\"',\n",
       " 'repgrids_results2_question_2:\"Agree\"',\n",
       " 'repgrids_results2_question_3:\"No\"',\n",
       " 'repgrids_results3_question_1:\"Agree\"',\n",
       " 'repgrids_results3_question_2:\"Agree\"',\n",
       " 'repgrids_results3_question_3:\"Yes\"',\n",
       " 'repgrids_results4_question_1:\"Agree\"',\n",
       " 'repgrids_results4_question_2:\"Agree\"',\n",
       " 'repgrids_results4_question_3:\"Yes\"',\n",
       " 'end_repodrid_result_question_1:\"4\"',\n",
       " 'end_repodrid_result_question_2:\"Same\"',\n",
       " 'end_repodrid_result_question_3:\"I felt the wording of the questions very poor and tricky to understand. \\\\nNow I’ve finished I understand what was being asked but the grammar in the questions bothered me\"',\n",
       " 'identityall-0:\"identityall-negative_0\"',\n",
       " 'identityall-1:\"identityall-negative_1\"',\n",
       " 'identityall-2:\"identityall-positive_2\"',\n",
       " 'identityall-3:\"identityall-positive_3\"',\n",
       " 'identityall-4:\"identityall-positive_4\"',\n",
       " 'identityall-5:\"identityall-negative_5\"',\n",
       " 'identityall-6:\"identityall-negative_6\"',\n",
       " 'identityall-7:\"identityall-negative_7\"',\n",
       " 'identityall-8:\"identityall-negative_8\"',\n",
       " 'identityall-9:\"identityall-negative_9\"',\n",
       " 'identityall-10:\"identityall-negative_10\"',\n",
       " 'Identitiesmax5:[\"Identitiesmax5-negative_0\"',\n",
       " 'Identitiesmax5-negative_1',\n",
       " 'Identitiesmax5-positive_3',\n",
       " 'Identitiesmax5-negative_5',\n",
       " 'Identitiesmax5-negative_6]',\n",
       " 'Identitiesmax3:[{\"id\":\"Identitiesmax3-negative_1\"',\n",
       " 'text:\"Organised\"',\n",
       " 'enableIf:\"{Identitiesmax5} contains \\'Identitiesmax5-negative_1\\'\"',\n",
       " 'visibleIf:\"{Identitiesmax5} contains \\'Identitiesmax5-negative_1\\' or {Identitiesmax5} contains \\'Identitiesmax5-positive_1\\'\"}',\n",
       " '{\"id\":\"Identitiesmax3-positive_3\"',\n",
       " 'text:\"Playful\"',\n",
       " 'enableIf:\"{Identitiesmax5} contains \\'Identitiesmax5-positive_3\\'\"',\n",
       " 'visibleIf:\"{Identitiesmax5} contains \\'Identitiesmax5-negative_3\\' or {Identitiesmax5} contains \\'Identitiesmax5-positive_3\\'\"}',\n",
       " '{\"id\":\"Identitiesmax3-negative_6\"',\n",
       " 'text:\"Influential\"',\n",
       " 'enableIf:\"{Identitiesmax5} contains \\'Identitiesmax5-negative_6\\'\"',\n",
       " 'visibleIf:\"{Identitiesmax5} contains \\'Identitiesmax5-negative_6\\' or {Identitiesmax5} contains \\'Identitiesmax5-positive_6\\'\"}]',\n",
       " 'identity_result_page_question_1:\"Agree\"',\n",
       " 'identity_result_page_question_2:\"Agree\"',\n",
       " 'identity_result_page_question_3:\"6\"',\n",
       " 'identity_result_page_question_4:\"Better\"',\n",
       " 'identity_result_page_question_5:\"This was a simple questionnaire and clear and concise how to complete it \"}']"
      ]
     },
     "execution_count": 190,
     "metadata": {},
     "output_type": "execute_result"
    }
   ],
   "source": [
    "csvRows_study[0]"
   ]
  },
  {
   "cell_type": "code",
   "execution_count": 446,
   "metadata": {},
   "outputs": [
    {
     "data": {
      "text/plain": [
       "8.0"
      ]
     },
     "execution_count": 446,
     "metadata": {},
     "output_type": "execute_result"
    }
   ],
   "source": [
    "np.median(aux_1['rating'][ind_])"
   ]
  },
  {
   "cell_type": "code",
   "execution_count": 430,
   "metadata": {},
   "outputs": [
    {
     "data": {
      "text/plain": [
       "50"
      ]
     },
     "execution_count": 430,
     "metadata": {},
     "output_type": "execute_result"
    }
   ],
   "source": [
    "sum(aux_1['rating'][ind_]>=9)"
   ]
  },
  {
   "cell_type": "code",
   "execution_count": 172,
   "metadata": {},
   "outputs": [
    {
     "data": {
      "text/plain": [
       "52"
      ]
     },
     "execution_count": 172,
     "metadata": {},
     "output_type": "execute_result"
    }
   ],
   "source": [
    "sum(df['gender']=='Male')"
   ]
  },
  {
   "cell_type": "code",
   "execution_count": 173,
   "metadata": {},
   "outputs": [
    {
     "data": {
      "text/plain": [
       "82"
      ]
     },
     "execution_count": 173,
     "metadata": {},
     "output_type": "execute_result"
    }
   ],
   "source": [
    "sum(df['gender']=='Female')"
   ]
  },
  {
   "cell_type": "code",
   "execution_count": 431,
   "metadata": {},
   "outputs": [
    {
     "data": {
      "text/plain": [
       "45"
      ]
     },
     "execution_count": 431,
     "metadata": {},
     "output_type": "execute_result"
    }
   ],
   "source": [
    "sum(aux_1['rating'][ind_]<=6)"
   ]
  },
  {
   "cell_type": "code",
   "execution_count": 169,
   "metadata": {},
   "outputs": [
    {
     "data": {
      "text/plain": [
       "3.731343283582089"
      ]
     },
     "execution_count": 169,
     "metadata": {},
     "output_type": "execute_result"
    }
   ],
   "source": [
    "(sum(aux_1['rating'][ind_]>=9) - sum(aux_1['rating'][ind_]<=6))/sum(ind_)*100"
   ]
  },
  {
   "cell_type": "code",
   "execution_count": 428,
   "metadata": {},
   "outputs": [
    {
     "data": {
      "text/plain": [
       "134"
      ]
     },
     "execution_count": 428,
     "metadata": {},
     "output_type": "execute_result"
    }
   ],
   "source": [
    "len(time_rating['rating'][ind_])"
   ]
  },
  {
   "cell_type": "code",
   "execution_count": 170,
   "metadata": {},
   "outputs": [],
   "source": [
    "a = [100-7, 100-7.6, 100-13.1, 100-8.4, 100-16.2]"
   ]
  },
  {
   "cell_type": "code",
   "execution_count": 171,
   "metadata": {},
   "outputs": [
    {
     "data": {
      "text/plain": [
       "89.53999999999999"
      ]
     },
     "execution_count": 171,
     "metadata": {},
     "output_type": "execute_result"
    }
   ],
   "source": [
    "np.mean(a)"
   ]
  },
  {
   "cell_type": "code",
   "execution_count": 421,
   "metadata": {},
   "outputs": [
    {
     "data": {
      "text/plain": [
       "45"
      ]
     },
     "execution_count": 421,
     "metadata": {},
     "output_type": "execute_result"
    }
   ],
   "source": [
    "sum(np.array(time_rating['rating'])<=6)"
   ]
  },
  {
   "cell_type": "code",
   "execution_count": 422,
   "metadata": {},
   "outputs": [
    {
     "data": {
      "text/plain": [
       "4.477611940298507"
      ]
     },
     "execution_count": 422,
     "metadata": {},
     "output_type": "execute_result"
    }
   ],
   "source": [
    "(sum(np.array(time_rating['rating'])>=9) - sum(np.array(time_rating['rating'])<=6))/len(time_rating['rating'])*100"
   ]
  },
  {
   "cell_type": "markdown",
   "metadata": {},
   "source": [
    "# stress score"
   ]
  },
  {
   "cell_type": "code",
   "execution_count": 455,
   "metadata": {},
   "outputs": [],
   "source": [
    "vals_ = get_stress_score(csvRows=csvRows_study)"
   ]
  },
  {
   "cell_type": "code",
   "execution_count": 456,
   "metadata": {},
   "outputs": [
    {
     "data": {
      "text/plain": [
       "(array([ 3.,  8., 16., 21., 31., 26., 17.,  6.,  4.,  2.]),\n",
       " array([ 3. ,  6.5, 10. , 13.5, 17. , 20.5, 24. , 27.5, 31. , 34.5, 38. ]),\n",
       " <a list of 10 Patch objects>)"
      ]
     },
     "execution_count": 456,
     "metadata": {},
     "output_type": "execute_result"
    },
    {
     "data": {
      "image/png": "[encoded data removed]",
      "text/plain": [
       "<Figure size 432x288 with 1 Axes>"
      ]
     },
     "metadata": {
      "needs_background": "light"
     },
     "output_type": "display_data"
    }
   ],
   "source": [
    "plt.hist(vals_)"
   ]
  },
  {
   "cell_type": "markdown",
   "metadata": {},
   "source": [
    "# get age"
   ]
  },
  {
   "cell_type": "code",
   "execution_count": 91,
   "metadata": {},
   "outputs": [
    {
     "data": {
      "text/plain": [
       "['GmFzhmi5 ',\n",
       " ' 14 ',\n",
       " '{\"repgridselection\":[\"element-0\"',\n",
       " 'element-1',\n",
       " 'element-11',\n",
       " 'element-4',\n",
       " 'element-12',\n",
       " 'element-13]',\n",
       " 'marital_status:\"Married\"',\n",
       " 'gender:\"Female\"',\n",
       " 'age:31',\n",
       " 'number_of_kids:1',\n",
       " 'percieved-stress0:\"almost never\"',\n",
       " 'percieved-stress1:\"sometimes\"',\n",
       " 'percieved-stress2:\"almost never\"',\n",
       " 'percieved-stress3:\"fairly often\"',\n",
       " 'percieved-stress4:\"fairly often\"',\n",
       " 'percieved-stress5:\"almost never\"',\n",
       " 'percieved-stress6:\"fairly often\"',\n",
       " 'percieved-stress7:\"fairly often\"',\n",
       " 'percieved-stress8:\"almost never\"',\n",
       " 'percieved-stress9:\"almost never\"',\n",
       " 'stressful-situations-Punctual:\"stressful\"',\n",
       " 'stressful-situations-Organised:\"stressful\"',\n",
       " 'stressful-situations-Hardworking:\"very stressful\"',\n",
       " 'stressful-situations-TeamPlayer:\"very stressful\"',\n",
       " 'stressful-situations-Serious:\"stressful\"',\n",
       " 'stressful-situations-Playful:\"very stressful\"',\n",
       " 'stressful-situations-Thoughtful:\"stressful\"',\n",
       " 'stressful-situations-Spontaneous:\"stressful\"',\n",
       " 'stressful-situations-Helpful:\"very stressful\"',\n",
       " 'stressful-situations-Influential:\"stressful\"',\n",
       " 'stressful-situations-Fast-Paced:\"stressful\"',\n",
       " 'stressful-situations-Liberal:\"stressful\"',\n",
       " 'stressful-situations-Conservative:\"somewhat stressful\"',\n",
       " 'stressful-situations-Independent:\"somewhat stressful\"',\n",
       " 'stressful-situations-Compromising:\"somewhat stressful\"',\n",
       " 'stressful-situations-Opinionated:\"somewhat stressful\"',\n",
       " 'rating_0-0:\"4\"',\n",
       " 'rating_0-1:\"6\"',\n",
       " 'rating_0-4:\"6\"',\n",
       " 'rating_0-11:\"1\"',\n",
       " 'rating_0-12:\"5\"',\n",
       " 'rating_0-13:\"4\"',\n",
       " 'rating_1-0:\"5\"',\n",
       " 'rating_1-1:\"6\"',\n",
       " 'rating_1-4:\"6\"',\n",
       " 'rating_1-11:\"2\"',\n",
       " 'rating_1-12:\"6\"',\n",
       " 'rating_1-13:\"5\"',\n",
       " 'rating_2-0:\"4\"',\n",
       " 'rating_2-1:\"6\"',\n",
       " 'rating_2-4:\"6\"',\n",
       " 'rating_2-11:\"2\"',\n",
       " 'rating_2-12:\"5\"',\n",
       " 'rating_2-13:\"4\"',\n",
       " 'rating_3-0:\"5\"',\n",
       " 'rating_3-1:\"6\"',\n",
       " 'rating_3-4:\"6\"',\n",
       " 'rating_3-11:\"2\"',\n",
       " 'rating_3-12:\"6\"',\n",
       " 'rating_3-13:\"5\"',\n",
       " 'rating_4-0:\"6\"',\n",
       " 'rating_4-1:\"7\"',\n",
       " 'rating_4-4:\"6\"',\n",
       " 'rating_4-11:\"2\"',\n",
       " 'rating_4-12:\"6\"',\n",
       " 'rating_4-13:\"5\"',\n",
       " 'rating_5-0:\"5\"',\n",
       " 'rating_5-1:\"6\"',\n",
       " 'rating_5-4:\"6\"',\n",
       " 'rating_5-11:\"2\"',\n",
       " 'rating_5-12:\"6\"',\n",
       " 'rating_5-13:\"4\"',\n",
       " 'rating_6-0:\"5\"',\n",
       " 'rating_6-1:\"5\"',\n",
       " 'rating_6-4:\"6\"',\n",
       " 'rating_6-11:\"5\"',\n",
       " 'rating_6-12:\"6\"',\n",
       " 'rating_6-13:\"6\"',\n",
       " 'rating_7-0:\"5\"',\n",
       " 'rating_7-1:\"6\"',\n",
       " 'rating_7-4:\"6\"',\n",
       " 'rating_7-11:\"4\"',\n",
       " 'rating_7-12:\"6\"',\n",
       " 'rating_7-13:\"5\"',\n",
       " 'rating_8-0:\"5\"',\n",
       " 'rating_8-1:\"7\"',\n",
       " 'rating_8-4:\"6\"',\n",
       " 'rating_8-11:\"5\"',\n",
       " 'rating_8-12:\"6\"',\n",
       " 'rating_8-13:\"6\"',\n",
       " 'rating_9-0:\"5\"',\n",
       " 'rating_9-1:\"7\"',\n",
       " 'rating_9-4:\"6\"',\n",
       " 'rating_9-11:\"3\"',\n",
       " 'rating_9-12:\"5\"',\n",
       " 'rating_9-13:\"5\"',\n",
       " 'repgrids_results1_question_1:\"Agree\"',\n",
       " 'repgrids_results1_question_2:\"Agree\"',\n",
       " 'repgrids_results2_question_1:\"Agree\"',\n",
       " 'repgrids_results2_question_2:\"Agree\"',\n",
       " 'repgrids_results2_question_3:\"No\"',\n",
       " 'repgrids_results3_question_1:\"Agree\"',\n",
       " 'repgrids_results3_question_2:\"Agree\"',\n",
       " 'repgrids_results3_question_3:\"Yes\"',\n",
       " 'repgrids_results4_question_1:\"Agree\"',\n",
       " 'repgrids_results4_question_2:\"Agree\"',\n",
       " 'repgrids_results4_question_3:\"Yes\"',\n",
       " 'end_repodrid_result_question_1:\"4\"',\n",
       " 'end_repodrid_result_question_2:\"Same\"',\n",
       " 'end_repodrid_result_question_3:\"I felt the wording of the questions very poor and tricky to understand. \\\\nNow I’ve finished I understand what was being asked but the grammar in the questions bothered me\"',\n",
       " 'identityall-0:\"identityall-negative_0\"',\n",
       " 'identityall-1:\"identityall-negative_1\"',\n",
       " 'identityall-2:\"identityall-positive_2\"',\n",
       " 'identityall-3:\"identityall-positive_3\"',\n",
       " 'identityall-4:\"identityall-positive_4\"',\n",
       " 'identityall-5:\"identityall-negative_5\"',\n",
       " 'identityall-6:\"identityall-negative_6\"',\n",
       " 'identityall-7:\"identityall-negative_7\"',\n",
       " 'identityall-8:\"identityall-negative_8\"',\n",
       " 'identityall-9:\"identityall-negative_9\"',\n",
       " 'identityall-10:\"identityall-negative_10\"',\n",
       " 'Identitiesmax5:[\"Identitiesmax5-negative_0\"',\n",
       " 'Identitiesmax5-negative_1',\n",
       " 'Identitiesmax5-positive_3',\n",
       " 'Identitiesmax5-negative_5',\n",
       " 'Identitiesmax5-negative_6]',\n",
       " 'Identitiesmax3:[{\"id\":\"Identitiesmax3-negative_1\"',\n",
       " 'text:\"Organised\"',\n",
       " 'enableIf:\"{Identitiesmax5} contains \\'Identitiesmax5-negative_1\\'\"',\n",
       " 'visibleIf:\"{Identitiesmax5} contains \\'Identitiesmax5-negative_1\\' or {Identitiesmax5} contains \\'Identitiesmax5-positive_1\\'\"}',\n",
       " '{\"id\":\"Identitiesmax3-positive_3\"',\n",
       " 'text:\"Playful\"',\n",
       " 'enableIf:\"{Identitiesmax5} contains \\'Identitiesmax5-positive_3\\'\"',\n",
       " 'visibleIf:\"{Identitiesmax5} contains \\'Identitiesmax5-negative_3\\' or {Identitiesmax5} contains \\'Identitiesmax5-positive_3\\'\"}',\n",
       " '{\"id\":\"Identitiesmax3-negative_6\"',\n",
       " 'text:\"Influential\"',\n",
       " 'enableIf:\"{Identitiesmax5} contains \\'Identitiesmax5-negative_6\\'\"',\n",
       " 'visibleIf:\"{Identitiesmax5} contains \\'Identitiesmax5-negative_6\\' or {Identitiesmax5} contains \\'Identitiesmax5-positive_6\\'\"}]',\n",
       " 'identity_result_page_question_1:\"Agree\"',\n",
       " 'identity_result_page_question_2:\"Agree\"',\n",
       " 'identity_result_page_question_3:\"6\"',\n",
       " 'identity_result_page_question_4:\"Better\"',\n",
       " 'identity_result_page_question_5:\"This was a simple questionnaire and clear and concise how to complete it \"}']"
      ]
     },
     "execution_count": 91,
     "metadata": {},
     "output_type": "execute_result"
    }
   ],
   "source": [
    "csvRows_study[0]"
   ]
  },
  {
   "cell_type": "code",
   "execution_count": 92,
   "metadata": {},
   "outputs": [],
   "source": [
    "def get_age(csvRows):\n",
    "    gender = []\n",
    "    for ind in csvRows:\n",
    "        for i, vals in enumerate(ind):\n",
    "            if \"age:\" in vals:\n",
    "                gender.append(int(vals.split(\":\")[1]))\n",
    "    return gender\n",
    "age = get_age(csvRows_study)"
   ]
  },
  {
   "cell_type": "markdown",
   "metadata": {},
   "source": [
    "# get gender"
   ]
  },
  {
   "cell_type": "code",
   "execution_count": 458,
   "metadata": {},
   "outputs": [
    {
     "data": {
      "text/plain": [
       "'gender:\"Female\"'"
      ]
     },
     "execution_count": 458,
     "metadata": {},
     "output_type": "execute_result"
    }
   ],
   "source": [
    "csvRows_study[0][9]"
   ]
  },
  {
   "cell_type": "code",
   "execution_count": 182,
   "metadata": {},
   "outputs": [],
   "source": [
    "def get_gender(csvRows):\n",
    "    gender = []\n",
    "    for ind in csvRows:\n",
    "        for i, vals in enumerate(ind):\n",
    "            if \"gender\" in vals:\n",
    "                if \"Male\" in vals:\n",
    "                    gender.append('Male')\n",
    "                if \"Female\" in vals:\n",
    "                    gender.append('Female')\n",
    "                if \"Other\" in vals:\n",
    "                    gender.append('Other')\n",
    "    return gender\n",
    "gender = get_gender(csvRows_sara_study)"
   ]
  },
  {
   "cell_type": "code",
   "execution_count": 187,
   "metadata": {},
   "outputs": [
    {
     "data": {
      "text/plain": [
       "['Male',\n",
       " 'Female',\n",
       " 'Male',\n",
       " 'Male',\n",
       " 'Female',\n",
       " 'Female',\n",
       " 'Female',\n",
       " 'Male',\n",
       " 'Female',\n",
       " 'Male',\n",
       " 'Female',\n",
       " 'Female',\n",
       " 'Female',\n",
       " 'Female',\n",
       " 'Male',\n",
       " 'Male']"
      ]
     },
     "execution_count": 187,
     "metadata": {},
     "output_type": "execute_result"
    }
   ],
   "source": [
    "gender"
   ]
  },
  {
   "cell_type": "code",
   "execution_count": 469,
   "metadata": {},
   "outputs": [
    {
     "data": {
      "text/plain": [
       "(array([82.,  0.,  0.,  0.,  0.,  0.,  0.,  0.,  0., 52.]),\n",
       " array([0. , 0.1, 0.2, 0.3, 0.4, 0.5, 0.6, 0.7, 0.8, 0.9, 1. ]),\n",
       " <a list of 10 Patch objects>)"
      ]
     },
     "execution_count": 469,
     "metadata": {},
     "output_type": "execute_result"
    },
    {
     "data": {
      "image/png": "[encoded data removed]",
      "text/plain": [
       "<Figure size 432x288 with 1 Axes>"
      ]
     },
     "metadata": {
      "needs_background": "light"
     },
     "output_type": "display_data"
    }
   ],
   "source": [
    "plt.hist(gender)"
   ]
  },
  {
   "cell_type": "markdown",
   "metadata": {},
   "source": [
    "# get marital status"
   ]
  },
  {
   "cell_type": "code",
   "execution_count": 125,
   "metadata": {},
   "outputs": [
    {
     "data": {
      "text/plain": [
       "['GmFzhmi5 ',\n",
       " ' 14 ',\n",
       " '{\"repgridselection\":[\"element-0\"',\n",
       " 'element-1',\n",
       " 'element-11',\n",
       " 'element-4',\n",
       " 'element-12',\n",
       " 'element-13]',\n",
       " 'marital_status:\"Married\"',\n",
       " 'gender:\"Female\"',\n",
       " 'age:31',\n",
       " 'number_of_kids:1',\n",
       " 'percieved-stress0:\"almost never\"',\n",
       " 'percieved-stress1:\"sometimes\"',\n",
       " 'percieved-stress2:\"almost never\"',\n",
       " 'percieved-stress3:\"fairly often\"',\n",
       " 'percieved-stress4:\"fairly often\"',\n",
       " 'percieved-stress5:\"almost never\"',\n",
       " 'percieved-stress6:\"fairly often\"',\n",
       " 'percieved-stress7:\"fairly often\"',\n",
       " 'percieved-stress8:\"almost never\"',\n",
       " 'percieved-stress9:\"almost never\"',\n",
       " 'stressful-situations-Punctual:\"stressful\"',\n",
       " 'stressful-situations-Organised:\"stressful\"',\n",
       " 'stressful-situations-Hardworking:\"very stressful\"',\n",
       " 'stressful-situations-TeamPlayer:\"very stressful\"',\n",
       " 'stressful-situations-Serious:\"stressful\"',\n",
       " 'stressful-situations-Playful:\"very stressful\"',\n",
       " 'stressful-situations-Thoughtful:\"stressful\"',\n",
       " 'stressful-situations-Spontaneous:\"stressful\"',\n",
       " 'stressful-situations-Helpful:\"very stressful\"',\n",
       " 'stressful-situations-Influential:\"stressful\"',\n",
       " 'stressful-situations-Fast-Paced:\"stressful\"',\n",
       " 'stressful-situations-Liberal:\"stressful\"',\n",
       " 'stressful-situations-Conservative:\"somewhat stressful\"',\n",
       " 'stressful-situations-Independent:\"somewhat stressful\"',\n",
       " 'stressful-situations-Compromising:\"somewhat stressful\"',\n",
       " 'stressful-situations-Opinionated:\"somewhat stressful\"',\n",
       " 'rating_0-0:\"4\"',\n",
       " 'rating_0-1:\"6\"',\n",
       " 'rating_0-4:\"6\"',\n",
       " 'rating_0-11:\"1\"',\n",
       " 'rating_0-12:\"5\"',\n",
       " 'rating_0-13:\"4\"',\n",
       " 'rating_1-0:\"5\"',\n",
       " 'rating_1-1:\"6\"',\n",
       " 'rating_1-4:\"6\"',\n",
       " 'rating_1-11:\"2\"',\n",
       " 'rating_1-12:\"6\"',\n",
       " 'rating_1-13:\"5\"',\n",
       " 'rating_2-0:\"4\"',\n",
       " 'rating_2-1:\"6\"',\n",
       " 'rating_2-4:\"6\"',\n",
       " 'rating_2-11:\"2\"',\n",
       " 'rating_2-12:\"5\"',\n",
       " 'rating_2-13:\"4\"',\n",
       " 'rating_3-0:\"5\"',\n",
       " 'rating_3-1:\"6\"',\n",
       " 'rating_3-4:\"6\"',\n",
       " 'rating_3-11:\"2\"',\n",
       " 'rating_3-12:\"6\"',\n",
       " 'rating_3-13:\"5\"',\n",
       " 'rating_4-0:\"6\"',\n",
       " 'rating_4-1:\"7\"',\n",
       " 'rating_4-4:\"6\"',\n",
       " 'rating_4-11:\"2\"',\n",
       " 'rating_4-12:\"6\"',\n",
       " 'rating_4-13:\"5\"',\n",
       " 'rating_5-0:\"5\"',\n",
       " 'rating_5-1:\"6\"',\n",
       " 'rating_5-4:\"6\"',\n",
       " 'rating_5-11:\"2\"',\n",
       " 'rating_5-12:\"6\"',\n",
       " 'rating_5-13:\"4\"',\n",
       " 'rating_6-0:\"5\"',\n",
       " 'rating_6-1:\"5\"',\n",
       " 'rating_6-4:\"6\"',\n",
       " 'rating_6-11:\"5\"',\n",
       " 'rating_6-12:\"6\"',\n",
       " 'rating_6-13:\"6\"',\n",
       " 'rating_7-0:\"5\"',\n",
       " 'rating_7-1:\"6\"',\n",
       " 'rating_7-4:\"6\"',\n",
       " 'rating_7-11:\"4\"',\n",
       " 'rating_7-12:\"6\"',\n",
       " 'rating_7-13:\"5\"',\n",
       " 'rating_8-0:\"5\"',\n",
       " 'rating_8-1:\"7\"',\n",
       " 'rating_8-4:\"6\"',\n",
       " 'rating_8-11:\"5\"',\n",
       " 'rating_8-12:\"6\"',\n",
       " 'rating_8-13:\"6\"',\n",
       " 'rating_9-0:\"5\"',\n",
       " 'rating_9-1:\"7\"',\n",
       " 'rating_9-4:\"6\"',\n",
       " 'rating_9-11:\"3\"',\n",
       " 'rating_9-12:\"5\"',\n",
       " 'rating_9-13:\"5\"',\n",
       " 'repgrids_results1_question_1:\"Agree\"',\n",
       " 'repgrids_results1_question_2:\"Agree\"',\n",
       " 'repgrids_results2_question_1:\"Agree\"',\n",
       " 'repgrids_results2_question_2:\"Agree\"',\n",
       " 'repgrids_results2_question_3:\"No\"',\n",
       " 'repgrids_results3_question_1:\"Agree\"',\n",
       " 'repgrids_results3_question_2:\"Agree\"',\n",
       " 'repgrids_results3_question_3:\"Yes\"',\n",
       " 'repgrids_results4_question_1:\"Agree\"',\n",
       " 'repgrids_results4_question_2:\"Agree\"',\n",
       " 'repgrids_results4_question_3:\"Yes\"',\n",
       " 'end_repodrid_result_question_1:\"4\"',\n",
       " 'end_repodrid_result_question_2:\"Same\"',\n",
       " 'end_repodrid_result_question_3:\"I felt the wording of the questions very poor and tricky to understand. \\\\nNow I’ve finished I understand what was being asked but the grammar in the questions bothered me\"',\n",
       " 'identityall-0:\"identityall-negative_0\"',\n",
       " 'identityall-1:\"identityall-negative_1\"',\n",
       " 'identityall-2:\"identityall-positive_2\"',\n",
       " 'identityall-3:\"identityall-positive_3\"',\n",
       " 'identityall-4:\"identityall-positive_4\"',\n",
       " 'identityall-5:\"identityall-negative_5\"',\n",
       " 'identityall-6:\"identityall-negative_6\"',\n",
       " 'identityall-7:\"identityall-negative_7\"',\n",
       " 'identityall-8:\"identityall-negative_8\"',\n",
       " 'identityall-9:\"identityall-negative_9\"',\n",
       " 'identityall-10:\"identityall-negative_10\"',\n",
       " 'Identitiesmax5:[\"Identitiesmax5-negative_0\"',\n",
       " 'Identitiesmax5-negative_1',\n",
       " 'Identitiesmax5-positive_3',\n",
       " 'Identitiesmax5-negative_5',\n",
       " 'Identitiesmax5-negative_6]',\n",
       " 'Identitiesmax3:[{\"id\":\"Identitiesmax3-negative_1\"',\n",
       " 'text:\"Organised\"',\n",
       " 'enableIf:\"{Identitiesmax5} contains \\'Identitiesmax5-negative_1\\'\"',\n",
       " 'visibleIf:\"{Identitiesmax5} contains \\'Identitiesmax5-negative_1\\' or {Identitiesmax5} contains \\'Identitiesmax5-positive_1\\'\"}',\n",
       " '{\"id\":\"Identitiesmax3-positive_3\"',\n",
       " 'text:\"Playful\"',\n",
       " 'enableIf:\"{Identitiesmax5} contains \\'Identitiesmax5-positive_3\\'\"',\n",
       " 'visibleIf:\"{Identitiesmax5} contains \\'Identitiesmax5-negative_3\\' or {Identitiesmax5} contains \\'Identitiesmax5-positive_3\\'\"}',\n",
       " '{\"id\":\"Identitiesmax3-negative_6\"',\n",
       " 'text:\"Influential\"',\n",
       " 'enableIf:\"{Identitiesmax5} contains \\'Identitiesmax5-negative_6\\'\"',\n",
       " 'visibleIf:\"{Identitiesmax5} contains \\'Identitiesmax5-negative_6\\' or {Identitiesmax5} contains \\'Identitiesmax5-positive_6\\'\"}]',\n",
       " 'identity_result_page_question_1:\"Agree\"',\n",
       " 'identity_result_page_question_2:\"Agree\"',\n",
       " 'identity_result_page_question_3:\"6\"',\n",
       " 'identity_result_page_question_4:\"Better\"',\n",
       " 'identity_result_page_question_5:\"This was a simple questionnaire and clear and concise how to complete it \"}']"
      ]
     },
     "execution_count": 125,
     "metadata": {},
     "output_type": "execute_result"
    }
   ],
   "source": [
    "csvRows_study[0]"
   ]
  },
  {
   "cell_type": "code",
   "execution_count": 95,
   "metadata": {},
   "outputs": [],
   "source": [
    "def get_marital_status(csvRows):\n",
    "    gender = []\n",
    "    for ind in csvRows:\n",
    "        for i, vals in enumerate(ind):\n",
    "            if \"marital_status\" in vals:\n",
    "                if \"Single\" in vals:\n",
    "                    gender.append('Single')\n",
    "                if \"Married\" in vals:\n",
    "                    gender.append('Married')\n",
    "                if \"Divorced\" in vals:\n",
    "                    gender.append('Divorced')\n",
    "                if \"Widowed\" in vals:\n",
    "                    gender.append('Widowed')\n",
    "    return gender\n",
    "mar = get_marital_status(csvRows_study)"
   ]
  },
  {
   "cell_type": "code",
   "execution_count": 475,
   "metadata": {},
   "outputs": [
    {
     "data": {
      "text/plain": [
       "(array([50.,  0.,  0., 79.,  0.,  0.,  4.,  0.,  0.,  1.]),\n",
       " array([0. , 0.3, 0.6, 0.9, 1.2, 1.5, 1.8, 2.1, 2.4, 2.7, 3. ]),\n",
       " <a list of 10 Patch objects>)"
      ]
     },
     "execution_count": 475,
     "metadata": {},
     "output_type": "execute_result"
    },
    {
     "data": {
      "image/png": "[encoded data removed]",
      "text/plain": [
       "<Figure size 432x288 with 1 Axes>"
      ]
     },
     "metadata": {
      "needs_background": "light"
     },
     "output_type": "display_data"
    }
   ],
   "source": [
    "plt.hist(mar)"
   ]
  },
  {
   "cell_type": "markdown",
   "metadata": {},
   "source": [
    "# get number of kids"
   ]
  },
  {
   "cell_type": "code",
   "execution_count": 98,
   "metadata": {},
   "outputs": [],
   "source": [
    "def get_num_kids(csvRows):\n",
    "    gender = []\n",
    "    for ind in csvRows:\n",
    "        for i, vals in enumerate(ind):\n",
    "            if \"number_of_kids\" in vals:\n",
    "                gender.append(int(vals.split(\":\")[1]))\n",
    "    return gender\n",
    "num_kids = get_num_kids(csvRows_study)"
   ]
  },
  {
   "cell_type": "code",
   "execution_count": 482,
   "metadata": {},
   "outputs": [
    {
     "data": {
      "text/plain": [
       "(array([72.,  0., 28.,  0.,  0., 27.,  0.,  6.,  0.,  1.]),\n",
       " array([0. , 0.4, 0.8, 1.2, 1.6, 2. , 2.4, 2.8, 3.2, 3.6, 4. ]),\n",
       " <a list of 10 Patch objects>)"
      ]
     },
     "execution_count": 482,
     "metadata": {},
     "output_type": "execute_result"
    },
    {
     "data": {
      "image/png": "[encoded data removed]",
      "text/plain": [
       "<Figure size 432x288 with 1 Axes>"
      ]
     },
     "metadata": {
      "needs_background": "light"
     },
     "output_type": "display_data"
    }
   ],
   "source": [
    "plt.hist(num_kids)"
   ]
  },
  {
   "cell_type": "markdown",
   "metadata": {},
   "source": [
    "# Get most selected elements"
   ]
  },
  {
   "cell_type": "code",
   "execution_count": 192,
   "metadata": {},
   "outputs": [],
   "source": [
    "dict_element = dict()"
   ]
  },
  {
   "cell_type": "code",
   "execution_count": 276,
   "metadata": {},
   "outputs": [],
   "source": [
    "dict_element = dict()\n",
    "dict_element[0]=\"Myself right now\"\n",
    "dict_element[1]=\"Myself as I would like to be\"\n",
    "dict_element[2]=\"Myself in a normal work day\"\n",
    "dict_element[3]=\"Myself before an important deadline\"\n",
    "dict_element[4]=\"Myself with my boss\"\n",
    "dict_element[5]=\"Myself with a coworker I dislike\"\n",
    "dict_element[6]=\"Myself with a coworker I like\"\n",
    "dict_element[7]=\"Myself in a tense meeting\"\n",
    "dict_element[8]=\"Myself after a bad day\"\n",
    "dict_element[9]=\"Myself after a good day\"\n",
    "dict_element[10]=\"Myself doing a presentation\"\n",
    "dict_element[11]=\"Myself with lack of money\"\n",
    "dict_element[12]=\"Myself with my family\"\n",
    "dict_element[13]=\"Myself with my friends\""
   ]
  },
  {
   "cell_type": "code",
   "execution_count": 201,
   "metadata": {},
   "outputs": [
    {
     "data": {
      "text/plain": [
       "['GmFzhmi5 ',\n",
       " ' 14 ',\n",
       " '{\"repgridselection\":[\"element-0\"',\n",
       " 'element-1',\n",
       " 'element-11',\n",
       " 'element-4',\n",
       " 'element-12',\n",
       " 'element-13]',\n",
       " 'marital_status:\"Married\"',\n",
       " 'gender:\"Female\"',\n",
       " 'age:31',\n",
       " 'number_of_kids:1',\n",
       " 'percieved-stress0:\"almost never\"',\n",
       " 'percieved-stress1:\"sometimes\"',\n",
       " 'percieved-stress2:\"almost never\"',\n",
       " 'percieved-stress3:\"fairly often\"',\n",
       " 'percieved-stress4:\"fairly often\"',\n",
       " 'percieved-stress5:\"almost never\"',\n",
       " 'percieved-stress6:\"fairly often\"',\n",
       " 'percieved-stress7:\"fairly often\"',\n",
       " 'percieved-stress8:\"almost never\"',\n",
       " 'percieved-stress9:\"almost never\"',\n",
       " 'stressful-situations-Punctual:\"stressful\"',\n",
       " 'stressful-situations-Organised:\"stressful\"',\n",
       " 'stressful-situations-Hardworking:\"very stressful\"',\n",
       " 'stressful-situations-TeamPlayer:\"very stressful\"',\n",
       " 'stressful-situations-Serious:\"stressful\"',\n",
       " 'stressful-situations-Playful:\"very stressful\"',\n",
       " 'stressful-situations-Thoughtful:\"stressful\"',\n",
       " 'stressful-situations-Spontaneous:\"stressful\"',\n",
       " 'stressful-situations-Helpful:\"very stressful\"',\n",
       " 'stressful-situations-Influential:\"stressful\"',\n",
       " 'stressful-situations-Fast-Paced:\"stressful\"',\n",
       " 'stressful-situations-Liberal:\"stressful\"',\n",
       " 'stressful-situations-Conservative:\"somewhat stressful\"',\n",
       " 'stressful-situations-Independent:\"somewhat stressful\"',\n",
       " 'stressful-situations-Compromising:\"somewhat stressful\"',\n",
       " 'stressful-situations-Opinionated:\"somewhat stressful\"',\n",
       " 'rating_0-0:\"4\"',\n",
       " 'rating_0-1:\"6\"',\n",
       " 'rating_0-4:\"6\"',\n",
       " 'rating_0-11:\"1\"',\n",
       " 'rating_0-12:\"5\"',\n",
       " 'rating_0-13:\"4\"',\n",
       " 'rating_1-0:\"5\"',\n",
       " 'rating_1-1:\"6\"',\n",
       " 'rating_1-4:\"6\"',\n",
       " 'rating_1-11:\"2\"',\n",
       " 'rating_1-12:\"6\"',\n",
       " 'rating_1-13:\"5\"',\n",
       " 'rating_2-0:\"4\"',\n",
       " 'rating_2-1:\"6\"',\n",
       " 'rating_2-4:\"6\"',\n",
       " 'rating_2-11:\"2\"',\n",
       " 'rating_2-12:\"5\"',\n",
       " 'rating_2-13:\"4\"',\n",
       " 'rating_3-0:\"5\"',\n",
       " 'rating_3-1:\"6\"',\n",
       " 'rating_3-4:\"6\"',\n",
       " 'rating_3-11:\"2\"',\n",
       " 'rating_3-12:\"6\"',\n",
       " 'rating_3-13:\"5\"',\n",
       " 'rating_4-0:\"6\"',\n",
       " 'rating_4-1:\"7\"',\n",
       " 'rating_4-4:\"6\"',\n",
       " 'rating_4-11:\"2\"',\n",
       " 'rating_4-12:\"6\"',\n",
       " 'rating_4-13:\"5\"',\n",
       " 'rating_5-0:\"5\"',\n",
       " 'rating_5-1:\"6\"',\n",
       " 'rating_5-4:\"6\"',\n",
       " 'rating_5-11:\"2\"',\n",
       " 'rating_5-12:\"6\"',\n",
       " 'rating_5-13:\"4\"',\n",
       " 'rating_6-0:\"5\"',\n",
       " 'rating_6-1:\"5\"',\n",
       " 'rating_6-4:\"6\"',\n",
       " 'rating_6-11:\"5\"',\n",
       " 'rating_6-12:\"6\"',\n",
       " 'rating_6-13:\"6\"',\n",
       " 'rating_7-0:\"5\"',\n",
       " 'rating_7-1:\"6\"',\n",
       " 'rating_7-4:\"6\"',\n",
       " 'rating_7-11:\"4\"',\n",
       " 'rating_7-12:\"6\"',\n",
       " 'rating_7-13:\"5\"',\n",
       " 'rating_8-0:\"5\"',\n",
       " 'rating_8-1:\"7\"',\n",
       " 'rating_8-4:\"6\"',\n",
       " 'rating_8-11:\"5\"',\n",
       " 'rating_8-12:\"6\"',\n",
       " 'rating_8-13:\"6\"',\n",
       " 'rating_9-0:\"5\"',\n",
       " 'rating_9-1:\"7\"',\n",
       " 'rating_9-4:\"6\"',\n",
       " 'rating_9-11:\"3\"',\n",
       " 'rating_9-12:\"5\"',\n",
       " 'rating_9-13:\"5\"',\n",
       " 'repgrids_results1_question_1:\"Agree\"',\n",
       " 'repgrids_results1_question_2:\"Agree\"',\n",
       " 'repgrids_results2_question_1:\"Agree\"',\n",
       " 'repgrids_results2_question_2:\"Agree\"',\n",
       " 'repgrids_results2_question_3:\"No\"',\n",
       " 'repgrids_results3_question_1:\"Agree\"',\n",
       " 'repgrids_results3_question_2:\"Agree\"',\n",
       " 'repgrids_results3_question_3:\"Yes\"',\n",
       " 'repgrids_results4_question_1:\"Agree\"',\n",
       " 'repgrids_results4_question_2:\"Agree\"',\n",
       " 'repgrids_results4_question_3:\"Yes\"',\n",
       " 'end_repodrid_result_question_1:\"4\"',\n",
       " 'end_repodrid_result_question_2:\"Same\"',\n",
       " 'end_repodrid_result_question_3:\"I felt the wording of the questions very poor and tricky to understand. \\\\nNow I’ve finished I understand what was being asked but the grammar in the questions bothered me\"',\n",
       " 'identityall-0:\"identityall-negative_0\"',\n",
       " 'identityall-1:\"identityall-negative_1\"',\n",
       " 'identityall-2:\"identityall-positive_2\"',\n",
       " 'identityall-3:\"identityall-positive_3\"',\n",
       " 'identityall-4:\"identityall-positive_4\"',\n",
       " 'identityall-5:\"identityall-negative_5\"',\n",
       " 'identityall-6:\"identityall-negative_6\"',\n",
       " 'identityall-7:\"identityall-negative_7\"',\n",
       " 'identityall-8:\"identityall-negative_8\"',\n",
       " 'identityall-9:\"identityall-negative_9\"',\n",
       " 'identityall-10:\"identityall-negative_10\"',\n",
       " 'Identitiesmax5:[\"Identitiesmax5-negative_0\"',\n",
       " 'Identitiesmax5-negative_1',\n",
       " 'Identitiesmax5-positive_3',\n",
       " 'Identitiesmax5-negative_5',\n",
       " 'Identitiesmax5-negative_6]',\n",
       " 'Identitiesmax3:[{\"id\":\"Identitiesmax3-negative_1\"',\n",
       " 'text:\"Organised\"',\n",
       " 'enableIf:\"{Identitiesmax5} contains \\'Identitiesmax5-negative_1\\'\"',\n",
       " 'visibleIf:\"{Identitiesmax5} contains \\'Identitiesmax5-negative_1\\' or {Identitiesmax5} contains \\'Identitiesmax5-positive_1\\'\"}',\n",
       " '{\"id\":\"Identitiesmax3-positive_3\"',\n",
       " 'text:\"Playful\"',\n",
       " 'enableIf:\"{Identitiesmax5} contains \\'Identitiesmax5-positive_3\\'\"',\n",
       " 'visibleIf:\"{Identitiesmax5} contains \\'Identitiesmax5-negative_3\\' or {Identitiesmax5} contains \\'Identitiesmax5-positive_3\\'\"}',\n",
       " '{\"id\":\"Identitiesmax3-negative_6\"',\n",
       " 'text:\"Influential\"',\n",
       " 'enableIf:\"{Identitiesmax5} contains \\'Identitiesmax5-negative_6\\'\"',\n",
       " 'visibleIf:\"{Identitiesmax5} contains \\'Identitiesmax5-negative_6\\' or {Identitiesmax5} contains \\'Identitiesmax5-positive_6\\'\"}]',\n",
       " 'identity_result_page_question_1:\"Agree\"',\n",
       " 'identity_result_page_question_2:\"Agree\"',\n",
       " 'identity_result_page_question_3:\"6\"',\n",
       " 'identity_result_page_question_4:\"Better\"',\n",
       " 'identity_result_page_question_5:\"This was a simple questionnaire and clear and concise how to complete it \"}']"
      ]
     },
     "execution_count": 201,
     "metadata": {},
     "output_type": "execute_result"
    }
   ],
   "source": [
    "csvRows_study[0]"
   ]
  },
  {
   "cell_type": "code",
   "execution_count": 282,
   "metadata": {},
   "outputs": [],
   "source": [
    "res_elements = []\n",
    "\n",
    "for ind in csvRows_study:\n",
    "    for i, vals in enumerate(ind):\n",
    "        if \"repgridselection\" in vals:\n",
    "            start = i\n",
    "        if \"marital_status\" in vals:\n",
    "            res_elements.append(ind[start:i])"
   ]
  },
  {
   "cell_type": "code",
   "execution_count": 283,
   "metadata": {},
   "outputs": [
    {
     "data": {
      "text/plain": [
       "['{\"repgridselection\":[\"element-0\"',\n",
       " 'element-1',\n",
       " 'element-13',\n",
       " 'element-12',\n",
       " 'element-2',\n",
       " 'element-9]']"
      ]
     },
     "execution_count": 283,
     "metadata": {},
     "output_type": "execute_result"
    }
   ],
   "source": [
    "res_elements[1]"
   ]
  },
  {
   "cell_type": "code",
   "execution_count": 284,
   "metadata": {},
   "outputs": [],
   "source": [
    "int_res_elements = []\n",
    "for vals in res_elements:\n",
    "    j = 0\n",
    "    for v in vals:\n",
    "        try:\n",
    "            ind_ = v.find('-')\n",
    "            ind_+=1\n",
    "            int_res_elements.append(int(v[ind_:ind_+2]))\n",
    "        except:\n",
    "            try:\n",
    "                int_res_elements.append(int(v[ind_:ind_+1]))\n",
    "            except:\n",
    "                break"
   ]
  },
  {
   "cell_type": "code",
   "execution_count": 308,
   "metadata": {},
   "outputs": [],
   "source": [
    "selected_elements = []\n",
    "for i in int_res_elements:\n",
    "    #if i >1:\n",
    "    selected_elements.append(dict_element[i])"
   ]
  },
  {
   "cell_type": "code",
   "execution_count": 293,
   "metadata": {},
   "outputs": [
    {
     "data": {
      "text/plain": [
       "(array([93., 96., 77., 48., 56., 53., 40., 24., 23., 35.]),\n",
       " array([ 0. ,  1.1,  2.2,  3.3,  4.4,  5.5,  6.6,  7.7,  8.8,  9.9, 11. ]),\n",
       " <a list of 10 Patch objects>)"
      ]
     },
     "execution_count": 293,
     "metadata": {},
     "output_type": "execute_result"
    },
    {
     "data": {
      "image/png": "[encoded data removed]",
      "text/plain": [
       "<Figure size 432x288 with 1 Axes>"
      ]
     },
     "metadata": {
      "needs_background": "light"
     },
     "output_type": "display_data"
    }
   ],
   "source": [
    "plt.hist(selected_elements)"
   ]
  },
  {
   "cell_type": "markdown",
   "metadata": {},
   "source": [
    "# Pretty histograms"
   ]
  },
  {
   "cell_type": "code",
   "execution_count": 86,
   "metadata": {},
   "outputs": [],
   "source": [
    "df = pd.DataFrame()"
   ]
  },
  {
   "cell_type": "code",
   "execution_count": 87,
   "metadata": {},
   "outputs": [],
   "source": [
    "df['stress_score'] = get_stress_score(csvRows=csvRows_study)"
   ]
  },
  {
   "cell_type": "code",
   "execution_count": 94,
   "metadata": {},
   "outputs": [],
   "source": [
    "df['age'] = get_age(csvRows_study)"
   ]
  },
  {
   "cell_type": "code",
   "execution_count": 96,
   "metadata": {},
   "outputs": [],
   "source": [
    "df['marital_status'] = get_marital_status(csvRows_study)"
   ]
  },
  {
   "cell_type": "code",
   "execution_count": 99,
   "metadata": {},
   "outputs": [],
   "source": [
    "df['num_kids'] = get_num_kids(csvRows_study)"
   ]
  },
  {
   "cell_type": "code",
   "execution_count": 102,
   "metadata": {},
   "outputs": [],
   "source": [
    "df['gender'] = get_gender(csvRows_study)"
   ]
  },
  {
   "cell_type": "code",
   "execution_count": 1,
   "metadata": {},
   "outputs": [],
   "source": [
    "import plotly.express as px\n",
    "df = px.data.tips()"
   ]
  },
  {
   "cell_type": "code",
   "execution_count": 2,
   "metadata": {},
   "outputs": [
    {
     "data": {
      "text/plain": [
       "pandas.core.frame.DataFrame"
      ]
     },
     "execution_count": 2,
     "metadata": {},
     "output_type": "execute_result"
    }
   ],
   "source": [
    "type(df)"
   ]
  },
  {
   "cell_type": "code",
   "execution_count": 104,
   "metadata": {},
   "outputs": [
    {
     "data": {
      "application/vnd.plotly.v1+json": {
       "config": {
        "plotlyServerURL": "https://plot.ly"
       },
       "data": [
        {
         "alignmentgroup": "True",
         "bingroup": "x",
         "hoverlabel": {
          "namelength": 0
         },
         "hovertemplate": "gender=Female<br>age=%{x}<br>count=%{y}",
         "legendgroup": "gender=Female",
         "marker": {
          "color": "#636efa"
         },
         "name": "gender=Female",
         "offsetgroup": "gender=Female",
         "orientation": "v",
         "showlegend": true,
         "type": "histogram",
         "x": [
          31,
          25,
          35,
          36,
          45,
          32,
          28,
          29,
          37,
          39,
          35,
          47,
          48,
          26,
          45,
          36,
          33,
          39,
          28,
          38,
          47,
          41,
          30,
          47,
          45,
          40,
          25,
          45,
          36,
          30,
          38,
          32,
          28,
          47,
          39,
          50,
          37,
          29,
          40,
          46,
          36,
          23,
          35,
          44,
          30,
          34,
          43,
          25,
          37,
          43,
          45,
          32,
          41,
          38,
          37,
          43,
          38,
          49,
          32,
          30,
          32,
          35,
          35,
          27,
          44,
          32,
          36,
          25,
          36,
          39,
          39,
          39,
          39,
          42,
          28,
          30,
          38,
          38,
          33,
          32,
          39,
          42
         ],
         "xaxis": "x",
         "yaxis": "y"
        },
        {
         "alignmentgroup": "True",
         "bingroup": "x",
         "hoverlabel": {
          "namelength": 0
         },
         "hovertemplate": "gender=Male<br>age=%{x}<br>count=%{y}",
         "legendgroup": "gender=Male",
         "marker": {
          "color": "#EF553B"
         },
         "name": "gender=Male",
         "offsetgroup": "gender=Male",
         "orientation": "v",
         "showlegend": true,
         "type": "histogram",
         "x": [
          35,
          30,
          26,
          49,
          40,
          31,
          39,
          39,
          47,
          37,
          40,
          34,
          36,
          24,
          43,
          40,
          37,
          39,
          31,
          31,
          34,
          27,
          38,
          49,
          31,
          30,
          36,
          38,
          42,
          50,
          45,
          33,
          44,
          32,
          38,
          45,
          32,
          42,
          29,
          35,
          45,
          32,
          47,
          31,
          27,
          29,
          41,
          35,
          40,
          27,
          39,
          28
         ],
         "xaxis": "x",
         "yaxis": "y"
        }
       ],
       "layout": {
        "barmode": "relative",
        "height": 600,
        "legend": {
         "tracegroupgap": 0
        },
        "margin": {
         "t": 60
        },
        "template": {
         "data": {
          "bar": [
           {
            "error_x": {
             "color": "#2a3f5f"
            },
            "error_y": {
             "color": "#2a3f5f"
            },
            "marker": {
             "line": {
              "color": "#E5ECF6",
              "width": 0.5
             }
            },
            "type": "bar"
           }
          ],
          "barpolar": [
           {
            "marker": {
             "line": {
              "color": "#E5ECF6",
              "width": 0.5
             }
            },
            "type": "barpolar"
           }
          ],
          "carpet": [
           {
            "aaxis": {
             "endlinecolor": "#2a3f5f",
             "gridcolor": "white",
             "linecolor": "white",
             "minorgridcolor": "white",
             "startlinecolor": "#2a3f5f"
            },
            "baxis": {
             "endlinecolor": "#2a3f5f",
             "gridcolor": "white",
             "linecolor": "white",
             "minorgridcolor": "white",
             "startlinecolor": "#2a3f5f"
            },
            "type": "carpet"
           }
          ],
          "choropleth": [
           {
            "colorbar": {
             "outlinewidth": 0,
             "ticks": ""
            },
            "type": "choropleth"
           }
          ],
          "contour": [
           {
            "colorbar": {
             "outlinewidth": 0,
             "ticks": ""
            },
            "colorscale": [
             [
              0,
              "#0d0887"
             ],
             [
              0.1111111111111111,
              "#46039f"
             ],
             [
              0.2222222222222222,
              "#7201a8"
             ],
             [
              0.3333333333333333,
              "#9c179e"
             ],
             [
              0.4444444444444444,
              "#bd3786"
             ],
             [
              0.5555555555555556,
              "#d8576b"
             ],
             [
              0.6666666666666666,
              "#ed7953"
             ],
             [
              0.7777777777777778,
              "#fb9f3a"
             ],
             [
              0.8888888888888888,
              "#fdca26"
             ],
             [
              1,
              "#f0f921"
             ]
            ],
            "type": "contour"
           }
          ],
          "contourcarpet": [
           {
            "colorbar": {
             "outlinewidth": 0,
             "ticks": ""
            },
            "type": "contourcarpet"
           }
          ],
          "heatmap": [
           {
            "colorbar": {
             "outlinewidth": 0,
             "ticks": ""
            },
            "colorscale": [
             [
              0,
              "#0d0887"
             ],
             [
              0.1111111111111111,
              "#46039f"
             ],
             [
              0.2222222222222222,
              "#7201a8"
             ],
             [
              0.3333333333333333,
              "#9c179e"
             ],
             [
              0.4444444444444444,
              "#bd3786"
             ],
             [
              0.5555555555555556,
              "#d8576b"
             ],
             [
              0.6666666666666666,
              "#ed7953"
             ],
             [
              0.7777777777777778,
              "#fb9f3a"
             ],
             [
              0.8888888888888888,
              "#fdca26"
             ],
             [
              1,
              "#f0f921"
             ]
            ],
            "type": "heatmap"
           }
          ],
          "heatmapgl": [
           {
            "colorbar": {
             "outlinewidth": 0,
             "ticks": ""
            },
            "colorscale": [
             [
              0,
              "#0d0887"
             ],
             [
              0.1111111111111111,
              "#46039f"
             ],
             [
              0.2222222222222222,
              "#7201a8"
             ],
             [
              0.3333333333333333,
              "#9c179e"
             ],
             [
              0.4444444444444444,
              "#bd3786"
             ],
             [
              0.5555555555555556,
              "#d8576b"
             ],
             [
              0.6666666666666666,
              "#ed7953"
             ],
             [
              0.7777777777777778,
              "#fb9f3a"
             ],
             [
              0.8888888888888888,
              "#fdca26"
             ],
             [
              1,
              "#f0f921"
             ]
            ],
            "type": "heatmapgl"
           }
          ],
          "histogram": [
           {
            "marker": {
             "colorbar": {
              "outlinewidth": 0,
              "ticks": ""
             }
            },
            "type": "histogram"
           }
          ],
          "histogram2d": [
           {
            "colorbar": {
             "outlinewidth": 0,
             "ticks": ""
            },
            "colorscale": [
             [
              0,
              "#0d0887"
             ],
             [
              0.1111111111111111,
              "#46039f"
             ],
             [
              0.2222222222222222,
              "#7201a8"
             ],
             [
              0.3333333333333333,
              "#9c179e"
             ],
             [
              0.4444444444444444,
              "#bd3786"
             ],
             [
              0.5555555555555556,
              "#d8576b"
             ],
             [
              0.6666666666666666,
              "#ed7953"
             ],
             [
              0.7777777777777778,
              "#fb9f3a"
             ],
             [
              0.8888888888888888,
              "#fdca26"
             ],
             [
              1,
              "#f0f921"
             ]
            ],
            "type": "histogram2d"
           }
          ],
          "histogram2dcontour": [
           {
            "colorbar": {
             "outlinewidth": 0,
             "ticks": ""
            },
            "colorscale": [
             [
              0,
              "#0d0887"
             ],
             [
              0.1111111111111111,
              "#46039f"
             ],
             [
              0.2222222222222222,
              "#7201a8"
             ],
             [
              0.3333333333333333,
              "#9c179e"
             ],
             [
              0.4444444444444444,
              "#bd3786"
             ],
             [
              0.5555555555555556,
              "#d8576b"
             ],
             [
              0.6666666666666666,
              "#ed7953"
             ],
             [
              0.7777777777777778,
              "#fb9f3a"
             ],
             [
              0.8888888888888888,
              "#fdca26"
             ],
             [
              1,
              "#f0f921"
             ]
            ],
            "type": "histogram2dcontour"
           }
          ],
          "mesh3d": [
           {
            "colorbar": {
             "outlinewidth": 0,
             "ticks": ""
            },
            "type": "mesh3d"
           }
          ],
          "parcoords": [
           {
            "line": {
             "colorbar": {
              "outlinewidth": 0,
              "ticks": ""
             }
            },
            "type": "parcoords"
           }
          ],
          "scatter": [
           {
            "marker": {
             "colorbar": {
              "outlinewidth": 0,
              "ticks": ""
             }
            },
            "type": "scatter"
           }
          ],
          "scatter3d": [
           {
            "line": {
             "colorbar": {
              "outlinewidth": 0,
              "ticks": ""
             }
            },
            "marker": {
             "colorbar": {
              "outlinewidth": 0,
              "ticks": ""
             }
            },
            "type": "scatter3d"
           }
          ],
          "scattercarpet": [
           {
            "marker": {
             "colorbar": {
              "outlinewidth": 0,
              "ticks": ""
             }
            },
            "type": "scattercarpet"
           }
          ],
          "scattergeo": [
           {
            "marker": {
             "colorbar": {
              "outlinewidth": 0,
              "ticks": ""
             }
            },
            "type": "scattergeo"
           }
          ],
          "scattergl": [
           {
            "marker": {
             "colorbar": {
              "outlinewidth": 0,
              "ticks": ""
             }
            },
            "type": "scattergl"
           }
          ],
          "scattermapbox": [
           {
            "marker": {
             "colorbar": {
              "outlinewidth": 0,
              "ticks": ""
             }
            },
            "type": "scattermapbox"
           }
          ],
          "scatterpolar": [
           {
            "marker": {
             "colorbar": {
              "outlinewidth": 0,
              "ticks": ""
             }
            },
            "type": "scatterpolar"
           }
          ],
          "scatterpolargl": [
           {
            "marker": {
             "colorbar": {
              "outlinewidth": 0,
              "ticks": ""
             }
            },
            "type": "scatterpolargl"
           }
          ],
          "scatterternary": [
           {
            "marker": {
             "colorbar": {
              "outlinewidth": 0,
              "ticks": ""
             }
            },
            "type": "scatterternary"
           }
          ],
          "surface": [
           {
            "colorbar": {
             "outlinewidth": 0,
             "ticks": ""
            },
            "colorscale": [
             [
              0,
              "#0d0887"
             ],
             [
              0.1111111111111111,
              "#46039f"
             ],
             [
              0.2222222222222222,
              "#7201a8"
             ],
             [
              0.3333333333333333,
              "#9c179e"
             ],
             [
              0.4444444444444444,
              "#bd3786"
             ],
             [
              0.5555555555555556,
              "#d8576b"
             ],
             [
              0.6666666666666666,
              "#ed7953"
             ],
             [
              0.7777777777777778,
              "#fb9f3a"
             ],
             [
              0.8888888888888888,
              "#fdca26"
             ],
             [
              1,
              "#f0f921"
             ]
            ],
            "type": "surface"
           }
          ],
          "table": [
           {
            "cells": {
             "fill": {
              "color": "#EBF0F8"
             },
             "line": {
              "color": "white"
             }
            },
            "header": {
             "fill": {
              "color": "#C8D4E3"
             },
             "line": {
              "color": "white"
             }
            },
            "type": "table"
           }
          ]
         },
         "layout": {
          "annotationdefaults": {
           "arrowcolor": "#2a3f5f",
           "arrowhead": 0,
           "arrowwidth": 1
          },
          "colorscale": {
           "diverging": [
            [
             0,
             "#8e0152"
            ],
            [
             0.1,
             "#c51b7d"
            ],
            [
             0.2,
             "#de77ae"
            ],
            [
             0.3,
             "#f1b6da"
            ],
            [
             0.4,
             "#fde0ef"
            ],
            [
             0.5,
             "#f7f7f7"
            ],
            [
             0.6,
             "#e6f5d0"
            ],
            [
             0.7,
             "#b8e186"
            ],
            [
             0.8,
             "#7fbc41"
            ],
            [
             0.9,
             "#4d9221"
            ],
            [
             1,
             "#276419"
            ]
           ],
           "sequential": [
            [
             0,
             "#0d0887"
            ],
            [
             0.1111111111111111,
             "#46039f"
            ],
            [
             0.2222222222222222,
             "#7201a8"
            ],
            [
             0.3333333333333333,
             "#9c179e"
            ],
            [
             0.4444444444444444,
             "#bd3786"
            ],
            [
             0.5555555555555556,
             "#d8576b"
            ],
            [
             0.6666666666666666,
             "#ed7953"
            ],
            [
             0.7777777777777778,
             "#fb9f3a"
            ],
            [
             0.8888888888888888,
             "#fdca26"
            ],
            [
             1,
             "#f0f921"
            ]
           ],
           "sequentialminus": [
            [
             0,
             "#0d0887"
            ],
            [
             0.1111111111111111,
             "#46039f"
            ],
            [
             0.2222222222222222,
             "#7201a8"
            ],
            [
             0.3333333333333333,
             "#9c179e"
            ],
            [
             0.4444444444444444,
             "#bd3786"
            ],
            [
             0.5555555555555556,
             "#d8576b"
            ],
            [
             0.6666666666666666,
             "#ed7953"
            ],
            [
             0.7777777777777778,
             "#fb9f3a"
            ],
            [
             0.8888888888888888,
             "#fdca26"
            ],
            [
             1,
             "#f0f921"
            ]
           ]
          },
          "colorway": [
           "#636efa",
           "#EF553B",
           "#00cc96",
           "#ab63fa",
           "#FFA15A",
           "#19d3f3",
           "#FF6692",
           "#B6E880",
           "#FF97FF",
           "#FECB52"
          ],
          "font": {
           "color": "#2a3f5f"
          },
          "geo": {
           "bgcolor": "white",
           "lakecolor": "white",
           "landcolor": "#E5ECF6",
           "showlakes": true,
           "showland": true,
           "subunitcolor": "white"
          },
          "hoverlabel": {
           "align": "left"
          },
          "hovermode": "closest",
          "mapbox": {
           "style": "light"
          },
          "paper_bgcolor": "white",
          "plot_bgcolor": "#E5ECF6",
          "polar": {
           "angularaxis": {
            "gridcolor": "white",
            "linecolor": "white",
            "ticks": ""
           },
           "bgcolor": "#E5ECF6",
           "radialaxis": {
            "gridcolor": "white",
            "linecolor": "white",
            "ticks": ""
           }
          },
          "scene": {
           "xaxis": {
            "backgroundcolor": "#E5ECF6",
            "gridcolor": "white",
            "gridwidth": 2,
            "linecolor": "white",
            "showbackground": true,
            "ticks": "",
            "zerolinecolor": "white"
           },
           "yaxis": {
            "backgroundcolor": "#E5ECF6",
            "gridcolor": "white",
            "gridwidth": 2,
            "linecolor": "white",
            "showbackground": true,
            "ticks": "",
            "zerolinecolor": "white"
           },
           "zaxis": {
            "backgroundcolor": "#E5ECF6",
            "gridcolor": "white",
            "gridwidth": 2,
            "linecolor": "white",
            "showbackground": true,
            "ticks": "",
            "zerolinecolor": "white"
           }
          },
          "shapedefaults": {
           "line": {
            "color": "#2a3f5f"
           }
          },
          "ternary": {
           "aaxis": {
            "gridcolor": "white",
            "linecolor": "white",
            "ticks": ""
           },
           "baxis": {
            "gridcolor": "white",
            "linecolor": "white",
            "ticks": ""
           },
           "bgcolor": "#E5ECF6",
           "caxis": {
            "gridcolor": "white",
            "linecolor": "white",
            "ticks": ""
           }
          },
          "title": {
           "x": 0.05
          },
          "xaxis": {
           "automargin": true,
           "gridcolor": "white",
           "linecolor": "white",
           "ticks": "",
           "zerolinecolor": "white",
           "zerolinewidth": 2
          },
          "yaxis": {
           "automargin": true,
           "gridcolor": "white",
           "linecolor": "white",
           "ticks": "",
           "zerolinecolor": "white",
           "zerolinewidth": 2
          }
         }
        },
        "xaxis": {
         "anchor": "y",
         "domain": [
          0,
          0.98
         ],
         "title": {
          "text": "age"
         }
        },
        "yaxis": {
         "anchor": "x",
         "domain": [
          0,
          1
         ],
         "title": {
          "text": "count"
         }
        }
       }
      },
      "text/html": [
       "<div>\n",
       "        \n",
       "        \n",
       "            <div id=\"c3c54106-b921-4ea2-bb10-e28e8f3bedbf\" class=\"plotly-graph-div\" style=\"height:600px; width:100%;\"></div>\n",
       "            <script type=\"text/javascript\">\n",
       "                require([\"plotly\"], function(Plotly) {\n",
       "                    window.PLOTLYENV=window.PLOTLYENV || {};\n",
       "                    \n",
       "                if (document.getElementById(\"c3c54106-b921-4ea2-bb10-e28e8f3bedbf\")) {\n",
       "                    Plotly.newPlot(\n",
       "                        'c3c54106-b921-4ea2-bb10-e28e8f3bedbf',\n",
       "                        [{\"alignmentgroup\": \"True\", \"bingroup\": \"x\", \"hoverlabel\": {\"namelength\": 0}, \"hovertemplate\": \"gender=Female<br>age=%{x}<br>count=%{y}\", \"legendgroup\": \"gender=Female\", \"marker\": {\"color\": \"#636efa\"}, \"name\": \"gender=Female\", \"offsetgroup\": \"gender=Female\", \"orientation\": \"v\", \"showlegend\": true, \"type\": \"histogram\", \"x\": [31, 25, 35, 36, 45, 32, 28, 29, 37, 39, 35, 47, 48, 26, 45, 36, 33, 39, 28, 38, 47, 41, 30, 47, 45, 40, 25, 45, 36, 30, 38, 32, 28, 47, 39, 50, 37, 29, 40, 46, 36, 23, 35, 44, 30, 34, 43, 25, 37, 43, 45, 32, 41, 38, 37, 43, 38, 49, 32, 30, 32, 35, 35, 27, 44, 32, 36, 25, 36, 39, 39, 39, 39, 42, 28, 30, 38, 38, 33, 32, 39, 42], \"xaxis\": \"x\", \"yaxis\": \"y\"}, {\"alignmentgroup\": \"True\", \"bingroup\": \"x\", \"hoverlabel\": {\"namelength\": 0}, \"hovertemplate\": \"gender=Male<br>age=%{x}<br>count=%{y}\", \"legendgroup\": \"gender=Male\", \"marker\": {\"color\": \"#EF553B\"}, \"name\": \"gender=Male\", \"offsetgroup\": \"gender=Male\", \"orientation\": \"v\", \"showlegend\": true, \"type\": \"histogram\", \"x\": [35, 30, 26, 49, 40, 31, 39, 39, 47, 37, 40, 34, 36, 24, 43, 40, 37, 39, 31, 31, 34, 27, 38, 49, 31, 30, 36, 38, 42, 50, 45, 33, 44, 32, 38, 45, 32, 42, 29, 35, 45, 32, 47, 31, 27, 29, 41, 35, 40, 27, 39, 28], \"xaxis\": \"x\", \"yaxis\": \"y\"}],\n",
       "                        {\"barmode\": \"relative\", \"height\": 600, \"legend\": {\"tracegroupgap\": 0}, \"margin\": {\"t\": 60}, \"template\": {\"data\": {\"bar\": [{\"error_x\": {\"color\": \"#2a3f5f\"}, \"error_y\": {\"color\": \"#2a3f5f\"}, \"marker\": {\"line\": {\"color\": \"#E5ECF6\", \"width\": 0.5}}, \"type\": \"bar\"}], \"barpolar\": [{\"marker\": {\"line\": {\"color\": \"#E5ECF6\", \"width\": 0.5}}, \"type\": \"barpolar\"}], \"carpet\": [{\"aaxis\": {\"endlinecolor\": \"#2a3f5f\", \"gridcolor\": \"white\", \"linecolor\": \"white\", \"minorgridcolor\": \"white\", \"startlinecolor\": \"#2a3f5f\"}, \"baxis\": {\"endlinecolor\": \"#2a3f5f\", \"gridcolor\": \"white\", \"linecolor\": \"white\", \"minorgridcolor\": \"white\", \"startlinecolor\": \"#2a3f5f\"}, \"type\": \"carpet\"}], \"choropleth\": [{\"colorbar\": {\"outlinewidth\": 0, \"ticks\": \"\"}, \"type\": \"choropleth\"}], \"contour\": [{\"colorbar\": {\"outlinewidth\": 0, \"ticks\": \"\"}, \"colorscale\": [[0.0, \"#0d0887\"], [0.1111111111111111, \"#46039f\"], [0.2222222222222222, \"#7201a8\"], [0.3333333333333333, \"#9c179e\"], [0.4444444444444444, \"#bd3786\"], [0.5555555555555556, \"#d8576b\"], [0.6666666666666666, \"#ed7953\"], [0.7777777777777778, \"#fb9f3a\"], [0.8888888888888888, \"#fdca26\"], [1.0, \"#f0f921\"]], \"type\": \"contour\"}], \"contourcarpet\": [{\"colorbar\": {\"outlinewidth\": 0, \"ticks\": \"\"}, \"type\": \"contourcarpet\"}], \"heatmap\": [{\"colorbar\": {\"outlinewidth\": 0, \"ticks\": \"\"}, \"colorscale\": [[0.0, \"#0d0887\"], [0.1111111111111111, \"#46039f\"], [0.2222222222222222, \"#7201a8\"], [0.3333333333333333, \"#9c179e\"], [0.4444444444444444, \"#bd3786\"], [0.5555555555555556, \"#d8576b\"], [0.6666666666666666, \"#ed7953\"], [0.7777777777777778, \"#fb9f3a\"], [0.8888888888888888, \"#fdca26\"], [1.0, \"#f0f921\"]], \"type\": \"heatmap\"}], \"heatmapgl\": [{\"colorbar\": {\"outlinewidth\": 0, \"ticks\": \"\"}, \"colorscale\": [[0.0, \"#0d0887\"], [0.1111111111111111, \"#46039f\"], [0.2222222222222222, \"#7201a8\"], [0.3333333333333333, \"#9c179e\"], [0.4444444444444444, \"#bd3786\"], [0.5555555555555556, \"#d8576b\"], [0.6666666666666666, \"#ed7953\"], [0.7777777777777778, \"#fb9f3a\"], [0.8888888888888888, \"#fdca26\"], [1.0, \"#f0f921\"]], \"type\": \"heatmapgl\"}], \"histogram\": [{\"marker\": {\"colorbar\": {\"outlinewidth\": 0, \"ticks\": \"\"}}, \"type\": \"histogram\"}], \"histogram2d\": [{\"colorbar\": {\"outlinewidth\": 0, \"ticks\": \"\"}, \"colorscale\": [[0.0, \"#0d0887\"], [0.1111111111111111, \"#46039f\"], [0.2222222222222222, \"#7201a8\"], [0.3333333333333333, \"#9c179e\"], [0.4444444444444444, \"#bd3786\"], [0.5555555555555556, \"#d8576b\"], [0.6666666666666666, \"#ed7953\"], [0.7777777777777778, \"#fb9f3a\"], [0.8888888888888888, \"#fdca26\"], [1.0, \"#f0f921\"]], \"type\": \"histogram2d\"}], \"histogram2dcontour\": [{\"colorbar\": {\"outlinewidth\": 0, \"ticks\": \"\"}, \"colorscale\": [[0.0, \"#0d0887\"], [0.1111111111111111, \"#46039f\"], [0.2222222222222222, \"#7201a8\"], [0.3333333333333333, \"#9c179e\"], [0.4444444444444444, \"#bd3786\"], [0.5555555555555556, \"#d8576b\"], [0.6666666666666666, \"#ed7953\"], [0.7777777777777778, \"#fb9f3a\"], [0.8888888888888888, \"#fdca26\"], [1.0, \"#f0f921\"]], \"type\": \"histogram2dcontour\"}], \"mesh3d\": [{\"colorbar\": {\"outlinewidth\": 0, \"ticks\": \"\"}, \"type\": \"mesh3d\"}], \"parcoords\": [{\"line\": {\"colorbar\": {\"outlinewidth\": 0, \"ticks\": \"\"}}, \"type\": \"parcoords\"}], \"scatter\": [{\"marker\": {\"colorbar\": {\"outlinewidth\": 0, \"ticks\": \"\"}}, \"type\": \"scatter\"}], \"scatter3d\": [{\"line\": {\"colorbar\": {\"outlinewidth\": 0, \"ticks\": \"\"}}, \"marker\": {\"colorbar\": {\"outlinewidth\": 0, \"ticks\": \"\"}}, \"type\": \"scatter3d\"}], \"scattercarpet\": [{\"marker\": {\"colorbar\": {\"outlinewidth\": 0, \"ticks\": \"\"}}, \"type\": \"scattercarpet\"}], \"scattergeo\": [{\"marker\": {\"colorbar\": {\"outlinewidth\": 0, \"ticks\": \"\"}}, \"type\": \"scattergeo\"}], \"scattergl\": [{\"marker\": {\"colorbar\": {\"outlinewidth\": 0, \"ticks\": \"\"}}, \"type\": \"scattergl\"}], \"scattermapbox\": [{\"marker\": {\"colorbar\": {\"outlinewidth\": 0, \"ticks\": \"\"}}, \"type\": \"scattermapbox\"}], \"scatterpolar\": [{\"marker\": {\"colorbar\": {\"outlinewidth\": 0, \"ticks\": \"\"}}, \"type\": \"scatterpolar\"}], \"scatterpolargl\": [{\"marker\": {\"colorbar\": {\"outlinewidth\": 0, \"ticks\": \"\"}}, \"type\": \"scatterpolargl\"}], \"scatterternary\": [{\"marker\": {\"colorbar\": {\"outlinewidth\": 0, \"ticks\": \"\"}}, \"type\": \"scatterternary\"}], \"surface\": [{\"colorbar\": {\"outlinewidth\": 0, \"ticks\": \"\"}, \"colorscale\": [[0.0, \"#0d0887\"], [0.1111111111111111, \"#46039f\"], [0.2222222222222222, \"#7201a8\"], [0.3333333333333333, \"#9c179e\"], [0.4444444444444444, \"#bd3786\"], [0.5555555555555556, \"#d8576b\"], [0.6666666666666666, \"#ed7953\"], [0.7777777777777778, \"#fb9f3a\"], [0.8888888888888888, \"#fdca26\"], [1.0, \"#f0f921\"]], \"type\": \"surface\"}], \"table\": [{\"cells\": {\"fill\": {\"color\": \"#EBF0F8\"}, \"line\": {\"color\": \"white\"}}, \"header\": {\"fill\": {\"color\": \"#C8D4E3\"}, \"line\": {\"color\": \"white\"}}, \"type\": \"table\"}]}, \"layout\": {\"annotationdefaults\": {\"arrowcolor\": \"#2a3f5f\", \"arrowhead\": 0, \"arrowwidth\": 1}, \"colorscale\": {\"diverging\": [[0, \"#8e0152\"], [0.1, \"#c51b7d\"], [0.2, \"#de77ae\"], [0.3, \"#f1b6da\"], [0.4, \"#fde0ef\"], [0.5, \"#f7f7f7\"], [0.6, \"#e6f5d0\"], [0.7, \"#b8e186\"], [0.8, \"#7fbc41\"], [0.9, \"#4d9221\"], [1, \"#276419\"]], \"sequential\": [[0.0, \"#0d0887\"], [0.1111111111111111, \"#46039f\"], [0.2222222222222222, \"#7201a8\"], [0.3333333333333333, \"#9c179e\"], [0.4444444444444444, \"#bd3786\"], [0.5555555555555556, \"#d8576b\"], [0.6666666666666666, \"#ed7953\"], [0.7777777777777778, \"#fb9f3a\"], [0.8888888888888888, \"#fdca26\"], [1.0, \"#f0f921\"]], \"sequentialminus\": [[0.0, \"#0d0887\"], [0.1111111111111111, \"#46039f\"], [0.2222222222222222, \"#7201a8\"], [0.3333333333333333, \"#9c179e\"], [0.4444444444444444, \"#bd3786\"], [0.5555555555555556, \"#d8576b\"], [0.6666666666666666, \"#ed7953\"], [0.7777777777777778, \"#fb9f3a\"], [0.8888888888888888, \"#fdca26\"], [1.0, \"#f0f921\"]]}, \"colorway\": [\"#636efa\", \"#EF553B\", \"#00cc96\", \"#ab63fa\", \"#FFA15A\", \"#19d3f3\", \"#FF6692\", \"#B6E880\", \"#FF97FF\", \"#FECB52\"], \"font\": {\"color\": \"#2a3f5f\"}, \"geo\": {\"bgcolor\": \"white\", \"lakecolor\": \"white\", \"landcolor\": \"#E5ECF6\", \"showlakes\": true, \"showland\": true, \"subunitcolor\": \"white\"}, \"hoverlabel\": {\"align\": \"left\"}, \"hovermode\": \"closest\", \"mapbox\": {\"style\": \"light\"}, \"paper_bgcolor\": \"white\", \"plot_bgcolor\": \"#E5ECF6\", \"polar\": {\"angularaxis\": {\"gridcolor\": \"white\", \"linecolor\": \"white\", \"ticks\": \"\"}, \"bgcolor\": \"#E5ECF6\", \"radialaxis\": {\"gridcolor\": \"white\", \"linecolor\": \"white\", \"ticks\": \"\"}}, \"scene\": {\"xaxis\": {\"backgroundcolor\": \"#E5ECF6\", \"gridcolor\": \"white\", \"gridwidth\": 2, \"linecolor\": \"white\", \"showbackground\": true, \"ticks\": \"\", \"zerolinecolor\": \"white\"}, \"yaxis\": {\"backgroundcolor\": \"#E5ECF6\", \"gridcolor\": \"white\", \"gridwidth\": 2, \"linecolor\": \"white\", \"showbackground\": true, \"ticks\": \"\", \"zerolinecolor\": \"white\"}, \"zaxis\": {\"backgroundcolor\": \"#E5ECF6\", \"gridcolor\": \"white\", \"gridwidth\": 2, \"linecolor\": \"white\", \"showbackground\": true, \"ticks\": \"\", \"zerolinecolor\": \"white\"}}, \"shapedefaults\": {\"line\": {\"color\": \"#2a3f5f\"}}, \"ternary\": {\"aaxis\": {\"gridcolor\": \"white\", \"linecolor\": \"white\", \"ticks\": \"\"}, \"baxis\": {\"gridcolor\": \"white\", \"linecolor\": \"white\", \"ticks\": \"\"}, \"bgcolor\": \"#E5ECF6\", \"caxis\": {\"gridcolor\": \"white\", \"linecolor\": \"white\", \"ticks\": \"\"}}, \"title\": {\"x\": 0.05}, \"xaxis\": {\"automargin\": true, \"gridcolor\": \"white\", \"linecolor\": \"white\", \"ticks\": \"\", \"zerolinecolor\": \"white\", \"zerolinewidth\": 2}, \"yaxis\": {\"automargin\": true, \"gridcolor\": \"white\", \"linecolor\": \"white\", \"ticks\": \"\", \"zerolinecolor\": \"white\", \"zerolinewidth\": 2}}}, \"xaxis\": {\"anchor\": \"y\", \"domain\": [0.0, 0.98], \"title\": {\"text\": \"age\"}}, \"yaxis\": {\"anchor\": \"x\", \"domain\": [0.0, 1.0], \"title\": {\"text\": \"count\"}}},\n",
       "                        {\"responsive\": true}\n",
       "                    ).then(function(){\n",
       "                            \n",
       "var gd = document.getElementById('c3c54106-b921-4ea2-bb10-e28e8f3bedbf');\n",
       "var x = new MutationObserver(function (mutations, observer) {{\n",
       "        var display = window.getComputedStyle(gd).display;\n",
       "        if (!display || display === 'none') {{\n",
       "            console.log([gd, 'removed!']);\n",
       "            Plotly.purge(gd);\n",
       "            observer.disconnect();\n",
       "        }}\n",
       "}});\n",
       "\n",
       "// Listen for the removal of the full notebook cells\n",
       "var notebookContainer = gd.closest('#notebook-container');\n",
       "if (notebookContainer) {{\n",
       "    x.observe(notebookContainer, {childList: true});\n",
       "}}\n",
       "\n",
       "// Listen for the clearing of the current output cell\n",
       "var outputEl = gd.closest('.output');\n",
       "if (outputEl) {{\n",
       "    x.observe(outputEl, {childList: true});\n",
       "}}\n",
       "\n",
       "                        })\n",
       "                };\n",
       "                });\n",
       "            </script>\n",
       "        </div>"
      ]
     },
     "metadata": {},
     "output_type": "display_data"
    }
   ],
   "source": [
    "fig = px.histogram(df, x=\"age\", color=\"gender\")\n",
    "fig.show()"
   ]
  },
  {
   "cell_type": "code",
   "execution_count": 307,
   "metadata": {},
   "outputs": [
    {
     "data": {
      "text/plain": [
       "[['sara_qB80gCPt ',\n",
       "  ' 16 ',\n",
       "  '{\"repgridselection\":[\"element-0\"',\n",
       "  'element-1',\n",
       "  'element-11',\n",
       "  'element-9',\n",
       "  'element-13',\n",
       "  'element-12]',\n",
       "  'marital_status:\"Single\"',\n",
       "  'gender:\"Male\"',\n",
       "  'age:42',\n",
       "  'number_of_kids:0',\n",
       "  'percieved-stress0:\"sometimes\"',\n",
       "  'percieved-stress1:\"sometimes\"',\n",
       "  'percieved-stress2:\"fairly often\"',\n",
       "  'percieved-stress3:\"fairly often\"',\n",
       "  'percieved-stress4:\"fairly often\"',\n",
       "  'percieved-stress5:\"almost never\"',\n",
       "  'percieved-stress6:\"fairly often\"',\n",
       "  'percieved-stress7:\"fairly often\"',\n",
       "  'percieved-stress8:\"sometimes\"',\n",
       "  'percieved-stress9:\"sometimes\"',\n",
       "  'stressful-situations-Punctual:\"stressful\"',\n",
       "  'stressful-situations-Organised:\"stressful\"',\n",
       "  'stressful-situations-Hardworking:\"stressful\"',\n",
       "  'stressful-situations-TeamPlayer:\"somewhat stressful\"',\n",
       "  'stressful-situations-Serious:\"somewhat stressful\"',\n",
       "  'stressful-situations-Playful:\"somewhat stressful\"',\n",
       "  'stressful-situations-Thoughtful:\"stressful\"',\n",
       "  'stressful-situations-Spontaneous:\"stressful\"',\n",
       "  'stressful-situations-Helpful:\"somewhat stressful\"',\n",
       "  'stressful-situations-Influential:\"somewhat stressful\"',\n",
       "  'stressful-situations-Fast-Paced:\"not stressful\"',\n",
       "  'stressful-situations-Liberal:\"somewhat stressful\"',\n",
       "  'stressful-situations-Conservative:\"somewhat stressful\"',\n",
       "  'stressful-situations-Independent:\"not stressful\"',\n",
       "  'stressful-situations-Compromising:\"somewhat stressful\"',\n",
       "  'stressful-situations-Opinionated:\"not stressful\"',\n",
       "  'rating_0-0:\"5\"',\n",
       "  'rating_0-1:\"7\"',\n",
       "  'rating_0-9:\"7\"',\n",
       "  'rating_0-11:\"2\"',\n",
       "  'rating_0-12:\"5\"',\n",
       "  'rating_0-13:\"6\"',\n",
       "  'rating_1-0:\"7\"',\n",
       "  'rating_1-1:\"7\"',\n",
       "  'rating_1-9:\"7\"',\n",
       "  'rating_1-11:\"7\"',\n",
       "  'rating_1-12:\"5\"',\n",
       "  'rating_1-13:\"5\"',\n",
       "  'rating_2-0:\"5\"',\n",
       "  'rating_2-1:\"7\"',\n",
       "  'rating_2-9:\"6\"',\n",
       "  'rating_2-11:\"5\"',\n",
       "  'rating_2-12:\"5\"',\n",
       "  'rating_2-13:\"5\"',\n",
       "  'rating_3-0:\"5\"',\n",
       "  'rating_3-1:\"7\"',\n",
       "  'rating_3-9:\"6\"',\n",
       "  'rating_3-11:\"3\"',\n",
       "  'rating_3-12:\"5\"',\n",
       "  'rating_3-13:\"5\"',\n",
       "  'rating_4-0:\"5\"',\n",
       "  'rating_4-1:\"7\"',\n",
       "  'rating_4-9:\"6\"',\n",
       "  'rating_4-11:\"3\"',\n",
       "  'rating_4-12:\"5\"',\n",
       "  'rating_4-13:\"5\"',\n",
       "  'rating_5-0:\"6\"',\n",
       "  'rating_5-1:\"7\"',\n",
       "  'rating_5-9:\"7\"',\n",
       "  'rating_5-11:\"2\"',\n",
       "  'rating_5-12:\"5\"',\n",
       "  'rating_5-13:\"5\"',\n",
       "  'rating_6-0:\"4\"',\n",
       "  'rating_6-1:\"5\"',\n",
       "  'rating_6-9:\"5\"',\n",
       "  'rating_6-11:\"6\"',\n",
       "  'rating_6-12:\"4\"',\n",
       "  'rating_6-13:\"6\"',\n",
       "  'rating_7-0:\"5\"',\n",
       "  'rating_7-1:\"7\"',\n",
       "  'rating_7-9:\"5\"',\n",
       "  'rating_7-11:\"6\"',\n",
       "  'rating_7-12:\"5\"',\n",
       "  'rating_7-13:\"6\"',\n",
       "  'rating_8-0:\"6\"',\n",
       "  'rating_8-1:\"7\"',\n",
       "  'rating_8-9:\"7\"',\n",
       "  'rating_8-11:\"3\"',\n",
       "  'rating_8-12:\"5\"',\n",
       "  'rating_8-13:\"5\"',\n",
       "  'rating_9-0:\"6\"',\n",
       "  'rating_9-1:\"7\"',\n",
       "  'rating_9-9:\"7\"',\n",
       "  'rating_9-11:\"2\"',\n",
       "  'rating_9-12:\"5\"',\n",
       "  'rating_9-13:\"5\"',\n",
       "  'repgrids_results1_question_1:\"Agree\"',\n",
       "  'repgrids_results1_question_2:\"Strongly agree\"',\n",
       "  'repgrids_results2_question_1:\"Strongly agree\"',\n",
       "  'repgrids_results2_question_2:\"Strongly agree\"',\n",
       "  'repgrids_results2_question_3:\"Yes\"',\n",
       "  'repgrids_results3_question_1:\"Agree\"',\n",
       "  'repgrids_results3_question_2:\"Agree\"',\n",
       "  'repgrids_results3_question_3:\"Yes\"',\n",
       "  'repgrids_results4_question_1:\"Strongly agree\"',\n",
       "  'repgrids_results4_question_2:\"Strongly agree\"',\n",
       "  'repgrids_results4_question_3:\"Yes\"',\n",
       "  'end_repodrid_result_question_1:\"7\"',\n",
       "  'end_repodrid_result_question_2:\"Better\"',\n",
       "  'end_repodrid_result_question_3:\"It is intestine to see analysis of myself\"',\n",
       "  'identityall-0:\"identityall-negative_0\"',\n",
       "  'identityall-1:\"identityall-negative_1\"',\n",
       "  'identityall-2:\"identityall-positive_2\"',\n",
       "  'identityall-3:\"identityall-positive_3\"',\n",
       "  'identityall-4:\"identityall-positive_4\"',\n",
       "  'identityall-5:\"identityall-negative_5\"',\n",
       "  'identityall-6:\"identityall-negative_6\"',\n",
       "  'identityall-7:\"identityall-negative_7\"',\n",
       "  'identityall-8:\"identityall-negative_8\"',\n",
       "  'identityall-9:\"identityall-negative_9\"',\n",
       "  'identityall-10:\"identityall-negative_10\"',\n",
       "  'Identitiesmax5:[\"Identitiesmax5-positive_2\"',\n",
       "  'Identitiesmax5-negative_5',\n",
       "  'Identitiesmax5-negative_6',\n",
       "  'Identitiesmax5-negative_8',\n",
       "  'Identitiesmax5-negative_10]',\n",
       "  'Identitiesmax3:[{\"id\":\"Identitiesmax3-positive_2\"',\n",
       "  'text:\"Independent\"',\n",
       "  'enableIf:\"{Identitiesmax5} contains \\'Identitiesmax5-positive_2\\'\"',\n",
       "  'visibleIf:\"{Identitiesmax5} contains \\'Identitiesmax5-negative_2\\' or {Identitiesmax5} contains \\'Identitiesmax5-positive_2\\'\"}',\n",
       "  '{\"id\":\"Identitiesmax3-negative_6\"',\n",
       "  'text:\"Influential\"',\n",
       "  'enableIf:\"{Identitiesmax5} contains \\'Identitiesmax5-negative_6\\'\"',\n",
       "  'visibleIf:\"{Identitiesmax5} contains \\'Identitiesmax5-negative_6\\' or {Identitiesmax5} contains \\'Identitiesmax5-positive_6\\'\"}',\n",
       "  '{\"id\":\"Identitiesmax3-negative_10\"',\n",
       "  'text:\"Hardworking\"',\n",
       "  'enableIf:\"{Identitiesmax5} contains \\'Identitiesmax5-negative_10\\'\"',\n",
       "  'visibleIf:\"{Identitiesmax5} contains \\'Identitiesmax5-negative_10\\' or {Identitiesmax5} contains \\'Identitiesmax5-positive_10\\'\"}]',\n",
       "  'identity_result_page_question_1:\"Agree\"',\n",
       "  'identity_result_page_question_2:\"Agree\"',\n",
       "  'identity_result_page_question_3:\"7\"',\n",
       "  'identity_result_page_question_4:\"Better\"',\n",
       "  'identity_result_page_question_5:\"Again is good to see an anlysis of myself\"}'],\n",
       " ['sara_d4ZWn6Pw ',\n",
       "  ' 14 ',\n",
       "  '{\"repgridselection\":[\"element-0\"',\n",
       "  'element-1',\n",
       "  'element-12',\n",
       "  'element-2',\n",
       "  'element-4',\n",
       "  'element-13]',\n",
       "  'marital_status:\"Married\"',\n",
       "  'gender:\"Female\"',\n",
       "  'age:45',\n",
       "  'number_of_kids:1',\n",
       "  'percieved-stress0:\"almost never\"',\n",
       "  'percieved-stress1:\"almost never\"',\n",
       "  'percieved-stress2:\"fairly often\"',\n",
       "  'percieved-stress3:\"fairly often\"',\n",
       "  'percieved-stress4:\"sometimes\"',\n",
       "  'percieved-stress5:\"sometimes\"',\n",
       "  'percieved-stress6:\"sometimes\"',\n",
       "  'percieved-stress7:\"sometimes\"',\n",
       "  'percieved-stress8:\"sometimes\"',\n",
       "  'percieved-stress9:\"sometimes\"',\n",
       "  'stressful-situations-Punctual:\"stressful\"',\n",
       "  'stressful-situations-Organised:\"stressful\"',\n",
       "  'stressful-situations-Hardworking:\"stressful\"',\n",
       "  'stressful-situations-TeamPlayer:\"stressful\"',\n",
       "  'stressful-situations-Serious:\"stressful\"',\n",
       "  'stressful-situations-Playful:\"very stressful\"',\n",
       "  'stressful-situations-Thoughtful:\"very stressful\"',\n",
       "  'stressful-situations-Spontaneous:\"stressful\"',\n",
       "  'stressful-situations-Helpful:\"stressful\"',\n",
       "  'stressful-situations-Influential:\"stressful\"',\n",
       "  'stressful-situations-Fast-Paced:\"stressful\"',\n",
       "  'stressful-situations-Liberal:\"stressful\"',\n",
       "  'stressful-situations-Conservative:\"somewhat stressful\"',\n",
       "  'stressful-situations-Independent:\"very stressful\"',\n",
       "  'stressful-situations-Compromising:\"somewhat stressful\"',\n",
       "  'stressful-situations-Opinionated:\"somewhat stressful\"',\n",
       "  'rating_0-0:\"6\"',\n",
       "  'rating_0-1:\"7\"',\n",
       "  'rating_0-2:\"5\"',\n",
       "  'rating_0-4:\"6\"',\n",
       "  'rating_0-12:\"6\"',\n",
       "  'rating_0-13:\"6\"',\n",
       "  'rating_1-0:\"5\"',\n",
       "  'rating_1-1:\"7\"',\n",
       "  'rating_1-2:\"5\"',\n",
       "  'rating_1-4:\"6\"',\n",
       "  'rating_1-12:\"6\"',\n",
       "  'rating_1-13:\"6\"',\n",
       "  'rating_2-0:\"6\"',\n",
       "  'rating_2-1:\"7\"',\n",
       "  'rating_2-2:\"5\"',\n",
       "  'rating_2-4:\"7\"',\n",
       "  'rating_2-12:\"7\"',\n",
       "  'rating_2-13:\"6\"',\n",
       "  'rating_3-0:\"6\"',\n",
       "  'rating_3-1:\"7\"',\n",
       "  'rating_3-2:\"6\"',\n",
       "  'rating_3-4:\"7\"',\n",
       "  'rating_3-12:\"7\"',\n",
       "  'rating_3-13:\"7\"',\n",
       "  'rating_4-0:\"7\"',\n",
       "  'rating_4-1:\"5\"',\n",
       "  'rating_4-2:\"5\"',\n",
       "  'rating_4-4:\"7\"',\n",
       "  'rating_4-12:\"7\"',\n",
       "  'rating_4-13:\"7\"',\n",
       "  'rating_5-0:\"4\"',\n",
       "  'rating_5-1:\"7\"',\n",
       "  'rating_5-2:\"4\"',\n",
       "  'rating_5-4:\"4\"',\n",
       "  'rating_5-12:\"5\"',\n",
       "  'rating_5-13:\"6\"',\n",
       "  'rating_6-0:\"4\"',\n",
       "  'rating_6-1:\"4\"',\n",
       "  'rating_6-2:\"5\"',\n",
       "  'rating_6-4:\"7\"',\n",
       "  'rating_6-12:\"4\"',\n",
       "  'rating_6-13:\"6\"',\n",
       "  'rating_7-0:\"5\"',\n",
       "  'rating_7-1:\"6\"',\n",
       "  'rating_7-2:\"5\"',\n",
       "  'rating_7-4:\"7\"',\n",
       "  'rating_7-12:\"5\"',\n",
       "  'rating_7-13:\"6\"',\n",
       "  'rating_8-0:\"5\"',\n",
       "  'rating_8-1:\"6\"',\n",
       "  'rating_8-2:\"5\"',\n",
       "  'rating_8-4:\"6\"',\n",
       "  'rating_8-12:\"6\"',\n",
       "  'rating_8-13:\"6\"',\n",
       "  'rating_9-0:\"5\"',\n",
       "  'rating_9-1:\"7\"',\n",
       "  'rating_9-2:\"5\"',\n",
       "  'rating_9-4:\"5\"',\n",
       "  'rating_9-12:\"6\"',\n",
       "  'rating_9-13:\"6\"',\n",
       "  'repgrids_results1_question_1:\"Agree\"',\n",
       "  'repgrids_results1_question_2:\"Agree\"',\n",
       "  'repgrids_results2_question_1:\"Agree\"',\n",
       "  'repgrids_results2_question_2:\"Agree\"',\n",
       "  'repgrids_results2_question_3:\"Yes\"',\n",
       "  'repgrids_results3_question_1:\"Agree\"',\n",
       "  'repgrids_results3_question_2:\"Agree\"',\n",
       "  'repgrids_results3_question_3:\"No\"',\n",
       "  'repgrids_results4_question_1:\"Disagree\"',\n",
       "  'repgrids_results4_question_2:\"Disagree\"',\n",
       "  'repgrids_results4_question_3:\"No\"',\n",
       "  'end_repodrid_result_question_1:\"3\"',\n",
       "  'end_repodrid_result_question_2:\"Same\"',\n",
       "  'end_repodrid_result_question_3:\"It’s a bit confusing to understand what to do. I’d rather be given some exercises to help me work in the areas that have been identified. \\\\n\\\\nSome are things like being more stubborn or talkative. I don’t really want to improve these areas! \"',\n",
       "  'identityall-0:\"identityall-negative_0\"',\n",
       "  'identityall-1:\"identityall-negative_1\"',\n",
       "  'identityall-2:\"identityall-positive_2\"',\n",
       "  'identityall-3:\"identityall-negative_3\"',\n",
       "  'identityall-4:\"identityall-negative_4\"',\n",
       "  'identityall-5:\"identityall-negative_5\"',\n",
       "  'identityall-6:\"identityall-negative_6\"',\n",
       "  'identityall-7:\"identityall-negative_7\"',\n",
       "  'identityall-8:\"identityall-negative_8\"',\n",
       "  'identityall-9:\"identityall-positive_9\"',\n",
       "  'identityall-10:\"identityall-negative_10\"',\n",
       "  'Identitiesmax5:[\"Identitiesmax5-negative_0\"',\n",
       "  'Identitiesmax5-negative_1',\n",
       "  'Identitiesmax5-positive_2',\n",
       "  'Identitiesmax5-negative_5',\n",
       "  'Identitiesmax5-negative_6]',\n",
       "  'Identitiesmax3:[{\"id\":\"Identitiesmax3-negative_1\"',\n",
       "  'text:\"Organised\"',\n",
       "  'enableIf:\"{Identitiesmax5} contains \\'Identitiesmax5-negative_1\\'\"',\n",
       "  'visibleIf:\"{Identitiesmax5} contains \\'Identitiesmax5-negative_1\\' or {Identitiesmax5} contains \\'Identitiesmax5-positive_1\\'\"}',\n",
       "  '{\"id\":\"Identitiesmax3-negative_5\"',\n",
       "  'text:\"Helpful\"',\n",
       "  'enableIf:\"{Identitiesmax5} contains \\'Identitiesmax5-negative_5\\'\"',\n",
       "  'visibleIf:\"{Identitiesmax5} contains \\'Identitiesmax5-negative_5\\' or {Identitiesmax5} contains \\'Identitiesmax5-positive_5\\'\"}',\n",
       "  '{\"id\":\"Identitiesmax3-negative_6\"',\n",
       "  'text:\"Influential\"',\n",
       "  'enableIf:\"{Identitiesmax5} contains \\'Identitiesmax5-negative_6\\'\"',\n",
       "  'visibleIf:\"{Identitiesmax5} contains \\'Identitiesmax5-negative_6\\' or {Identitiesmax5} contains \\'Identitiesmax5-positive_6\\'\"}]',\n",
       "  'identity_result_page_question_1:\"Strongly agree\"',\n",
       "  'identity_result_page_question_2:\"Agree\"',\n",
       "  'identity_result_page_question_3:\"6\"',\n",
       "  'identity_result_page_question_4:\"Same\"',\n",
       "  'identity_result_page_question_5:\"This was more interesting and insightful. \\\\nIt would be useful to have it emailed to me with some suggestions \"}'],\n",
       " ['sara_2Ff0YpsL ',\n",
       "  ' 23 ',\n",
       "  '{\"repgridselection\":[\"element-0\"',\n",
       "  'element-1',\n",
       "  'element-12',\n",
       "  'element-13',\n",
       "  'element-2',\n",
       "  'element-11]',\n",
       "  'marital_status:\"Married\"',\n",
       "  'gender:\"Male\"',\n",
       "  'age:40',\n",
       "  'number_of_kids:0',\n",
       "  'percieved-stress0:\"almost never\"',\n",
       "  'percieved-stress1:\"sometimes\"',\n",
       "  'percieved-stress2:\"sometimes\"',\n",
       "  'percieved-stress3:\"fairly often\"',\n",
       "  'percieved-stress4:\"fairly often\"',\n",
       "  'percieved-stress5:\"almost never\"',\n",
       "  'percieved-stress6:\"fairly often\"',\n",
       "  'percieved-stress7:\"sometimes\"',\n",
       "  'percieved-stress8:\"almost never\"',\n",
       "  'percieved-stress9:\"almost never\"',\n",
       "  'stressful-situations-Punctual:\"stressful\"',\n",
       "  'stressful-situations-Organised:\"somewhat stressful\"',\n",
       "  'stressful-situations-Hardworking:\"very stressful\"',\n",
       "  'stressful-situations-TeamPlayer:\"somewhat stressful\"',\n",
       "  'stressful-situations-Serious:\"not stressful\"',\n",
       "  'stressful-situations-Playful:\"stressful\"',\n",
       "  'stressful-situations-Thoughtful:\"not stressful\"',\n",
       "  'stressful-situations-Spontaneous:\"not stressful\"',\n",
       "  'stressful-situations-Helpful:\"stressful\"',\n",
       "  'stressful-situations-Influential:\"very stressful\"',\n",
       "  'stressful-situations-Fast-Paced:\"not stressful\"',\n",
       "  'stressful-situations-Liberal:\"not stressful\"',\n",
       "  'stressful-situations-Conservative:\"stressful\"',\n",
       "  'stressful-situations-Independent:\"very stressful\"',\n",
       "  'stressful-situations-Compromising:\"somewhat stressful\"',\n",
       "  'stressful-situations-Opinionated:\"somewhat stressful\"',\n",
       "  'rating_0-0:\"5\"',\n",
       "  'rating_0-1:\"7\"',\n",
       "  'rating_0-2:\"5\"',\n",
       "  'rating_0-11:\"1\"',\n",
       "  'rating_0-12:\"4\"',\n",
       "  'rating_0-13:\"7\"',\n",
       "  'rating_1-0:\"4\"',\n",
       "  'rating_1-1:\"7\"',\n",
       "  'rating_1-2:\"3\"',\n",
       "  'rating_1-11:\"1\"',\n",
       "  'rating_1-12:\"4\"',\n",
       "  'rating_1-13:\"7\"',\n",
       "  'rating_2-0:\"4\"',\n",
       "  'rating_2-1:\"7\"',\n",
       "  'rating_2-2:\"4\"',\n",
       "  'rating_2-11:\"1\"',\n",
       "  'rating_2-12:\"5\"',\n",
       "  'rating_2-13:\"6\"',\n",
       "  'rating_3-0:\"6\"',\n",
       "  'rating_3-1:\"7\"',\n",
       "  'rating_3-2:\"6\"',\n",
       "  'rating_3-11:\"3\"',\n",
       "  'rating_3-12:\"4\"',\n",
       "  'rating_3-13:\"6\"',\n",
       "  'rating_4-0:\"6\"',\n",
       "  'rating_4-1:\"7\"',\n",
       "  'rating_4-2:\"6\"',\n",
       "  'rating_4-11:\"3\"',\n",
       "  'rating_4-12:\"4\"',\n",
       "  'rating_4-13:\"6\"',\n",
       "  'rating_5-0:\"6\"',\n",
       "  'rating_5-1:\"7\"',\n",
       "  'rating_5-2:\"6\"',\n",
       "  'rating_5-11:\"1\"',\n",
       "  'rating_5-12:\"5\"',\n",
       "  'rating_5-13:\"6\"',\n",
       "  'rating_6-0:\"4\"',\n",
       "  'rating_6-1:\"2\"',\n",
       "  'rating_6-2:\"4\"',\n",
       "  'rating_6-11:\"7\"',\n",
       "  'rating_6-12:\"5\"',\n",
       "  'rating_6-13:\"6\"',\n",
       "  'rating_7-0:\"4\"',\n",
       "  'rating_7-1:\"7\"',\n",
       "  'rating_7-2:\"3\"',\n",
       "  'rating_7-11:\"1\"',\n",
       "  'rating_7-12:\"3\"',\n",
       "  'rating_7-13:\"4\"',\n",
       "  'rating_8-0:\"6\"',\n",
       "  'rating_8-1:\"7\"',\n",
       "  'rating_8-2:\"6\"',\n",
       "  'rating_8-11:\"6\"',\n",
       "  'rating_8-12:\"5\"',\n",
       "  'rating_8-13:\"5\"',\n",
       "  'rating_9-0:\"6\"',\n",
       "  'rating_9-1:\"7\"',\n",
       "  'rating_9-2:\"6\"',\n",
       "  'rating_9-11:\"1\"',\n",
       "  'rating_9-12:\"5\"',\n",
       "  'rating_9-13:\"3\"',\n",
       "  'repgrids_results1_question_1:\"Agree\"',\n",
       "  'repgrids_results1_question_2:\"Strongly agree\"',\n",
       "  'repgrids_results2_question_1:\"Agree\"',\n",
       "  'repgrids_results2_question_2:\"Agree\"',\n",
       "  'repgrids_results2_question_3:\"Yes\"',\n",
       "  'repgrids_results3_question_1:\"Strongly agree\"',\n",
       "  'repgrids_results3_question_2:\"Agree\"',\n",
       "  'repgrids_results3_question_3:\"Yes\"',\n",
       "  'repgrids_results4_question_1:\"Strongly agree\"',\n",
       "  'repgrids_results4_question_2:\"Strongly agree\"',\n",
       "  'repgrids_results4_question_3:\"Yes\"',\n",
       "  'end_repodrid_result_question_1:\"9\"',\n",
       "  'end_repodrid_result_question_2:\"Better\"',\n",
       "  'end_repodrid_result_question_3:\"Very insightful survey',\n",
       "  ' I would be interested in doing further.\"',\n",
       "  'identityall-0:\"identityall-positive_0\"',\n",
       "  'identityall-1:\"identityall-positive_1\"',\n",
       "  'identityall-2:\"identityall-positive_2\"',\n",
       "  'identityall-3:\"identityall-positive_3\"',\n",
       "  'identityall-4:\"identityall-negative_4\"',\n",
       "  'identityall-5:\"identityall-negative_5\"',\n",
       "  'identityall-6:\"identityall-negative_6\"',\n",
       "  'identityall-7:\"identityall-negative_7\"',\n",
       "  'identityall-8:\"identityall-negative_8\"',\n",
       "  'identityall-9:\"identityall-negative_9\"',\n",
       "  'identityall-10:\"identityall-negative_10\"',\n",
       "  'Identitiesmax5:[\"Identitiesmax5-negative_6\"',\n",
       "  'Identitiesmax5-positive_2',\n",
       "  'Identitiesmax5-positive_3',\n",
       "  'Identitiesmax5-negative_7',\n",
       "  'Identitiesmax5-negative_8]',\n",
       "  'Identitiesmax3:[{\"id\":\"Identitiesmax3-positive_2\"',\n",
       "  'text:\"Independent\"',\n",
       "  'enableIf:\"{Identitiesmax5} contains \\'Identitiesmax5-positive_2\\'\"',\n",
       "  'visibleIf:\"{Identitiesmax5} contains \\'Identitiesmax5-negative_2\\' or {Identitiesmax5} contains \\'Identitiesmax5-positive_2\\'\"}',\n",
       "  '{\"id\":\"Identitiesmax3-negative_8\"',\n",
       "  'text:\"Liberal\"',\n",
       "  'enableIf:\"{Identitiesmax5} contains \\'Identitiesmax5-negative_8\\'\"',\n",
       "  'visibleIf:\"{Identitiesmax5} contains \\'Identitiesmax5-negative_8\\' or {Identitiesmax5} contains \\'Identitiesmax5-positive_8\\'\"}',\n",
       "  '{\"id\":\"Identitiesmax3-negative_6\"',\n",
       "  'text:\"Influential\"',\n",
       "  'enableIf:\"{Identitiesmax5} contains \\'Identitiesmax5-negative_6\\'\"',\n",
       "  'visibleIf:\"{Identitiesmax5} contains \\'Identitiesmax5-negative_6\\' or {Identitiesmax5} contains \\'Identitiesmax5-positive_6\\'\"}]',\n",
       "  'identity_result_page_question_1:\"Agree\"',\n",
       "  'identity_result_page_question_2:\"Strongly agree\"',\n",
       "  'identity_result_page_question_3:\"9\"',\n",
       "  'identity_result_page_question_4:\"Better\"',\n",
       "  'identity_result_page_question_5:\"Very useful!\"}'],\n",
       " ['sara_mMXZyRm3 ',\n",
       "  ' 15 ',\n",
       "  '{\"repgridselection\":[\"element-0\"',\n",
       "  'element-1',\n",
       "  'element-8',\n",
       "  'element-13',\n",
       "  'element-11',\n",
       "  'element-5]',\n",
       "  'marital_status:\"Single\"',\n",
       "  'gender:\"Male\"',\n",
       "  'age:41',\n",
       "  'number_of_kids:0',\n",
       "  'percieved-stress0:\"almost never\"',\n",
       "  'percieved-stress1:\"sometimes\"',\n",
       "  'percieved-stress2:\"sometimes\"',\n",
       "  'percieved-stress3:\"fairly often\"',\n",
       "  'percieved-stress4:\"sometimes\"',\n",
       "  'percieved-stress5:\"almost never\"',\n",
       "  'percieved-stress6:\"fairly often\"',\n",
       "  'percieved-stress7:\"sometimes\"',\n",
       "  'percieved-stress8:\"sometimes\"',\n",
       "  'percieved-stress9:\"almost never\"',\n",
       "  'stressful-situations-Punctual:\"somewhat stressful\"',\n",
       "  'stressful-situations-Organised:\"not stressful\"',\n",
       "  'stressful-situations-Hardworking:\"somewhat stressful\"',\n",
       "  'stressful-situations-TeamPlayer:\"somewhat stressful\"',\n",
       "  'stressful-situations-Serious:\"not stressful\"',\n",
       "  'stressful-situations-Playful:\"somewhat stressful\"',\n",
       "  'stressful-situations-Thoughtful:\"somewhat stressful\"',\n",
       "  'stressful-situations-Spontaneous:\"somewhat stressful\"',\n",
       "  'stressful-situations-Helpful:\"somewhat stressful\"',\n",
       "  'stressful-situations-Influential:\"somewhat stressful\"',\n",
       "  'stressful-situations-Fast-Paced:\"not stressful\"',\n",
       "  'stressful-situations-Liberal:\"somewhat stressful\"',\n",
       "  'stressful-situations-Conservative:\"somewhat stressful\"',\n",
       "  'stressful-situations-Independent:\"not stressful\"',\n",
       "  'stressful-situations-Compromising:\"not stressful\"',\n",
       "  'stressful-situations-Opinionated:\"not stressful\"',\n",
       "  'rating_0-0:\"4\"',\n",
       "  'rating_0-1:\"7\"',\n",
       "  'rating_0-5:\"4\"',\n",
       "  'rating_0-8:\"4\"',\n",
       "  'rating_0-11:\"4\"',\n",
       "  'rating_0-13:\"5\"',\n",
       "  'rating_1-0:\"4\"',\n",
       "  'rating_1-1:\"7\"',\n",
       "  'rating_1-5:\"4\"',\n",
       "  'rating_1-8:\"4\"',\n",
       "  'rating_1-11:\"6\"',\n",
       "  'rating_1-13:\"4\"',\n",
       "  'rating_2-0:\"3\"',\n",
       "  'rating_2-1:\"7\"',\n",
       "  'rating_2-5:\"4\"',\n",
       "  'rating_2-8:\"3\"',\n",
       "  'rating_2-11:\"4\"',\n",
       "  'rating_2-13:\"6\"',\n",
       "  'rating_3-0:\"3\"',\n",
       "  'rating_3-1:\"7\"',\n",
       "  'rating_3-5:\"4\"',\n",
       "  'rating_3-8:\"4\"',\n",
       "  'rating_3-11:\"4\"',\n",
       "  'rating_3-13:\"5\"',\n",
       "  'rating_4-0:\"4\"',\n",
       "  'rating_4-1:\"7\"',\n",
       "  'rating_4-5:\"4\"',\n",
       "  'rating_4-8:\"3\"',\n",
       "  'rating_4-11:\"3\"',\n",
       "  'rating_4-13:\"5\"',\n",
       "  'rating_5-0:\"5\"',\n",
       "  'rating_5-1:\"7\"',\n",
       "  'rating_5-5:\"4\"',\n",
       "  'rating_5-8:\"2\"',\n",
       "  'rating_5-11:\"2\"',\n",
       "  'rating_5-13:\"5\"',\n",
       "  'rating_6-0:\"2\"',\n",
       "  'rating_6-1:\"4\"',\n",
       "  'rating_6-5:\"4\"',\n",
       "  'rating_6-8:\"2\"',\n",
       "  'rating_6-11:\"2\"',\n",
       "  'rating_6-13:\"5\"',\n",
       "  'rating_7-0:\"6\"',\n",
       "  'rating_7-1:\"7\"',\n",
       "  'rating_7-5:\"3\"',\n",
       "  'rating_7-8:\"3\"',\n",
       "  'rating_7-11:\"2\"',\n",
       "  'rating_7-13:\"6\"',\n",
       "  'rating_8-0:\"5\"',\n",
       "  'rating_8-1:\"7\"',\n",
       "  'rating_8-5:\"3\"',\n",
       "  'rating_8-8:\"3\"',\n",
       "  'rating_8-11:\"3\"',\n",
       "  'rating_8-13:\"5\"',\n",
       "  'rating_9-0:\"4\"',\n",
       "  'rating_9-1:\"7\"',\n",
       "  'rating_9-5:\"4\"',\n",
       "  'rating_9-8:\"3\"',\n",
       "  'rating_9-11:\"3\"',\n",
       "  'rating_9-13:\"5\"',\n",
       "  'repgrids_results1_question_1:\"Agree\"',\n",
       "  'repgrids_results1_question_2:\"Agree\"',\n",
       "  'repgrids_results2_question_1:\"Agree\"',\n",
       "  'repgrids_results2_question_2:\"Agree\"',\n",
       "  'repgrids_results2_question_3:\"Yes\"',\n",
       "  'repgrids_results3_question_1:\"Agree\"',\n",
       "  'repgrids_results3_question_2:\"Agree\"',\n",
       "  'repgrids_results3_question_3:\"Yes\"',\n",
       "  'repgrids_results4_question_1:\"Agree\"',\n",
       "  'repgrids_results4_question_2:\"Agree\"',\n",
       "  'repgrids_results4_question_3:\"Yes\"',\n",
       "  'end_repodrid_result_question_1:\"5\"',\n",
       "  'end_repodrid_result_question_2:\"Same\"',\n",
       "  'end_repodrid_result_question_3:\"Some of the questions didn\\'t quite make sense because of the formula\"',\n",
       "  'identityall-0:\"identityall-negative_0\"',\n",
       "  'identityall-1:\"identityall-positive_1\"',\n",
       "  'identityall-2:\"identityall-positive_2\"',\n",
       "  'identityall-3:\"identityall-positive_3\"',\n",
       "  'identityall-4:\"identityall-positive_4\"',\n",
       "  'identityall-5:\"identityall-negative_5\"',\n",
       "  'identityall-7:\"identityall-negative_7\"',\n",
       "  'identityall-6:\"identityall-negative_6\"',\n",
       "  'identityall-8:\"identityall-negative_8\"',\n",
       "  'identityall-9:\"identityall-negative_9\"',\n",
       "  'identityall-10:\"identityall-negative_10\"',\n",
       "  'Identitiesmax5:[\"Identitiesmax5-negative_0\"',\n",
       "  'Identitiesmax5-positive_4',\n",
       "  'Identitiesmax5-negative_5',\n",
       "  'Identitiesmax5-negative_7',\n",
       "  'Identitiesmax5-negative_8]',\n",
       "  'Identitiesmax3:[{\"id\":\"Identitiesmax3-negative_8\"',\n",
       "  'text:\"Liberal\"',\n",
       "  'enableIf:\"{Identitiesmax5} contains \\'Identitiesmax5-negative_8\\'\"',\n",
       "  'visibleIf:\"{Identitiesmax5} contains \\'Identitiesmax5-negative_8\\' or {Identitiesmax5} contains \\'Identitiesmax5-positive_8\\'\"}',\n",
       "  '{\"id\":\"Identitiesmax3-negative_5\"',\n",
       "  'text:\"Helpful\"',\n",
       "  'enableIf:\"{Identitiesmax5} contains \\'Identitiesmax5-negative_5\\'\"',\n",
       "  'visibleIf:\"{Identitiesmax5} contains \\'Identitiesmax5-negative_5\\' or {Identitiesmax5} contains \\'Identitiesmax5-positive_5\\'\"}',\n",
       "  '{\"id\":\"Identitiesmax3-positive_4\"',\n",
       "  'text:\"Compromising\"',\n",
       "  'enableIf:\"{Identitiesmax5} contains \\'Identitiesmax5-positive_4\\'\"',\n",
       "  'visibleIf:\"{Identitiesmax5} contains \\'Identitiesmax5-negative_4\\' or {Identitiesmax5} contains \\'Identitiesmax5-positive_4\\'\"}]',\n",
       "  'identity_result_page_question_1:\"Agree\"',\n",
       "  'identity_result_page_question_2:\"Agree\"',\n",
       "  'identity_result_page_question_3:\"7\"',\n",
       "  'identity_result_page_question_4:\"Same\"',\n",
       "  'identity_result_page_question_5:\"No\"}'],\n",
       " ['sara_doVVXa0S ',\n",
       "  ' 19 ',\n",
       "  '{\"repgridselection\":[\"element-0\"',\n",
       "  'element-1',\n",
       "  'element-12',\n",
       "  'element-8',\n",
       "  'element-9',\n",
       "  'element-13]',\n",
       "  'marital_status:\"Divorced\"',\n",
       "  'gender:\"Female\"',\n",
       "  'age:48',\n",
       "  'number_of_kids:2',\n",
       "  'percieved-stress0:\"fairly often\"',\n",
       "  'percieved-stress1:\"very often\"',\n",
       "  'percieved-stress2:\"fairly often\"',\n",
       "  'percieved-stress3:\"very often\"',\n",
       "  'percieved-stress4:\"sometimes\"',\n",
       "  'percieved-stress5:\"almost never\"',\n",
       "  'percieved-stress6:\"fairly often\"',\n",
       "  'percieved-stress7:\"very often\"',\n",
       "  'percieved-stress8:\"sometimes\"',\n",
       "  'percieved-stress9:\"never\"',\n",
       "  'stressful-situations-Punctual:\"very stressful\"',\n",
       "  'stressful-situations-Organised:\"somewhat stressful\"',\n",
       "  'stressful-situations-Hardworking:\"very stressful\"',\n",
       "  'stressful-situations-TeamPlayer:\"somewhat stressful\"',\n",
       "  'stressful-situations-Serious:\"stressful\"',\n",
       "  'stressful-situations-Playful:\"very stressful\"',\n",
       "  'stressful-situations-Thoughtful:\"very stressful\"',\n",
       "  'stressful-situations-Spontaneous:\"not stressful\"',\n",
       "  'stressful-situations-Helpful:\"somewhat stressful\"',\n",
       "  'stressful-situations-Influential:\"somewhat stressful\"',\n",
       "  'stressful-situations-Fast-Paced:\"somewhat stressful\"',\n",
       "  'stressful-situations-Liberal:\"somewhat stressful\"',\n",
       "  'stressful-situations-Conservative:\"stressful\"',\n",
       "  'stressful-situations-Independent:\"not stressful\"',\n",
       "  'stressful-situations-Compromising:\"somewhat stressful\"',\n",
       "  'stressful-situations-Opinionated:\"somewhat stressful\"',\n",
       "  'rating_0-0:\"5\"',\n",
       "  'rating_0-1:\"4\"',\n",
       "  'rating_0-8:\"3\"',\n",
       "  'rating_0-9:\"5\"',\n",
       "  'rating_0-12:\"4\"',\n",
       "  'rating_0-13:\"5\"',\n",
       "  'rating_1-0:\"6\"',\n",
       "  'rating_1-1:\"6\"',\n",
       "  'rating_1-8:\"3\"',\n",
       "  'rating_1-9:\"5\"',\n",
       "  'rating_1-12:\"4\"',\n",
       "  'rating_1-13:\"3\"',\n",
       "  'rating_2-0:\"6\"',\n",
       "  'rating_2-1:\"6\"',\n",
       "  'rating_2-8:\"3\"',\n",
       "  'rating_2-9:\"6\"',\n",
       "  'rating_2-12:\"6\"',\n",
       "  'rating_2-13:\"5\"',\n",
       "  'rating_3-0:\"6\"',\n",
       "  'rating_3-1:\"7\"',\n",
       "  'rating_3-8:\"1\"',\n",
       "  'rating_3-9:\"7\"',\n",
       "  'rating_3-12:\"5\"',\n",
       "  'rating_3-13:\"5\"',\n",
       "  'rating_4-0:\"6\"',\n",
       "  'rating_4-1:\"6\"',\n",
       "  'rating_4-8:\"2\"',\n",
       "  'rating_4-9:\"5\"',\n",
       "  'rating_4-12:\"5\"',\n",
       "  'rating_4-13:\"6\"',\n",
       "  'rating_5-0:\"6\"',\n",
       "  'rating_5-1:\"6\"',\n",
       "  'rating_5-8:\"2\"',\n",
       "  'rating_5-9:\"7\"',\n",
       "  'rating_5-12:\"5\"',\n",
       "  'rating_5-13:\"6\"',\n",
       "  'rating_6-0:\"4\"',\n",
       "  'rating_6-1:\"4\"',\n",
       "  'rating_6-8:\"1\"',\n",
       "  'rating_6-9:\"6\"',\n",
       "  'rating_6-12:\"6\"',\n",
       "  'rating_6-13:\"2\"',\n",
       "  'rating_7-0:\"6\"',\n",
       "  'rating_7-1:\"7\"',\n",
       "  'rating_7-8:\"2\"',\n",
       "  'rating_7-9:\"6\"',\n",
       "  'rating_7-12:\"6\"',\n",
       "  'rating_7-13:\"6\"',\n",
       "  'rating_8-0:\"2\"',\n",
       "  'rating_8-1:\"3\"',\n",
       "  'rating_8-8:\"1\"',\n",
       "  'rating_8-9:\"7\"',\n",
       "  'rating_8-12:\"4\"',\n",
       "  'rating_8-13:\"4\"',\n",
       "  'rating_9-0:\"2\"',\n",
       "  'rating_9-1:\"6\"',\n",
       "  'rating_9-8:\"1\"',\n",
       "  'rating_9-9:\"7\"',\n",
       "  'rating_9-12:\"5\"',\n",
       "  'rating_9-13:\"6\"',\n",
       "  'repgrids_results1_question_2:\"Agree\"',\n",
       "  'repgrids_results1_question_1:\"Agree\"',\n",
       "  'repgrids_results2_question_1:\"Agree\"',\n",
       "  'repgrids_results2_question_2:\"Agree\"',\n",
       "  'repgrids_results2_question_3:\"Yes\"',\n",
       "  'repgrids_results3_question_1:\"Disagree\"',\n",
       "  'repgrids_results3_question_2:\"Agree\"',\n",
       "  'repgrids_results3_question_3:\"Yes\"',\n",
       "  'repgrids_results4_question_1:\"Agree\"',\n",
       "  'repgrids_results4_question_2:\"Agree\"',\n",
       "  'repgrids_results4_question_3:\"Yes\"',\n",
       "  'end_repodrid_result_question_1:\"1\"',\n",
       "  'end_repodrid_result_question_2:\"Same\"',\n",
       "  'end_repodrid_result_question_3:\"Its a little confusing the scoring\\\\n\"',\n",
       "  'identityall-0:\"identityall-negative_0\"',\n",
       "  'identityall-1:\"identityall-negative_1\"',\n",
       "  'identityall-2:\"identityall-positive_2\"',\n",
       "  'identityall-3:\"identityall-negative_3\"',\n",
       "  'identityall-5:\"identityall-negative_5\"',\n",
       "  'identityall-4:\"identityall-positive_4\"',\n",
       "  'identityall-6:\"identityall-positive_6\"',\n",
       "  'identityall-7:\"identityall-negative_7\"',\n",
       "  'identityall-9:\"identityall-negative_9\"',\n",
       "  'identityall-10:\"identityall-negative_10\"',\n",
       "  'identityall-8:\"identityall-positive_8\"',\n",
       "  'Identitiesmax5:[\"Identitiesmax5-negative_0\"',\n",
       "  'Identitiesmax5-negative_1',\n",
       "  'Identitiesmax5-negative_5',\n",
       "  'Identitiesmax5-negative_9',\n",
       "  'Identitiesmax5-negative_10]',\n",
       "  'Identitiesmax3:[{\"id\":\"Identitiesmax3-negative_9\"',\n",
       "  'text:\"Thoughtful\"',\n",
       "  'enableIf:\"{Identitiesmax5} contains \\'Identitiesmax5-negative_9\\'\"',\n",
       "  'visibleIf:\"{Identitiesmax5} contains \\'Identitiesmax5-negative_9\\' or {Identitiesmax5} contains \\'Identitiesmax5-positive_9\\'\"}',\n",
       "  '{\"id\":\"Identitiesmax3-negative_5\"',\n",
       "  'text:\"Helpful\"',\n",
       "  'enableIf:\"{Identitiesmax5} contains \\'Identitiesmax5-negative_5\\'\"',\n",
       "  'visibleIf:\"{Identitiesmax5} contains \\'Identitiesmax5-negative_5\\' or {Identitiesmax5} contains \\'Identitiesmax5-positive_5\\'\"}',\n",
       "  '{\"id\":\"Identitiesmax3-negative_1\"',\n",
       "  'text:\"Organised\"',\n",
       "  'enableIf:\"{Identitiesmax5} contains \\'Identitiesmax5-negative_1\\'\"',\n",
       "  'visibleIf:\"{Identitiesmax5} contains \\'Identitiesmax5-negative_1\\' or {Identitiesmax5} contains \\'Identitiesmax5-positive_1\\'\"}]',\n",
       "  'identity_result_page_question_1:\"Agree\"',\n",
       "  'identity_result_page_question_2:\"Agree\"',\n",
       "  'identity_result_page_question_3:\"7\"',\n",
       "  'identity_result_page_question_4:\"Same\"',\n",
       "  'identity_result_page_question_5:\"Interesting activity to reflect on the importance of those characteristics to me\"}'],\n",
       " ['sara_AV8fsR5S ',\n",
       "  ' 32 ',\n",
       "  '{\"repgridselection\":[\"element-0\"',\n",
       "  'element-1',\n",
       "  'element-12',\n",
       "  'element-11',\n",
       "  'element-8',\n",
       "  'element-9]',\n",
       "  'marital_status:\"Married\"',\n",
       "  'gender:\"Female\"',\n",
       "  'age:55',\n",
       "  'number_of_kids:4',\n",
       "  'percieved-stress0:\"almost never\"',\n",
       "  'percieved-stress1:\"almost never\"',\n",
       "  'percieved-stress2:\"sometimes\"',\n",
       "  'percieved-stress3:\"fairly often\"',\n",
       "  'percieved-stress4:\"very often\"',\n",
       "  'percieved-stress5:\"almost never\"',\n",
       "  'percieved-stress6:\"fairly often\"',\n",
       "  'percieved-stress7:\"very often\"',\n",
       "  'percieved-stress8:\"almost never\"',\n",
       "  'percieved-stress9:\"almost never\"',\n",
       "  'stressful-situations-Punctual:\"stressful\"',\n",
       "  'stressful-situations-Organised:\"not stressful\"',\n",
       "  'stressful-situations-Hardworking:\"not stressful\"',\n",
       "  'stressful-situations-TeamPlayer:\"somewhat stressful\"',\n",
       "  'stressful-situations-Serious:\"not stressful\"',\n",
       "  'stressful-situations-Playful:\"not stressful\"',\n",
       "  'stressful-situations-Thoughtful:\"somewhat stressful\"',\n",
       "  'stressful-situations-Spontaneous:\"not stressful\"',\n",
       "  'stressful-situations-Helpful:\"stressful\"',\n",
       "  'stressful-situations-Influential:\"stressful\"',\n",
       "  'stressful-situations-Fast-Paced:\"stressful\"',\n",
       "  'stressful-situations-Liberal:\"not stressful\"',\n",
       "  'stressful-situations-Conservative:\"very stressful\"',\n",
       "  'stressful-situations-Independent:\"stressful\"',\n",
       "  'stressful-situations-Compromising:\"somewhat stressful\"',\n",
       "  'stressful-situations-Opinionated:\"very stressful\"',\n",
       "  'rating_0-0:\"4\"',\n",
       "  'rating_0-1:\"7\"',\n",
       "  'rating_0-8:\"1\"',\n",
       "  'rating_0-9:\"7\"',\n",
       "  'rating_0-11:\"2\"',\n",
       "  'rating_0-12:\"6\"',\n",
       "  'rating_1-0:\"6\"',\n",
       "  'rating_1-1:\"7\"',\n",
       "  'rating_1-8:\"3\"',\n",
       "  'rating_1-9:\"7\"',\n",
       "  'rating_1-11:\"5\"',\n",
       "  'rating_1-12:\"6\"',\n",
       "  'rating_2-0:\"7\"',\n",
       "  'rating_2-1:\"7\"',\n",
       "  'rating_2-8:\"5\"',\n",
       "  'rating_2-9:\"7\"',\n",
       "  'rating_2-11:\"6\"',\n",
       "  'rating_2-12:\"7\"',\n",
       "  'rating_3-0:\"6\"',\n",
       "  'rating_3-1:\"7\"',\n",
       "  'rating_3-8:\"2\"',\n",
       "  'rating_3-9:\"7\"',\n",
       "  'rating_3-11:\"5\"',\n",
       "  'rating_3-12:\"6\"',\n",
       "  'rating_4-0:\"2\"',\n",
       "  'rating_4-1:\"4\"',\n",
       "  'rating_4-8:\"1\"',\n",
       "  'rating_4-9:\"5\"',\n",
       "  'rating_4-11:\"4\"',\n",
       "  'rating_4-12:\"5\"',\n",
       "  'rating_5-0:\"5\"',\n",
       "  'rating_5-1:\"6\"',\n",
       "  'rating_5-8:\"1\"',\n",
       "  'rating_5-9:\"6\"',\n",
       "  'rating_5-11:\"1\"',\n",
       "  'rating_5-12:\"6\"',\n",
       "  'rating_6-0:\"2\"',\n",
       "  'rating_6-1:\"3\"',\n",
       "  'rating_6-8:\"1\"',\n",
       "  'rating_6-9:\"3\"',\n",
       "  'rating_6-11:\"1\"',\n",
       "  'rating_6-12:\"5\"',\n",
       "  'rating_7-0:\"7\"',\n",
       "  'rating_7-1:\"7\"',\n",
       "  'rating_7-8:\"3\"',\n",
       "  'rating_7-9:\"7\"',\n",
       "  'rating_7-11:\"2\"',\n",
       "  'rating_7-12:\"7\"',\n",
       "  'rating_8-0:\"7\"',\n",
       "  'rating_8-1:\"7\"',\n",
       "  'rating_8-8:\"1\"',\n",
       "  'rating_8-9:\"7\"',\n",
       "  'rating_8-11:\"2\"',\n",
       "  'rating_8-12:\"4\"',\n",
       "  'rating_9-0:\"6\"',\n",
       "  'rating_9-1:\"7\"',\n",
       "  'rating_9-8:\"2\"',\n",
       "  'rating_9-9:\"6\"',\n",
       "  'rating_9-11:\"3\"',\n",
       "  'rating_9-12:\"7\"',\n",
       "  'repgrids_results1_question_1:\"Agree\"',\n",
       "  'repgrids_results1_question_2:\"Agree\"',\n",
       "  'repgrids_results2_question_1:\"Agree\"',\n",
       "  'repgrids_results2_question_2:\"Agree\"',\n",
       "  'repgrids_results2_question_3:\"Yes\"',\n",
       "  'repgrids_results3_question_1:\"Agree\"',\n",
       "  'repgrids_results3_question_2:\"Agree\"',\n",
       "  'repgrids_results3_question_3:\"Yes\"',\n",
       "  'repgrids_results4_question_1:\"Agree\"',\n",
       "  'repgrids_results4_question_2:\"Agree\"',\n",
       "  'repgrids_results4_question_3:\"Yes\"',\n",
       "  'end_repodrid_result_question_1:\"10\"',\n",
       "  'end_repodrid_result_question_2:\"Same\"',\n",
       "  'end_repodrid_result_question_3:\"If I had been asked the same questions on mié summer',\n",
       "  \" the answers would have been totally different. In summer I am stressed. Now I'm not do much. I dont see stubborn as being bad. I Aldo dont see being docile as good. I spent too many of my younger years being docile and being walked over by many people. Now\",\n",
       "  ' I dont care that much about what people think if me. If I believe something is correct I will be stubborn and stick to It. This is very hard to fill un with such microscopic writing. I find It annoying as It is hurting my eyes. Maybe you could make the letters bigger.\"',\n",
       "  'identityall-0:\"identityall-negative_0\"',\n",
       "  'identityall-1:\"identityall-positive_1\"',\n",
       "  'identityall-2:\"identityall-positive_2\"',\n",
       "  'identityall-3:\"identityall-negative_3\"',\n",
       "  'identityall-4:\"identityall-positive_4\"',\n",
       "  'identityall-5:\"identityall-negative_5\"',\n",
       "  'identityall-6:\"identityall-negative_6\"',\n",
       "  'identityall-7:\"identityall-negative_7\"',\n",
       "  'identityall-8:\"identityall-positive_8\"',\n",
       "  'identityall-9:\"identityall-negative_9\"',\n",
       "  'identityall-10:\"identityall-negative_10\"',\n",
       "  'Identitiesmax5:[\"Identitiesmax5-negative_5\"',\n",
       "  'Identitiesmax5-negative_0',\n",
       "  'Identitiesmax5-positive_2',\n",
       "  'Identitiesmax5-negative_9',\n",
       "  'Identitiesmax5-negative_6]',\n",
       "  'Identitiesmax3:[{\"id\":\"Identitiesmax3-negative_9\"',\n",
       "  'text:\"Thoughtful\"',\n",
       "  'enableIf:\"{Identitiesmax5} contains \\'Identitiesmax5-negative_9\\'\"',\n",
       "  'visibleIf:\"{Identitiesmax5} contains \\'Identitiesmax5-negative_9\\' or {Identitiesmax5} contains \\'Identitiesmax5-positive_9\\'\"}',\n",
       "  '{\"id\":\"Identitiesmax3-negative_5\"',\n",
       "  'text:\"Helpful\"',\n",
       "  'enableIf:\"{Identitiesmax5} contains \\'Identitiesmax5-negative_5\\'\"',\n",
       "  'visibleIf:\"{Identitiesmax5} contains \\'Identitiesmax5-negative_5\\' or {Identitiesmax5} contains \\'Identitiesmax5-positive_5\\'\"}',\n",
       "  '{\"id\":\"Identitiesmax3-negative_0\"',\n",
       "  'text:\"Punctual\"',\n",
       "  'enableIf:\"{Identitiesmax5} contains \\'Identitiesmax5-negative_0\\'\"',\n",
       "  'visibleIf:\"{Identitiesmax5} contains \\'Identitiesmax5-negative_0\\' or {Identitiesmax5} contains \\'Identitiesmax5-positive_0\\'\"}]',\n",
       "  'identity_result_page_question_1:\"Agree\"',\n",
       "  'identity_result_page_question_2:\"Agree\"',\n",
       "  'identity_result_page_question_3:\"10\"',\n",
       "  'identity_result_page_question_4:\"Better\"',\n",
       "  'identity_result_page_question_5:\"Its interesting información. I have never done quizes like this so never really anslized my carácter🤗\\\\nObviously there are things I need to change. I am surprised you didn\\'t have on the lista \\\\\"Unpatient - patient...\\\\\" \"}'],\n",
       " ['sara_kHykBach ',\n",
       "  ' 21 ',\n",
       "  '{\"repgridselection\":[\"element-0\"',\n",
       "  'element-1',\n",
       "  'element-11',\n",
       "  'element-12',\n",
       "  'element-8',\n",
       "  'element-13]',\n",
       "  'marital_status:\"Single\"',\n",
       "  'gender:\"Female\"',\n",
       "  'age:37',\n",
       "  'number_of_kids:2',\n",
       "  'percieved-stress0:\"almost never\"',\n",
       "  'percieved-stress1:\"almost never\"',\n",
       "  'percieved-stress2:\"almost never\"',\n",
       "  'percieved-stress3:\"sometimes\"',\n",
       "  'percieved-stress4:\"fairly often\"',\n",
       "  'percieved-stress5:\"almost never\"',\n",
       "  'percieved-stress6:\"almost never\"',\n",
       "  'percieved-stress7:\"fairly often\"',\n",
       "  'percieved-stress8:\"sometimes\"',\n",
       "  'percieved-stress9:\"never\"',\n",
       "  'stressful-situations-Punctual:\"stressful\"',\n",
       "  'stressful-situations-Organised:\"stressful\"',\n",
       "  'stressful-situations-Hardworking:\"stressful\"',\n",
       "  'stressful-situations-TeamPlayer:\"stressful\"',\n",
       "  'stressful-situations-Serious:\"stressful\"',\n",
       "  'stressful-situations-Playful:\"very stressful\"',\n",
       "  'stressful-situations-Thoughtful:\"stressful\"',\n",
       "  'stressful-situations-Spontaneous:\"stressful\"',\n",
       "  'stressful-situations-Helpful:\"stressful\"',\n",
       "  'stressful-situations-Influential:\"very stressful\"',\n",
       "  'stressful-situations-Fast-Paced:\"stressful\"',\n",
       "  'stressful-situations-Liberal:\"very stressful\"',\n",
       "  'stressful-situations-Conservative:\"stressful\"',\n",
       "  'stressful-situations-Independent:\"stressful\"',\n",
       "  'stressful-situations-Compromising:\"stressful\"',\n",
       "  'stressful-situations-Opinionated:\"stressful\"',\n",
       "  'rating_0-0:\"3\"',\n",
       "  'rating_0-1:\"6\"',\n",
       "  'rating_0-8:\"2\"',\n",
       "  'rating_0-11:\"1\"',\n",
       "  'rating_0-12:\"6\"',\n",
       "  'rating_0-13:\"5\"',\n",
       "  'rating_1-0:\"6\"',\n",
       "  'rating_1-1:\"7\"',\n",
       "  'rating_1-8:\"5\"',\n",
       "  'rating_1-11:\"6\"',\n",
       "  'rating_1-12:\"6\"',\n",
       "  'rating_1-13:\"5\"',\n",
       "  'rating_2-0:\"5\"',\n",
       "  'rating_2-1:\"7\"',\n",
       "  'rating_2-8:\"3\"',\n",
       "  'rating_2-11:\"4\"',\n",
       "  'rating_2-12:\"6\"',\n",
       "  'rating_2-13:\"6\"',\n",
       "  'rating_3-0:\"6\"',\n",
       "  'rating_3-1:\"7\"',\n",
       "  'rating_3-8:\"3\"',\n",
       "  'rating_3-11:\"6\"',\n",
       "  'rating_3-13:\"6\"',\n",
       "  'rating_3-12:\"5\"',\n",
       "  'rating_4-0:\"5\"',\n",
       "  'rating_4-1:\"6\"',\n",
       "  'rating_4-8:\"2\"',\n",
       "  'rating_4-11:\"5\"',\n",
       "  'rating_4-12:\"5\"',\n",
       "  'rating_4-13:\"5\"',\n",
       "  'rating_5-0:\"4\"',\n",
       "  'rating_5-1:\"7\"',\n",
       "  'rating_5-8:\"1\"',\n",
       "  'rating_5-11:\"2\"',\n",
       "  'rating_5-13:\"5\"',\n",
       "  'rating_5-12:\"4\"',\n",
       "  'rating_6-0:\"6\"',\n",
       "  'rating_6-1:\"7\"',\n",
       "  'rating_6-8:\"1\"',\n",
       "  'rating_6-11:\"3\"',\n",
       "  'rating_6-12:\"5\"',\n",
       "  'rating_6-13:\"7\"',\n",
       "  'rating_7-0:\"6\"',\n",
       "  'rating_7-1:\"7\"',\n",
       "  'rating_7-8:\"3\"',\n",
       "  'rating_7-11:\"5\"',\n",
       "  'rating_7-12:\"4\"',\n",
       "  'rating_7-13:\"4\"',\n",
       "  'rating_8-0:\"2\"',\n",
       "  'rating_8-1:\"7\"',\n",
       "  'rating_8-8:\"1\"',\n",
       "  'rating_8-11:\"1\"',\n",
       "  'rating_8-12:\"5\"',\n",
       "  'rating_8-13:\"5\"',\n",
       "  'rating_9-0:\"6\"',\n",
       "  'rating_9-1:\"7\"',\n",
       "  'rating_9-8:\"4\"',\n",
       "  'rating_9-11:\"4\"',\n",
       "  'rating_9-12:\"6\"',\n",
       "  'rating_9-13:\"6\"',\n",
       "  'repgrids_results1_question_1:\"Agree\"',\n",
       "  'repgrids_results1_question_2:\"Agree\"',\n",
       "  'repgrids_results2_question_1:\"Agree\"',\n",
       "  'repgrids_results2_question_2:\"Agree\"',\n",
       "  'repgrids_results2_question_3:\"Yes\"',\n",
       "  'repgrids_results3_question_1:\"Agree\"',\n",
       "  'repgrids_results3_question_2:\"Agree\"',\n",
       "  'repgrids_results3_question_3:\"Yes\"',\n",
       "  'repgrids_results4_question_1:\"Agree\"',\n",
       "  'repgrids_results4_question_2:\"Agree\"',\n",
       "  'repgrids_results4_question_3:\"Yes\"',\n",
       "  'end_repodrid_result_question_1:\"8\"',\n",
       "  'end_repodrid_result_question_2:\"Better\"',\n",
       "  'end_repodrid_result_question_3:\"Na\"',\n",
       "  'identityall-0:\"identityall-negative_0\"',\n",
       "  'identityall-1:\"identityall-negative_1\"',\n",
       "  'identityall-2:\"identityall-negative_2\"',\n",
       "  'identityall-3:\"identityall-negative_3\"',\n",
       "  'identityall-4:\"identityall-positive_4\"',\n",
       "  'identityall-5:\"identityall-negative_5\"',\n",
       "  'identityall-6:\"identityall-positive_6\"',\n",
       "  'identityall-7:\"identityall-positive_7\"',\n",
       "  'identityall-8:\"identityall-negative_8\"',\n",
       "  'identityall-9:\"identityall-negative_9\"',\n",
       "  'identityall-10:\"identityall-positive_10\"',\n",
       "  'Identitiesmax5:[\"Identitiesmax5-negative_0\"',\n",
       "  'Identitiesmax5-negative_1',\n",
       "  'Identitiesmax5-negative_5',\n",
       "  'Identitiesmax5-negative_8',\n",
       "  'Identitiesmax5-positive_4]',\n",
       "  'Identitiesmax3:[{\"id\":\"Identitiesmax3-negative_0\"',\n",
       "  'text:\"Punctual\"',\n",
       "  'enableIf:\"{Identitiesmax5} contains \\'Identitiesmax5-negative_0\\'\"',\n",
       "  'visibleIf:\"{Identitiesmax5} contains \\'Identitiesmax5-negative_0\\' or {Identitiesmax5} contains \\'Identitiesmax5-positive_0\\'\"}',\n",
       "  '{\"id\":\"Identitiesmax3-negative_1\"',\n",
       "  'text:\"Organised\"',\n",
       "  'enableIf:\"{Identitiesmax5} contains \\'Identitiesmax5-negative_1\\'\"',\n",
       "  'visibleIf:\"{Identitiesmax5} contains \\'Identitiesmax5-negative_1\\' or {Identitiesmax5} contains \\'Identitiesmax5-positive_1\\'\"}',\n",
       "  '{\"id\":\"Identitiesmax3-negative_5\"',\n",
       "  'text:\"Helpful\"',\n",
       "  'enableIf:\"{Identitiesmax5} contains \\'Identitiesmax5-negative_5\\'\"',\n",
       "  'visibleIf:\"{Identitiesmax5} contains \\'Identitiesmax5-negative_5\\' or {Identitiesmax5} contains \\'Identitiesmax5-positive_5\\'\"}]',\n",
       "  'identity_result_page_question_1:\"Disagree\"',\n",
       "  'identity_result_page_question_2:\"Agree\"',\n",
       "  'identity_result_page_question_3:\"8\"',\n",
       "  'identity_result_page_question_4:\"Same\"',\n",
       "  'identity_result_page_question_5:\"Na\"}'],\n",
       " ['sara_rpKmmOXW ',\n",
       "  ' 11 ',\n",
       "  '{\"repgridselection\":[\"element-0\"',\n",
       "  'element-1',\n",
       "  'element-2',\n",
       "  'element-13',\n",
       "  'element-8',\n",
       "  'element-9]',\n",
       "  'marital_status:\"Single\"',\n",
       "  'gender:\"Male\"',\n",
       "  'age:33',\n",
       "  'number_of_kids:0',\n",
       "  'percieved-stress0:\"almost never\"',\n",
       "  'percieved-stress1:\"sometimes\"',\n",
       "  'percieved-stress2:\"fairly often\"',\n",
       "  'percieved-stress3:\"fairly often\"',\n",
       "  'percieved-stress4:\"almost never\"',\n",
       "  'percieved-stress5:\"almost never\"',\n",
       "  'percieved-stress6:\"fairly often\"',\n",
       "  'percieved-stress7:\"sometimes\"',\n",
       "  'percieved-stress8:\"sometimes\"',\n",
       "  'percieved-stress9:\"sometimes\"',\n",
       "  'stressful-situations-Punctual:\"somewhat stressful\"',\n",
       "  'stressful-situations-Organised:\"somewhat stressful\"',\n",
       "  'stressful-situations-Hardworking:\"stressful\"',\n",
       "  'stressful-situations-TeamPlayer:\"stressful\"',\n",
       "  'stressful-situations-Serious:\"stressful\"',\n",
       "  'stressful-situations-Playful:\"very stressful\"',\n",
       "  'stressful-situations-Thoughtful:\"somewhat stressful\"',\n",
       "  'stressful-situations-Spontaneous:\"somewhat stressful\"',\n",
       "  'stressful-situations-Helpful:\"stressful\"',\n",
       "  'stressful-situations-Influential:\"stressful\"',\n",
       "  'stressful-situations-Fast-Paced:\"not stressful\"',\n",
       "  'stressful-situations-Liberal:\"somewhat stressful\"',\n",
       "  'stressful-situations-Conservative:\"somewhat stressful\"',\n",
       "  'stressful-situations-Independent:\"stressful\"',\n",
       "  'stressful-situations-Compromising:\"not stressful\"',\n",
       "  'stressful-situations-Opinionated:\"stressful\"',\n",
       "  'rating_0-0:\"5\"',\n",
       "  'rating_0-1:\"6\"',\n",
       "  'rating_0-2:\"5\"',\n",
       "  'rating_0-8:\"3\"',\n",
       "  'rating_0-9:\"6\"',\n",
       "  'rating_0-13:\"5\"',\n",
       "  'rating_1-0:\"5\"',\n",
       "  'rating_1-1:\"7\"',\n",
       "  'rating_1-2:\"4\"',\n",
       "  'rating_1-8:\"3\"',\n",
       "  'rating_1-9:\"6\"',\n",
       "  'rating_1-13:\"5\"',\n",
       "  'rating_2-0:\"3\"',\n",
       "  'rating_2-1:\"5\"',\n",
       "  'rating_2-2:\"4\"',\n",
       "  'rating_2-8:\"2\"',\n",
       "  'rating_2-9:\"5\"',\n",
       "  'rating_2-13:\"2\"',\n",
       "  'rating_3-0:\"6\"',\n",
       "  'rating_3-1:\"7\"',\n",
       "  'rating_3-2:\"5\"',\n",
       "  'rating_3-8:\"3\"',\n",
       "  'rating_3-9:\"7\"',\n",
       "  'rating_3-13:\"5\"',\n",
       "  'rating_4-0:\"7\"',\n",
       "  'rating_4-1:\"5\"',\n",
       "  'rating_4-2:\"6\"',\n",
       "  'rating_4-8:\"2\"',\n",
       "  'rating_4-9:\"7\"',\n",
       "  'rating_4-13:\"6\"',\n",
       "  'rating_5-0:\"5\"',\n",
       "  'rating_5-1:\"6\"',\n",
       "  'rating_5-2:\"5\"',\n",
       "  'rating_5-8:\"3\"',\n",
       "  'rating_5-9:\"6\"',\n",
       "  'rating_5-13:\"5\"',\n",
       "  'rating_6-0:\"2\"',\n",
       "  'rating_6-1:\"4\"',\n",
       "  'rating_6-2:\"5\"',\n",
       "  'rating_6-8:\"2\"',\n",
       "  'rating_6-9:\"4\"',\n",
       "  'rating_6-13:\"4\"',\n",
       "  'rating_7-0:\"6\"',\n",
       "  'rating_7-1:\"7\"',\n",
       "  'rating_7-2:\"6\"',\n",
       "  'rating_7-8:\"4\"',\n",
       "  'rating_7-9:\"7\"',\n",
       "  'rating_7-13:\"4\"',\n",
       "  'rating_8-0:\"5\"',\n",
       "  'rating_8-1:\"7\"',\n",
       "  'rating_8-2:\"5\"',\n",
       "  'rating_8-8:\"2\"',\n",
       "  'rating_8-9:\"6\"',\n",
       "  'rating_8-13:\"4\"',\n",
       "  'rating_9-0:\"5\"',\n",
       "  'rating_9-1:\"7\"',\n",
       "  'rating_9-2:\"4\"',\n",
       "  'rating_9-8:\"3\"',\n",
       "  'rating_9-9:\"7\"',\n",
       "  'rating_9-13:\"6\"',\n",
       "  'repgrids_results1_question_1:\"Disagree\"',\n",
       "  'repgrids_results1_question_2:\"Disagree\"',\n",
       "  'repgrids_results2_question_1:\"Disagree\"',\n",
       "  'repgrids_results2_question_2:\"Agree\"',\n",
       "  'repgrids_results2_question_3:\"Yes\"',\n",
       "  'repgrids_results3_question_1:\"Agree\"',\n",
       "  'repgrids_results3_question_2:\"Agree\"',\n",
       "  'repgrids_results3_question_3:\"Yes\"',\n",
       "  'repgrids_results4_question_1:\"Agree\"',\n",
       "  'repgrids_results4_question_2:\"Agree\"',\n",
       "  'repgrids_results4_question_3:\"Yes\"',\n",
       "  'end_repodrid_result_question_1:\"6\"',\n",
       "  'end_repodrid_result_question_2:\"Same\"',\n",
       "  'end_repodrid_result_question_3:\"It was a bit confusing (the initial results at least)\"',\n",
       "  'identityall-0:\"identityall-negative_0\"',\n",
       "  'identityall-1:\"identityall-negative_1\"',\n",
       "  'identityall-2:\"identityall-positive_2\"',\n",
       "  'identityall-3:\"identityall-positive_3\"',\n",
       "  'identityall-4:\"identityall-negative_4\"',\n",
       "  'identityall-5:\"identityall-negative_5\"',\n",
       "  'identityall-6:\"identityall-negative_6\"',\n",
       "  'identityall-7:\"identityall-negative_7\"',\n",
       "  'identityall-8:\"identityall-negative_8\"',\n",
       "  'identityall-9:\"identityall-negative_9\"',\n",
       "  'identityall-10:\"identityall-positive_10\"',\n",
       "  'Identitiesmax5:[\"Identitiesmax5-negative_8\"',\n",
       "  'Identitiesmax5-negative_1',\n",
       "  'Identitiesmax5-positive_2',\n",
       "  'Identitiesmax5-positive_3',\n",
       "  'Identitiesmax5-negative_5]',\n",
       "  'Identitiesmax3:[{\"id\":\"Identitiesmax3-negative_8\"',\n",
       "  'text:\"Liberal\"',\n",
       "  'enableIf:\"{Identitiesmax5} contains \\'Identitiesmax5-negative_8\\'\"',\n",
       "  'visibleIf:\"{Identitiesmax5} contains \\'Identitiesmax5-negative_8\\' or {Identitiesmax5} contains \\'Identitiesmax5-positive_8\\'\"}',\n",
       "  '{\"id\":\"Identitiesmax3-positive_2\"',\n",
       "  'text:\"Independent\"',\n",
       "  'enableIf:\"{Identitiesmax5} contains \\'Identitiesmax5-positive_2\\'\"',\n",
       "  'visibleIf:\"{Identitiesmax5} contains \\'Identitiesmax5-negative_2\\' or {Identitiesmax5} contains \\'Identitiesmax5-positive_2\\'\"}',\n",
       "  '{\"id\":\"Identitiesmax3-negative_5\"',\n",
       "  'text:\"Helpful\"',\n",
       "  'enableIf:\"{Identitiesmax5} contains \\'Identitiesmax5-negative_5\\'\"',\n",
       "  'visibleIf:\"{Identitiesmax5} contains \\'Identitiesmax5-negative_5\\' or {Identitiesmax5} contains \\'Identitiesmax5-positive_5\\'\"}]',\n",
       "  'identity_result_page_question_1:\"Agree\"',\n",
       "  'identity_result_page_question_2:\"Agree\"',\n",
       "  'identity_result_page_question_3:\"8\"',\n",
       "  'identity_result_page_question_4:\"Better\"',\n",
       "  'identity_result_page_question_5:\"This was more intetresting\"}'],\n",
       " ['sara_rUuWRj32 ',\n",
       "  ' 21 ',\n",
       "  '{\"repgridselection\":[\"element-0\"',\n",
       "  'element-1',\n",
       "  'element-6',\n",
       "  'element-12',\n",
       "  'element-5',\n",
       "  'element-2',\n",
       "  'element-13]',\n",
       "  'marital_status:\"Single\"',\n",
       "  'gender:\"Female\"',\n",
       "  'age:25',\n",
       "  'number_of_kids:0',\n",
       "  'percieved-stress0:\"almost never\"',\n",
       "  'percieved-stress1:\"fairly often\"',\n",
       "  'percieved-stress2:\"almost never\"',\n",
       "  'percieved-stress3:\"very often\"',\n",
       "  'percieved-stress4:\"very often\"',\n",
       "  'percieved-stress5:\"never\"',\n",
       "  'percieved-stress6:\"fairly often\"',\n",
       "  'percieved-stress7:\"fairly often\"',\n",
       "  'percieved-stress8:\"never\"',\n",
       "  'percieved-stress9:\"never\"',\n",
       "  'stressful-situations-Punctual:\"stressful\"',\n",
       "  'stressful-situations-Organised:\"somewhat stressful\"',\n",
       "  'stressful-situations-Hardworking:\"stressful\"',\n",
       "  'stressful-situations-TeamPlayer:\"somewhat stressful\"',\n",
       "  'stressful-situations-Serious:\"somewhat stressful\"',\n",
       "  'stressful-situations-Playful:\"somewhat stressful\"',\n",
       "  'stressful-situations-Thoughtful:\"stressful\"',\n",
       "  'stressful-situations-Spontaneous:\"somewhat stressful\"',\n",
       "  'stressful-situations-Helpful:\"somewhat stressful\"',\n",
       "  'stressful-situations-Influential:\"stressful\"',\n",
       "  'stressful-situations-Fast-Paced:\"stressful\"',\n",
       "  'stressful-situations-Liberal:\"somewhat stressful\"',\n",
       "  'stressful-situations-Conservative:\"stressful\"',\n",
       "  'stressful-situations-Independent:\"stressful\"',\n",
       "  'stressful-situations-Compromising:\"stressful\"',\n",
       "  'stressful-situations-Opinionated:\"somewhat stressful\"',\n",
       "  'rating_0-0:\"6\"',\n",
       "  'rating_0-1:\"6\"',\n",
       "  'rating_0-2:\"6\"',\n",
       "  'rating_0-5:\"5\"',\n",
       "  'rating_0-6:\"4\"',\n",
       "  'rating_0-12:\"6\"',\n",
       "  'rating_0-13:\"6\"',\n",
       "  'rating_1-0:\"7\"',\n",
       "  'rating_1-1:\"7\"',\n",
       "  'rating_1-2:\"6\"',\n",
       "  'rating_1-5:\"5\"',\n",
       "  'rating_1-6:\"7\"',\n",
       "  'rating_1-13:\"7\"',\n",
       "  'rating_1-12:\"5\"',\n",
       "  'rating_2-1:\"6\"',\n",
       "  'rating_2-0:\"6\"',\n",
       "  'rating_2-2:\"5\"',\n",
       "  'rating_2-5:\"3\"',\n",
       "  'rating_2-6:\"7\"',\n",
       "  'rating_2-12:\"5\"',\n",
       "  'rating_2-13:\"7\"',\n",
       "  'rating_3-1:\"7\"',\n",
       "  'rating_3-0:\"6\"',\n",
       "  'rating_3-2:\"6\"',\n",
       "  'rating_3-5:\"5\"',\n",
       "  'rating_3-6:\"7\"',\n",
       "  'rating_3-12:\"5\"',\n",
       "  'rating_3-13:\"6\"',\n",
       "  'rating_4-0:\"6\"',\n",
       "  'rating_4-1:\"6\"',\n",
       "  'rating_4-2:\"5\"',\n",
       "  'rating_4-5:\"3\"',\n",
       "  'rating_4-6:\"5\"',\n",
       "  'rating_4-12:\"7\"',\n",
       "  'rating_4-13:\"7\"',\n",
       "  'rating_5-0:\"5\"',\n",
       "  'rating_5-1:\"7\"',\n",
       "  'rating_5-2:\"6\"',\n",
       "  'rating_5-5:\"4\"',\n",
       "  'rating_5-6:\"5\"',\n",
       "  'rating_5-12:\"6\"',\n",
       "  'rating_5-13:\"6\"',\n",
       "  'rating_6-0:\"5\"',\n",
       "  'rating_6-1:\"4\"',\n",
       "  'rating_6-2:\"4\"',\n",
       "  'rating_6-5:\"3\"',\n",
       "  'rating_6-6:\"6\"',\n",
       "  'rating_6-12:\"3\"',\n",
       "  'rating_6-13:\"5\"',\n",
       "  'rating_7-0:\"6\"',\n",
       "  'rating_7-1:\"7\"',\n",
       "  'rating_7-2:\"6\"',\n",
       "  'rating_7-5:\"5\"',\n",
       "  'rating_7-6:\"6\"',\n",
       "  'rating_7-12:\"5\"',\n",
       "  'rating_7-13:\"7\"',\n",
       "  'rating_8-0:\"6\"',\n",
       "  'rating_8-1:\"6\"',\n",
       "  'rating_8-2:\"5\"',\n",
       "  'rating_8-6:\"6\"',\n",
       "  'rating_8-5:\"4\"',\n",
       "  'rating_8-12:\"6\"',\n",
       "  'rating_8-13:\"6\"',\n",
       "  'rating_9-1:\"7\"',\n",
       "  'rating_9-0:\"6\"',\n",
       "  'rating_9-2:\"7\"',\n",
       "  'rating_9-5:\"6\"',\n",
       "  'rating_9-6:\"5\"',\n",
       "  'rating_9-12:\"7\"',\n",
       "  'rating_9-13:\"6\"',\n",
       "  'repgrids_results1_question_1:\"Disagree\"',\n",
       "  'repgrids_results1_question_2:\"Agree\"',\n",
       "  'repgrids_results2_question_1:\"Disagree\"',\n",
       "  'repgrids_results2_question_2:\"Disagree\"',\n",
       "  'repgrids_results2_question_3:\"Yes\"',\n",
       "  'repgrids_results3_question_1:\"Disagree\"',\n",
       "  'repgrids_results3_question_3:\"Yes\"',\n",
       "  'repgrids_results3_question_2:\"Disagree\"',\n",
       "  'repgrids_results4_question_1:\"Agree\"',\n",
       "  'repgrids_results4_question_2:\"Disagree\"',\n",
       "  'repgrids_results4_question_3:\"Yes\"',\n",
       "  'end_repodrid_result_question_1:\"6\"',\n",
       "  'end_repodrid_result_question_2:\"Same\"',\n",
       "  'end_repodrid_result_question_3:\"No\"',\n",
       "  'identityall-0:\"identityall-negative_0\"',\n",
       "  'identityall-1:\"identityall-negative_1\"',\n",
       "  'identityall-2:\"identityall-negative_2\"',\n",
       "  'identityall-3:\"identityall-positive_3\"',\n",
       "  'identityall-4:\"identityall-positive_4\"',\n",
       "  'identityall-5:\"identityall-negative_5\"',\n",
       "  'identityall-7:\"identityall-negative_7\"',\n",
       "  'identityall-8:\"identityall-negative_8\"',\n",
       "  'identityall-9:\"identityall-negative_9\"',\n",
       "  'identityall-6:\"identityall-negative_6\"',\n",
       "  'identityall-10:\"identityall-negative_10\"',\n",
       "  'Identitiesmax5:[\"Identitiesmax5-negative_5\"',\n",
       "  'Identitiesmax5-negative_7',\n",
       "  'Identitiesmax5-negative_8',\n",
       "  'Identitiesmax5-negative_10',\n",
       "  'Identitiesmax5-negative_0]',\n",
       "  'Identitiesmax3:[{\"id\":\"Identitiesmax3-negative_5\"',\n",
       "  'text:\"Helpful\"',\n",
       "  'enableIf:\"{Identitiesmax5} contains \\'Identitiesmax5-negative_5\\'\"',\n",
       "  'visibleIf:\"{Identitiesmax5} contains \\'Identitiesmax5-negative_5\\' or {Identitiesmax5} contains \\'Identitiesmax5-positive_5\\'\"}',\n",
       "  '{\"id\":\"Identitiesmax3-negative_8\"',\n",
       "  'text:\"Liberal\"',\n",
       "  'enableIf:\"{Identitiesmax5} contains \\'Identitiesmax5-negative_8\\'\"',\n",
       "  'visibleIf:\"{Identitiesmax5} contains \\'Identitiesmax5-negative_8\\' or {Identitiesmax5} contains \\'Identitiesmax5-positive_8\\'\"}',\n",
       "  '{\"id\":\"Identitiesmax3-negative_10\"',\n",
       "  'text:\"Hardworking\"',\n",
       "  'enableIf:\"{Identitiesmax5} contains \\'Identitiesmax5-negative_10\\'\"',\n",
       "  'visibleIf:\"{Identitiesmax5} contains \\'Identitiesmax5-negative_10\\' or {Identitiesmax5} contains \\'Identitiesmax5-positive_10\\'\"}]',\n",
       "  'identity_result_page_question_1:\"Agree\"',\n",
       "  'identity_result_page_question_2:\"Agree\"',\n",
       "  'identity_result_page_question_3:\"7\"',\n",
       "  'identity_result_page_question_4:\"Same\"',\n",
       "  'identity_result_page_question_5:\"This was interesting but too short to really get useful results\"}'],\n",
       " ['sara_OnvS5W1p ',\n",
       "  ' 17 ',\n",
       "  '{\"repgridselection\":[\"element-0\"',\n",
       "  'element-1',\n",
       "  'element-8',\n",
       "  'element-2',\n",
       "  'element-12',\n",
       "  'element-3]',\n",
       "  'marital_status:\"Single\"',\n",
       "  'gender:\"Male\"',\n",
       "  'age:28',\n",
       "  'number_of_kids:0',\n",
       "  'percieved-stress0:\"almost never\"',\n",
       "  'percieved-stress1:\"almost never\"',\n",
       "  'percieved-stress2:\"sometimes\"',\n",
       "  'percieved-stress3:\"fairly often\"',\n",
       "  'percieved-stress4:\"fairly often\"',\n",
       "  'percieved-stress5:\"almost never\"',\n",
       "  'percieved-stress6:\"very often\"',\n",
       "  'percieved-stress7:\"fairly often\"',\n",
       "  'percieved-stress8:\"almost never\"',\n",
       "  'percieved-stress9:\"never\"',\n",
       "  'stressful-situations-Punctual:\"somewhat stressful\"',\n",
       "  'stressful-situations-Organised:\"not stressful\"',\n",
       "  'stressful-situations-Hardworking:\"somewhat stressful\"',\n",
       "  'stressful-situations-TeamPlayer:\"not stressful\"',\n",
       "  'stressful-situations-Serious:\"not stressful\"',\n",
       "  'stressful-situations-Playful:\"not stressful\"',\n",
       "  'stressful-situations-Thoughtful:\"not stressful\"',\n",
       "  'stressful-situations-Spontaneous:\"not stressful\"',\n",
       "  'stressful-situations-Helpful:\"somewhat stressful\"',\n",
       "  'stressful-situations-Influential:\"stressful\"',\n",
       "  'stressful-situations-Fast-Paced:\"not stressful\"',\n",
       "  'stressful-situations-Liberal:\"not stressful\"',\n",
       "  'stressful-situations-Conservative:\"somewhat stressful\"',\n",
       "  'stressful-situations-Independent:\"not stressful\"',\n",
       "  'stressful-situations-Compromising:\"not stressful\"',\n",
       "  'stressful-situations-Opinionated:\"not stressful\"',\n",
       "  'rating_0-0:\"4\"',\n",
       "  'rating_0-1:\"6\"',\n",
       "  'rating_0-2:\"3\"',\n",
       "  'rating_0-3:\"4\"',\n",
       "  'rating_0-8:\"2\"',\n",
       "  'rating_0-12:\"5\"',\n",
       "  'rating_1-0:\"5\"',\n",
       "  'rating_1-1:\"6\"',\n",
       "  'rating_1-2:\"4\"',\n",
       "  'rating_1-3:\"2\"',\n",
       "  'rating_1-8:\"2\"',\n",
       "  'rating_1-12:\"6\"',\n",
       "  'rating_2-0:\"6\"',\n",
       "  'rating_2-1:\"6\"',\n",
       "  'rating_2-2:\"6\"',\n",
       "  'rating_2-3:\"5\"',\n",
       "  'rating_2-8:\"5\"',\n",
       "  'rating_2-12:\"6\"',\n",
       "  'rating_3-0:\"6\"',\n",
       "  'rating_3-1:\"6\"',\n",
       "  'rating_3-2:\"6\"',\n",
       "  'rating_3-3:\"2\"',\n",
       "  'rating_3-8:\"3\"',\n",
       "  'rating_3-12:\"6\"',\n",
       "  'rating_4-0:\"5\"',\n",
       "  'rating_4-1:\"5\"',\n",
       "  'rating_4-2:\"5\"',\n",
       "  'rating_4-3:\"2\"',\n",
       "  'rating_4-8:\"2\"',\n",
       "  'rating_4-12:\"6\"',\n",
       "  'rating_5-0:\"5\"',\n",
       "  'rating_5-1:\"5\"',\n",
       "  'rating_5-2:\"5\"',\n",
       "  'rating_5-3:\"1\"',\n",
       "  'rating_5-8:\"1\"',\n",
       "  'rating_5-12:\"6\"',\n",
       "  'rating_6-0:\"2\"',\n",
       "  'rating_6-1:\"3\"',\n",
       "  'rating_6-2:\"2\"',\n",
       "  'rating_6-3:\"1\"',\n",
       "  'rating_6-8:\"1\"',\n",
       "  'rating_6-12:\"3\"',\n",
       "  'rating_7-0:\"6\"',\n",
       "  'rating_7-1:\"6\"',\n",
       "  'rating_7-2:\"6\"',\n",
       "  'rating_7-3:\"3\"',\n",
       "  'rating_7-8:\"3\"',\n",
       "  'rating_7-12:\"6\"',\n",
       "  'rating_8-0:\"3\"',\n",
       "  'rating_8-1:\"6\"',\n",
       "  'rating_8-2:\"3\"',\n",
       "  'rating_8-3:\"4\"',\n",
       "  'rating_8-8:\"1\"',\n",
       "  'rating_8-12:\"5\"',\n",
       "  'rating_9-0:\"3\"',\n",
       "  'rating_9-1:\"6\"',\n",
       "  'rating_9-2:\"3\"',\n",
       "  'rating_9-3:\"2\"',\n",
       "  'rating_9-8:\"1\"',\n",
       "  'rating_9-12:\"5\"',\n",
       "  'repgrids_results1_question_1:\"Agree\"',\n",
       "  'repgrids_results1_question_2:\"Agree\"',\n",
       "  'repgrids_results2_question_1:\"Agree\"',\n",
       "  'repgrids_results2_question_2:\"Agree\"',\n",
       "  'repgrids_results2_question_3:\"No\"',\n",
       "  'repgrids_results3_question_1:\"Disagree\"',\n",
       "  'repgrids_results3_question_2:\"Disagree\"',\n",
       "  'repgrids_results3_question_3:\"Yes\"',\n",
       "  'repgrids_results4_question_1:\"Disagree\"',\n",
       "  'repgrids_results4_question_2:\"Disagree\"',\n",
       "  'repgrids_results4_question_3:\"Yes\"',\n",
       "  'end_repodrid_result_question_1:\"6\"',\n",
       "  'end_repodrid_result_question_2:\"Same\"',\n",
       "  'end_repodrid_result_question_3:\"For the most part',\n",
       "  ' the results were obvious.\\\\n\"',\n",
       "  'identityall-0:\"identityall-negative_0\"',\n",
       "  'identityall-1:\"identityall-positive_1\"',\n",
       "  'identityall-2:\"identityall-positive_2\"',\n",
       "  'identityall-3:\"identityall-positive_3\"',\n",
       "  'identityall-4:\"identityall-negative_4\"',\n",
       "  'identityall-5:\"identityall-negative_5\"',\n",
       "  'identityall-6:\"identityall-negative_6\"',\n",
       "  'identityall-7:\"identityall-negative_7\"',\n",
       "  'identityall-8:\"identityall-negative_8\"',\n",
       "  'identityall-9:\"identityall-positive_9\"',\n",
       "  'identityall-10:\"identityall-positive_10\"',\n",
       "  'Identitiesmax5:[\"Identitiesmax5-positive_2\"',\n",
       "  'Identitiesmax5-negative_5',\n",
       "  'Identitiesmax5-negative_8',\n",
       "  'Identitiesmax5-negative_0',\n",
       "  'Identitiesmax5-negative_6]',\n",
       "  'Identitiesmax3:[{\"id\":\"Identitiesmax3-negative_0\"',\n",
       "  'text:\"Punctual\"',\n",
       "  'enableIf:\"{Identitiesmax5} contains \\'Identitiesmax5-negative_0\\'\"',\n",
       "  'visibleIf:\"{Identitiesmax5} contains \\'Identitiesmax5-negative_0\\' or {Identitiesmax5} contains \\'Identitiesmax5-positive_0\\'\"}',\n",
       "  '{\"id\":\"Identitiesmax3-negative_5\"',\n",
       "  'text:\"Helpful\"',\n",
       "  'enableIf:\"{Identitiesmax5} contains \\'Identitiesmax5-negative_5\\'\"',\n",
       "  'visibleIf:\"{Identitiesmax5} contains \\'Identitiesmax5-negative_5\\' or {Identitiesmax5} contains \\'Identitiesmax5-positive_5\\'\"}',\n",
       "  '{\"id\":\"Identitiesmax3-positive_2\"',\n",
       "  'text:\"Independent\"',\n",
       "  'enableIf:\"{Identitiesmax5} contains \\'Identitiesmax5-positive_2\\'\"',\n",
       "  'visibleIf:\"{Identitiesmax5} contains \\'Identitiesmax5-negative_2\\' or {Identitiesmax5} contains \\'Identitiesmax5-positive_2\\'\"}]',\n",
       "  'identity_result_page_question_1:\"Agree\"',\n",
       "  'identity_result_page_question_2:\"Agree\"',\n",
       "  'identity_result_page_question_3:\"8\"',\n",
       "  'identity_result_page_question_4:\"Same\"',\n",
       "  'identity_result_page_question_5:\"No\\\\n\"}'],\n",
       " ['sara_vkVV8CXq ',\n",
       "  ' 20 ',\n",
       "  '{\"repgridselection\":[\"element-0\"',\n",
       "  'element-1',\n",
       "  'element-12',\n",
       "  'element-8',\n",
       "  'element-9',\n",
       "  'element-13]',\n",
       "  'marital_status:\"Single\"',\n",
       "  'gender:\"Female\"',\n",
       "  'age:41',\n",
       "  'number_of_kids:2',\n",
       "  'percieved-stress0:\"almost never\"',\n",
       "  'percieved-stress1:\"never\"',\n",
       "  'percieved-stress2:\"fairly often\"',\n",
       "  'percieved-stress3:\"very often\"',\n",
       "  'percieved-stress4:\"very often\"',\n",
       "  'percieved-stress5:\"never\"',\n",
       "  'percieved-stress6:\"fairly often\"',\n",
       "  'percieved-stress7:\"fairly often\"',\n",
       "  'percieved-stress8:\"never\"',\n",
       "  'percieved-stress9:\"never\"',\n",
       "  'stressful-situations-Punctual:\"somewhat stressful\"',\n",
       "  'stressful-situations-Organised:\"not stressful\"',\n",
       "  'stressful-situations-Hardworking:\"stressful\"',\n",
       "  'stressful-situations-TeamPlayer:\"somewhat stressful\"',\n",
       "  'stressful-situations-Serious:\"not stressful\"',\n",
       "  'stressful-situations-Playful:\"somewhat stressful\"',\n",
       "  'stressful-situations-Thoughtful:\"somewhat stressful\"',\n",
       "  'stressful-situations-Spontaneous:\"not stressful\"',\n",
       "  'stressful-situations-Helpful:\"stressful\"',\n",
       "  'stressful-situations-Influential:\"somewhat stressful\"',\n",
       "  'stressful-situations-Fast-Paced:\"somewhat stressful\"',\n",
       "  'stressful-situations-Liberal:\"stressful\"',\n",
       "  'stressful-situations-Conservative:\"somewhat stressful\"',\n",
       "  'stressful-situations-Independent:\"very stressful\"',\n",
       "  'stressful-situations-Compromising:\"somewhat stressful\"',\n",
       "  'stressful-situations-Opinionated:\"somewhat stressful\"',\n",
       "  'rating_0-0:\"5\"',\n",
       "  'rating_0-1:\"7\"',\n",
       "  'rating_0-8:\"3\"',\n",
       "  'rating_0-9:\"6\"',\n",
       "  'rating_0-12:\"6\"',\n",
       "  'rating_0-13:\"6\"',\n",
       "  'rating_1-0:\"7\"',\n",
       "  'rating_1-1:\"7\"',\n",
       "  'rating_1-8:\"6\"',\n",
       "  'rating_1-9:\"7\"',\n",
       "  'rating_1-12:\"7\"',\n",
       "  'rating_1-13:\"7\"',\n",
       "  'rating_2-0:\"6\"',\n",
       "  'rating_2-1:\"7\"',\n",
       "  'rating_2-8:\"6\"',\n",
       "  'rating_2-9:\"7\"',\n",
       "  'rating_2-12:\"7\"',\n",
       "  'rating_2-13:\"7\"',\n",
       "  'rating_3-0:\"7\"',\n",
       "  'rating_3-1:\"7\"',\n",
       "  'rating_3-8:\"5\"',\n",
       "  'rating_3-9:\"7\"',\n",
       "  'rating_3-12:\"7\"',\n",
       "  'rating_3-13:\"7\"',\n",
       "  'rating_4-0:\"7\"',\n",
       "  'rating_4-1:\"7\"',\n",
       "  'rating_4-8:\"4\"',\n",
       "  'rating_4-9:\"7\"',\n",
       "  'rating_4-12:\"7\"',\n",
       "  'rating_4-13:\"7\"',\n",
       "  'rating_5-0:\"6\"',\n",
       "  'rating_5-1:\"6\"',\n",
       "  'rating_5-8:\"3\"',\n",
       "  'rating_5-9:\"6\"',\n",
       "  'rating_5-12:\"6\"',\n",
       "  'rating_5-13:\"7\"',\n",
       "  'rating_6-0:\"5\"',\n",
       "  'rating_6-1:\"4\"',\n",
       "  'rating_6-8:\"4\"',\n",
       "  'rating_6-9:\"5\"',\n",
       "  'rating_6-12:\"6\"',\n",
       "  'rating_6-13:\"5\"',\n",
       "  'rating_7-0:\"6\"',\n",
       "  'rating_7-1:\"7\"',\n",
       "  'rating_7-8:\"4\"',\n",
       "  'rating_7-9:\"7\"',\n",
       "  'rating_7-12:\"7\"',\n",
       "  'rating_7-13:\"6\"',\n",
       "  'rating_8-0:\"5\"',\n",
       "  'rating_8-1:\"7\"',\n",
       "  'rating_8-8:\"2\"',\n",
       "  'rating_8-9:\"7\"',\n",
       "  'rating_8-12:\"6\"',\n",
       "  'rating_8-13:\"6\"',\n",
       "  'rating_9-0:\"4\"',\n",
       "  'rating_9-1:\"7\"',\n",
       "  'rating_9-8:\"1\"',\n",
       "  'rating_9-9:\"6\"',\n",
       "  'rating_9-12:\"6\"',\n",
       "  'rating_9-13:\"7\"',\n",
       "  'repgrids_results1_question_1:\"Agree\"',\n",
       "  'repgrids_results1_question_2:\"Agree\"',\n",
       "  'repgrids_results2_question_1:\"Strongly agree\"',\n",
       "  'repgrids_results2_question_2:\"Strongly agree\"',\n",
       "  'repgrids_results2_question_3:\"No\"',\n",
       "  'repgrids_results3_question_1:\"Disagree\"',\n",
       "  'repgrids_results3_question_2:\"Agree\"',\n",
       "  'repgrids_results3_question_3:\"Yes\"',\n",
       "  'repgrids_results4_question_1:\"Agree\"',\n",
       "  'repgrids_results4_question_2:\"Agree\"',\n",
       "  'repgrids_results4_question_3:\"Yes\"',\n",
       "  'end_repodrid_result_question_1:\"8\"',\n",
       "  'end_repodrid_result_question_2:\"Better\"',\n",
       "  'end_repodrid_result_question_3:\"I liked the app',\n",
       "  ' and I actually thought about some people that I know (closely) that would like this app too and that would be good for them \"',\n",
       "  'identityall-0:\"identityall-positive_0\"',\n",
       "  'identityall-1:\"identityall-negative_1\"',\n",
       "  'identityall-3:\"identityall-positive_3\"',\n",
       "  'identityall-4:\"identityall-positive_4\"',\n",
       "  'identityall-5:\"identityall-negative_5\"',\n",
       "  'identityall-6:\"identityall-negative_6\"',\n",
       "  'identityall-7:\"identityall-negative_7\"',\n",
       "  'identityall-8:\"identityall-negative_8\"',\n",
       "  'identityall-9:\"identityall-positive_9\"',\n",
       "  'identityall-10:\"identityall-negative_10\"',\n",
       "  'identityall-2:\"identityall-positive_2\"',\n",
       "  'Identitiesmax5:[\"Identitiesmax5-positive_3\"',\n",
       "  'Identitiesmax5-negative_5',\n",
       "  'Identitiesmax5-negative_6',\n",
       "  'Identitiesmax5-negative_1',\n",
       "  'Identitiesmax5-positive_9]',\n",
       "  'Identitiesmax3:[{\"id\":\"Identitiesmax3-negative_5\"',\n",
       "  'text:\"Helpful\"',\n",
       "  'enableIf:\"{Identitiesmax5} contains \\'Identitiesmax5-negative_5\\'\"',\n",
       "  'visibleIf:\"{Identitiesmax5} contains \\'Identitiesmax5-negative_5\\' or {Identitiesmax5} contains \\'Identitiesmax5-positive_5\\'\"}',\n",
       "  '{\"id\":\"Identitiesmax3-positive_3\"',\n",
       "  'text:\"Playful\"',\n",
       "  'enableIf:\"{Identitiesmax5} contains \\'Identitiesmax5-positive_3\\'\"',\n",
       "  'visibleIf:\"{Identitiesmax5} contains \\'Identitiesmax5-negative_3\\' or {Identitiesmax5} contains \\'Identitiesmax5-positive_3\\'\"}',\n",
       "  '{\"id\":\"Identitiesmax3-positive_9\"',\n",
       "  'text:\"Spontaneous\"',\n",
       "  'enableIf:\"{Identitiesmax5} contains \\'Identitiesmax5-positive_9\\'\"',\n",
       "  'visibleIf:\"{Identitiesmax5} contains \\'Identitiesmax5-negative_9\\' or {Identitiesmax5} contains \\'Identitiesmax5-positive_9\\'\"}]',\n",
       "  'identity_result_page_question_1:\"Strongly agree\"',\n",
       "  'identity_result_page_question_2:\"Agree\"',\n",
       "  'identity_result_page_question_3:\"8\"',\n",
       "  'identity_result_page_question_4:\"Better\"',\n",
       "  'identity_result_page_question_5:\"Learning about oneself is interesting \"}'],\n",
       " ['sara_0vtvAoDE ',\n",
       "  ' 22 ',\n",
       "  '{\"repgridselection\":[\"element-0\"',\n",
       "  'element-1',\n",
       "  'element-13',\n",
       "  'element-9',\n",
       "  'element-2',\n",
       "  'element-8]',\n",
       "  'marital_status:\"Single\"',\n",
       "  'gender:\"Female\"',\n",
       "  'age:47',\n",
       "  'number_of_kids:0',\n",
       "  'percieved-stress0:\"almost never\"',\n",
       "  'percieved-stress1:\"almost never\"',\n",
       "  'percieved-stress2:\"sometimes\"',\n",
       "  'percieved-stress3:\"fairly often\"',\n",
       "  'percieved-stress4:\"fairly often\"',\n",
       "  'percieved-stress5:\"sometimes\"',\n",
       "  'percieved-stress7:\"fairly often\"',\n",
       "  'percieved-stress6:\"fairly often\"',\n",
       "  'percieved-stress8:\"fairly often\"',\n",
       "  'percieved-stress9:\"sometimes\"',\n",
       "  'stressful-situations-Punctual:\"stressful\"',\n",
       "  'stressful-situations-Organised:\"not stressful\"',\n",
       "  'stressful-situations-Hardworking:\"somewhat stressful\"',\n",
       "  'stressful-situations-TeamPlayer:\"not stressful\"',\n",
       "  'stressful-situations-Serious:\"not stressful\"',\n",
       "  'stressful-situations-Playful:\"not stressful\"',\n",
       "  'stressful-situations-Thoughtful:\"somewhat stressful\"',\n",
       "  'stressful-situations-Spontaneous:\"not stressful\"',\n",
       "  'stressful-situations-Helpful:\"not stressful\"',\n",
       "  'stressful-situations-Influential:\"somewhat stressful\"',\n",
       "  'stressful-situations-Fast-Paced:\"somewhat stressful\"',\n",
       "  'stressful-situations-Liberal:\"not stressful\"',\n",
       "  'stressful-situations-Conservative:\"somewhat stressful\"',\n",
       "  'stressful-situations-Independent:\"somewhat stressful\"',\n",
       "  'stressful-situations-Compromising:\"somewhat stressful\"',\n",
       "  'stressful-situations-Opinionated:\"stressful\"',\n",
       "  'rating_0-0:\"5\"',\n",
       "  'rating_0-1:\"7\"',\n",
       "  'rating_0-2:\"6\"',\n",
       "  'rating_0-8:\"4\"',\n",
       "  'rating_0-9:\"7\"',\n",
       "  'rating_0-13:\"6\"',\n",
       "  'rating_1-0:\"6\"',\n",
       "  'rating_1-1:\"6\"',\n",
       "  'rating_1-2:\"5\"',\n",
       "  'rating_1-8:\"4\"',\n",
       "  'rating_1-9:\"6\"',\n",
       "  'rating_1-13:\"6\"',\n",
       "  'rating_2-0:\"6\"',\n",
       "  'rating_2-1:\"6\"',\n",
       "  'rating_2-2:\"6\"',\n",
       "  'rating_2-8:\"4\"',\n",
       "  'rating_2-9:\"6\"',\n",
       "  'rating_2-13:\"6\"',\n",
       "  'rating_3-0:\"6\"',\n",
       "  'rating_3-1:\"6\"',\n",
       "  'rating_3-2:\"7\"',\n",
       "  'rating_3-8:\"4\"',\n",
       "  'rating_3-9:\"7\"',\n",
       "  'rating_3-13:\"6\"',\n",
       "  'rating_4-0:\"6\"',\n",
       "  'rating_4-1:\"6\"',\n",
       "  'rating_4-2:\"6\"',\n",
       "  'rating_4-8:\"4\"',\n",
       "  'rating_4-9:\"6\"',\n",
       "  'rating_4-13:\"6\"',\n",
       "  'rating_5-0:\"6\"',\n",
       "  'rating_5-1:\"6\"',\n",
       "  'rating_5-2:\"6\"',\n",
       "  'rating_5-8:\"3\"',\n",
       "  'rating_5-9:\"7\"',\n",
       "  'rating_5-13:\"6\"',\n",
       "  'rating_6-0:\"3\"',\n",
       "  'rating_6-1:\"3\"',\n",
       "  'rating_6-2:\"3\"',\n",
       "  'rating_6-8:\"2\"',\n",
       "  'rating_6-9:\"4\"',\n",
       "  'rating_6-13:\"4\"',\n",
       "  'rating_7-0:\"5\"',\n",
       "  'rating_7-1:\"6\"',\n",
       "  'rating_7-2:\"6\"',\n",
       "  'rating_7-8:\"4\"',\n",
       "  'rating_7-9:\"7\"',\n",
       "  'rating_7-13:\"6\"',\n",
       "  'rating_8-0:\"5\"',\n",
       "  'rating_8-1:\"6\"',\n",
       "  'rating_8-2:\"6\"',\n",
       "  'rating_8-8:\"3\"',\n",
       "  'rating_8-9:\"7\"',\n",
       "  'rating_8-13:\"6\"',\n",
       "  'rating_9-0:\"6\"',\n",
       "  'rating_9-1:\"7\"',\n",
       "  'rating_9-2:\"6\"',\n",
       "  'rating_9-8:\"3\"',\n",
       "  'rating_9-9:\"7\"',\n",
       "  'rating_9-13:\"5\"',\n",
       "  'repgrids_results1_question_1:\"Agree\"',\n",
       "  'repgrids_results1_question_2:\"Agree\"',\n",
       "  'repgrids_results2_question_1:\"Agree\"',\n",
       "  'repgrids_results2_question_2:\"Agree\"',\n",
       "  'repgrids_results2_question_3:\"Yes\"',\n",
       "  'repgrids_results3_question_1:\"Agree\"',\n",
       "  'repgrids_results3_question_2:\"Agree\"',\n",
       "  'repgrids_results3_question_3:\"Yes\"',\n",
       "  'repgrids_results4_question_1:\"Agree\"',\n",
       "  'repgrids_results4_question_2:\"Agree\"',\n",
       "  'repgrids_results4_question_3:\"No\"',\n",
       "  'end_repodrid_result_question_1:\"4\"',\n",
       "  'end_repodrid_result_question_2:\"Same\"',\n",
       "  'end_repodrid_result_question_3:\"I fell like whilst I always strive to do and be my best',\n",
       "  ' there are going to be some days that are better than others',\n",
       "  ' and things that are outside of my control may effect that\"',\n",
       "  'identityall-0:\"identityall-negative_0\"',\n",
       "  'identityall-1:\"identityall-positive_1\"',\n",
       "  'identityall-2:\"identityall-positive_2\"',\n",
       "  'identityall-3:\"identityall-negative_3\"',\n",
       "  'identityall-4:\"identityall-negative_4\"',\n",
       "  'identityall-5:\"identityall-negative_5\"',\n",
       "  'identityall-6:\"identityall-negative_6\"',\n",
       "  'identityall-7:\"identityall-negative_7\"',\n",
       "  'identityall-8:\"identityall-negative_8\"',\n",
       "  'identityall-9:\"identityall-negative_9\"',\n",
       "  'identityall-10:\"identityall-negative_10\"',\n",
       "  'Identitiesmax5:[\"Identitiesmax5-negative_0\"',\n",
       "  'Identitiesmax5-positive_2',\n",
       "  'Identitiesmax5-negative_5',\n",
       "  'Identitiesmax5-negative_8',\n",
       "  'Identitiesmax5-negative_10]',\n",
       "  'Identitiesmax3:[{\"id\":\"Identitiesmax3-positive_2\"',\n",
       "  'text:\"Independent\"',\n",
       "  'enableIf:\"{Identitiesmax5} contains \\'Identitiesmax5-positive_2\\'\"',\n",
       "  'visibleIf:\"{Identitiesmax5} contains \\'Identitiesmax5-negative_2\\' or {Identitiesmax5} contains \\'Identitiesmax5-positive_2\\'\"}',\n",
       "  '{\"id\":\"Identitiesmax3-negative_8\"',\n",
       "  'text:\"Liberal\"',\n",
       "  'enableIf:\"{Identitiesmax5} contains \\'Identitiesmax5-negative_8\\'\"',\n",
       "  'visibleIf:\"{Identitiesmax5} contains \\'Identitiesmax5-negative_8\\' or {Identitiesmax5} contains \\'Identitiesmax5-positive_8\\'\"}',\n",
       "  '{\"id\":\"Identitiesmax3-negative_10\"',\n",
       "  'text:\"Hardworking\"',\n",
       "  'enableIf:\"{Identitiesmax5} contains \\'Identitiesmax5-negative_10\\'\"',\n",
       "  'visibleIf:\"{Identitiesmax5} contains \\'Identitiesmax5-negative_10\\' or {Identitiesmax5} contains \\'Identitiesmax5-positive_10\\'\"}]',\n",
       "  'identity_result_page_question_1:\"Agree\"',\n",
       "  'identity_result_page_question_2:\"Agree\"',\n",
       "  'identity_result_page_question_3:\"4\"',\n",
       "  'identity_result_page_question_4:\"Same\"',\n",
       "  'identity_result_page_question_5:\"It would depend on the context\"}'],\n",
       " ['sara_O91wpu4M ',\n",
       "  ' 27 ',\n",
       "  '{\"repgridselection\":[\"element-0\"',\n",
       "  'element-1',\n",
       "  'element-8',\n",
       "  'element-13',\n",
       "  'element-12',\n",
       "  'element-9]',\n",
       "  'marital_status:\"Married\"',\n",
       "  'gender:\"Female\"',\n",
       "  'age:36',\n",
       "  'number_of_kids:2',\n",
       "  'percieved-stress0:\"fairly often\"',\n",
       "  'percieved-stress1:\"fairly often\"',\n",
       "  'percieved-stress2:\"fairly often\"',\n",
       "  'percieved-stress3:\"sometimes\"',\n",
       "  'percieved-stress4:\"almost never\"',\n",
       "  'percieved-stress5:\"fairly often\"',\n",
       "  'percieved-stress6:\"sometimes\"',\n",
       "  'percieved-stress7:\"sometimes\"',\n",
       "  'percieved-stress8:\"fairly often\"',\n",
       "  'percieved-stress9:\"fairly often\"',\n",
       "  'stressful-situations-Punctual:\"stressful\"',\n",
       "  'stressful-situations-Organised:\"not stressful\"',\n",
       "  'stressful-situations-Hardworking:\"stressful\"',\n",
       "  'stressful-situations-TeamPlayer:\"stressful\"',\n",
       "  'stressful-situations-Serious:\"not stressful\"',\n",
       "  'stressful-situations-Playful:\"not stressful\"',\n",
       "  'stressful-situations-Thoughtful:\"very stressful\"',\n",
       "  'stressful-situations-Spontaneous:\"not stressful\"',\n",
       "  'stressful-situations-Helpful:\"very stressful\"',\n",
       "  'stressful-situations-Influential:\"very stressful\"',\n",
       "  'stressful-situations-Fast-Paced:\"very stressful\"',\n",
       "  'stressful-situations-Liberal:\"stressful\"',\n",
       "  'stressful-situations-Conservative:\"somewhat stressful\"',\n",
       "  'stressful-situations-Independent:\"not stressful\"',\n",
       "  'stressful-situations-Compromising:\"very stressful\"',\n",
       "  'stressful-situations-Opinionated:\"not stressful\"',\n",
       "  'rating_0-0:\"5\"',\n",
       "  'rating_0-1:\"7\"',\n",
       "  'rating_0-8:\"3\"',\n",
       "  'rating_0-9:\"6\"',\n",
       "  'rating_0-12:\"4\"',\n",
       "  'rating_0-13:\"3\"',\n",
       "  'rating_1-0:\"6\"',\n",
       "  'rating_1-1:\"7\"',\n",
       "  'rating_1-8:\"7\"',\n",
       "  'rating_1-9:\"7\"',\n",
       "  'rating_1-12:\"7\"',\n",
       "  'rating_1-13:\"2\"',\n",
       "  'rating_2-0:\"5\"',\n",
       "  'rating_2-1:\"7\"',\n",
       "  'rating_2-8:\"1\"',\n",
       "  'rating_2-9:\"6\"',\n",
       "  'rating_2-12:\"5\"',\n",
       "  'rating_2-13:\"1\"',\n",
       "  'rating_3-0:\"2\"',\n",
       "  'rating_3-1:\"7\"',\n",
       "  'rating_3-8:\"1\"',\n",
       "  'rating_3-9:\"3\"',\n",
       "  'rating_3-12:\"4\"',\n",
       "  'rating_3-13:\"1\"',\n",
       "  'rating_4-0:\"3\"',\n",
       "  'rating_4-1:\"5\"',\n",
       "  'rating_4-8:\"2\"',\n",
       "  'rating_4-9:\"4\"',\n",
       "  'rating_4-12:\"7\"',\n",
       "  'rating_4-13:\"2\"',\n",
       "  'rating_5-0:\"2\"',\n",
       "  'rating_5-1:\"6\"',\n",
       "  'rating_5-8:\"1\"',\n",
       "  'rating_5-9:\"4\"',\n",
       "  'rating_5-12:\"5\"',\n",
       "  'rating_5-13:\"2\"',\n",
       "  'rating_6-0:\"3\"',\n",
       "  'rating_6-1:\"5\"',\n",
       "  'rating_6-8:\"2\"',\n",
       "  'rating_6-9:\"7\"',\n",
       "  'rating_6-12:\"3\"',\n",
       "  'rating_6-13:\"1\"',\n",
       "  'rating_7-0:\"5\"',\n",
       "  'rating_7-1:\"7\"',\n",
       "  'rating_7-8:\"5\"',\n",
       "  'rating_7-9:\"6\"',\n",
       "  'rating_7-12:\"4\"',\n",
       "  'rating_7-13:\"2\"',\n",
       "  'rating_8-0:\"1\"',\n",
       "  'rating_8-1:\"7\"',\n",
       "  'rating_8-8:\"1\"',\n",
       "  'rating_8-9:\"5\"',\n",
       "  'rating_8-12:\"4\"',\n",
       "  'rating_8-13:\"1\"',\n",
       "  'rating_9-0:\"6\"',\n",
       "  'rating_9-1:\"7\"',\n",
       "  'rating_9-8:\"5\"',\n",
       "  'rating_9-9:\"7\"',\n",
       "  'rating_9-12:\"6\"',\n",
       "  'rating_9-13:\"2\"',\n",
       "  'repgrids_results1_question_1:\"Agree\"',\n",
       "  'repgrids_results1_question_2:\"Strongly agree\"',\n",
       "  'repgrids_results2_question_1:\"Agree\"',\n",
       "  'repgrids_results2_question_2:\"Strongly agree\"',\n",
       "  'repgrids_results2_question_3:\"Yes\"',\n",
       "  'repgrids_results3_question_1:\"Disagree\"',\n",
       "  'repgrids_results3_question_2:\"Agree\"',\n",
       "  'repgrids_results3_question_3:\"Yes\"',\n",
       "  'repgrids_results4_question_1:\"Strongly agree\"',\n",
       "  'repgrids_results4_question_2:\"Strongly agree\"',\n",
       "  'repgrids_results4_question_3:\"Yes\"',\n",
       "  'end_repodrid_result_question_1:\"10\"',\n",
       "  'end_repodrid_result_question_2:\"Better\"',\n",
       "  'end_repodrid_result_question_3:\"I think this is a very good activity because it shows the good things of myself and sometimes I forget about them as I just focus on the bad ones. \"',\n",
       "  'identityall-0:\"identityall-negative_0\"',\n",
       "  'identityall-1:\"identityall-negative_1\"',\n",
       "  'identityall-2:\"identityall-positive_2\"',\n",
       "  'identityall-3:\"identityall-negative_3\"',\n",
       "  'identityall-4:\"identityall-positive_4\"',\n",
       "  'identityall-5:\"identityall-negative_5\"',\n",
       "  'identityall-6:\"identityall-negative_6\"',\n",
       "  'identityall-7:\"identityall-positive_7\"',\n",
       "  'identityall-8:\"identityall-positive_8\"',\n",
       "  'identityall-9:\"identityall-negative_9\"',\n",
       "  'identityall-10:\"identityall-negative_10\"',\n",
       "  'Identitiesmax5:[\"Identitiesmax5-negative_0\"',\n",
       "  'Identitiesmax5-negative_1',\n",
       "  'Identitiesmax5-negative_5',\n",
       "  'Identitiesmax5-negative_9',\n",
       "  'Identitiesmax5-negative_10]',\n",
       "  'Identitiesmax3:[{\"id\":\"Identitiesmax3-negative_10\"',\n",
       "  'text:\"Hardworking\"',\n",
       "  'enableIf:\"{Identitiesmax5} contains \\'Identitiesmax5-negative_10\\'\"',\n",
       "  'visibleIf:\"{Identitiesmax5} contains \\'Identitiesmax5-negative_10\\' or {Identitiesmax5} contains \\'Identitiesmax5-positive_10\\'\"}',\n",
       "  '{\"id\":\"Identitiesmax3-negative_1\"',\n",
       "  'text:\"Organised\"',\n",
       "  'enableIf:\"{Identitiesmax5} contains \\'Identitiesmax5-negative_1\\'\"',\n",
       "  'visibleIf:\"{Identitiesmax5} contains \\'Identitiesmax5-negative_1\\' or {Identitiesmax5} contains \\'Identitiesmax5-positive_1\\'\"}',\n",
       "  '{\"id\":\"Identitiesmax3-negative_0\"',\n",
       "  'text:\"Punctual\"',\n",
       "  'enableIf:\"{Identitiesmax5} contains \\'Identitiesmax5-negative_0\\'\"',\n",
       "  'visibleIf:\"{Identitiesmax5} contains \\'Identitiesmax5-negative_0\\' or {Identitiesmax5} contains \\'Identitiesmax5-positive_0\\'\"}]',\n",
       "  'identity_result_page_question_1:\"Strongly agree\"',\n",
       "  'identity_result_page_question_2:\"Strongly agree\"',\n",
       "  'identity_result_page_question_3:\"10\"',\n",
       "  'identity_result_page_question_4:\"Better\"',\n",
       "  'identity_result_page_question_5:\"Some situations mentioned do not make me feel stressed but they do make me feel very angry. In my opinion these are two different aspects as anger dissappears quicker while stress can last all day (or during many days). Or',\n",
       "  ' when I\\'m angry I can sleep but I can\\'t when I\\'m stressed \"}'],\n",
       " ['sara_3YrcrRpk ',\n",
       "  ' 25 ',\n",
       "  '{\"repgridselection\":[\"element-0\"',\n",
       "  'element-1',\n",
       "  'element-11',\n",
       "  'element-3',\n",
       "  'element-8',\n",
       "  'element-12]',\n",
       "  'marital_status:\"Married\"',\n",
       "  'gender:\"Female\"',\n",
       "  'age:49',\n",
       "  'number_of_kids:2',\n",
       "  'percieved-stress0:\"almost never\"',\n",
       "  'percieved-stress1:\"sometimes\"',\n",
       "  'percieved-stress2:\"sometimes\"',\n",
       "  'percieved-stress3:\"sometimes\"',\n",
       "  'percieved-stress4:\"sometimes\"',\n",
       "  'percieved-stress5:\"sometimes\"',\n",
       "  'percieved-stress6:\"almost never\"',\n",
       "  'percieved-stress7:\"sometimes\"',\n",
       "  'percieved-stress8:\"almost never\"',\n",
       "  'percieved-stress9:\"sometimes\"',\n",
       "  'stressful-situations-Punctual:\"somewhat stressful\"',\n",
       "  'stressful-situations-Organised:\"not stressful\"',\n",
       "  'stressful-situations-Hardworking:\"stressful\"',\n",
       "  'stressful-situations-TeamPlayer:\"somewhat stressful\"',\n",
       "  'stressful-situations-Serious:\"somewhat stressful\"',\n",
       "  'stressful-situations-Playful:\"stressful\"',\n",
       "  'stressful-situations-Thoughtful:\"somewhat stressful\"',\n",
       "  'stressful-situations-Spontaneous:\"somewhat stressful\"',\n",
       "  'stressful-situations-Helpful:\"somewhat stressful\"',\n",
       "  'stressful-situations-Influential:\"stressful\"',\n",
       "  'stressful-situations-Fast-Paced:\"somewhat stressful\"',\n",
       "  'stressful-situations-Liberal:\"somewhat stressful\"',\n",
       "  'stressful-situations-Conservative:\"not stressful\"',\n",
       "  'stressful-situations-Independent:\"somewhat stressful\"',\n",
       "  'stressful-situations-Compromising:\"somewhat stressful\"',\n",
       "  'stressful-situations-Opinionated:\"stressful\"',\n",
       "  'rating_0-0:\"4\"',\n",
       "  'rating_0-1:\"7\"',\n",
       "  'rating_0-3:\"3\"',\n",
       "  'rating_0-8:\"2\"',\n",
       "  'rating_0-11:\"1\"',\n",
       "  'rating_0-12:\"5\"',\n",
       "  'rating_1-0:\"5\"',\n",
       "  'rating_1-1:\"7\"',\n",
       "  'rating_1-3:\"5\"',\n",
       "  'rating_1-8:\"4\"',\n",
       "  'rating_1-11:\"4\"',\n",
       "  'rating_1-12:\"6\"',\n",
       "  'rating_2-0:\"4\"',\n",
       "  'rating_2-1:\"5\"',\n",
       "  'rating_2-3:\"3\"',\n",
       "  'rating_2-8:\"3\"',\n",
       "  'rating_2-11:\"3\"',\n",
       "  'rating_2-12:\"5\"',\n",
       "  'rating_3-0:\"6\"',\n",
       "  'rating_3-1:\"6\"',\n",
       "  'rating_3-3:\"5\"',\n",
       "  'rating_3-8:\"4\"',\n",
       "  'rating_3-11:\"4\"',\n",
       "  'rating_3-12:\"5\"',\n",
       "  'rating_4-0:\"5\"',\n",
       "  'rating_4-1:\"4\"',\n",
       "  'rating_4-3:\"2\"',\n",
       "  'rating_4-8:\"1\"',\n",
       "  'rating_4-11:\"1\"',\n",
       "  'rating_4-12:\"5\"',\n",
       "  'rating_5-0:\"4\"',\n",
       "  'rating_5-1:\"6\"',\n",
       "  'rating_5-3:\"2\"',\n",
       "  'rating_5-8:\"1\"',\n",
       "  'rating_5-11:\"2\"',\n",
       "  'rating_5-12:\"5\"',\n",
       "  'rating_6-0:\"5\"',\n",
       "  'rating_6-1:\"4\"',\n",
       "  'rating_6-3:\"6\"',\n",
       "  'rating_6-8:\"7\"',\n",
       "  'rating_6-11:\"7\"',\n",
       "  'rating_6-12:\"6\"',\n",
       "  'rating_7-0:\"7\"',\n",
       "  'rating_7-1:\"7\"',\n",
       "  'rating_7-3:\"4\"',\n",
       "  'rating_7-8:\"4\"',\n",
       "  'rating_7-11:\"4\"',\n",
       "  'rating_7-12:\"5\"',\n",
       "  'rating_8-0:\"3\"',\n",
       "  'rating_8-1:\"6\"',\n",
       "  'rating_8-3:\"5\"',\n",
       "  'rating_8-8:\"1\"',\n",
       "  'rating_8-11:\"4\"',\n",
       "  'rating_8-12:\"5\"',\n",
       "  'rating_9-0:\"5\"',\n",
       "  'rating_9-1:\"7\"',\n",
       "  'rating_9-3:\"4\"',\n",
       "  'rating_9-8:\"3\"',\n",
       "  'rating_9-11:\"1\"',\n",
       "  'rating_9-12:\"5\"',\n",
       "  'repgrids_results1_question_1:\"Agree\"',\n",
       "  'repgrids_results1_question_2:\"Agree\"',\n",
       "  'repgrids_results2_question_1:\"Strongly agree\"',\n",
       "  'repgrids_results2_question_2:\"Strongly agree\"',\n",
       "  'repgrids_results2_question_3:\"Yes\"',\n",
       "  'repgrids_results3_question_1:\"Agree\"',\n",
       "  'repgrids_results3_question_2:\"Agree\"',\n",
       "  'repgrids_results3_question_3:\"Yes\"',\n",
       "  'repgrids_results4_question_1:\"Agree\"',\n",
       "  'repgrids_results4_question_2:\"Agree\"',\n",
       "  'repgrids_results4_question_3:\"Yes\"',\n",
       "  'end_repodrid_result_question_1:\"8\"',\n",
       "  'end_repodrid_result_question_2:\"Better\"',\n",
       "  'end_repodrid_result_question_3:\"Some of the information given I was aware of',\n",
       "  ' but it is satisfying to see that the grid supported it. \"',\n",
       "  'identityall-0:\"identityall-positive_0\"',\n",
       "  'identityall-1:\"identityall-negative_1\"',\n",
       "  'identityall-2:\"identityall-negative_2\"',\n",
       "  'identityall-3:\"identityall-negative_3\"',\n",
       "  'identityall-4:\"identityall-positive_4\"',\n",
       "  'identityall-5:\"identityall-negative_5\"',\n",
       "  'identityall-6:\"identityall-positive_6\"',\n",
       "  'identityall-8:\"identityall-negative_8\"',\n",
       "  'identityall-7:\"identityall-negative_7\"',\n",
       "  'identityall-9:\"identityall-negative_9\"',\n",
       "  'identityall-10:\"identityall-negative_10\"',\n",
       "  'Identitiesmax5:[\"Identitiesmax5-negative_1\"',\n",
       "  'Identitiesmax5-negative_9',\n",
       "  'Identitiesmax5-negative_10',\n",
       "  'Identitiesmax5-negative_8',\n",
       "  'Identitiesmax5-negative_5]',\n",
       "  'Identitiesmax3:[{\"id\":\"Identitiesmax3-negative_10\"',\n",
       "  'text:\"Hardworking\"',\n",
       "  'enableIf:\"{Identitiesmax5} contains \\'Identitiesmax5-negative_10\\'\"',\n",
       "  'visibleIf:\"{Identitiesmax5} contains \\'Identitiesmax5-negative_10\\' or {Identitiesmax5} contains \\'Identitiesmax5-positive_10\\'\"}',\n",
       "  '{\"id\":\"Identitiesmax3-negative_8\"',\n",
       "  'text:\"Liberal\"',\n",
       "  'enableIf:\"{Identitiesmax5} contains \\'Identitiesmax5-negative_8\\'\"',\n",
       "  'visibleIf:\"{Identitiesmax5} contains \\'Identitiesmax5-negative_8\\' or {Identitiesmax5} contains \\'Identitiesmax5-positive_8\\'\"}',\n",
       "  '{\"id\":\"Identitiesmax3-negative_1\"',\n",
       "  'text:\"Organised\"',\n",
       "  'enableIf:\"{Identitiesmax5} contains \\'Identitiesmax5-negative_1\\'\"',\n",
       "  'visibleIf:\"{Identitiesmax5} contains \\'Identitiesmax5-negative_1\\' or {Identitiesmax5} contains \\'Identitiesmax5-positive_1\\'\"}]',\n",
       "  'identity_result_page_question_1:\"Agree\"',\n",
       "  'identity_result_page_question_2:\"Agree\"',\n",
       "  'identity_result_page_question_3:\"8\"',\n",
       "  'identity_result_page_question_4:\"Same\"',\n",
       "  'identity_result_page_question_5:\"Interesting activity as it makes you think a lot about the characteristics important to you. \"}'],\n",
       " ['sara_46sE0DEF ',\n",
       "  ' 16 ',\n",
       "  '{\"repgridselection\":[\"element-0\"',\n",
       "  'element-1',\n",
       "  'element-11',\n",
       "  'element-2',\n",
       "  'element-8',\n",
       "  'element-12]',\n",
       "  'marital_status:\"Married\"',\n",
       "  'gender:\"Male\"',\n",
       "  'age:51',\n",
       "  'number_of_kids:1',\n",
       "  'percieved-stress0:\"sometimes\"',\n",
       "  'percieved-stress1:\"sometimes\"',\n",
       "  'percieved-stress2:\"sometimes\"',\n",
       "  'percieved-stress3:\"very often\"',\n",
       "  'percieved-stress4:\"sometimes\"',\n",
       "  'percieved-stress5:\"almost never\"',\n",
       "  'percieved-stress6:\"sometimes\"',\n",
       "  'percieved-stress7:\"fairly often\"',\n",
       "  'percieved-stress8:\"sometimes\"',\n",
       "  'percieved-stress9:\"sometimes\"',\n",
       "  'stressful-situations-Punctual:\"somewhat stressful\"',\n",
       "  'stressful-situations-Organised:\"somewhat stressful\"',\n",
       "  'stressful-situations-Hardworking:\"somewhat stressful\"',\n",
       "  'stressful-situations-TeamPlayer:\"not stressful\"',\n",
       "  'stressful-situations-Serious:\"not stressful\"',\n",
       "  'stressful-situations-Playful:\"not stressful\"',\n",
       "  'stressful-situations-Thoughtful:\"somewhat stressful\"',\n",
       "  'stressful-situations-Spontaneous:\"not stressful\"',\n",
       "  'stressful-situations-Helpful:\"not stressful\"',\n",
       "  'stressful-situations-Influential:\"somewhat stressful\"',\n",
       "  'stressful-situations-Fast-Paced:\"not stressful\"',\n",
       "  'stressful-situations-Liberal:\"somewhat stressful\"',\n",
       "  'stressful-situations-Conservative:\"somewhat stressful\"',\n",
       "  'stressful-situations-Independent:\"stressful\"',\n",
       "  'stressful-situations-Compromising:\"not stressful\"',\n",
       "  'stressful-situations-Opinionated:\"stressful\"',\n",
       "  'rating_0-0:\"5\"',\n",
       "  'rating_0-1:\"7\"',\n",
       "  'rating_0-2:\"6\"',\n",
       "  'rating_0-8:\"4\"',\n",
       "  'rating_0-11:\"4\"',\n",
       "  'rating_0-12:\"6\"',\n",
       "  'rating_1-0:\"6\"',\n",
       "  'rating_1-1:\"7\"',\n",
       "  'rating_1-2:\"6\"',\n",
       "  'rating_1-8:\"4\"',\n",
       "  'rating_1-11:\"5\"',\n",
       "  'rating_1-12:\"6\"',\n",
       "  'rating_2-0:\"5\"',\n",
       "  'rating_2-1:\"7\"',\n",
       "  'rating_2-2:\"6\"',\n",
       "  'rating_2-8:\"4\"',\n",
       "  'rating_2-11:\"3\"',\n",
       "  'rating_2-12:\"6\"',\n",
       "  'rating_3-0:\"7\"',\n",
       "  'rating_3-1:\"7\"',\n",
       "  'rating_3-2:\"7\"',\n",
       "  'rating_3-8:\"5\"',\n",
       "  'rating_3-11:\"6\"',\n",
       "  'rating_3-12:\"6\"',\n",
       "  'rating_4-0:\"5\"',\n",
       "  'rating_4-1:\"4\"',\n",
       "  'rating_4-2:\"5\"',\n",
       "  'rating_4-8:\"5\"',\n",
       "  'rating_4-11:\"5\"',\n",
       "  'rating_4-12:\"6\"',\n",
       "  'rating_5-0:\"4\"',\n",
       "  'rating_5-1:\"6\"',\n",
       "  'rating_5-2:\"5\"',\n",
       "  'rating_5-8:\"3\"',\n",
       "  'rating_5-11:\"4\"',\n",
       "  'rating_5-12:\"5\"',\n",
       "  'rating_6-0:\"4\"',\n",
       "  'rating_6-1:\"4\"',\n",
       "  'rating_6-2:\"4\"',\n",
       "  'rating_6-8:\"6\"',\n",
       "  'rating_6-11:\"4\"',\n",
       "  'rating_6-12:\"5\"',\n",
       "  'rating_7-0:\"6\"',\n",
       "  'rating_7-1:\"7\"',\n",
       "  'rating_7-2:\"6\"',\n",
       "  'rating_7-8:\"4\"',\n",
       "  'rating_7-11:\"6\"',\n",
       "  'rating_7-12:\"6\"',\n",
       "  'rating_8-0:\"5\"',\n",
       "  'rating_8-1:\"5\"',\n",
       "  'rating_8-2:\"5\"',\n",
       "  'rating_8-8:\"4\"',\n",
       "  'rating_8-11:\"5\"',\n",
       "  'rating_8-12:\"6\"',\n",
       "  'rating_9-0:\"6\"',\n",
       "  'rating_9-1:\"7\"',\n",
       "  'rating_9-2:\"6\"',\n",
       "  'rating_9-8:\"5\"',\n",
       "  'rating_9-11:\"4\"',\n",
       "  'rating_9-12:\"6\"',\n",
       "  'repgrids_results1_question_1:\"Agree\"',\n",
       "  'repgrids_results1_question_2:\"Agree\"',\n",
       "  'repgrids_results2_question_1:\"Agree\"',\n",
       "  'repgrids_results2_question_2:\"Agree\"',\n",
       "  'repgrids_results2_question_3:\"Yes\"',\n",
       "  'repgrids_results3_question_1:\"Disagree\"',\n",
       "  'repgrids_results3_question_2:\"Disagree\"',\n",
       "  'repgrids_results3_question_3:\"No\"',\n",
       "  'repgrids_results4_question_1:\"Agree\"',\n",
       "  'repgrids_results4_question_2:\"Agree\"',\n",
       "  'repgrids_results4_question_3:\"Yes\"',\n",
       "  'end_repodrid_result_question_1:\"4\"',\n",
       "  'end_repodrid_result_question_2:\"Same\"',\n",
       "  'end_repodrid_result_question_3:\"No\"',\n",
       "  'identityall-0:\"identityall-negative_0\"',\n",
       "  'identityall-1:\"identityall-negative_1\"',\n",
       "  'identityall-2:\"identityall-positive_2\"',\n",
       "  'identityall-3:\"identityall-positive_3\"',\n",
       "  'identityall-4:\"identityall-negative_4\"',\n",
       "  'identityall-5:\"identityall-negative_5\"',\n",
       "  'identityall-6:\"identityall-negative_6\"',\n",
       "  'identityall-7:\"identityall-positive_7\"',\n",
       "  'identityall-8:\"identityall-negative_8\"',\n",
       "  'identityall-9:\"identityall-positive_9\"',\n",
       "  'identityall-10:\"identityall-negative_10\"',\n",
       "  'Identitiesmax5:[\"Identitiesmax5-positive_2\"',\n",
       "  'Identitiesmax5-positive_7',\n",
       "  'Identitiesmax5-negative_10',\n",
       "  'Identitiesmax5-negative_1',\n",
       "  'Identitiesmax5-positive_9]',\n",
       "  'Identitiesmax3:[{\"id\":\"Identitiesmax3-positive_2\"',\n",
       "  'text:\"Independent\"',\n",
       "  'enableIf:\"{Identitiesmax5} contains \\'Identitiesmax5-positive_2\\'\"',\n",
       "  'visibleIf:\"{Identitiesmax5} contains \\'Identitiesmax5-negative_2\\' or {Identitiesmax5} contains \\'Identitiesmax5-positive_2\\'\"}',\n",
       "  '{\"id\":\"Identitiesmax3-positive_7\"',\n",
       "  'text:\"Slow-paced\"',\n",
       "  'enableIf:\"{Identitiesmax5} contains \\'Identitiesmax5-positive_7\\'\"',\n",
       "  'visibleIf:\"{Identitiesmax5} contains \\'Identitiesmax5-negative_7\\' or {Identitiesmax5} contains \\'Identitiesmax5-positive_7\\'\"}',\n",
       "  '{\"id\":\"Identitiesmax3-negative_10\"',\n",
       "  'text:\"Hardworking\"',\n",
       "  'enableIf:\"{Identitiesmax5} contains \\'Identitiesmax5-negative_10\\'\"',\n",
       "  'visibleIf:\"{Identitiesmax5} contains \\'Identitiesmax5-negative_10\\' or {Identitiesmax5} contains \\'Identitiesmax5-positive_10\\'\"}]',\n",
       "  'identity_result_page_question_1:\"Disagree\"',\n",
       "  'identity_result_page_question_2:\"Disagree\"',\n",
       "  'identity_result_page_question_3:\"5\"',\n",
       "  'identity_result_page_question_4:\"Same\"',\n",
       "  'identity_result_page_question_5:\"No\"}'],\n",
       " ['sara_vmsNJnaE ',\n",
       "  ' 22 ',\n",
       "  '{\"repgridselection\":[\"element-0\"',\n",
       "  'element-1',\n",
       "  'element-11',\n",
       "  'element-2',\n",
       "  'element-13',\n",
       "  'element-4]',\n",
       "  'marital_status:\"Single\"',\n",
       "  'gender:\"Male\"',\n",
       "  'age:30',\n",
       "  'number_of_kids:0',\n",
       "  'percieved-stress0:\"sometimes\"',\n",
       "  'percieved-stress1:\"sometimes\"',\n",
       "  'percieved-stress2:\"sometimes\"',\n",
       "  'percieved-stress3:\"fairly often\"',\n",
       "  'percieved-stress4:\"sometimes\"',\n",
       "  'percieved-stress5:\"fairly often\"',\n",
       "  'percieved-stress6:\"sometimes\"',\n",
       "  'percieved-stress7:\"sometimes\"',\n",
       "  'percieved-stress8:\"almost never\"',\n",
       "  'percieved-stress9:\"almost never\"',\n",
       "  'stressful-situations-Punctual:\"somewhat stressful\"',\n",
       "  'stressful-situations-Organised:\"stressful\"',\n",
       "  'stressful-situations-Hardworking:\"very stressful\"',\n",
       "  'stressful-situations-TeamPlayer:\"stressful\"',\n",
       "  'stressful-situations-Serious:\"stressful\"',\n",
       "  'stressful-situations-Playful:\"not stressful\"',\n",
       "  'stressful-situations-Thoughtful:\"stressful\"',\n",
       "  'stressful-situations-Spontaneous:\"not stressful\"',\n",
       "  'stressful-situations-Helpful:\"stressful\"',\n",
       "  'stressful-situations-Influential:\"somewhat stressful\"',\n",
       "  'stressful-situations-Fast-Paced:\"stressful\"',\n",
       "  'stressful-situations-Liberal:\"somewhat stressful\"',\n",
       "  'stressful-situations-Conservative:\"somewhat stressful\"',\n",
       "  'stressful-situations-Independent:\"stressful\"',\n",
       "  'stressful-situations-Compromising:\"somewhat stressful\"',\n",
       "  'stressful-situations-Opinionated:\"stressful\"',\n",
       "  'rating_0-0:\"5\"',\n",
       "  'rating_0-1:\"6\"',\n",
       "  'rating_0-2:\"4\"',\n",
       "  'rating_0-4:\"5\"',\n",
       "  'rating_0-11:\"4\"',\n",
       "  'rating_0-13:\"6\"',\n",
       "  'rating_1-0:\"5\"',\n",
       "  'rating_1-1:\"7\"',\n",
       "  'rating_1-2:\"5\"',\n",
       "  'rating_1-4:\"6\"',\n",
       "  'rating_1-11:\"4\"',\n",
       "  'rating_1-13:\"6\"',\n",
       "  'rating_2-0:\"6\"',\n",
       "  'rating_2-1:\"5\"',\n",
       "  'rating_2-2:\"6\"',\n",
       "  'rating_2-4:\"6\"',\n",
       "  'rating_2-11:\"5\"',\n",
       "  'rating_2-13:\"6\"',\n",
       "  'rating_3-0:\"6\"',\n",
       "  'rating_3-1:\"6\"',\n",
       "  'rating_3-2:\"6\"',\n",
       "  'rating_3-4:\"7\"',\n",
       "  'rating_3-11:\"6\"',\n",
       "  'rating_3-13:\"7\"',\n",
       "  'rating_4-0:\"5\"',\n",
       "  'rating_4-1:\"5\"',\n",
       "  'rating_4-2:\"5\"',\n",
       "  'rating_4-4:\"6\"',\n",
       "  'rating_4-11:\"4\"',\n",
       "  'rating_4-13:\"6\"',\n",
       "  'rating_5-0:\"5\"',\n",
       "  'rating_5-1:\"6\"',\n",
       "  'rating_5-2:\"5\"',\n",
       "  'rating_5-4:\"6\"',\n",
       "  'rating_5-11:\"5\"',\n",
       "  'rating_5-13:\"6\"',\n",
       "  'rating_6-0:\"6\"',\n",
       "  'rating_6-1:\"4\"',\n",
       "  'rating_6-2:\"6\"',\n",
       "  'rating_6-4:\"6\"',\n",
       "  'rating_6-11:\"5\"',\n",
       "  'rating_6-13:\"6\"',\n",
       "  'rating_7-0:\"6\"',\n",
       "  'rating_7-1:\"7\"',\n",
       "  'rating_7-2:\"6\"',\n",
       "  'rating_7-4:\"7\"',\n",
       "  'rating_7-11:\"5\"',\n",
       "  'rating_7-13:\"6\"',\n",
       "  'rating_8-0:\"6\"',\n",
       "  'rating_8-1:\"7\"',\n",
       "  'rating_8-2:\"5\"',\n",
       "  'rating_8-4:\"7\"',\n",
       "  'rating_8-11:\"6\"',\n",
       "  'rating_8-13:\"5\"',\n",
       "  'rating_9-0:\"5\"',\n",
       "  'rating_9-1:\"7\"',\n",
       "  'rating_9-2:\"5\"',\n",
       "  'rating_9-4:\"6\"',\n",
       "  'rating_9-11:\"4\"',\n",
       "  'rating_9-13:\"6\"',\n",
       "  'repgrids_results1_question_1:\"Agree\"',\n",
       "  'repgrids_results1_question_2:\"Strongly agree\"',\n",
       "  'repgrids_results2_question_1:\"Agree\"',\n",
       "  'repgrids_results2_question_2:\"Strongly agree\"',\n",
       "  'repgrids_results2_question_3:\"Yes\"',\n",
       "  'repgrids_results3_question_1:\"Agree\"',\n",
       "  'repgrids_results3_question_2:\"Agree\"',\n",
       "  'repgrids_results3_question_3:\"Yes\"',\n",
       "  'repgrids_results4_question_1:\"Agree\"',\n",
       "  'repgrids_results4_question_2:\"Agree\"',\n",
       "  'repgrids_results4_question_3:\"Yes\"',\n",
       "  'end_repodrid_result_question_1:\"8\"',\n",
       "  'end_repodrid_result_question_2:\"Better\"',\n",
       "  'end_repodrid_result_question_3:\"I just did a personality test on another platform and these results seemed interesting because they were more practical in some ways. The only thing that could be improved is to give a short explanation of exactly what is meant by each parameter:eg. Not caring as in caring towards others or just about the situation in general. I interpreted it as about others but I wasn\\'t sure. So a small explanation could be helpful\"',\n",
       "  'identityall-0:\"identityall-negative_0\"',\n",
       "  'identityall-1:\"identityall-negative_1\"',\n",
       "  'identityall-2:\"identityall-positive_2\"',\n",
       "  'identityall-3:\"identityall-positive_3\"',\n",
       "  'identityall-4:\"identityall-positive_4\"',\n",
       "  'identityall-5:\"identityall-negative_5\"',\n",
       "  'identityall-6:\"identityall-negative_6\"',\n",
       "  'identityall-7:\"identityall-negative_7\"',\n",
       "  'identityall-8:\"identityall-negative_8\"',\n",
       "  'identityall-9:\"identityall-negative_9\"',\n",
       "  'identityall-10:\"identityall-negative_10\"',\n",
       "  'Identitiesmax5:[\"Identitiesmax5-negative_1\"',\n",
       "  'Identitiesmax5-negative_8',\n",
       "  'Identitiesmax5-negative_10',\n",
       "  'Identitiesmax5-positive_4',\n",
       "  'Identitiesmax5-negative_6]',\n",
       "  'Identitiesmax3:[{\"id\":\"Identitiesmax3-negative_10\"',\n",
       "  'text:\"Hardworking\"',\n",
       "  'enableIf:\"{Identitiesmax5} contains \\'Identitiesmax5-negative_10\\'\"',\n",
       "  'visibleIf:\"{Identitiesmax5} contains \\'Identitiesmax5-negative_10\\' or {Identitiesmax5} contains \\'Identitiesmax5-positive_10\\'\"}',\n",
       "  '{\"id\":\"Identitiesmax3-negative_8\"',\n",
       "  'text:\"Liberal\"',\n",
       "  'enableIf:\"{Identitiesmax5} contains \\'Identitiesmax5-negative_8\\'\"',\n",
       "  'visibleIf:\"{Identitiesmax5} contains \\'Identitiesmax5-negative_8\\' or {Identitiesmax5} contains \\'Identitiesmax5-positive_8\\'\"}',\n",
       "  '{\"id\":\"Identitiesmax3-positive_4\"',\n",
       "  'text:\"Compromising\"',\n",
       "  'enableIf:\"{Identitiesmax5} contains \\'Identitiesmax5-positive_4\\'\"',\n",
       "  'visibleIf:\"{Identitiesmax5} contains \\'Identitiesmax5-negative_4\\' or {Identitiesmax5} contains \\'Identitiesmax5-positive_4\\'\"}]',\n",
       "  'identity_result_page_question_1:\"Agree\"',\n",
       "  'identity_result_page_question_2:\"Agree\"',\n",
       "  'identity_result_page_question_3:\"6\"',\n",
       "  'identity_result_page_question_4:\"Same\"',\n",
       "  'identity_result_page_question_5:\"Quote interesting the way you are forced to choose! Makes you think! \"}']]"
      ]
     },
     "execution_count": 307,
     "metadata": {},
     "output_type": "execute_result"
    }
   ],
   "source": [
    "csvRows_sara_study"
   ]
  },
  {
   "cell_type": "code",
   "execution_count": 107,
   "metadata": {},
   "outputs": [],
   "source": [
    "ind_ = df['gender']=='Female'"
   ]
  },
  {
   "cell_type": "code",
   "execution_count": 111,
   "metadata": {},
   "outputs": [
    {
     "data": {
      "text/plain": [
       "3"
      ]
     },
     "execution_count": 111,
     "metadata": {},
     "output_type": "execute_result"
    }
   ],
   "source": [
    "min(df['stress_score'])"
   ]
  },
  {
   "cell_type": "code",
   "execution_count": 124,
   "metadata": {},
   "outputs": [
    {
     "data": {
      "application/vnd.plotly.v1+json": {
       "config": {
        "plotlyServerURL": "https://plot.ly"
       },
       "data": [
        {
         "histnorm": "percent",
         "marker": {
          "color": "#EB89B5"
         },
         "name": "Female",
         "opacity": 0.75,
         "type": "histogram",
         "x": [
          11,
          14,
          19,
          26,
          15,
          15,
          16,
          20,
          24,
          26,
          20,
          22,
          28,
          14,
          16,
          10,
          9,
          19,
          9,
          20,
          17,
          14,
          17,
          17,
          20,
          22,
          23,
          13,
          17,
          10,
          9,
          29,
          31,
          22,
          11,
          13,
          12,
          26,
          3,
          23,
          7,
          11,
          27,
          19,
          28,
          27,
          20,
          22,
          18,
          21
         ],
         "xbins": {
          "end": 60,
          "size": 4,
          "start": 0
         }
        },
        {
         "histnorm": "percent",
         "marker": {
          "color": "#330C73"
         },
         "name": "Male",
         "opacity": 0.75,
         "type": "histogram",
         "x": [
          21,
          14,
          18,
          27,
          18,
          17,
          17,
          14,
          22,
          15,
          27,
          10,
          21,
          38,
          24,
          14,
          18,
          12,
          12,
          19,
          33,
          12,
          14,
          21,
          22,
          27,
          21,
          13,
          17,
          21,
          7,
          19,
          15,
          28,
          15,
          22,
          15,
          25,
          7,
          14,
          29,
          23,
          13,
          21,
          31,
          17,
          37,
          24,
          15,
          17,
          17,
          5,
          20,
          23,
          8,
          16,
          19,
          14,
          13,
          19,
          3,
          9,
          19,
          23,
          26,
          23,
          15,
          11,
          26,
          22,
          22,
          25,
          21,
          25,
          31,
          23,
          20,
          23,
          19,
          22,
          29,
          19,
          24,
          14
         ],
         "xbins": {
          "end": 60,
          "size": 4,
          "start": 0
         }
        }
       ],
       "layout": {
        "bargap": 0.2,
        "bargroupgap": 0.1,
        "template": {
         "data": {
          "bar": [
           {
            "error_x": {
             "color": "#2a3f5f"
            },
            "error_y": {
             "color": "#2a3f5f"
            },
            "marker": {
             "line": {
              "color": "#E5ECF6",
              "width": 0.5
             }
            },
            "type": "bar"
           }
          ],
          "barpolar": [
           {
            "marker": {
             "line": {
              "color": "#E5ECF6",
              "width": 0.5
             }
            },
            "type": "barpolar"
           }
          ],
          "carpet": [
           {
            "aaxis": {
             "endlinecolor": "#2a3f5f",
             "gridcolor": "white",
             "linecolor": "white",
             "minorgridcolor": "white",
             "startlinecolor": "#2a3f5f"
            },
            "baxis": {
             "endlinecolor": "#2a3f5f",
             "gridcolor": "white",
             "linecolor": "white",
             "minorgridcolor": "white",
             "startlinecolor": "#2a3f5f"
            },
            "type": "carpet"
           }
          ],
          "choropleth": [
           {
            "colorbar": {
             "outlinewidth": 0,
             "ticks": ""
            },
            "type": "choropleth"
           }
          ],
          "contour": [
           {
            "colorbar": {
             "outlinewidth": 0,
             "ticks": ""
            },
            "colorscale": [
             [
              0,
              "#0d0887"
             ],
             [
              0.1111111111111111,
              "#46039f"
             ],
             [
              0.2222222222222222,
              "#7201a8"
             ],
             [
              0.3333333333333333,
              "#9c179e"
             ],
             [
              0.4444444444444444,
              "#bd3786"
             ],
             [
              0.5555555555555556,
              "#d8576b"
             ],
             [
              0.6666666666666666,
              "#ed7953"
             ],
             [
              0.7777777777777778,
              "#fb9f3a"
             ],
             [
              0.8888888888888888,
              "#fdca26"
             ],
             [
              1,
              "#f0f921"
             ]
            ],
            "type": "contour"
           }
          ],
          "contourcarpet": [
           {
            "colorbar": {
             "outlinewidth": 0,
             "ticks": ""
            },
            "type": "contourcarpet"
           }
          ],
          "heatmap": [
           {
            "colorbar": {
             "outlinewidth": 0,
             "ticks": ""
            },
            "colorscale": [
             [
              0,
              "#0d0887"
             ],
             [
              0.1111111111111111,
              "#46039f"
             ],
             [
              0.2222222222222222,
              "#7201a8"
             ],
             [
              0.3333333333333333,
              "#9c179e"
             ],
             [
              0.4444444444444444,
              "#bd3786"
             ],
             [
              0.5555555555555556,
              "#d8576b"
             ],
             [
              0.6666666666666666,
              "#ed7953"
             ],
             [
              0.7777777777777778,
              "#fb9f3a"
             ],
             [
              0.8888888888888888,
              "#fdca26"
             ],
             [
              1,
              "#f0f921"
             ]
            ],
            "type": "heatmap"
           }
          ],
          "heatmapgl": [
           {
            "colorbar": {
             "outlinewidth": 0,
             "ticks": ""
            },
            "colorscale": [
             [
              0,
              "#0d0887"
             ],
             [
              0.1111111111111111,
              "#46039f"
             ],
             [
              0.2222222222222222,
              "#7201a8"
             ],
             [
              0.3333333333333333,
              "#9c179e"
             ],
             [
              0.4444444444444444,
              "#bd3786"
             ],
             [
              0.5555555555555556,
              "#d8576b"
             ],
             [
              0.6666666666666666,
              "#ed7953"
             ],
             [
              0.7777777777777778,
              "#fb9f3a"
             ],
             [
              0.8888888888888888,
              "#fdca26"
             ],
             [
              1,
              "#f0f921"
             ]
            ],
            "type": "heatmapgl"
           }
          ],
          "histogram": [
           {
            "marker": {
             "colorbar": {
              "outlinewidth": 0,
              "ticks": ""
             }
            },
            "type": "histogram"
           }
          ],
          "histogram2d": [
           {
            "colorbar": {
             "outlinewidth": 0,
             "ticks": ""
            },
            "colorscale": [
             [
              0,
              "#0d0887"
             ],
             [
              0.1111111111111111,
              "#46039f"
             ],
             [
              0.2222222222222222,
              "#7201a8"
             ],
             [
              0.3333333333333333,
              "#9c179e"
             ],
             [
              0.4444444444444444,
              "#bd3786"
             ],
             [
              0.5555555555555556,
              "#d8576b"
             ],
             [
              0.6666666666666666,
              "#ed7953"
             ],
             [
              0.7777777777777778,
              "#fb9f3a"
             ],
             [
              0.8888888888888888,
              "#fdca26"
             ],
             [
              1,
              "#f0f921"
             ]
            ],
            "type": "histogram2d"
           }
          ],
          "histogram2dcontour": [
           {
            "colorbar": {
             "outlinewidth": 0,
             "ticks": ""
            },
            "colorscale": [
             [
              0,
              "#0d0887"
             ],
             [
              0.1111111111111111,
              "#46039f"
             ],
             [
              0.2222222222222222,
              "#7201a8"
             ],
             [
              0.3333333333333333,
              "#9c179e"
             ],
             [
              0.4444444444444444,
              "#bd3786"
             ],
             [
              0.5555555555555556,
              "#d8576b"
             ],
             [
              0.6666666666666666,
              "#ed7953"
             ],
             [
              0.7777777777777778,
              "#fb9f3a"
             ],
             [
              0.8888888888888888,
              "#fdca26"
             ],
             [
              1,
              "#f0f921"
             ]
            ],
            "type": "histogram2dcontour"
           }
          ],
          "mesh3d": [
           {
            "colorbar": {
             "outlinewidth": 0,
             "ticks": ""
            },
            "type": "mesh3d"
           }
          ],
          "parcoords": [
           {
            "line": {
             "colorbar": {
              "outlinewidth": 0,
              "ticks": ""
             }
            },
            "type": "parcoords"
           }
          ],
          "scatter": [
           {
            "marker": {
             "colorbar": {
              "outlinewidth": 0,
              "ticks": ""
             }
            },
            "type": "scatter"
           }
          ],
          "scatter3d": [
           {
            "line": {
             "colorbar": {
              "outlinewidth": 0,
              "ticks": ""
             }
            },
            "marker": {
             "colorbar": {
              "outlinewidth": 0,
              "ticks": ""
             }
            },
            "type": "scatter3d"
           }
          ],
          "scattercarpet": [
           {
            "marker": {
             "colorbar": {
              "outlinewidth": 0,
              "ticks": ""
             }
            },
            "type": "scattercarpet"
           }
          ],
          "scattergeo": [
           {
            "marker": {
             "colorbar": {
              "outlinewidth": 0,
              "ticks": ""
             }
            },
            "type": "scattergeo"
           }
          ],
          "scattergl": [
           {
            "marker": {
             "colorbar": {
              "outlinewidth": 0,
              "ticks": ""
             }
            },
            "type": "scattergl"
           }
          ],
          "scattermapbox": [
           {
            "marker": {
             "colorbar": {
              "outlinewidth": 0,
              "ticks": ""
             }
            },
            "type": "scattermapbox"
           }
          ],
          "scatterpolar": [
           {
            "marker": {
             "colorbar": {
              "outlinewidth": 0,
              "ticks": ""
             }
            },
            "type": "scatterpolar"
           }
          ],
          "scatterpolargl": [
           {
            "marker": {
             "colorbar": {
              "outlinewidth": 0,
              "ticks": ""
             }
            },
            "type": "scatterpolargl"
           }
          ],
          "scatterternary": [
           {
            "marker": {
             "colorbar": {
              "outlinewidth": 0,
              "ticks": ""
             }
            },
            "type": "scatterternary"
           }
          ],
          "surface": [
           {
            "colorbar": {
             "outlinewidth": 0,
             "ticks": ""
            },
            "colorscale": [
             [
              0,
              "#0d0887"
             ],
             [
              0.1111111111111111,
              "#46039f"
             ],
             [
              0.2222222222222222,
              "#7201a8"
             ],
             [
              0.3333333333333333,
              "#9c179e"
             ],
             [
              0.4444444444444444,
              "#bd3786"
             ],
             [
              0.5555555555555556,
              "#d8576b"
             ],
             [
              0.6666666666666666,
              "#ed7953"
             ],
             [
              0.7777777777777778,
              "#fb9f3a"
             ],
             [
              0.8888888888888888,
              "#fdca26"
             ],
             [
              1,
              "#f0f921"
             ]
            ],
            "type": "surface"
           }
          ],
          "table": [
           {
            "cells": {
             "fill": {
              "color": "#EBF0F8"
             },
             "line": {
              "color": "white"
             }
            },
            "header": {
             "fill": {
              "color": "#C8D4E3"
             },
             "line": {
              "color": "white"
             }
            },
            "type": "table"
           }
          ]
         },
         "layout": {
          "annotationdefaults": {
           "arrowcolor": "#2a3f5f",
           "arrowhead": 0,
           "arrowwidth": 1
          },
          "colorscale": {
           "diverging": [
            [
             0,
             "#8e0152"
            ],
            [
             0.1,
             "#c51b7d"
            ],
            [
             0.2,
             "#de77ae"
            ],
            [
             0.3,
             "#f1b6da"
            ],
            [
             0.4,
             "#fde0ef"
            ],
            [
             0.5,
             "#f7f7f7"
            ],
            [
             0.6,
             "#e6f5d0"
            ],
            [
             0.7,
             "#b8e186"
            ],
            [
             0.8,
             "#7fbc41"
            ],
            [
             0.9,
             "#4d9221"
            ],
            [
             1,
             "#276419"
            ]
           ],
           "sequential": [
            [
             0,
             "#0d0887"
            ],
            [
             0.1111111111111111,
             "#46039f"
            ],
            [
             0.2222222222222222,
             "#7201a8"
            ],
            [
             0.3333333333333333,
             "#9c179e"
            ],
            [
             0.4444444444444444,
             "#bd3786"
            ],
            [
             0.5555555555555556,
             "#d8576b"
            ],
            [
             0.6666666666666666,
             "#ed7953"
            ],
            [
             0.7777777777777778,
             "#fb9f3a"
            ],
            [
             0.8888888888888888,
             "#fdca26"
            ],
            [
             1,
             "#f0f921"
            ]
           ],
           "sequentialminus": [
            [
             0,
             "#0d0887"
            ],
            [
             0.1111111111111111,
             "#46039f"
            ],
            [
             0.2222222222222222,
             "#7201a8"
            ],
            [
             0.3333333333333333,
             "#9c179e"
            ],
            [
             0.4444444444444444,
             "#bd3786"
            ],
            [
             0.5555555555555556,
             "#d8576b"
            ],
            [
             0.6666666666666666,
             "#ed7953"
            ],
            [
             0.7777777777777778,
             "#fb9f3a"
            ],
            [
             0.8888888888888888,
             "#fdca26"
            ],
            [
             1,
             "#f0f921"
            ]
           ]
          },
          "colorway": [
           "#636efa",
           "#EF553B",
           "#00cc96",
           "#ab63fa",
           "#FFA15A",
           "#19d3f3",
           "#FF6692",
           "#B6E880",
           "#FF97FF",
           "#FECB52"
          ],
          "font": {
           "color": "#2a3f5f"
          },
          "geo": {
           "bgcolor": "white",
           "lakecolor": "white",
           "landcolor": "#E5ECF6",
           "showlakes": true,
           "showland": true,
           "subunitcolor": "white"
          },
          "hoverlabel": {
           "align": "left"
          },
          "hovermode": "closest",
          "mapbox": {
           "style": "light"
          },
          "paper_bgcolor": "white",
          "plot_bgcolor": "#E5ECF6",
          "polar": {
           "angularaxis": {
            "gridcolor": "white",
            "linecolor": "white",
            "ticks": ""
           },
           "bgcolor": "#E5ECF6",
           "radialaxis": {
            "gridcolor": "white",
            "linecolor": "white",
            "ticks": ""
           }
          },
          "scene": {
           "xaxis": {
            "backgroundcolor": "#E5ECF6",
            "gridcolor": "white",
            "gridwidth": 2,
            "linecolor": "white",
            "showbackground": true,
            "ticks": "",
            "zerolinecolor": "white"
           },
           "yaxis": {
            "backgroundcolor": "#E5ECF6",
            "gridcolor": "white",
            "gridwidth": 2,
            "linecolor": "white",
            "showbackground": true,
            "ticks": "",
            "zerolinecolor": "white"
           },
           "zaxis": {
            "backgroundcolor": "#E5ECF6",
            "gridcolor": "white",
            "gridwidth": 2,
            "linecolor": "white",
            "showbackground": true,
            "ticks": "",
            "zerolinecolor": "white"
           }
          },
          "shapedefaults": {
           "line": {
            "color": "#2a3f5f"
           }
          },
          "ternary": {
           "aaxis": {
            "gridcolor": "white",
            "linecolor": "white",
            "ticks": ""
           },
           "baxis": {
            "gridcolor": "white",
            "linecolor": "white",
            "ticks": ""
           },
           "bgcolor": "#E5ECF6",
           "caxis": {
            "gridcolor": "white",
            "linecolor": "white",
            "ticks": ""
           }
          },
          "title": {
           "x": 0.05
          },
          "xaxis": {
           "automargin": true,
           "gridcolor": "white",
           "linecolor": "white",
           "ticks": "",
           "zerolinecolor": "white",
           "zerolinewidth": 2
          },
          "yaxis": {
           "automargin": true,
           "gridcolor": "white",
           "linecolor": "white",
           "ticks": "",
           "zerolinecolor": "white",
           "zerolinewidth": 2
          }
         }
        },
        "xaxis": {
         "title": {
          "text": "Age"
         }
        },
        "yaxis": {
         "title": {
          "text": "Count"
         }
        }
       }
      },
      "text/html": [
       "<div>\n",
       "        \n",
       "        \n",
       "            <div id=\"c78fede1-7f7a-47d6-be9e-b2c3917d98a9\" class=\"plotly-graph-div\" style=\"height:525px; width:100%;\"></div>\n",
       "            <script type=\"text/javascript\">\n",
       "                require([\"plotly\"], function(Plotly) {\n",
       "                    window.PLOTLYENV=window.PLOTLYENV || {};\n",
       "                    \n",
       "                if (document.getElementById(\"c78fede1-7f7a-47d6-be9e-b2c3917d98a9\")) {\n",
       "                    Plotly.newPlot(\n",
       "                        'c78fede1-7f7a-47d6-be9e-b2c3917d98a9',\n",
       "                        [{\"histnorm\": \"percent\", \"marker\": {\"color\": \"#EB89B5\"}, \"name\": \"Female\", \"opacity\": 0.75, \"type\": \"histogram\", \"x\": [11, 14, 19, 26, 15, 15, 16, 20, 24, 26, 20, 22, 28, 14, 16, 10, 9, 19, 9, 20, 17, 14, 17, 17, 20, 22, 23, 13, 17, 10, 9, 29, 31, 22, 11, 13, 12, 26, 3, 23, 7, 11, 27, 19, 28, 27, 20, 22, 18, 21], \"xbins\": {\"end\": 60, \"size\": 4, \"start\": 0}}, {\"histnorm\": \"percent\", \"marker\": {\"color\": \"#330C73\"}, \"name\": \"Male\", \"opacity\": 0.75, \"type\": \"histogram\", \"x\": [21, 14, 18, 27, 18, 17, 17, 14, 22, 15, 27, 10, 21, 38, 24, 14, 18, 12, 12, 19, 33, 12, 14, 21, 22, 27, 21, 13, 17, 21, 7, 19, 15, 28, 15, 22, 15, 25, 7, 14, 29, 23, 13, 21, 31, 17, 37, 24, 15, 17, 17, 5, 20, 23, 8, 16, 19, 14, 13, 19, 3, 9, 19, 23, 26, 23, 15, 11, 26, 22, 22, 25, 21, 25, 31, 23, 20, 23, 19, 22, 29, 19, 24, 14], \"xbins\": {\"end\": 60, \"size\": 4, \"start\": 0}}],\n",
       "                        {\"bargap\": 0.2, \"bargroupgap\": 0.1, \"template\": {\"data\": {\"bar\": [{\"error_x\": {\"color\": \"#2a3f5f\"}, \"error_y\": {\"color\": \"#2a3f5f\"}, \"marker\": {\"line\": {\"color\": \"#E5ECF6\", \"width\": 0.5}}, \"type\": \"bar\"}], \"barpolar\": [{\"marker\": {\"line\": {\"color\": \"#E5ECF6\", \"width\": 0.5}}, \"type\": \"barpolar\"}], \"carpet\": [{\"aaxis\": {\"endlinecolor\": \"#2a3f5f\", \"gridcolor\": \"white\", \"linecolor\": \"white\", \"minorgridcolor\": \"white\", \"startlinecolor\": \"#2a3f5f\"}, \"baxis\": {\"endlinecolor\": \"#2a3f5f\", \"gridcolor\": \"white\", \"linecolor\": \"white\", \"minorgridcolor\": \"white\", \"startlinecolor\": \"#2a3f5f\"}, \"type\": \"carpet\"}], \"choropleth\": [{\"colorbar\": {\"outlinewidth\": 0, \"ticks\": \"\"}, \"type\": \"choropleth\"}], \"contour\": [{\"colorbar\": {\"outlinewidth\": 0, \"ticks\": \"\"}, \"colorscale\": [[0.0, \"#0d0887\"], [0.1111111111111111, \"#46039f\"], [0.2222222222222222, \"#7201a8\"], [0.3333333333333333, \"#9c179e\"], [0.4444444444444444, \"#bd3786\"], [0.5555555555555556, \"#d8576b\"], [0.6666666666666666, \"#ed7953\"], [0.7777777777777778, \"#fb9f3a\"], [0.8888888888888888, \"#fdca26\"], [1.0, \"#f0f921\"]], \"type\": \"contour\"}], \"contourcarpet\": [{\"colorbar\": {\"outlinewidth\": 0, \"ticks\": \"\"}, \"type\": \"contourcarpet\"}], \"heatmap\": [{\"colorbar\": {\"outlinewidth\": 0, \"ticks\": \"\"}, \"colorscale\": [[0.0, \"#0d0887\"], [0.1111111111111111, \"#46039f\"], [0.2222222222222222, \"#7201a8\"], [0.3333333333333333, \"#9c179e\"], [0.4444444444444444, \"#bd3786\"], [0.5555555555555556, \"#d8576b\"], [0.6666666666666666, \"#ed7953\"], [0.7777777777777778, \"#fb9f3a\"], [0.8888888888888888, \"#fdca26\"], [1.0, \"#f0f921\"]], \"type\": \"heatmap\"}], \"heatmapgl\": [{\"colorbar\": {\"outlinewidth\": 0, \"ticks\": \"\"}, \"colorscale\": [[0.0, \"#0d0887\"], [0.1111111111111111, \"#46039f\"], [0.2222222222222222, \"#7201a8\"], [0.3333333333333333, \"#9c179e\"], [0.4444444444444444, \"#bd3786\"], [0.5555555555555556, \"#d8576b\"], [0.6666666666666666, \"#ed7953\"], [0.7777777777777778, \"#fb9f3a\"], [0.8888888888888888, \"#fdca26\"], [1.0, \"#f0f921\"]], \"type\": \"heatmapgl\"}], \"histogram\": [{\"marker\": {\"colorbar\": {\"outlinewidth\": 0, \"ticks\": \"\"}}, \"type\": \"histogram\"}], \"histogram2d\": [{\"colorbar\": {\"outlinewidth\": 0, \"ticks\": \"\"}, \"colorscale\": [[0.0, \"#0d0887\"], [0.1111111111111111, \"#46039f\"], [0.2222222222222222, \"#7201a8\"], [0.3333333333333333, \"#9c179e\"], [0.4444444444444444, \"#bd3786\"], [0.5555555555555556, \"#d8576b\"], [0.6666666666666666, \"#ed7953\"], [0.7777777777777778, \"#fb9f3a\"], [0.8888888888888888, \"#fdca26\"], [1.0, \"#f0f921\"]], \"type\": \"histogram2d\"}], \"histogram2dcontour\": [{\"colorbar\": {\"outlinewidth\": 0, \"ticks\": \"\"}, \"colorscale\": [[0.0, \"#0d0887\"], [0.1111111111111111, \"#46039f\"], [0.2222222222222222, \"#7201a8\"], [0.3333333333333333, \"#9c179e\"], [0.4444444444444444, \"#bd3786\"], [0.5555555555555556, \"#d8576b\"], [0.6666666666666666, \"#ed7953\"], [0.7777777777777778, \"#fb9f3a\"], [0.8888888888888888, \"#fdca26\"], [1.0, \"#f0f921\"]], \"type\": \"histogram2dcontour\"}], \"mesh3d\": [{\"colorbar\": {\"outlinewidth\": 0, \"ticks\": \"\"}, \"type\": \"mesh3d\"}], \"parcoords\": [{\"line\": {\"colorbar\": {\"outlinewidth\": 0, \"ticks\": \"\"}}, \"type\": \"parcoords\"}], \"scatter\": [{\"marker\": {\"colorbar\": {\"outlinewidth\": 0, \"ticks\": \"\"}}, \"type\": \"scatter\"}], \"scatter3d\": [{\"line\": {\"colorbar\": {\"outlinewidth\": 0, \"ticks\": \"\"}}, \"marker\": {\"colorbar\": {\"outlinewidth\": 0, \"ticks\": \"\"}}, \"type\": \"scatter3d\"}], \"scattercarpet\": [{\"marker\": {\"colorbar\": {\"outlinewidth\": 0, \"ticks\": \"\"}}, \"type\": \"scattercarpet\"}], \"scattergeo\": [{\"marker\": {\"colorbar\": {\"outlinewidth\": 0, \"ticks\": \"\"}}, \"type\": \"scattergeo\"}], \"scattergl\": [{\"marker\": {\"colorbar\": {\"outlinewidth\": 0, \"ticks\": \"\"}}, \"type\": \"scattergl\"}], \"scattermapbox\": [{\"marker\": {\"colorbar\": {\"outlinewidth\": 0, \"ticks\": \"\"}}, \"type\": \"scattermapbox\"}], \"scatterpolar\": [{\"marker\": {\"colorbar\": {\"outlinewidth\": 0, \"ticks\": \"\"}}, \"type\": \"scatterpolar\"}], \"scatterpolargl\": [{\"marker\": {\"colorbar\": {\"outlinewidth\": 0, \"ticks\": \"\"}}, \"type\": \"scatterpolargl\"}], \"scatterternary\": [{\"marker\": {\"colorbar\": {\"outlinewidth\": 0, \"ticks\": \"\"}}, \"type\": \"scatterternary\"}], \"surface\": [{\"colorbar\": {\"outlinewidth\": 0, \"ticks\": \"\"}, \"colorscale\": [[0.0, \"#0d0887\"], [0.1111111111111111, \"#46039f\"], [0.2222222222222222, \"#7201a8\"], [0.3333333333333333, \"#9c179e\"], [0.4444444444444444, \"#bd3786\"], [0.5555555555555556, \"#d8576b\"], [0.6666666666666666, \"#ed7953\"], [0.7777777777777778, \"#fb9f3a\"], [0.8888888888888888, \"#fdca26\"], [1.0, \"#f0f921\"]], \"type\": \"surface\"}], \"table\": [{\"cells\": {\"fill\": {\"color\": \"#EBF0F8\"}, \"line\": {\"color\": \"white\"}}, \"header\": {\"fill\": {\"color\": \"#C8D4E3\"}, \"line\": {\"color\": \"white\"}}, \"type\": \"table\"}]}, \"layout\": {\"annotationdefaults\": {\"arrowcolor\": \"#2a3f5f\", \"arrowhead\": 0, \"arrowwidth\": 1}, \"colorscale\": {\"diverging\": [[0, \"#8e0152\"], [0.1, \"#c51b7d\"], [0.2, \"#de77ae\"], [0.3, \"#f1b6da\"], [0.4, \"#fde0ef\"], [0.5, \"#f7f7f7\"], [0.6, \"#e6f5d0\"], [0.7, \"#b8e186\"], [0.8, \"#7fbc41\"], [0.9, \"#4d9221\"], [1, \"#276419\"]], \"sequential\": [[0.0, \"#0d0887\"], [0.1111111111111111, \"#46039f\"], [0.2222222222222222, \"#7201a8\"], [0.3333333333333333, \"#9c179e\"], [0.4444444444444444, \"#bd3786\"], [0.5555555555555556, \"#d8576b\"], [0.6666666666666666, \"#ed7953\"], [0.7777777777777778, \"#fb9f3a\"], [0.8888888888888888, \"#fdca26\"], [1.0, \"#f0f921\"]], \"sequentialminus\": [[0.0, \"#0d0887\"], [0.1111111111111111, \"#46039f\"], [0.2222222222222222, \"#7201a8\"], [0.3333333333333333, \"#9c179e\"], [0.4444444444444444, \"#bd3786\"], [0.5555555555555556, \"#d8576b\"], [0.6666666666666666, \"#ed7953\"], [0.7777777777777778, \"#fb9f3a\"], [0.8888888888888888, \"#fdca26\"], [1.0, \"#f0f921\"]]}, \"colorway\": [\"#636efa\", \"#EF553B\", \"#00cc96\", \"#ab63fa\", \"#FFA15A\", \"#19d3f3\", \"#FF6692\", \"#B6E880\", \"#FF97FF\", \"#FECB52\"], \"font\": {\"color\": \"#2a3f5f\"}, \"geo\": {\"bgcolor\": \"white\", \"lakecolor\": \"white\", \"landcolor\": \"#E5ECF6\", \"showlakes\": true, \"showland\": true, \"subunitcolor\": \"white\"}, \"hoverlabel\": {\"align\": \"left\"}, \"hovermode\": \"closest\", \"mapbox\": {\"style\": \"light\"}, \"paper_bgcolor\": \"white\", \"plot_bgcolor\": \"#E5ECF6\", \"polar\": {\"angularaxis\": {\"gridcolor\": \"white\", \"linecolor\": \"white\", \"ticks\": \"\"}, \"bgcolor\": \"#E5ECF6\", \"radialaxis\": {\"gridcolor\": \"white\", \"linecolor\": \"white\", \"ticks\": \"\"}}, \"scene\": {\"xaxis\": {\"backgroundcolor\": \"#E5ECF6\", \"gridcolor\": \"white\", \"gridwidth\": 2, \"linecolor\": \"white\", \"showbackground\": true, \"ticks\": \"\", \"zerolinecolor\": \"white\"}, \"yaxis\": {\"backgroundcolor\": \"#E5ECF6\", \"gridcolor\": \"white\", \"gridwidth\": 2, \"linecolor\": \"white\", \"showbackground\": true, \"ticks\": \"\", \"zerolinecolor\": \"white\"}, \"zaxis\": {\"backgroundcolor\": \"#E5ECF6\", \"gridcolor\": \"white\", \"gridwidth\": 2, \"linecolor\": \"white\", \"showbackground\": true, \"ticks\": \"\", \"zerolinecolor\": \"white\"}}, \"shapedefaults\": {\"line\": {\"color\": \"#2a3f5f\"}}, \"ternary\": {\"aaxis\": {\"gridcolor\": \"white\", \"linecolor\": \"white\", \"ticks\": \"\"}, \"baxis\": {\"gridcolor\": \"white\", \"linecolor\": \"white\", \"ticks\": \"\"}, \"bgcolor\": \"#E5ECF6\", \"caxis\": {\"gridcolor\": \"white\", \"linecolor\": \"white\", \"ticks\": \"\"}}, \"title\": {\"x\": 0.05}, \"xaxis\": {\"automargin\": true, \"gridcolor\": \"white\", \"linecolor\": \"white\", \"ticks\": \"\", \"zerolinecolor\": \"white\", \"zerolinewidth\": 2}, \"yaxis\": {\"automargin\": true, \"gridcolor\": \"white\", \"linecolor\": \"white\", \"ticks\": \"\", \"zerolinecolor\": \"white\", \"zerolinewidth\": 2}}}, \"xaxis\": {\"title\": {\"text\": \"Age\"}}, \"yaxis\": {\"title\": {\"text\": \"Count\"}}},\n",
       "                        {\"responsive\": true}\n",
       "                    ).then(function(){\n",
       "                            \n",
       "var gd = document.getElementById('c78fede1-7f7a-47d6-be9e-b2c3917d98a9');\n",
       "var x = new MutationObserver(function (mutations, observer) {{\n",
       "        var display = window.getComputedStyle(gd).display;\n",
       "        if (!display || display === 'none') {{\n",
       "            console.log([gd, 'removed!']);\n",
       "            Plotly.purge(gd);\n",
       "            observer.disconnect();\n",
       "        }}\n",
       "}});\n",
       "\n",
       "// Listen for the removal of the full notebook cells\n",
       "var notebookContainer = gd.closest('#notebook-container');\n",
       "if (notebookContainer) {{\n",
       "    x.observe(notebookContainer, {childList: true});\n",
       "}}\n",
       "\n",
       "// Listen for the clearing of the current output cell\n",
       "var outputEl = gd.closest('.output');\n",
       "if (outputEl) {{\n",
       "    x.observe(outputEl, {childList: true});\n",
       "}}\n",
       "\n",
       "                        })\n",
       "                };\n",
       "                });\n",
       "            </script>\n",
       "        </div>"
      ]
     },
     "metadata": {},
     "output_type": "display_data"
    }
   ],
   "source": [
    "import plotly.graph_objects as go\n",
    "\n",
    "import numpy as np\n",
    "ind_ = df['marital_status']=='Married'\n",
    "x0 = df['stress_score'][ind_]\n",
    "ind_ = df['marital_status']!='Married'\n",
    "x1 = df['stress_score'][ind_]\n",
    "\n",
    "fig = go.Figure()\n",
    "fig.add_trace(go.Histogram(\n",
    "    x=x0,\n",
    "    histnorm='percent',\n",
    "    name='Female', # name used in legend and hover labels\n",
    "    xbins=dict( # bins used for histogram\n",
    "        start=0,\n",
    "        end=60,\n",
    "        size=4\n",
    "    ),\n",
    "    marker_color='#EB89B5',\n",
    "    opacity=0.75\n",
    "))\n",
    "fig.add_trace(go.Histogram(\n",
    "    x=x1,\n",
    "    histnorm='percent',\n",
    "    name='Male',\n",
    "    xbins=dict(\n",
    "        start=0,\n",
    "        end=60,\n",
    "        size=4\n",
    "    ),\n",
    "    marker_color='#330C73',\n",
    "    opacity=0.75\n",
    "))\n",
    "\n",
    "fig.update_layout(\n",
    "    #title_text='Stress score', # title of plot\n",
    "    xaxis_title_text='Age', # xaxis label\n",
    "    yaxis_title_text='Count', # yaxis label\n",
    "    bargap=0.2, # gap between bars of adjacent location coordinates\n",
    "    bargroupgap=0.1 # gap between bars of the same location coordinates\n",
    ")\n",
    "\n",
    "fig.show()"
   ]
  },
  {
   "cell_type": "code",
   "execution_count": 138,
   "metadata": {},
   "outputs": [
    {
     "data": {
      "application/vnd.plotly.v1+json": {
       "config": {
        "plotlyServerURL": "https://plot.ly"
       },
       "data": [
        {
         "type": "histogram",
         "y": [
          "Married",
          "Single",
          "Married",
          "Married",
          "Single",
          "Married",
          "Married",
          "Single",
          "Single",
          "Single",
          "Single",
          "Married",
          "Married",
          "Single",
          "Married",
          "Married",
          "Married",
          "Married",
          "Divorced",
          "Single",
          "Single",
          "Married",
          "Single",
          "Single",
          "Single",
          "Married",
          "Divorced",
          "Single",
          "Married",
          "Single",
          "Single",
          "Single",
          "Single",
          "Single",
          "Single",
          "Married",
          "Single",
          "Single",
          "Single",
          "Married",
          "Married",
          "Married",
          "Married",
          "Single",
          "Single",
          "Married",
          "Single",
          "Married",
          "Married",
          "Widowed",
          "Single",
          "Single",
          "Married",
          "Married",
          "Single",
          "Single",
          "Single",
          "Single",
          "Single",
          "Single",
          "Married",
          "Single",
          "Single",
          "Single",
          "Divorced",
          "Married",
          "Single",
          "Married",
          "Married",
          "Married",
          "Married",
          "Single",
          "Married",
          "Married",
          "Single",
          "Single",
          "Single",
          "Single",
          "Married",
          "Single",
          "Single",
          "Single",
          "Single",
          "Married",
          "Single",
          "Married",
          "Married",
          "Married",
          "Married",
          "Married",
          "Single",
          "Single",
          "Married",
          "Single",
          "Married",
          "Single",
          "Single",
          "Single",
          "Single",
          "Married",
          "Married",
          "Single",
          "Single",
          "Married",
          "Married",
          "Single",
          "Divorced",
          "Single",
          "Single",
          "Single",
          "Single",
          "Single",
          "Single",
          "Single",
          "Married",
          "Single",
          "Single",
          "Single",
          "Single",
          "Married",
          "Single",
          "Single",
          "Single",
          "Married",
          "Single",
          "Single",
          "Single",
          "Single",
          "Single",
          "Single",
          "Single",
          "Single",
          "Married",
          "Married"
         ]
        }
       ],
       "layout": {
        "template": {
         "data": {
          "bar": [
           {
            "error_x": {
             "color": "#2a3f5f"
            },
            "error_y": {
             "color": "#2a3f5f"
            },
            "marker": {
             "line": {
              "color": "#E5ECF6",
              "width": 0.5
             }
            },
            "type": "bar"
           }
          ],
          "barpolar": [
           {
            "marker": {
             "line": {
              "color": "#E5ECF6",
              "width": 0.5
             }
            },
            "type": "barpolar"
           }
          ],
          "carpet": [
           {
            "aaxis": {
             "endlinecolor": "#2a3f5f",
             "gridcolor": "white",
             "linecolor": "white",
             "minorgridcolor": "white",
             "startlinecolor": "#2a3f5f"
            },
            "baxis": {
             "endlinecolor": "#2a3f5f",
             "gridcolor": "white",
             "linecolor": "white",
             "minorgridcolor": "white",
             "startlinecolor": "#2a3f5f"
            },
            "type": "carpet"
           }
          ],
          "choropleth": [
           {
            "colorbar": {
             "outlinewidth": 0,
             "ticks": ""
            },
            "type": "choropleth"
           }
          ],
          "contour": [
           {
            "colorbar": {
             "outlinewidth": 0,
             "ticks": ""
            },
            "colorscale": [
             [
              0,
              "#0d0887"
             ],
             [
              0.1111111111111111,
              "#46039f"
             ],
             [
              0.2222222222222222,
              "#7201a8"
             ],
             [
              0.3333333333333333,
              "#9c179e"
             ],
             [
              0.4444444444444444,
              "#bd3786"
             ],
             [
              0.5555555555555556,
              "#d8576b"
             ],
             [
              0.6666666666666666,
              "#ed7953"
             ],
             [
              0.7777777777777778,
              "#fb9f3a"
             ],
             [
              0.8888888888888888,
              "#fdca26"
             ],
             [
              1,
              "#f0f921"
             ]
            ],
            "type": "contour"
           }
          ],
          "contourcarpet": [
           {
            "colorbar": {
             "outlinewidth": 0,
             "ticks": ""
            },
            "type": "contourcarpet"
           }
          ],
          "heatmap": [
           {
            "colorbar": {
             "outlinewidth": 0,
             "ticks": ""
            },
            "colorscale": [
             [
              0,
              "#0d0887"
             ],
             [
              0.1111111111111111,
              "#46039f"
             ],
             [
              0.2222222222222222,
              "#7201a8"
             ],
             [
              0.3333333333333333,
              "#9c179e"
             ],
             [
              0.4444444444444444,
              "#bd3786"
             ],
             [
              0.5555555555555556,
              "#d8576b"
             ],
             [
              0.6666666666666666,
              "#ed7953"
             ],
             [
              0.7777777777777778,
              "#fb9f3a"
             ],
             [
              0.8888888888888888,
              "#fdca26"
             ],
             [
              1,
              "#f0f921"
             ]
            ],
            "type": "heatmap"
           }
          ],
          "heatmapgl": [
           {
            "colorbar": {
             "outlinewidth": 0,
             "ticks": ""
            },
            "colorscale": [
             [
              0,
              "#0d0887"
             ],
             [
              0.1111111111111111,
              "#46039f"
             ],
             [
              0.2222222222222222,
              "#7201a8"
             ],
             [
              0.3333333333333333,
              "#9c179e"
             ],
             [
              0.4444444444444444,
              "#bd3786"
             ],
             [
              0.5555555555555556,
              "#d8576b"
             ],
             [
              0.6666666666666666,
              "#ed7953"
             ],
             [
              0.7777777777777778,
              "#fb9f3a"
             ],
             [
              0.8888888888888888,
              "#fdca26"
             ],
             [
              1,
              "#f0f921"
             ]
            ],
            "type": "heatmapgl"
           }
          ],
          "histogram": [
           {
            "marker": {
             "colorbar": {
              "outlinewidth": 0,
              "ticks": ""
             }
            },
            "type": "histogram"
           }
          ],
          "histogram2d": [
           {
            "colorbar": {
             "outlinewidth": 0,
             "ticks": ""
            },
            "colorscale": [
             [
              0,
              "#0d0887"
             ],
             [
              0.1111111111111111,
              "#46039f"
             ],
             [
              0.2222222222222222,
              "#7201a8"
             ],
             [
              0.3333333333333333,
              "#9c179e"
             ],
             [
              0.4444444444444444,
              "#bd3786"
             ],
             [
              0.5555555555555556,
              "#d8576b"
             ],
             [
              0.6666666666666666,
              "#ed7953"
             ],
             [
              0.7777777777777778,
              "#fb9f3a"
             ],
             [
              0.8888888888888888,
              "#fdca26"
             ],
             [
              1,
              "#f0f921"
             ]
            ],
            "type": "histogram2d"
           }
          ],
          "histogram2dcontour": [
           {
            "colorbar": {
             "outlinewidth": 0,
             "ticks": ""
            },
            "colorscale": [
             [
              0,
              "#0d0887"
             ],
             [
              0.1111111111111111,
              "#46039f"
             ],
             [
              0.2222222222222222,
              "#7201a8"
             ],
             [
              0.3333333333333333,
              "#9c179e"
             ],
             [
              0.4444444444444444,
              "#bd3786"
             ],
             [
              0.5555555555555556,
              "#d8576b"
             ],
             [
              0.6666666666666666,
              "#ed7953"
             ],
             [
              0.7777777777777778,
              "#fb9f3a"
             ],
             [
              0.8888888888888888,
              "#fdca26"
             ],
             [
              1,
              "#f0f921"
             ]
            ],
            "type": "histogram2dcontour"
           }
          ],
          "mesh3d": [
           {
            "colorbar": {
             "outlinewidth": 0,
             "ticks": ""
            },
            "type": "mesh3d"
           }
          ],
          "parcoords": [
           {
            "line": {
             "colorbar": {
              "outlinewidth": 0,
              "ticks": ""
             }
            },
            "type": "parcoords"
           }
          ],
          "scatter": [
           {
            "marker": {
             "colorbar": {
              "outlinewidth": 0,
              "ticks": ""
             }
            },
            "type": "scatter"
           }
          ],
          "scatter3d": [
           {
            "line": {
             "colorbar": {
              "outlinewidth": 0,
              "ticks": ""
             }
            },
            "marker": {
             "colorbar": {
              "outlinewidth": 0,
              "ticks": ""
             }
            },
            "type": "scatter3d"
           }
          ],
          "scattercarpet": [
           {
            "marker": {
             "colorbar": {
              "outlinewidth": 0,
              "ticks": ""
             }
            },
            "type": "scattercarpet"
           }
          ],
          "scattergeo": [
           {
            "marker": {
             "colorbar": {
              "outlinewidth": 0,
              "ticks": ""
             }
            },
            "type": "scattergeo"
           }
          ],
          "scattergl": [
           {
            "marker": {
             "colorbar": {
              "outlinewidth": 0,
              "ticks": ""
             }
            },
            "type": "scattergl"
           }
          ],
          "scattermapbox": [
           {
            "marker": {
             "colorbar": {
              "outlinewidth": 0,
              "ticks": ""
             }
            },
            "type": "scattermapbox"
           }
          ],
          "scatterpolar": [
           {
            "marker": {
             "colorbar": {
              "outlinewidth": 0,
              "ticks": ""
             }
            },
            "type": "scatterpolar"
           }
          ],
          "scatterpolargl": [
           {
            "marker": {
             "colorbar": {
              "outlinewidth": 0,
              "ticks": ""
             }
            },
            "type": "scatterpolargl"
           }
          ],
          "scatterternary": [
           {
            "marker": {
             "colorbar": {
              "outlinewidth": 0,
              "ticks": ""
             }
            },
            "type": "scatterternary"
           }
          ],
          "surface": [
           {
            "colorbar": {
             "outlinewidth": 0,
             "ticks": ""
            },
            "colorscale": [
             [
              0,
              "#0d0887"
             ],
             [
              0.1111111111111111,
              "#46039f"
             ],
             [
              0.2222222222222222,
              "#7201a8"
             ],
             [
              0.3333333333333333,
              "#9c179e"
             ],
             [
              0.4444444444444444,
              "#bd3786"
             ],
             [
              0.5555555555555556,
              "#d8576b"
             ],
             [
              0.6666666666666666,
              "#ed7953"
             ],
             [
              0.7777777777777778,
              "#fb9f3a"
             ],
             [
              0.8888888888888888,
              "#fdca26"
             ],
             [
              1,
              "#f0f921"
             ]
            ],
            "type": "surface"
           }
          ],
          "table": [
           {
            "cells": {
             "fill": {
              "color": "#EBF0F8"
             },
             "line": {
              "color": "white"
             }
            },
            "header": {
             "fill": {
              "color": "#C8D4E3"
             },
             "line": {
              "color": "white"
             }
            },
            "type": "table"
           }
          ]
         },
         "layout": {
          "annotationdefaults": {
           "arrowcolor": "#2a3f5f",
           "arrowhead": 0,
           "arrowwidth": 1
          },
          "colorscale": {
           "diverging": [
            [
             0,
             "#8e0152"
            ],
            [
             0.1,
             "#c51b7d"
            ],
            [
             0.2,
             "#de77ae"
            ],
            [
             0.3,
             "#f1b6da"
            ],
            [
             0.4,
             "#fde0ef"
            ],
            [
             0.5,
             "#f7f7f7"
            ],
            [
             0.6,
             "#e6f5d0"
            ],
            [
             0.7,
             "#b8e186"
            ],
            [
             0.8,
             "#7fbc41"
            ],
            [
             0.9,
             "#4d9221"
            ],
            [
             1,
             "#276419"
            ]
           ],
           "sequential": [
            [
             0,
             "#0d0887"
            ],
            [
             0.1111111111111111,
             "#46039f"
            ],
            [
             0.2222222222222222,
             "#7201a8"
            ],
            [
             0.3333333333333333,
             "#9c179e"
            ],
            [
             0.4444444444444444,
             "#bd3786"
            ],
            [
             0.5555555555555556,
             "#d8576b"
            ],
            [
             0.6666666666666666,
             "#ed7953"
            ],
            [
             0.7777777777777778,
             "#fb9f3a"
            ],
            [
             0.8888888888888888,
             "#fdca26"
            ],
            [
             1,
             "#f0f921"
            ]
           ],
           "sequentialminus": [
            [
             0,
             "#0d0887"
            ],
            [
             0.1111111111111111,
             "#46039f"
            ],
            [
             0.2222222222222222,
             "#7201a8"
            ],
            [
             0.3333333333333333,
             "#9c179e"
            ],
            [
             0.4444444444444444,
             "#bd3786"
            ],
            [
             0.5555555555555556,
             "#d8576b"
            ],
            [
             0.6666666666666666,
             "#ed7953"
            ],
            [
             0.7777777777777778,
             "#fb9f3a"
            ],
            [
             0.8888888888888888,
             "#fdca26"
            ],
            [
             1,
             "#f0f921"
            ]
           ]
          },
          "colorway": [
           "#636efa",
           "#EF553B",
           "#00cc96",
           "#ab63fa",
           "#FFA15A",
           "#19d3f3",
           "#FF6692",
           "#B6E880",
           "#FF97FF",
           "#FECB52"
          ],
          "font": {
           "color": "#2a3f5f"
          },
          "geo": {
           "bgcolor": "white",
           "lakecolor": "white",
           "landcolor": "#E5ECF6",
           "showlakes": true,
           "showland": true,
           "subunitcolor": "white"
          },
          "hoverlabel": {
           "align": "left"
          },
          "hovermode": "closest",
          "mapbox": {
           "style": "light"
          },
          "paper_bgcolor": "white",
          "plot_bgcolor": "#E5ECF6",
          "polar": {
           "angularaxis": {
            "gridcolor": "white",
            "linecolor": "white",
            "ticks": ""
           },
           "bgcolor": "#E5ECF6",
           "radialaxis": {
            "gridcolor": "white",
            "linecolor": "white",
            "ticks": ""
           }
          },
          "scene": {
           "xaxis": {
            "backgroundcolor": "#E5ECF6",
            "gridcolor": "white",
            "gridwidth": 2,
            "linecolor": "white",
            "showbackground": true,
            "ticks": "",
            "zerolinecolor": "white"
           },
           "yaxis": {
            "backgroundcolor": "#E5ECF6",
            "gridcolor": "white",
            "gridwidth": 2,
            "linecolor": "white",
            "showbackground": true,
            "ticks": "",
            "zerolinecolor": "white"
           },
           "zaxis": {
            "backgroundcolor": "#E5ECF6",
            "gridcolor": "white",
            "gridwidth": 2,
            "linecolor": "white",
            "showbackground": true,
            "ticks": "",
            "zerolinecolor": "white"
           }
          },
          "shapedefaults": {
           "line": {
            "color": "#2a3f5f"
           }
          },
          "ternary": {
           "aaxis": {
            "gridcolor": "white",
            "linecolor": "white",
            "ticks": ""
           },
           "baxis": {
            "gridcolor": "white",
            "linecolor": "white",
            "ticks": ""
           },
           "bgcolor": "#E5ECF6",
           "caxis": {
            "gridcolor": "white",
            "linecolor": "white",
            "ticks": ""
           }
          },
          "title": {
           "x": 0.05
          },
          "xaxis": {
           "automargin": true,
           "gridcolor": "white",
           "linecolor": "white",
           "ticks": "",
           "zerolinecolor": "white",
           "zerolinewidth": 2
          },
          "yaxis": {
           "automargin": true,
           "gridcolor": "white",
           "linecolor": "white",
           "ticks": "",
           "zerolinecolor": "white",
           "zerolinewidth": 2
          }
         }
        }
       }
      },
      "text/html": [
       "<div>\n",
       "        \n",
       "        \n",
       "            <div id=\"5f754d1d-6989-4f50-b240-6f6ae9f7bd3b\" class=\"plotly-graph-div\" style=\"height:525px; width:100%;\"></div>\n",
       "            <script type=\"text/javascript\">\n",
       "                require([\"plotly\"], function(Plotly) {\n",
       "                    window.PLOTLYENV=window.PLOTLYENV || {};\n",
       "                    \n",
       "                if (document.getElementById(\"5f754d1d-6989-4f50-b240-6f6ae9f7bd3b\")) {\n",
       "                    Plotly.newPlot(\n",
       "                        '5f754d1d-6989-4f50-b240-6f6ae9f7bd3b',\n",
       "                        [{\"type\": \"histogram\", \"y\": [\"Married\", \"Single\", \"Married\", \"Married\", \"Single\", \"Married\", \"Married\", \"Single\", \"Single\", \"Single\", \"Single\", \"Married\", \"Married\", \"Single\", \"Married\", \"Married\", \"Married\", \"Married\", \"Divorced\", \"Single\", \"Single\", \"Married\", \"Single\", \"Single\", \"Single\", \"Married\", \"Divorced\", \"Single\", \"Married\", \"Single\", \"Single\", \"Single\", \"Single\", \"Single\", \"Single\", \"Married\", \"Single\", \"Single\", \"Single\", \"Married\", \"Married\", \"Married\", \"Married\", \"Single\", \"Single\", \"Married\", \"Single\", \"Married\", \"Married\", \"Widowed\", \"Single\", \"Single\", \"Married\", \"Married\", \"Single\", \"Single\", \"Single\", \"Single\", \"Single\", \"Single\", \"Married\", \"Single\", \"Single\", \"Single\", \"Divorced\", \"Married\", \"Single\", \"Married\", \"Married\", \"Married\", \"Married\", \"Single\", \"Married\", \"Married\", \"Single\", \"Single\", \"Single\", \"Single\", \"Married\", \"Single\", \"Single\", \"Single\", \"Single\", \"Married\", \"Single\", \"Married\", \"Married\", \"Married\", \"Married\", \"Married\", \"Single\", \"Single\", \"Married\", \"Single\", \"Married\", \"Single\", \"Single\", \"Single\", \"Single\", \"Married\", \"Married\", \"Single\", \"Single\", \"Married\", \"Married\", \"Single\", \"Divorced\", \"Single\", \"Single\", \"Single\", \"Single\", \"Single\", \"Single\", \"Single\", \"Married\", \"Single\", \"Single\", \"Single\", \"Single\", \"Married\", \"Single\", \"Single\", \"Single\", \"Married\", \"Single\", \"Single\", \"Single\", \"Single\", \"Single\", \"Single\", \"Single\", \"Single\", \"Married\", \"Married\"]}],\n",
       "                        {\"template\": {\"data\": {\"bar\": [{\"error_x\": {\"color\": \"#2a3f5f\"}, \"error_y\": {\"color\": \"#2a3f5f\"}, \"marker\": {\"line\": {\"color\": \"#E5ECF6\", \"width\": 0.5}}, \"type\": \"bar\"}], \"barpolar\": [{\"marker\": {\"line\": {\"color\": \"#E5ECF6\", \"width\": 0.5}}, \"type\": \"barpolar\"}], \"carpet\": [{\"aaxis\": {\"endlinecolor\": \"#2a3f5f\", \"gridcolor\": \"white\", \"linecolor\": \"white\", \"minorgridcolor\": \"white\", \"startlinecolor\": \"#2a3f5f\"}, \"baxis\": {\"endlinecolor\": \"#2a3f5f\", \"gridcolor\": \"white\", \"linecolor\": \"white\", \"minorgridcolor\": \"white\", \"startlinecolor\": \"#2a3f5f\"}, \"type\": \"carpet\"}], \"choropleth\": [{\"colorbar\": {\"outlinewidth\": 0, \"ticks\": \"\"}, \"type\": \"choropleth\"}], \"contour\": [{\"colorbar\": {\"outlinewidth\": 0, \"ticks\": \"\"}, \"colorscale\": [[0.0, \"#0d0887\"], [0.1111111111111111, \"#46039f\"], [0.2222222222222222, \"#7201a8\"], [0.3333333333333333, \"#9c179e\"], [0.4444444444444444, \"#bd3786\"], [0.5555555555555556, \"#d8576b\"], [0.6666666666666666, \"#ed7953\"], [0.7777777777777778, \"#fb9f3a\"], [0.8888888888888888, \"#fdca26\"], [1.0, \"#f0f921\"]], \"type\": \"contour\"}], \"contourcarpet\": [{\"colorbar\": {\"outlinewidth\": 0, \"ticks\": \"\"}, \"type\": \"contourcarpet\"}], \"heatmap\": [{\"colorbar\": {\"outlinewidth\": 0, \"ticks\": \"\"}, \"colorscale\": [[0.0, \"#0d0887\"], [0.1111111111111111, \"#46039f\"], [0.2222222222222222, \"#7201a8\"], [0.3333333333333333, \"#9c179e\"], [0.4444444444444444, \"#bd3786\"], [0.5555555555555556, \"#d8576b\"], [0.6666666666666666, \"#ed7953\"], [0.7777777777777778, \"#fb9f3a\"], [0.8888888888888888, \"#fdca26\"], [1.0, \"#f0f921\"]], \"type\": \"heatmap\"}], \"heatmapgl\": [{\"colorbar\": {\"outlinewidth\": 0, \"ticks\": \"\"}, \"colorscale\": [[0.0, \"#0d0887\"], [0.1111111111111111, \"#46039f\"], [0.2222222222222222, \"#7201a8\"], [0.3333333333333333, \"#9c179e\"], [0.4444444444444444, \"#bd3786\"], [0.5555555555555556, \"#d8576b\"], [0.6666666666666666, \"#ed7953\"], [0.7777777777777778, \"#fb9f3a\"], [0.8888888888888888, \"#fdca26\"], [1.0, \"#f0f921\"]], \"type\": \"heatmapgl\"}], \"histogram\": [{\"marker\": {\"colorbar\": {\"outlinewidth\": 0, \"ticks\": \"\"}}, \"type\": \"histogram\"}], \"histogram2d\": [{\"colorbar\": {\"outlinewidth\": 0, \"ticks\": \"\"}, \"colorscale\": [[0.0, \"#0d0887\"], [0.1111111111111111, \"#46039f\"], [0.2222222222222222, \"#7201a8\"], [0.3333333333333333, \"#9c179e\"], [0.4444444444444444, \"#bd3786\"], [0.5555555555555556, \"#d8576b\"], [0.6666666666666666, \"#ed7953\"], [0.7777777777777778, \"#fb9f3a\"], [0.8888888888888888, \"#fdca26\"], [1.0, \"#f0f921\"]], \"type\": \"histogram2d\"}], \"histogram2dcontour\": [{\"colorbar\": {\"outlinewidth\": 0, \"ticks\": \"\"}, \"colorscale\": [[0.0, \"#0d0887\"], [0.1111111111111111, \"#46039f\"], [0.2222222222222222, \"#7201a8\"], [0.3333333333333333, \"#9c179e\"], [0.4444444444444444, \"#bd3786\"], [0.5555555555555556, \"#d8576b\"], [0.6666666666666666, \"#ed7953\"], [0.7777777777777778, \"#fb9f3a\"], [0.8888888888888888, \"#fdca26\"], [1.0, \"#f0f921\"]], \"type\": \"histogram2dcontour\"}], \"mesh3d\": [{\"colorbar\": {\"outlinewidth\": 0, \"ticks\": \"\"}, \"type\": \"mesh3d\"}], \"parcoords\": [{\"line\": {\"colorbar\": {\"outlinewidth\": 0, \"ticks\": \"\"}}, \"type\": \"parcoords\"}], \"scatter\": [{\"marker\": {\"colorbar\": {\"outlinewidth\": 0, \"ticks\": \"\"}}, \"type\": \"scatter\"}], \"scatter3d\": [{\"line\": {\"colorbar\": {\"outlinewidth\": 0, \"ticks\": \"\"}}, \"marker\": {\"colorbar\": {\"outlinewidth\": 0, \"ticks\": \"\"}}, \"type\": \"scatter3d\"}], \"scattercarpet\": [{\"marker\": {\"colorbar\": {\"outlinewidth\": 0, \"ticks\": \"\"}}, \"type\": \"scattercarpet\"}], \"scattergeo\": [{\"marker\": {\"colorbar\": {\"outlinewidth\": 0, \"ticks\": \"\"}}, \"type\": \"scattergeo\"}], \"scattergl\": [{\"marker\": {\"colorbar\": {\"outlinewidth\": 0, \"ticks\": \"\"}}, \"type\": \"scattergl\"}], \"scattermapbox\": [{\"marker\": {\"colorbar\": {\"outlinewidth\": 0, \"ticks\": \"\"}}, \"type\": \"scattermapbox\"}], \"scatterpolar\": [{\"marker\": {\"colorbar\": {\"outlinewidth\": 0, \"ticks\": \"\"}}, \"type\": \"scatterpolar\"}], \"scatterpolargl\": [{\"marker\": {\"colorbar\": {\"outlinewidth\": 0, \"ticks\": \"\"}}, \"type\": \"scatterpolargl\"}], \"scatterternary\": [{\"marker\": {\"colorbar\": {\"outlinewidth\": 0, \"ticks\": \"\"}}, \"type\": \"scatterternary\"}], \"surface\": [{\"colorbar\": {\"outlinewidth\": 0, \"ticks\": \"\"}, \"colorscale\": [[0.0, \"#0d0887\"], [0.1111111111111111, \"#46039f\"], [0.2222222222222222, \"#7201a8\"], [0.3333333333333333, \"#9c179e\"], [0.4444444444444444, \"#bd3786\"], [0.5555555555555556, \"#d8576b\"], [0.6666666666666666, \"#ed7953\"], [0.7777777777777778, \"#fb9f3a\"], [0.8888888888888888, \"#fdca26\"], [1.0, \"#f0f921\"]], \"type\": \"surface\"}], \"table\": [{\"cells\": {\"fill\": {\"color\": \"#EBF0F8\"}, \"line\": {\"color\": \"white\"}}, \"header\": {\"fill\": {\"color\": \"#C8D4E3\"}, \"line\": {\"color\": \"white\"}}, \"type\": \"table\"}]}, \"layout\": {\"annotationdefaults\": {\"arrowcolor\": \"#2a3f5f\", \"arrowhead\": 0, \"arrowwidth\": 1}, \"colorscale\": {\"diverging\": [[0, \"#8e0152\"], [0.1, \"#c51b7d\"], [0.2, \"#de77ae\"], [0.3, \"#f1b6da\"], [0.4, \"#fde0ef\"], [0.5, \"#f7f7f7\"], [0.6, \"#e6f5d0\"], [0.7, \"#b8e186\"], [0.8, \"#7fbc41\"], [0.9, \"#4d9221\"], [1, \"#276419\"]], \"sequential\": [[0.0, \"#0d0887\"], [0.1111111111111111, \"#46039f\"], [0.2222222222222222, \"#7201a8\"], [0.3333333333333333, \"#9c179e\"], [0.4444444444444444, \"#bd3786\"], [0.5555555555555556, \"#d8576b\"], [0.6666666666666666, \"#ed7953\"], [0.7777777777777778, \"#fb9f3a\"], [0.8888888888888888, \"#fdca26\"], [1.0, \"#f0f921\"]], \"sequentialminus\": [[0.0, \"#0d0887\"], [0.1111111111111111, \"#46039f\"], [0.2222222222222222, \"#7201a8\"], [0.3333333333333333, \"#9c179e\"], [0.4444444444444444, \"#bd3786\"], [0.5555555555555556, \"#d8576b\"], [0.6666666666666666, \"#ed7953\"], [0.7777777777777778, \"#fb9f3a\"], [0.8888888888888888, \"#fdca26\"], [1.0, \"#f0f921\"]]}, \"colorway\": [\"#636efa\", \"#EF553B\", \"#00cc96\", \"#ab63fa\", \"#FFA15A\", \"#19d3f3\", \"#FF6692\", \"#B6E880\", \"#FF97FF\", \"#FECB52\"], \"font\": {\"color\": \"#2a3f5f\"}, \"geo\": {\"bgcolor\": \"white\", \"lakecolor\": \"white\", \"landcolor\": \"#E5ECF6\", \"showlakes\": true, \"showland\": true, \"subunitcolor\": \"white\"}, \"hoverlabel\": {\"align\": \"left\"}, \"hovermode\": \"closest\", \"mapbox\": {\"style\": \"light\"}, \"paper_bgcolor\": \"white\", \"plot_bgcolor\": \"#E5ECF6\", \"polar\": {\"angularaxis\": {\"gridcolor\": \"white\", \"linecolor\": \"white\", \"ticks\": \"\"}, \"bgcolor\": \"#E5ECF6\", \"radialaxis\": {\"gridcolor\": \"white\", \"linecolor\": \"white\", \"ticks\": \"\"}}, \"scene\": {\"xaxis\": {\"backgroundcolor\": \"#E5ECF6\", \"gridcolor\": \"white\", \"gridwidth\": 2, \"linecolor\": \"white\", \"showbackground\": true, \"ticks\": \"\", \"zerolinecolor\": \"white\"}, \"yaxis\": {\"backgroundcolor\": \"#E5ECF6\", \"gridcolor\": \"white\", \"gridwidth\": 2, \"linecolor\": \"white\", \"showbackground\": true, \"ticks\": \"\", \"zerolinecolor\": \"white\"}, \"zaxis\": {\"backgroundcolor\": \"#E5ECF6\", \"gridcolor\": \"white\", \"gridwidth\": 2, \"linecolor\": \"white\", \"showbackground\": true, \"ticks\": \"\", \"zerolinecolor\": \"white\"}}, \"shapedefaults\": {\"line\": {\"color\": \"#2a3f5f\"}}, \"ternary\": {\"aaxis\": {\"gridcolor\": \"white\", \"linecolor\": \"white\", \"ticks\": \"\"}, \"baxis\": {\"gridcolor\": \"white\", \"linecolor\": \"white\", \"ticks\": \"\"}, \"bgcolor\": \"#E5ECF6\", \"caxis\": {\"gridcolor\": \"white\", \"linecolor\": \"white\", \"ticks\": \"\"}}, \"title\": {\"x\": 0.05}, \"xaxis\": {\"automargin\": true, \"gridcolor\": \"white\", \"linecolor\": \"white\", \"ticks\": \"\", \"zerolinecolor\": \"white\", \"zerolinewidth\": 2}, \"yaxis\": {\"automargin\": true, \"gridcolor\": \"white\", \"linecolor\": \"white\", \"ticks\": \"\", \"zerolinecolor\": \"white\", \"zerolinewidth\": 2}}}},\n",
       "                        {\"responsive\": true}\n",
       "                    ).then(function(){\n",
       "                            \n",
       "var gd = document.getElementById('5f754d1d-6989-4f50-b240-6f6ae9f7bd3b');\n",
       "var x = new MutationObserver(function (mutations, observer) {{\n",
       "        var display = window.getComputedStyle(gd).display;\n",
       "        if (!display || display === 'none') {{\n",
       "            console.log([gd, 'removed!']);\n",
       "            Plotly.purge(gd);\n",
       "            observer.disconnect();\n",
       "        }}\n",
       "}});\n",
       "\n",
       "// Listen for the removal of the full notebook cells\n",
       "var notebookContainer = gd.closest('#notebook-container');\n",
       "if (notebookContainer) {{\n",
       "    x.observe(notebookContainer, {childList: true});\n",
       "}}\n",
       "\n",
       "// Listen for the clearing of the current output cell\n",
       "var outputEl = gd.closest('.output');\n",
       "if (outputEl) {{\n",
       "    x.observe(outputEl, {childList: true});\n",
       "}}\n",
       "\n",
       "                        })\n",
       "                };\n",
       "                });\n",
       "            </script>\n",
       "        </div>"
      ]
     },
     "metadata": {},
     "output_type": "display_data"
    }
   ],
   "source": [
    "import plotly.graph_objects as go\n",
    "\n",
    "import numpy as np\n",
    "\n",
    "# Use `y` argument instead of `x` for horizontal histogram\n",
    "\n",
    "#fig, ax = plt.subplots(figsize=(10,8))\n",
    "fig = go.Figure(data=[go.Histogram(y=df['marital_status'])])\n",
    "fig.show()"
   ]
  },
  {
   "cell_type": "code",
   "execution_count": 157,
   "metadata": {
    "scrolled": false
   },
   "outputs": [
    {
     "data": {
      "application/vnd.plotly.v1+json": {
       "config": {
        "plotlyServerURL": "https://plot.ly"
       },
       "data": [
        {
         "alignmentgroup": "True",
         "bingroup": "x",
         "hoverlabel": {
          "namelength": 0
         },
         "hovertemplate": "nps_identity=%{x}<br>count=%{y}",
         "legendgroup": "",
         "marker": {
          "color": "#636efa"
         },
         "name": "",
         "offsetgroup": "",
         "orientation": "v",
         "showlegend": false,
         "type": "histogram",
         "x": [
          6,
          8,
          9,
          8,
          9,
          7,
          8,
          8,
          3,
          5,
          10,
          8,
          6,
          9,
          8,
          9,
          7,
          2,
          10,
          7,
          10,
          6,
          3,
          6,
          7,
          7,
          10,
          5,
          7,
          4,
          6,
          8,
          6,
          8,
          9,
          4,
          8,
          5,
          10,
          8,
          4,
          10,
          5,
          10,
          9,
          7,
          6,
          7,
          7,
          5,
          10,
          6,
          7,
          3,
          10,
          5,
          9,
          9,
          6,
          6,
          8,
          2,
          6,
          10,
          10,
          9,
          9,
          9,
          9,
          5,
          10,
          10,
          5,
          6,
          7,
          10,
          1,
          9,
          7,
          9,
          10,
          10,
          10,
          8,
          5,
          3,
          6,
          1,
          10,
          7,
          6,
          10,
          7,
          4,
          8,
          10,
          9,
          8,
          6,
          1,
          5,
          9,
          10,
          8,
          10,
          8,
          8,
          9,
          7,
          10,
          3,
          9,
          10,
          7,
          10,
          5,
          6,
          7,
          9,
          6,
          8,
          5,
          7,
          8,
          10,
          10,
          10,
          8,
          10,
          7,
          8,
          7,
          7,
          8
         ],
         "xaxis": "x",
         "yaxis": "y"
        }
       ],
       "layout": {
        "barmode": "relative",
        "height": 600,
        "legend": {
         "tracegroupgap": 0
        },
        "margin": {
         "t": 60
        },
        "template": {
         "data": {
          "bar": [
           {
            "error_x": {
             "color": "#2a3f5f"
            },
            "error_y": {
             "color": "#2a3f5f"
            },
            "marker": {
             "line": {
              "color": "#E5ECF6",
              "width": 0.5
             }
            },
            "type": "bar"
           }
          ],
          "barpolar": [
           {
            "marker": {
             "line": {
              "color": "#E5ECF6",
              "width": 0.5
             }
            },
            "type": "barpolar"
           }
          ],
          "carpet": [
           {
            "aaxis": {
             "endlinecolor": "#2a3f5f",
             "gridcolor": "white",
             "linecolor": "white",
             "minorgridcolor": "white",
             "startlinecolor": "#2a3f5f"
            },
            "baxis": {
             "endlinecolor": "#2a3f5f",
             "gridcolor": "white",
             "linecolor": "white",
             "minorgridcolor": "white",
             "startlinecolor": "#2a3f5f"
            },
            "type": "carpet"
           }
          ],
          "choropleth": [
           {
            "colorbar": {
             "outlinewidth": 0,
             "ticks": ""
            },
            "type": "choropleth"
           }
          ],
          "contour": [
           {
            "colorbar": {
             "outlinewidth": 0,
             "ticks": ""
            },
            "colorscale": [
             [
              0,
              "#0d0887"
             ],
             [
              0.1111111111111111,
              "#46039f"
             ],
             [
              0.2222222222222222,
              "#7201a8"
             ],
             [
              0.3333333333333333,
              "#9c179e"
             ],
             [
              0.4444444444444444,
              "#bd3786"
             ],
             [
              0.5555555555555556,
              "#d8576b"
             ],
             [
              0.6666666666666666,
              "#ed7953"
             ],
             [
              0.7777777777777778,
              "#fb9f3a"
             ],
             [
              0.8888888888888888,
              "#fdca26"
             ],
             [
              1,
              "#f0f921"
             ]
            ],
            "type": "contour"
           }
          ],
          "contourcarpet": [
           {
            "colorbar": {
             "outlinewidth": 0,
             "ticks": ""
            },
            "type": "contourcarpet"
           }
          ],
          "heatmap": [
           {
            "colorbar": {
             "outlinewidth": 0,
             "ticks": ""
            },
            "colorscale": [
             [
              0,
              "#0d0887"
             ],
             [
              0.1111111111111111,
              "#46039f"
             ],
             [
              0.2222222222222222,
              "#7201a8"
             ],
             [
              0.3333333333333333,
              "#9c179e"
             ],
             [
              0.4444444444444444,
              "#bd3786"
             ],
             [
              0.5555555555555556,
              "#d8576b"
             ],
             [
              0.6666666666666666,
              "#ed7953"
             ],
             [
              0.7777777777777778,
              "#fb9f3a"
             ],
             [
              0.8888888888888888,
              "#fdca26"
             ],
             [
              1,
              "#f0f921"
             ]
            ],
            "type": "heatmap"
           }
          ],
          "heatmapgl": [
           {
            "colorbar": {
             "outlinewidth": 0,
             "ticks": ""
            },
            "colorscale": [
             [
              0,
              "#0d0887"
             ],
             [
              0.1111111111111111,
              "#46039f"
             ],
             [
              0.2222222222222222,
              "#7201a8"
             ],
             [
              0.3333333333333333,
              "#9c179e"
             ],
             [
              0.4444444444444444,
              "#bd3786"
             ],
             [
              0.5555555555555556,
              "#d8576b"
             ],
             [
              0.6666666666666666,
              "#ed7953"
             ],
             [
              0.7777777777777778,
              "#fb9f3a"
             ],
             [
              0.8888888888888888,
              "#fdca26"
             ],
             [
              1,
              "#f0f921"
             ]
            ],
            "type": "heatmapgl"
           }
          ],
          "histogram": [
           {
            "marker": {
             "colorbar": {
              "outlinewidth": 0,
              "ticks": ""
             }
            },
            "type": "histogram"
           }
          ],
          "histogram2d": [
           {
            "colorbar": {
             "outlinewidth": 0,
             "ticks": ""
            },
            "colorscale": [
             [
              0,
              "#0d0887"
             ],
             [
              0.1111111111111111,
              "#46039f"
             ],
             [
              0.2222222222222222,
              "#7201a8"
             ],
             [
              0.3333333333333333,
              "#9c179e"
             ],
             [
              0.4444444444444444,
              "#bd3786"
             ],
             [
              0.5555555555555556,
              "#d8576b"
             ],
             [
              0.6666666666666666,
              "#ed7953"
             ],
             [
              0.7777777777777778,
              "#fb9f3a"
             ],
             [
              0.8888888888888888,
              "#fdca26"
             ],
             [
              1,
              "#f0f921"
             ]
            ],
            "type": "histogram2d"
           }
          ],
          "histogram2dcontour": [
           {
            "colorbar": {
             "outlinewidth": 0,
             "ticks": ""
            },
            "colorscale": [
             [
              0,
              "#0d0887"
             ],
             [
              0.1111111111111111,
              "#46039f"
             ],
             [
              0.2222222222222222,
              "#7201a8"
             ],
             [
              0.3333333333333333,
              "#9c179e"
             ],
             [
              0.4444444444444444,
              "#bd3786"
             ],
             [
              0.5555555555555556,
              "#d8576b"
             ],
             [
              0.6666666666666666,
              "#ed7953"
             ],
             [
              0.7777777777777778,
              "#fb9f3a"
             ],
             [
              0.8888888888888888,
              "#fdca26"
             ],
             [
              1,
              "#f0f921"
             ]
            ],
            "type": "histogram2dcontour"
           }
          ],
          "mesh3d": [
           {
            "colorbar": {
             "outlinewidth": 0,
             "ticks": ""
            },
            "type": "mesh3d"
           }
          ],
          "parcoords": [
           {
            "line": {
             "colorbar": {
              "outlinewidth": 0,
              "ticks": ""
             }
            },
            "type": "parcoords"
           }
          ],
          "scatter": [
           {
            "marker": {
             "colorbar": {
              "outlinewidth": 0,
              "ticks": ""
             }
            },
            "type": "scatter"
           }
          ],
          "scatter3d": [
           {
            "line": {
             "colorbar": {
              "outlinewidth": 0,
              "ticks": ""
             }
            },
            "marker": {
             "colorbar": {
              "outlinewidth": 0,
              "ticks": ""
             }
            },
            "type": "scatter3d"
           }
          ],
          "scattercarpet": [
           {
            "marker": {
             "colorbar": {
              "outlinewidth": 0,
              "ticks": ""
             }
            },
            "type": "scattercarpet"
           }
          ],
          "scattergeo": [
           {
            "marker": {
             "colorbar": {
              "outlinewidth": 0,
              "ticks": ""
             }
            },
            "type": "scattergeo"
           }
          ],
          "scattergl": [
           {
            "marker": {
             "colorbar": {
              "outlinewidth": 0,
              "ticks": ""
             }
            },
            "type": "scattergl"
           }
          ],
          "scattermapbox": [
           {
            "marker": {
             "colorbar": {
              "outlinewidth": 0,
              "ticks": ""
             }
            },
            "type": "scattermapbox"
           }
          ],
          "scatterpolar": [
           {
            "marker": {
             "colorbar": {
              "outlinewidth": 0,
              "ticks": ""
             }
            },
            "type": "scatterpolar"
           }
          ],
          "scatterpolargl": [
           {
            "marker": {
             "colorbar": {
              "outlinewidth": 0,
              "ticks": ""
             }
            },
            "type": "scatterpolargl"
           }
          ],
          "scatterternary": [
           {
            "marker": {
             "colorbar": {
              "outlinewidth": 0,
              "ticks": ""
             }
            },
            "type": "scatterternary"
           }
          ],
          "surface": [
           {
            "colorbar": {
             "outlinewidth": 0,
             "ticks": ""
            },
            "colorscale": [
             [
              0,
              "#0d0887"
             ],
             [
              0.1111111111111111,
              "#46039f"
             ],
             [
              0.2222222222222222,
              "#7201a8"
             ],
             [
              0.3333333333333333,
              "#9c179e"
             ],
             [
              0.4444444444444444,
              "#bd3786"
             ],
             [
              0.5555555555555556,
              "#d8576b"
             ],
             [
              0.6666666666666666,
              "#ed7953"
             ],
             [
              0.7777777777777778,
              "#fb9f3a"
             ],
             [
              0.8888888888888888,
              "#fdca26"
             ],
             [
              1,
              "#f0f921"
             ]
            ],
            "type": "surface"
           }
          ],
          "table": [
           {
            "cells": {
             "fill": {
              "color": "#EBF0F8"
             },
             "line": {
              "color": "white"
             }
            },
            "header": {
             "fill": {
              "color": "#C8D4E3"
             },
             "line": {
              "color": "white"
             }
            },
            "type": "table"
           }
          ]
         },
         "layout": {
          "annotationdefaults": {
           "arrowcolor": "#2a3f5f",
           "arrowhead": 0,
           "arrowwidth": 1
          },
          "colorscale": {
           "diverging": [
            [
             0,
             "#8e0152"
            ],
            [
             0.1,
             "#c51b7d"
            ],
            [
             0.2,
             "#de77ae"
            ],
            [
             0.3,
             "#f1b6da"
            ],
            [
             0.4,
             "#fde0ef"
            ],
            [
             0.5,
             "#f7f7f7"
            ],
            [
             0.6,
             "#e6f5d0"
            ],
            [
             0.7,
             "#b8e186"
            ],
            [
             0.8,
             "#7fbc41"
            ],
            [
             0.9,
             "#4d9221"
            ],
            [
             1,
             "#276419"
            ]
           ],
           "sequential": [
            [
             0,
             "#0d0887"
            ],
            [
             0.1111111111111111,
             "#46039f"
            ],
            [
             0.2222222222222222,
             "#7201a8"
            ],
            [
             0.3333333333333333,
             "#9c179e"
            ],
            [
             0.4444444444444444,
             "#bd3786"
            ],
            [
             0.5555555555555556,
             "#d8576b"
            ],
            [
             0.6666666666666666,
             "#ed7953"
            ],
            [
             0.7777777777777778,
             "#fb9f3a"
            ],
            [
             0.8888888888888888,
             "#fdca26"
            ],
            [
             1,
             "#f0f921"
            ]
           ],
           "sequentialminus": [
            [
             0,
             "#0d0887"
            ],
            [
             0.1111111111111111,
             "#46039f"
            ],
            [
             0.2222222222222222,
             "#7201a8"
            ],
            [
             0.3333333333333333,
             "#9c179e"
            ],
            [
             0.4444444444444444,
             "#bd3786"
            ],
            [
             0.5555555555555556,
             "#d8576b"
            ],
            [
             0.6666666666666666,
             "#ed7953"
            ],
            [
             0.7777777777777778,
             "#fb9f3a"
            ],
            [
             0.8888888888888888,
             "#fdca26"
            ],
            [
             1,
             "#f0f921"
            ]
           ]
          },
          "colorway": [
           "#636efa",
           "#EF553B",
           "#00cc96",
           "#ab63fa",
           "#FFA15A",
           "#19d3f3",
           "#FF6692",
           "#B6E880",
           "#FF97FF",
           "#FECB52"
          ],
          "font": {
           "color": "#2a3f5f"
          },
          "geo": {
           "bgcolor": "white",
           "lakecolor": "white",
           "landcolor": "#E5ECF6",
           "showlakes": true,
           "showland": true,
           "subunitcolor": "white"
          },
          "hoverlabel": {
           "align": "left"
          },
          "hovermode": "closest",
          "mapbox": {
           "style": "light"
          },
          "paper_bgcolor": "white",
          "plot_bgcolor": "#E5ECF6",
          "polar": {
           "angularaxis": {
            "gridcolor": "white",
            "linecolor": "white",
            "ticks": ""
           },
           "bgcolor": "#E5ECF6",
           "radialaxis": {
            "gridcolor": "white",
            "linecolor": "white",
            "ticks": ""
           }
          },
          "scene": {
           "xaxis": {
            "backgroundcolor": "#E5ECF6",
            "gridcolor": "white",
            "gridwidth": 2,
            "linecolor": "white",
            "showbackground": true,
            "ticks": "",
            "zerolinecolor": "white"
           },
           "yaxis": {
            "backgroundcolor": "#E5ECF6",
            "gridcolor": "white",
            "gridwidth": 2,
            "linecolor": "white",
            "showbackground": true,
            "ticks": "",
            "zerolinecolor": "white"
           },
           "zaxis": {
            "backgroundcolor": "#E5ECF6",
            "gridcolor": "white",
            "gridwidth": 2,
            "linecolor": "white",
            "showbackground": true,
            "ticks": "",
            "zerolinecolor": "white"
           }
          },
          "shapedefaults": {
           "line": {
            "color": "#2a3f5f"
           }
          },
          "ternary": {
           "aaxis": {
            "gridcolor": "white",
            "linecolor": "white",
            "ticks": ""
           },
           "baxis": {
            "gridcolor": "white",
            "linecolor": "white",
            "ticks": ""
           },
           "bgcolor": "#E5ECF6",
           "caxis": {
            "gridcolor": "white",
            "linecolor": "white",
            "ticks": ""
           }
          },
          "title": {
           "x": 0.05
          },
          "xaxis": {
           "automargin": true,
           "gridcolor": "white",
           "linecolor": "white",
           "ticks": "",
           "zerolinecolor": "white",
           "zerolinewidth": 2
          },
          "yaxis": {
           "automargin": true,
           "gridcolor": "white",
           "linecolor": "white",
           "ticks": "",
           "zerolinecolor": "white",
           "zerolinewidth": 2
          }
         }
        },
        "xaxis": {
         "anchor": "y",
         "domain": [
          0,
          0.98
         ],
         "title": {
          "text": "nps_identity"
         }
        },
        "yaxis": {
         "anchor": "x",
         "domain": [
          0,
          1
         ],
         "title": {
          "text": "count"
         }
        }
       }
      },
      "text/html": [
       "<div>\n",
       "        \n",
       "        \n",
       "            <div id=\"c42e230b-3997-468e-a0ed-c45692928422\" class=\"plotly-graph-div\" style=\"height:600px; width:100%;\"></div>\n",
       "            <script type=\"text/javascript\">\n",
       "                require([\"plotly\"], function(Plotly) {\n",
       "                    window.PLOTLYENV=window.PLOTLYENV || {};\n",
       "                    \n",
       "                if (document.getElementById(\"c42e230b-3997-468e-a0ed-c45692928422\")) {\n",
       "                    Plotly.newPlot(\n",
       "                        'c42e230b-3997-468e-a0ed-c45692928422',\n",
       "                        [{\"alignmentgroup\": \"True\", \"bingroup\": \"x\", \"hoverlabel\": {\"namelength\": 0}, \"hovertemplate\": \"nps_identity=%{x}<br>count=%{y}\", \"legendgroup\": \"\", \"marker\": {\"color\": \"#636efa\"}, \"name\": \"\", \"offsetgroup\": \"\", \"orientation\": \"v\", \"showlegend\": false, \"type\": \"histogram\", \"x\": [6, 8, 9, 8, 9, 7, 8, 8, 3, 5, 10, 8, 6, 9, 8, 9, 7, 2, 10, 7, 10, 6, 3, 6, 7, 7, 10, 5, 7, 4, 6, 8, 6, 8, 9, 4, 8, 5, 10, 8, 4, 10, 5, 10, 9, 7, 6, 7, 7, 5, 10, 6, 7, 3, 10, 5, 9, 9, 6, 6, 8, 2, 6, 10, 10, 9, 9, 9, 9, 5, 10, 10, 5, 6, 7, 10, 1, 9, 7, 9, 10, 10, 10, 8, 5, 3, 6, 1, 10, 7, 6, 10, 7, 4, 8, 10, 9, 8, 6, 1, 5, 9, 10, 8, 10, 8, 8, 9, 7, 10, 3, 9, 10, 7, 10, 5, 6, 7, 9, 6, 8, 5, 7, 8, 10, 10, 10, 8, 10, 7, 8, 7, 7, 8], \"xaxis\": \"x\", \"yaxis\": \"y\"}],\n",
       "                        {\"barmode\": \"relative\", \"height\": 600, \"legend\": {\"tracegroupgap\": 0}, \"margin\": {\"t\": 60}, \"template\": {\"data\": {\"bar\": [{\"error_x\": {\"color\": \"#2a3f5f\"}, \"error_y\": {\"color\": \"#2a3f5f\"}, \"marker\": {\"line\": {\"color\": \"#E5ECF6\", \"width\": 0.5}}, \"type\": \"bar\"}], \"barpolar\": [{\"marker\": {\"line\": {\"color\": \"#E5ECF6\", \"width\": 0.5}}, \"type\": \"barpolar\"}], \"carpet\": [{\"aaxis\": {\"endlinecolor\": \"#2a3f5f\", \"gridcolor\": \"white\", \"linecolor\": \"white\", \"minorgridcolor\": \"white\", \"startlinecolor\": \"#2a3f5f\"}, \"baxis\": {\"endlinecolor\": \"#2a3f5f\", \"gridcolor\": \"white\", \"linecolor\": \"white\", \"minorgridcolor\": \"white\", \"startlinecolor\": \"#2a3f5f\"}, \"type\": \"carpet\"}], \"choropleth\": [{\"colorbar\": {\"outlinewidth\": 0, \"ticks\": \"\"}, \"type\": \"choropleth\"}], \"contour\": [{\"colorbar\": {\"outlinewidth\": 0, \"ticks\": \"\"}, \"colorscale\": [[0.0, \"#0d0887\"], [0.1111111111111111, \"#46039f\"], [0.2222222222222222, \"#7201a8\"], [0.3333333333333333, \"#9c179e\"], [0.4444444444444444, \"#bd3786\"], [0.5555555555555556, \"#d8576b\"], [0.6666666666666666, \"#ed7953\"], [0.7777777777777778, \"#fb9f3a\"], [0.8888888888888888, \"#fdca26\"], [1.0, \"#f0f921\"]], \"type\": \"contour\"}], \"contourcarpet\": [{\"colorbar\": {\"outlinewidth\": 0, \"ticks\": \"\"}, \"type\": \"contourcarpet\"}], \"heatmap\": [{\"colorbar\": {\"outlinewidth\": 0, \"ticks\": \"\"}, \"colorscale\": [[0.0, \"#0d0887\"], [0.1111111111111111, \"#46039f\"], [0.2222222222222222, \"#7201a8\"], [0.3333333333333333, \"#9c179e\"], [0.4444444444444444, \"#bd3786\"], [0.5555555555555556, \"#d8576b\"], [0.6666666666666666, \"#ed7953\"], [0.7777777777777778, \"#fb9f3a\"], [0.8888888888888888, \"#fdca26\"], [1.0, \"#f0f921\"]], \"type\": \"heatmap\"}], \"heatmapgl\": [{\"colorbar\": {\"outlinewidth\": 0, \"ticks\": \"\"}, \"colorscale\": [[0.0, \"#0d0887\"], [0.1111111111111111, \"#46039f\"], [0.2222222222222222, \"#7201a8\"], [0.3333333333333333, \"#9c179e\"], [0.4444444444444444, \"#bd3786\"], [0.5555555555555556, \"#d8576b\"], [0.6666666666666666, \"#ed7953\"], [0.7777777777777778, \"#fb9f3a\"], [0.8888888888888888, \"#fdca26\"], [1.0, \"#f0f921\"]], \"type\": \"heatmapgl\"}], \"histogram\": [{\"marker\": {\"colorbar\": {\"outlinewidth\": 0, \"ticks\": \"\"}}, \"type\": \"histogram\"}], \"histogram2d\": [{\"colorbar\": {\"outlinewidth\": 0, \"ticks\": \"\"}, \"colorscale\": [[0.0, \"#0d0887\"], [0.1111111111111111, \"#46039f\"], [0.2222222222222222, \"#7201a8\"], [0.3333333333333333, \"#9c179e\"], [0.4444444444444444, \"#bd3786\"], [0.5555555555555556, \"#d8576b\"], [0.6666666666666666, \"#ed7953\"], [0.7777777777777778, \"#fb9f3a\"], [0.8888888888888888, \"#fdca26\"], [1.0, \"#f0f921\"]], \"type\": \"histogram2d\"}], \"histogram2dcontour\": [{\"colorbar\": {\"outlinewidth\": 0, \"ticks\": \"\"}, \"colorscale\": [[0.0, \"#0d0887\"], [0.1111111111111111, \"#46039f\"], [0.2222222222222222, \"#7201a8\"], [0.3333333333333333, \"#9c179e\"], [0.4444444444444444, \"#bd3786\"], [0.5555555555555556, \"#d8576b\"], [0.6666666666666666, \"#ed7953\"], [0.7777777777777778, \"#fb9f3a\"], [0.8888888888888888, \"#fdca26\"], [1.0, \"#f0f921\"]], \"type\": \"histogram2dcontour\"}], \"mesh3d\": [{\"colorbar\": {\"outlinewidth\": 0, \"ticks\": \"\"}, \"type\": \"mesh3d\"}], \"parcoords\": [{\"line\": {\"colorbar\": {\"outlinewidth\": 0, \"ticks\": \"\"}}, \"type\": \"parcoords\"}], \"scatter\": [{\"marker\": {\"colorbar\": {\"outlinewidth\": 0, \"ticks\": \"\"}}, \"type\": \"scatter\"}], \"scatter3d\": [{\"line\": {\"colorbar\": {\"outlinewidth\": 0, \"ticks\": \"\"}}, \"marker\": {\"colorbar\": {\"outlinewidth\": 0, \"ticks\": \"\"}}, \"type\": \"scatter3d\"}], \"scattercarpet\": [{\"marker\": {\"colorbar\": {\"outlinewidth\": 0, \"ticks\": \"\"}}, \"type\": \"scattercarpet\"}], \"scattergeo\": [{\"marker\": {\"colorbar\": {\"outlinewidth\": 0, \"ticks\": \"\"}}, \"type\": \"scattergeo\"}], \"scattergl\": [{\"marker\": {\"colorbar\": {\"outlinewidth\": 0, \"ticks\": \"\"}}, \"type\": \"scattergl\"}], \"scattermapbox\": [{\"marker\": {\"colorbar\": {\"outlinewidth\": 0, \"ticks\": \"\"}}, \"type\": \"scattermapbox\"}], \"scatterpolar\": [{\"marker\": {\"colorbar\": {\"outlinewidth\": 0, \"ticks\": \"\"}}, \"type\": \"scatterpolar\"}], \"scatterpolargl\": [{\"marker\": {\"colorbar\": {\"outlinewidth\": 0, \"ticks\": \"\"}}, \"type\": \"scatterpolargl\"}], \"scatterternary\": [{\"marker\": {\"colorbar\": {\"outlinewidth\": 0, \"ticks\": \"\"}}, \"type\": \"scatterternary\"}], \"surface\": [{\"colorbar\": {\"outlinewidth\": 0, \"ticks\": \"\"}, \"colorscale\": [[0.0, \"#0d0887\"], [0.1111111111111111, \"#46039f\"], [0.2222222222222222, \"#7201a8\"], [0.3333333333333333, \"#9c179e\"], [0.4444444444444444, \"#bd3786\"], [0.5555555555555556, \"#d8576b\"], [0.6666666666666666, \"#ed7953\"], [0.7777777777777778, \"#fb9f3a\"], [0.8888888888888888, \"#fdca26\"], [1.0, \"#f0f921\"]], \"type\": \"surface\"}], \"table\": [{\"cells\": {\"fill\": {\"color\": \"#EBF0F8\"}, \"line\": {\"color\": \"white\"}}, \"header\": {\"fill\": {\"color\": \"#C8D4E3\"}, \"line\": {\"color\": \"white\"}}, \"type\": \"table\"}]}, \"layout\": {\"annotationdefaults\": {\"arrowcolor\": \"#2a3f5f\", \"arrowhead\": 0, \"arrowwidth\": 1}, \"colorscale\": {\"diverging\": [[0, \"#8e0152\"], [0.1, \"#c51b7d\"], [0.2, \"#de77ae\"], [0.3, \"#f1b6da\"], [0.4, \"#fde0ef\"], [0.5, \"#f7f7f7\"], [0.6, \"#e6f5d0\"], [0.7, \"#b8e186\"], [0.8, \"#7fbc41\"], [0.9, \"#4d9221\"], [1, \"#276419\"]], \"sequential\": [[0.0, \"#0d0887\"], [0.1111111111111111, \"#46039f\"], [0.2222222222222222, \"#7201a8\"], [0.3333333333333333, \"#9c179e\"], [0.4444444444444444, \"#bd3786\"], [0.5555555555555556, \"#d8576b\"], [0.6666666666666666, \"#ed7953\"], [0.7777777777777778, \"#fb9f3a\"], [0.8888888888888888, \"#fdca26\"], [1.0, \"#f0f921\"]], \"sequentialminus\": [[0.0, \"#0d0887\"], [0.1111111111111111, \"#46039f\"], [0.2222222222222222, \"#7201a8\"], [0.3333333333333333, \"#9c179e\"], [0.4444444444444444, \"#bd3786\"], [0.5555555555555556, \"#d8576b\"], [0.6666666666666666, \"#ed7953\"], [0.7777777777777778, \"#fb9f3a\"], [0.8888888888888888, \"#fdca26\"], [1.0, \"#f0f921\"]]}, \"colorway\": [\"#636efa\", \"#EF553B\", \"#00cc96\", \"#ab63fa\", \"#FFA15A\", \"#19d3f3\", \"#FF6692\", \"#B6E880\", \"#FF97FF\", \"#FECB52\"], \"font\": {\"color\": \"#2a3f5f\"}, \"geo\": {\"bgcolor\": \"white\", \"lakecolor\": \"white\", \"landcolor\": \"#E5ECF6\", \"showlakes\": true, \"showland\": true, \"subunitcolor\": \"white\"}, \"hoverlabel\": {\"align\": \"left\"}, \"hovermode\": \"closest\", \"mapbox\": {\"style\": \"light\"}, \"paper_bgcolor\": \"white\", \"plot_bgcolor\": \"#E5ECF6\", \"polar\": {\"angularaxis\": {\"gridcolor\": \"white\", \"linecolor\": \"white\", \"ticks\": \"\"}, \"bgcolor\": \"#E5ECF6\", \"radialaxis\": {\"gridcolor\": \"white\", \"linecolor\": \"white\", \"ticks\": \"\"}}, \"scene\": {\"xaxis\": {\"backgroundcolor\": \"#E5ECF6\", \"gridcolor\": \"white\", \"gridwidth\": 2, \"linecolor\": \"white\", \"showbackground\": true, \"ticks\": \"\", \"zerolinecolor\": \"white\"}, \"yaxis\": {\"backgroundcolor\": \"#E5ECF6\", \"gridcolor\": \"white\", \"gridwidth\": 2, \"linecolor\": \"white\", \"showbackground\": true, \"ticks\": \"\", \"zerolinecolor\": \"white\"}, \"zaxis\": {\"backgroundcolor\": \"#E5ECF6\", \"gridcolor\": \"white\", \"gridwidth\": 2, \"linecolor\": \"white\", \"showbackground\": true, \"ticks\": \"\", \"zerolinecolor\": \"white\"}}, \"shapedefaults\": {\"line\": {\"color\": \"#2a3f5f\"}}, \"ternary\": {\"aaxis\": {\"gridcolor\": \"white\", \"linecolor\": \"white\", \"ticks\": \"\"}, \"baxis\": {\"gridcolor\": \"white\", \"linecolor\": \"white\", \"ticks\": \"\"}, \"bgcolor\": \"#E5ECF6\", \"caxis\": {\"gridcolor\": \"white\", \"linecolor\": \"white\", \"ticks\": \"\"}}, \"title\": {\"x\": 0.05}, \"xaxis\": {\"automargin\": true, \"gridcolor\": \"white\", \"linecolor\": \"white\", \"ticks\": \"\", \"zerolinecolor\": \"white\", \"zerolinewidth\": 2}, \"yaxis\": {\"automargin\": true, \"gridcolor\": \"white\", \"linecolor\": \"white\", \"ticks\": \"\", \"zerolinecolor\": \"white\", \"zerolinewidth\": 2}}}, \"xaxis\": {\"anchor\": \"y\", \"domain\": [0.0, 0.98], \"title\": {\"text\": \"nps_identity\"}}, \"yaxis\": {\"anchor\": \"x\", \"domain\": [0.0, 1.0], \"title\": {\"text\": \"count\"}}},\n",
       "                        {\"responsive\": true}\n",
       "                    ).then(function(){\n",
       "                            \n",
       "var gd = document.getElementById('c42e230b-3997-468e-a0ed-c45692928422');\n",
       "var x = new MutationObserver(function (mutations, observer) {{\n",
       "        var display = window.getComputedStyle(gd).display;\n",
       "        if (!display || display === 'none') {{\n",
       "            console.log([gd, 'removed!']);\n",
       "            Plotly.purge(gd);\n",
       "            observer.disconnect();\n",
       "        }}\n",
       "}});\n",
       "\n",
       "// Listen for the removal of the full notebook cells\n",
       "var notebookContainer = gd.closest('#notebook-container');\n",
       "if (notebookContainer) {{\n",
       "    x.observe(notebookContainer, {childList: true});\n",
       "}}\n",
       "\n",
       "// Listen for the clearing of the current output cell\n",
       "var outputEl = gd.closest('.output');\n",
       "if (outputEl) {{\n",
       "    x.observe(outputEl, {childList: true});\n",
       "}}\n",
       "\n",
       "                        })\n",
       "                };\n",
       "                });\n",
       "            </script>\n",
       "        </div>"
      ]
     },
     "metadata": {},
     "output_type": "display_data"
    }
   ],
   "source": [
    "import plotly.express as px\n",
    "# Here we use a column with categorical data\n",
    "fig = px.histogram(df, x=\"nps_identity\")\n",
    "fig.show()"
   ]
  },
  {
   "cell_type": "code",
   "execution_count": 313,
   "metadata": {},
   "outputs": [
    {
     "data": {
      "application/vnd.plotly.v1+json": {
       "config": {
        "plotlyServerURL": "https://plot.ly"
       },
       "data": [
        {
         "alignmentgroup": "True",
         "bingroup": "x",
         "hoverlabel": {
          "namelength": 0
         },
         "hovertemplate": "SelectedElements=%{x}<br>count=%{y}",
         "legendgroup": "",
         "marker": {
          "color": "#636efa"
         },
         "name": "",
         "offsetgroup": "",
         "orientation": "v",
         "showlegend": false,
         "type": "histogram",
         "x": [
          "Myself right now",
          "Myself as I would like to be",
          "Myself with lack of money",
          "Myself with my boss",
          "Myself with my family",
          "Myself with my friends",
          "Myself right now",
          "Myself as I would like to be",
          "Myself with my friends",
          "Myself with my family",
          "Myself in a normal work day",
          "Myself after a good day",
          "Myself right now",
          "Myself as I would like to be",
          "Myself with my family",
          "Myself with my friends",
          "Myself after a bad day",
          "Myself in a normal work day",
          "Myself right now",
          "Myself as I would like to be",
          "Myself with my family",
          "Myself in a normal work day",
          "Myself with my friends",
          "Myself with my boss",
          "Myself after a good day",
          "Myself before an important deadline",
          "Myself right now",
          "Myself as I would like to be",
          "Myself doing a presentation",
          "Myself with a coworker I dislike",
          "Myself after a good day",
          "Myself with lack of money",
          "Myself right now",
          "Myself as I would like to be",
          "Myself in a normal work day",
          "Myself before an important deadline",
          "Myself with my boss",
          "Myself with a coworker I dislike",
          "Myself right now",
          "Myself as I would like to be",
          "Myself with my family",
          "Myself with lack of money",
          "Myself with my friends",
          "Myself after a good day",
          "Myself right now",
          "Myself as I would like to be",
          "Myself with my family",
          "Myself with my friends",
          "Myself after a good day",
          "Myself before an important deadline",
          "Myself right now",
          "Myself as I would like to be",
          "Myself after a bad day",
          "Myself with my family",
          "Myself with my friends",
          "Myself doing a presentation",
          "Myself right now",
          "Myself as I would like to be",
          "Myself with my friends",
          "Myself with my boss",
          "Myself after a good day",
          "Myself before an important deadline",
          "Myself right now",
          "Myself as I would like to be",
          "Myself with my friends",
          "Myself with my family",
          "Myself with lack of money",
          "Myself in a tense meeting",
          "Myself right now",
          "Myself as I would like to be",
          "Myself after a bad day",
          "Myself doing a presentation",
          "Myself in a tense meeting",
          "Myself before an important deadline",
          "Myself right now",
          "Myself as I would like to be",
          "Myself with my family",
          "Myself after a bad day",
          "Myself in a tense meeting",
          "Myself with my friends",
          "Myself right now",
          "Myself as I would like to be",
          "Myself with lack of money",
          "Myself before an important deadline",
          "Myself with a coworker I dislike",
          "Myself after a bad day",
          "Myself right now",
          "Myself as I would like to be",
          "Myself with my boss",
          "Myself with my friends",
          "Myself with my family",
          "Myself after a good day",
          "Myself right now",
          "Myself as I would like to be",
          "Myself with my family",
          "Myself after a good day",
          "Myself doing a presentation",
          "Myself with my boss",
          "Myself right now",
          "Myself as I would like to be",
          "Myself with lack of money",
          "Myself doing a presentation",
          "Myself with my family",
          "Myself before an important deadline",
          "Myself right now",
          "Myself as I would like to be",
          "Myself with my friends",
          "Myself with my family",
          "Myself doing a presentation",
          "Myself in a normal work day",
          "Myself right now",
          "Myself as I would like to be",
          "Myself with my family",
          "Myself with lack of money",
          "Myself with my friends",
          "Myself with a coworker I like",
          "Myself right now",
          "Myself as I would like to be",
          "Myself with my family",
          "Myself after a good day",
          "Myself with my friends",
          "Myself with a coworker I like",
          "Myself right now",
          "Myself as I would like to be",
          "Myself with lack of money",
          "Myself with my family",
          "Myself with a coworker I like",
          "Myself in a normal work day",
          "Myself right now",
          "Myself as I would like to be",
          "Myself with my family",
          "Myself with my friends",
          "Myself with lack of money",
          "Myself in a normal work day",
          "Myself right now",
          "Myself as I would like to be",
          "Myself with lack of money",
          "Myself with a coworker I dislike",
          "Myself with my friends",
          "Myself in a normal work day",
          "Myself right now",
          "Myself as I would like to be",
          "Myself doing a presentation",
          "Myself with my family",
          "Myself after a good day",
          "Myself with my boss",
          "Myself right now",
          "Myself as I would like to be",
          "Myself after a bad day",
          "Myself with lack of money",
          "Myself in a normal work day",
          "Myself before an important deadline",
          "Myself right now",
          "Myself as I would like to be",
          "Myself with lack of money",
          "Myself after a bad day",
          "Myself in a tense meeting",
          "Myself with my boss",
          "Myself right now",
          "Myself as I would like to be",
          "Myself with lack of money",
          "Myself after a bad day",
          "Myself with my friends",
          "Myself in a normal work day",
          "Myself right now",
          "Myself as I would like to be",
          "Myself with my friends",
          "Myself with my family",
          "Myself with a coworker I like",
          "Myself after a good day",
          "Myself right now",
          "Myself as I would like to be",
          "Myself with my family",
          "Myself in a normal work day",
          "Myself with my boss",
          "Myself after a good day",
          "Myself right now",
          "Myself as I would like to be",
          "Myself in a normal work day",
          "Myself with my family",
          "Myself with my boss",
          "Myself after a bad day",
          "Myself right now",
          "Myself as I would like to be",
          "Myself with my family",
          "Myself with my boss",
          "Myself with my friends",
          "Myself in a normal work day",
          "Myself right now",
          "Myself as I would like to be",
          "Myself with lack of money",
          "Myself with my friends",
          "Myself with my boss",
          "Myself after a good day",
          "Myself right now",
          "Myself as I would like to be",
          "Myself in a tense meeting",
          "Myself doing a presentation",
          "Myself before an important deadline",
          "Myself with my family",
          "Myself right now",
          "Myself as I would like to be",
          "Myself with my family",
          "Myself after a good day",
          "Myself with my friends",
          "Myself doing a presentation",
          "Myself right now",
          "Myself as I would like to be",
          "Myself before an important deadline",
          "Myself with my family",
          "Myself after a bad day",
          "Myself with a coworker I dislike",
          "Myself right now",
          "Myself as I would like to be",
          "Myself after a good day",
          "Myself with my family",
          "Myself with my friends",
          "Myself with lack of money",
          "Myself right now",
          "Myself as I would like to be",
          "Myself with lack of money",
          "Myself after a bad day",
          "Myself with my friends",
          "Myself with my family",
          "Myself right now",
          "Myself as I would like to be",
          "Myself after a bad day",
          "Myself with my boss",
          "Myself with my family",
          "Myself in a tense meeting",
          "Myself right now",
          "Myself as I would like to be",
          "Myself with my friends",
          "Myself with lack of money",
          "Myself in a tense meeting",
          "Myself doing a presentation",
          "Myself with a coworker I dislike",
          "Myself after a bad day",
          "Myself right now",
          "Myself as I would like to be",
          "Myself with my family",
          "Myself with my friends",
          "Myself in a normal work day",
          "Myself after a good day",
          "Myself right now",
          "Myself as I would like to be",
          "Myself with my family",
          "Myself after a good day",
          "Myself doing a presentation",
          "Myself before an important deadline",
          "Myself right now",
          "Myself as I would like to be",
          "Myself with my family",
          "Myself after a good day",
          "Myself with my friends",
          "Myself with a coworker I like",
          "Myself right now",
          "Myself as I would like to be",
          "Myself after a good day",
          "Myself with my friends",
          "Myself in a normal work day",
          "Myself with my family",
          "Myself right now",
          "Myself as I would like to be",
          "Myself with my family",
          "Myself after a bad day",
          "Myself in a normal work day",
          "Myself with lack of money",
          "Myself after a good day",
          "Myself right now",
          "Myself as I would like to be",
          "Myself after a good day",
          "Myself with my boss",
          "Myself with a coworker I dislike",
          "Myself with my family",
          "Myself right now",
          "Myself as I would like to be",
          "Myself with my family",
          "Myself with lack of money",
          "Myself with my friends",
          "Myself before an important deadline",
          "Myself right now",
          "Myself as I would like to be",
          "Myself with my family",
          "Myself after a bad day",
          "Myself doing a presentation",
          "Myself with lack of money",
          "Myself right now",
          "Myself as I would like to be",
          "Myself with my boss",
          "Myself with my family",
          "Myself after a good day",
          "Myself with my friends",
          "Myself right now",
          "Myself as I would like to be",
          "Myself with my friends",
          "Myself with my family",
          "Myself after a good day",
          "Myself after a bad day",
          "Myself right now",
          "Myself as I would like to be",
          "Myself with my friends",
          "Myself with my family",
          "Myself with lack of money",
          "Myself in a normal work day",
          "Myself right now",
          "Myself as I would like to be",
          "Myself with my family",
          "Myself with lack of money",
          "Myself with my boss",
          "Myself with my friends",
          "Myself right now",
          "Myself as I would like to be",
          "Myself with my family",
          "Myself after a good day",
          "Myself with my friends",
          "Myself with a coworker I like",
          "Myself right now",
          "Myself as I would like to be",
          "Myself with lack of money",
          "Myself with my family",
          "Myself in a normal work day",
          "Myself before an important deadline",
          "Myself right now",
          "Myself as I would like to be",
          "Myself in a normal work day",
          "Myself with my boss",
          "Myself before an important deadline",
          "Myself after a bad day",
          "Myself right now",
          "Myself as I would like to be",
          "Myself with lack of money",
          "Myself with my friends",
          "Myself after a good day",
          "Myself after a bad day",
          "Myself right now",
          "Myself as I would like to be",
          "Myself with lack of money",
          "Myself with my friends",
          "Myself with a coworker I dislike",
          "Myself before an important deadline",
          "Myself right now",
          "Myself as I would like to be",
          "Myself with my family",
          "Myself before an important deadline",
          "Myself with my friends",
          "Myself in a normal work day",
          "Myself right now",
          "Myself as I would like to be",
          "Myself with my family",
          "Myself before an important deadline",
          "Myself with my boss",
          "Myself after a good day",
          "Myself right now",
          "Myself as I would like to be",
          "Myself with my family",
          "Myself in a normal work day",
          "Myself with my friends",
          "Myself after a good day",
          "Myself right now",
          "Myself as I would like to be",
          "Myself after a good day",
          "Myself with a coworker I dislike",
          "Myself with my family",
          "Myself with lack of money",
          "Myself right now",
          "Myself as I would like to be",
          "Myself with my family",
          "Myself doing a presentation",
          "Myself with lack of money",
          "Myself with a coworker I dislike",
          "Myself right now",
          "Myself as I would like to be",
          "Myself with my family",
          "Myself with my friends",
          "Myself in a normal work day",
          "Myself with my boss",
          "Myself right now",
          "Myself as I would like to be",
          "Myself after a bad day",
          "Myself with my family",
          "Myself with lack of money",
          "Myself in a normal work day",
          "Myself right now",
          "Myself as I would like to be",
          "Myself after a good day",
          "Myself before an important deadline",
          "Myself in a tense meeting",
          "Myself doing a presentation",
          "Myself right now",
          "Myself as I would like to be",
          "Myself in a normal work day",
          "Myself with my family",
          "Myself with my friends",
          "Myself after a bad day",
          "Myself right now",
          "Myself as I would like to be",
          "Myself with my boss",
          "Myself with a coworker I dislike",
          "Myself after a bad day",
          "Myself before an important deadline",
          "Myself right now",
          "Myself as I would like to be",
          "Myself with my friends",
          "Myself with my family",
          "Myself after a bad day",
          "Myself with a coworker I dislike",
          "Myself right now",
          "Myself as I would like to be",
          "Myself with my family",
          "Myself after a bad day",
          "Myself with my boss",
          "Myself in a normal work day",
          "Myself right now",
          "Myself as I would like to be",
          "Myself with my friends",
          "Myself before an important deadline",
          "Myself in a tense meeting",
          "Myself after a good day",
          "Myself right now",
          "Myself as I would like to be",
          "Myself with my family",
          "Myself doing a presentation",
          "Myself with my friends",
          "Myself with lack of money",
          "Myself right now",
          "Myself as I would like to be",
          "Myself with my family",
          "Myself with my friends",
          "Myself in a normal work day",
          "Myself after a good day",
          "Myself right now",
          "Myself as I would like to be",
          "Myself with a coworker I dislike",
          "Myself with my boss",
          "Myself in a tense meeting",
          "Myself after a bad day",
          "Myself right now",
          "Myself as I would like to be",
          "Myself with my family",
          "Myself with lack of money",
          "Myself after a good day",
          "Myself with a coworker I like",
          "Myself right now",
          "Myself as I would like to be",
          "Myself with my family",
          "Myself after a bad day",
          "Myself in a normal work day",
          "Myself after a good day",
          "Myself right now",
          "Myself as I would like to be",
          "Myself in a normal work day",
          "Myself with my friends",
          "Myself with my family",
          "Myself after a good day",
          "Myself right now",
          "Myself as I would like to be",
          "Myself with lack of money",
          "Myself after a bad day",
          "Myself in a normal work day",
          "Myself with a coworker I like",
          "Myself right now",
          "Myself as I would like to be",
          "Myself with lack of money",
          "Myself after a bad day",
          "Myself with my boss",
          "Myself with my family",
          "Myself right now",
          "Myself as I would like to be",
          "Myself with a coworker I like",
          "Myself after a bad day",
          "Myself with my family",
          "Myself before an important deadline",
          "Myself right now",
          "Myself as I would like to be",
          "Myself with my family",
          "Myself with a coworker I dislike",
          "Myself with lack of money",
          "Myself after a bad day",
          "Myself right now",
          "Myself as I would like to be",
          "Myself after a good day",
          "Myself with my friends",
          "Myself with my family",
          "Myself with a coworker I like",
          "Myself right now",
          "Myself as I would like to be",
          "Myself with a coworker I dislike",
          "Myself after a bad day",
          "Myself with my boss",
          "Myself in a tense meeting",
          "Myself right now",
          "Myself as I would like to be",
          "Myself with lack of money",
          "Myself with my family",
          "Myself with my friends",
          "Myself after a good day",
          "Myself right now",
          "Myself as I would like to be",
          "Myself with my friends",
          "Myself with my family",
          "Myself after a bad day",
          "Myself with lack of money",
          "Myself right now",
          "Myself as I would like to be",
          "Myself with lack of money",
          "Myself after a good day",
          "Myself with my boss",
          "Myself with my family",
          "Myself right now",
          "Myself as I would like to be",
          "Myself with lack of money",
          "Myself doing a presentation",
          "Myself after a bad day",
          "Myself before an important deadline",
          "Myself right now",
          "Myself as I would like to be",
          "Myself with my boss",
          "Myself with a coworker I dislike",
          "Myself with lack of money",
          "Myself with my friends",
          "Myself right now",
          "Myself as I would like to be",
          "Myself with my friends",
          "Myself in a tense meeting",
          "Myself with my boss",
          "Myself with a coworker I dislike",
          "Myself right now",
          "Myself as I would like to be",
          "Myself with my boss",
          "Myself with my friends",
          "Myself with lack of money",
          "Myself in a normal work day",
          "Myself right now",
          "Myself as I would like to be",
          "Myself with my friends",
          "Myself with my family",
          "Myself after a bad day",
          "Myself with lack of money",
          "Myself right now",
          "Myself as I would like to be",
          "Myself with my family",
          "Myself with a coworker I like",
          "Myself after a good day",
          "Myself with my friends",
          "Myself right now",
          "Myself as I would like to be",
          "Myself in a normal work day",
          "Myself with my family",
          "Myself after a bad day",
          "Myself after a good day",
          "Myself right now",
          "Myself as I would like to be",
          "Myself after a good day",
          "Myself with lack of money",
          "Myself with my friends",
          "Myself with my family",
          "Myself right now",
          "Myself as I would like to be",
          "Myself with my family",
          "Myself after a good day",
          "Myself with my friends",
          "Myself before an important deadline",
          "Myself right now",
          "Myself as I would like to be",
          "Myself with lack of money",
          "Myself with my friends",
          "Myself with my family",
          "Myself after a bad day",
          "Myself right now",
          "Myself as I would like to be",
          "Myself in a tense meeting",
          "Myself with a coworker I dislike",
          "Myself before an important deadline",
          "Myself with my boss",
          "Myself right now",
          "Myself as I would like to be",
          "Myself with my family",
          "Myself with my friends",
          "Myself with lack of money",
          "Myself with my boss",
          "Myself right now",
          "Myself as I would like to be",
          "Myself doing a presentation",
          "Myself in a normal work day",
          "Myself before an important deadline",
          "Myself with my family",
          "Myself right now",
          "Myself as I would like to be",
          "Myself with my friends",
          "Myself with my family",
          "Myself after a good day",
          "Myself in a normal work day",
          "Myself right now",
          "Myself as I would like to be",
          "Myself with lack of money",
          "Myself with my friends",
          "Myself with a coworker I dislike",
          "Myself before an important deadline",
          "Myself right now",
          "Myself as I would like to be",
          "Myself in a normal work day",
          "Myself with my family",
          "Myself after a bad day",
          "Myself with my friends",
          "Myself right now",
          "Myself as I would like to be",
          "Myself with lack of money",
          "Myself with my family",
          "Myself after a bad day",
          "Myself with my boss",
          "Myself right now",
          "Myself as I would like to be",
          "Myself with my family",
          "Myself with my friends",
          "Myself after a bad day",
          "Myself with lack of money",
          "Myself right now",
          "Myself as I would like to be",
          "Myself after a good day",
          "Myself after a bad day",
          "Myself with my friends",
          "Myself with my family",
          "Myself right now",
          "Myself as I would like to be",
          "Myself with my friends",
          "Myself with my family",
          "Myself before an important deadline",
          "Myself in a normal work day",
          "Myself right now",
          "Myself as I would like to be",
          "Myself with my family",
          "Myself with lack of money",
          "Myself before an important deadline",
          "Myself after a bad day",
          "Myself right now",
          "Myself as I would like to be",
          "Myself with my friends",
          "Myself with my family",
          "Myself after a good day",
          "Myself in a normal work day",
          "Myself right now",
          "Myself as I would like to be",
          "Myself with my family",
          "Myself before an important deadline",
          "Myself in a normal work day",
          "Myself with my friends",
          "Myself right now",
          "Myself as I would like to be",
          "Myself after a bad day",
          "Myself with my friends",
          "Myself with a coworker I like",
          "Myself doing a presentation",
          "Myself right now",
          "Myself as I would like to be",
          "Myself after a good day",
          "Myself with my family",
          "Myself with my friends",
          "Myself in a normal work day",
          "Myself right now",
          "Myself as I would like to be",
          "Myself with a coworker I dislike",
          "Myself after a bad day",
          "Myself with my friends",
          "Myself with my family",
          "Myself right now",
          "Myself as I would like to be",
          "Myself with a coworker I like",
          "Myself with lack of money",
          "Myself with my friends",
          "Myself after a good day",
          "Myself right now",
          "Myself as I would like to be",
          "Myself before an important deadline",
          "Myself with lack of money",
          "Myself in a tense meeting",
          "Myself after a bad day",
          "Myself right now",
          "Myself as I would like to be",
          "Myself with lack of money",
          "Myself with my friends",
          "Myself with my family",
          "Myself doing a presentation",
          "Myself right now",
          "Myself as I would like to be",
          "Myself with my family",
          "Myself after a good day",
          "Myself with my friends",
          "Myself with lack of money",
          "Myself right now",
          "Myself as I would like to be",
          "Myself with my family",
          "Myself after a good day",
          "Myself in a normal work day",
          "Myself with lack of money",
          "Myself right now",
          "Myself as I would like to be",
          "Myself with a coworker I dislike",
          "Myself in a normal work day",
          "Myself with my boss",
          "Myself before an important deadline",
          "Myself in a tense meeting",
          "Myself right now",
          "Myself as I would like to be",
          "Myself with my family",
          "Myself with my friends",
          "Myself after a bad day",
          "Myself before an important deadline",
          "Myself right now",
          "Myself as I would like to be",
          "Myself with lack of money",
          "Myself after a bad day",
          "Myself doing a presentation",
          "Myself before an important deadline",
          "Myself right now",
          "Myself as I would like to be",
          "Myself in a normal work day",
          "Myself before an important deadline",
          "Myself in a tense meeting",
          "Myself after a good day",
          "Myself right now",
          "Myself as I would like to be",
          "Myself with my family",
          "Myself doing a presentation",
          "Myself after a good day",
          "Myself in a normal work day",
          "Myself right now",
          "Myself as I would like to be",
          "Myself with my family",
          "Myself in a tense meeting",
          "Myself after a bad day",
          "Myself with a coworker I dislike",
          "Myself right now",
          "Myself as I would like to be",
          "Myself with lack of money",
          "Myself after a bad day",
          "Myself doing a presentation",
          "Myself in a tense meeting",
          "Myself right now",
          "Myself as I would like to be",
          "Myself doing a presentation",
          "Myself after a good day",
          "Myself with my friends",
          "Myself with lack of money",
          "Myself before an important deadline",
          "Myself right now",
          "Myself as I would like to be",
          "Myself with lack of money",
          "Myself with my family",
          "Myself before an important deadline",
          "Myself in a normal work day",
          "Myself right now",
          "Myself as I would like to be",
          "Myself after a bad day",
          "Myself with a coworker I dislike",
          "Myself in a normal work day",
          "Myself before an important deadline",
          "Myself right now",
          "Myself as I would like to be",
          "Myself with my family",
          "Myself with lack of money",
          "Myself before an important deadline",
          "Myself after a good day",
          "Myself right now",
          "Myself as I would like to be",
          "Myself with lack of money",
          "Myself after a bad day",
          "Myself in a normal work day",
          "Myself before an important deadline",
          "Myself right now",
          "Myself as I would like to be",
          "Myself with my family",
          "Myself after a good day",
          "Myself with my friends",
          "Myself in a normal work day",
          "Myself right now",
          "Myself as I would like to be",
          "Myself with lack of money",
          "Myself with my family",
          "Myself in a normal work day",
          "Myself after a bad day",
          "Myself right now",
          "Myself as I would like to be",
          "Myself with my family",
          "Myself with my friends",
          "Myself after a good day",
          "Myself with a coworker I like",
          "Myself right now",
          "Myself as I would like to be",
          "Myself with my friends",
          "Myself before an important deadline",
          "Myself in a tense meeting",
          "Myself after a bad day",
          "Myself right now",
          "Myself as I would like to be",
          "Myself with my boss",
          "Myself with my family",
          "Myself in a tense meeting",
          "Myself after a good day",
          "Myself with my friends",
          "Myself right now",
          "Myself as I would like to be",
          "Myself after a good day",
          "Myself with lack of money",
          "Myself in a normal work day",
          "Myself after a bad day",
          "Myself right now",
          "Myself as I would like to be",
          "Myself in a tense meeting",
          "Myself with my friends",
          "Myself with my family",
          "Myself doing a presentation",
          "Myself after a bad day"
         ],
         "xaxis": "x",
         "yaxis": "y"
        }
       ],
       "layout": {
        "barmode": "relative",
        "height": 600,
        "legend": {
         "tracegroupgap": 0
        },
        "margin": {
         "t": 60
        },
        "template": {
         "data": {
          "bar": [
           {
            "error_x": {
             "color": "#2a3f5f"
            },
            "error_y": {
             "color": "#2a3f5f"
            },
            "marker": {
             "line": {
              "color": "#E5ECF6",
              "width": 0.5
             }
            },
            "type": "bar"
           }
          ],
          "barpolar": [
           {
            "marker": {
             "line": {
              "color": "#E5ECF6",
              "width": 0.5
             }
            },
            "type": "barpolar"
           }
          ],
          "carpet": [
           {
            "aaxis": {
             "endlinecolor": "#2a3f5f",
             "gridcolor": "white",
             "linecolor": "white",
             "minorgridcolor": "white",
             "startlinecolor": "#2a3f5f"
            },
            "baxis": {
             "endlinecolor": "#2a3f5f",
             "gridcolor": "white",
             "linecolor": "white",
             "minorgridcolor": "white",
             "startlinecolor": "#2a3f5f"
            },
            "type": "carpet"
           }
          ],
          "choropleth": [
           {
            "colorbar": {
             "outlinewidth": 0,
             "ticks": ""
            },
            "type": "choropleth"
           }
          ],
          "contour": [
           {
            "colorbar": {
             "outlinewidth": 0,
             "ticks": ""
            },
            "colorscale": [
             [
              0,
              "#0d0887"
             ],
             [
              0.1111111111111111,
              "#46039f"
             ],
             [
              0.2222222222222222,
              "#7201a8"
             ],
             [
              0.3333333333333333,
              "#9c179e"
             ],
             [
              0.4444444444444444,
              "#bd3786"
             ],
             [
              0.5555555555555556,
              "#d8576b"
             ],
             [
              0.6666666666666666,
              "#ed7953"
             ],
             [
              0.7777777777777778,
              "#fb9f3a"
             ],
             [
              0.8888888888888888,
              "#fdca26"
             ],
             [
              1,
              "#f0f921"
             ]
            ],
            "type": "contour"
           }
          ],
          "contourcarpet": [
           {
            "colorbar": {
             "outlinewidth": 0,
             "ticks": ""
            },
            "type": "contourcarpet"
           }
          ],
          "heatmap": [
           {
            "colorbar": {
             "outlinewidth": 0,
             "ticks": ""
            },
            "colorscale": [
             [
              0,
              "#0d0887"
             ],
             [
              0.1111111111111111,
              "#46039f"
             ],
             [
              0.2222222222222222,
              "#7201a8"
             ],
             [
              0.3333333333333333,
              "#9c179e"
             ],
             [
              0.4444444444444444,
              "#bd3786"
             ],
             [
              0.5555555555555556,
              "#d8576b"
             ],
             [
              0.6666666666666666,
              "#ed7953"
             ],
             [
              0.7777777777777778,
              "#fb9f3a"
             ],
             [
              0.8888888888888888,
              "#fdca26"
             ],
             [
              1,
              "#f0f921"
             ]
            ],
            "type": "heatmap"
           }
          ],
          "heatmapgl": [
           {
            "colorbar": {
             "outlinewidth": 0,
             "ticks": ""
            },
            "colorscale": [
             [
              0,
              "#0d0887"
             ],
             [
              0.1111111111111111,
              "#46039f"
             ],
             [
              0.2222222222222222,
              "#7201a8"
             ],
             [
              0.3333333333333333,
              "#9c179e"
             ],
             [
              0.4444444444444444,
              "#bd3786"
             ],
             [
              0.5555555555555556,
              "#d8576b"
             ],
             [
              0.6666666666666666,
              "#ed7953"
             ],
             [
              0.7777777777777778,
              "#fb9f3a"
             ],
             [
              0.8888888888888888,
              "#fdca26"
             ],
             [
              1,
              "#f0f921"
             ]
            ],
            "type": "heatmapgl"
           }
          ],
          "histogram": [
           {
            "marker": {
             "colorbar": {
              "outlinewidth": 0,
              "ticks": ""
             }
            },
            "type": "histogram"
           }
          ],
          "histogram2d": [
           {
            "colorbar": {
             "outlinewidth": 0,
             "ticks": ""
            },
            "colorscale": [
             [
              0,
              "#0d0887"
             ],
             [
              0.1111111111111111,
              "#46039f"
             ],
             [
              0.2222222222222222,
              "#7201a8"
             ],
             [
              0.3333333333333333,
              "#9c179e"
             ],
             [
              0.4444444444444444,
              "#bd3786"
             ],
             [
              0.5555555555555556,
              "#d8576b"
             ],
             [
              0.6666666666666666,
              "#ed7953"
             ],
             [
              0.7777777777777778,
              "#fb9f3a"
             ],
             [
              0.8888888888888888,
              "#fdca26"
             ],
             [
              1,
              "#f0f921"
             ]
            ],
            "type": "histogram2d"
           }
          ],
          "histogram2dcontour": [
           {
            "colorbar": {
             "outlinewidth": 0,
             "ticks": ""
            },
            "colorscale": [
             [
              0,
              "#0d0887"
             ],
             [
              0.1111111111111111,
              "#46039f"
             ],
             [
              0.2222222222222222,
              "#7201a8"
             ],
             [
              0.3333333333333333,
              "#9c179e"
             ],
             [
              0.4444444444444444,
              "#bd3786"
             ],
             [
              0.5555555555555556,
              "#d8576b"
             ],
             [
              0.6666666666666666,
              "#ed7953"
             ],
             [
              0.7777777777777778,
              "#fb9f3a"
             ],
             [
              0.8888888888888888,
              "#fdca26"
             ],
             [
              1,
              "#f0f921"
             ]
            ],
            "type": "histogram2dcontour"
           }
          ],
          "mesh3d": [
           {
            "colorbar": {
             "outlinewidth": 0,
             "ticks": ""
            },
            "type": "mesh3d"
           }
          ],
          "parcoords": [
           {
            "line": {
             "colorbar": {
              "outlinewidth": 0,
              "ticks": ""
             }
            },
            "type": "parcoords"
           }
          ],
          "scatter": [
           {
            "marker": {
             "colorbar": {
              "outlinewidth": 0,
              "ticks": ""
             }
            },
            "type": "scatter"
           }
          ],
          "scatter3d": [
           {
            "line": {
             "colorbar": {
              "outlinewidth": 0,
              "ticks": ""
             }
            },
            "marker": {
             "colorbar": {
              "outlinewidth": 0,
              "ticks": ""
             }
            },
            "type": "scatter3d"
           }
          ],
          "scattercarpet": [
           {
            "marker": {
             "colorbar": {
              "outlinewidth": 0,
              "ticks": ""
             }
            },
            "type": "scattercarpet"
           }
          ],
          "scattergeo": [
           {
            "marker": {
             "colorbar": {
              "outlinewidth": 0,
              "ticks": ""
             }
            },
            "type": "scattergeo"
           }
          ],
          "scattergl": [
           {
            "marker": {
             "colorbar": {
              "outlinewidth": 0,
              "ticks": ""
             }
            },
            "type": "scattergl"
           }
          ],
          "scattermapbox": [
           {
            "marker": {
             "colorbar": {
              "outlinewidth": 0,
              "ticks": ""
             }
            },
            "type": "scattermapbox"
           }
          ],
          "scatterpolar": [
           {
            "marker": {
             "colorbar": {
              "outlinewidth": 0,
              "ticks": ""
             }
            },
            "type": "scatterpolar"
           }
          ],
          "scatterpolargl": [
           {
            "marker": {
             "colorbar": {
              "outlinewidth": 0,
              "ticks": ""
             }
            },
            "type": "scatterpolargl"
           }
          ],
          "scatterternary": [
           {
            "marker": {
             "colorbar": {
              "outlinewidth": 0,
              "ticks": ""
             }
            },
            "type": "scatterternary"
           }
          ],
          "surface": [
           {
            "colorbar": {
             "outlinewidth": 0,
             "ticks": ""
            },
            "colorscale": [
             [
              0,
              "#0d0887"
             ],
             [
              0.1111111111111111,
              "#46039f"
             ],
             [
              0.2222222222222222,
              "#7201a8"
             ],
             [
              0.3333333333333333,
              "#9c179e"
             ],
             [
              0.4444444444444444,
              "#bd3786"
             ],
             [
              0.5555555555555556,
              "#d8576b"
             ],
             [
              0.6666666666666666,
              "#ed7953"
             ],
             [
              0.7777777777777778,
              "#fb9f3a"
             ],
             [
              0.8888888888888888,
              "#fdca26"
             ],
             [
              1,
              "#f0f921"
             ]
            ],
            "type": "surface"
           }
          ],
          "table": [
           {
            "cells": {
             "fill": {
              "color": "#EBF0F8"
             },
             "line": {
              "color": "white"
             }
            },
            "header": {
             "fill": {
              "color": "#C8D4E3"
             },
             "line": {
              "color": "white"
             }
            },
            "type": "table"
           }
          ]
         },
         "layout": {
          "annotationdefaults": {
           "arrowcolor": "#2a3f5f",
           "arrowhead": 0,
           "arrowwidth": 1
          },
          "colorscale": {
           "diverging": [
            [
             0,
             "#8e0152"
            ],
            [
             0.1,
             "#c51b7d"
            ],
            [
             0.2,
             "#de77ae"
            ],
            [
             0.3,
             "#f1b6da"
            ],
            [
             0.4,
             "#fde0ef"
            ],
            [
             0.5,
             "#f7f7f7"
            ],
            [
             0.6,
             "#e6f5d0"
            ],
            [
             0.7,
             "#b8e186"
            ],
            [
             0.8,
             "#7fbc41"
            ],
            [
             0.9,
             "#4d9221"
            ],
            [
             1,
             "#276419"
            ]
           ],
           "sequential": [
            [
             0,
             "#0d0887"
            ],
            [
             0.1111111111111111,
             "#46039f"
            ],
            [
             0.2222222222222222,
             "#7201a8"
            ],
            [
             0.3333333333333333,
             "#9c179e"
            ],
            [
             0.4444444444444444,
             "#bd3786"
            ],
            [
             0.5555555555555556,
             "#d8576b"
            ],
            [
             0.6666666666666666,
             "#ed7953"
            ],
            [
             0.7777777777777778,
             "#fb9f3a"
            ],
            [
             0.8888888888888888,
             "#fdca26"
            ],
            [
             1,
             "#f0f921"
            ]
           ],
           "sequentialminus": [
            [
             0,
             "#0d0887"
            ],
            [
             0.1111111111111111,
             "#46039f"
            ],
            [
             0.2222222222222222,
             "#7201a8"
            ],
            [
             0.3333333333333333,
             "#9c179e"
            ],
            [
             0.4444444444444444,
             "#bd3786"
            ],
            [
             0.5555555555555556,
             "#d8576b"
            ],
            [
             0.6666666666666666,
             "#ed7953"
            ],
            [
             0.7777777777777778,
             "#fb9f3a"
            ],
            [
             0.8888888888888888,
             "#fdca26"
            ],
            [
             1,
             "#f0f921"
            ]
           ]
          },
          "colorway": [
           "#636efa",
           "#EF553B",
           "#00cc96",
           "#ab63fa",
           "#FFA15A",
           "#19d3f3",
           "#FF6692",
           "#B6E880",
           "#FF97FF",
           "#FECB52"
          ],
          "font": {
           "color": "#2a3f5f"
          },
          "geo": {
           "bgcolor": "white",
           "lakecolor": "white",
           "landcolor": "#E5ECF6",
           "showlakes": true,
           "showland": true,
           "subunitcolor": "white"
          },
          "hoverlabel": {
           "align": "left"
          },
          "hovermode": "closest",
          "mapbox": {
           "style": "light"
          },
          "paper_bgcolor": "white",
          "plot_bgcolor": "#E5ECF6",
          "polar": {
           "angularaxis": {
            "gridcolor": "white",
            "linecolor": "white",
            "ticks": ""
           },
           "bgcolor": "#E5ECF6",
           "radialaxis": {
            "gridcolor": "white",
            "linecolor": "white",
            "ticks": ""
           }
          },
          "scene": {
           "xaxis": {
            "backgroundcolor": "#E5ECF6",
            "gridcolor": "white",
            "gridwidth": 2,
            "linecolor": "white",
            "showbackground": true,
            "ticks": "",
            "zerolinecolor": "white"
           },
           "yaxis": {
            "backgroundcolor": "#E5ECF6",
            "gridcolor": "white",
            "gridwidth": 2,
            "linecolor": "white",
            "showbackground": true,
            "ticks": "",
            "zerolinecolor": "white"
           },
           "zaxis": {
            "backgroundcolor": "#E5ECF6",
            "gridcolor": "white",
            "gridwidth": 2,
            "linecolor": "white",
            "showbackground": true,
            "ticks": "",
            "zerolinecolor": "white"
           }
          },
          "shapedefaults": {
           "line": {
            "color": "#2a3f5f"
           }
          },
          "ternary": {
           "aaxis": {
            "gridcolor": "white",
            "linecolor": "white",
            "ticks": ""
           },
           "baxis": {
            "gridcolor": "white",
            "linecolor": "white",
            "ticks": ""
           },
           "bgcolor": "#E5ECF6",
           "caxis": {
            "gridcolor": "white",
            "linecolor": "white",
            "ticks": ""
           }
          },
          "title": {
           "x": 0.05
          },
          "xaxis": {
           "automargin": true,
           "gridcolor": "white",
           "linecolor": "white",
           "ticks": "",
           "zerolinecolor": "white",
           "zerolinewidth": 2
          },
          "yaxis": {
           "automargin": true,
           "gridcolor": "white",
           "linecolor": "white",
           "ticks": "",
           "zerolinecolor": "white",
           "zerolinewidth": 2
          }
         }
        },
        "xaxis": {
         "anchor": "y",
         "categoryorder": "total descending",
         "domain": [
          0,
          0.98
         ],
         "title": {
          "text": "SelectedElements"
         }
        },
        "yaxis": {
         "anchor": "x",
         "domain": [
          0,
          1
         ],
         "title": {
          "text": "count"
         }
        }
       }
      },
      "text/html": [
       "<div>\n",
       "        \n",
       "        \n",
       "            <div id=\"32b9c3b5-00e6-4408-89bb-094ae46c6da2\" class=\"plotly-graph-div\" style=\"height:600px; width:100%;\"></div>\n",
       "            <script type=\"text/javascript\">\n",
       "                require([\"plotly\"], function(Plotly) {\n",
       "                    window.PLOTLYENV=window.PLOTLYENV || {};\n",
       "                    \n",
       "                if (document.getElementById(\"32b9c3b5-00e6-4408-89bb-094ae46c6da2\")) {\n",
       "                    Plotly.newPlot(\n",
       "                        '32b9c3b5-00e6-4408-89bb-094ae46c6da2',\n",
       "                        [{\"alignmentgroup\": \"True\", \"bingroup\": \"x\", \"hoverlabel\": {\"namelength\": 0}, \"hovertemplate\": \"SelectedElements=%{x}<br>count=%{y}\", \"legendgroup\": \"\", \"marker\": {\"color\": \"#636efa\"}, \"name\": \"\", \"offsetgroup\": \"\", \"orientation\": \"v\", \"showlegend\": false, \"type\": \"histogram\", \"x\": [\"Myself right now\", \"Myself as I would like to be\", \"Myself with lack of money\", \"Myself with my boss\", \"Myself with my family\", \"Myself with my friends\", \"Myself right now\", \"Myself as I would like to be\", \"Myself with my friends\", \"Myself with my family\", \"Myself in a normal work day\", \"Myself after a good day\", \"Myself right now\", \"Myself as I would like to be\", \"Myself with my family\", \"Myself with my friends\", \"Myself after a bad day\", \"Myself in a normal work day\", \"Myself right now\", \"Myself as I would like to be\", \"Myself with my family\", \"Myself in a normal work day\", \"Myself with my friends\", \"Myself with my boss\", \"Myself after a good day\", \"Myself before an important deadline\", \"Myself right now\", \"Myself as I would like to be\", \"Myself doing a presentation\", \"Myself with a coworker I dislike\", \"Myself after a good day\", \"Myself with lack of money\", \"Myself right now\", \"Myself as I would like to be\", \"Myself in a normal work day\", \"Myself before an important deadline\", \"Myself with my boss\", \"Myself with a coworker I dislike\", \"Myself right now\", \"Myself as I would like to be\", \"Myself with my family\", \"Myself with lack of money\", \"Myself with my friends\", \"Myself after a good day\", \"Myself right now\", \"Myself as I would like to be\", \"Myself with my family\", \"Myself with my friends\", \"Myself after a good day\", \"Myself before an important deadline\", \"Myself right now\", \"Myself as I would like to be\", \"Myself after a bad day\", \"Myself with my family\", \"Myself with my friends\", \"Myself doing a presentation\", \"Myself right now\", \"Myself as I would like to be\", \"Myself with my friends\", \"Myself with my boss\", \"Myself after a good day\", \"Myself before an important deadline\", \"Myself right now\", \"Myself as I would like to be\", \"Myself with my friends\", \"Myself with my family\", \"Myself with lack of money\", \"Myself in a tense meeting\", \"Myself right now\", \"Myself as I would like to be\", \"Myself after a bad day\", \"Myself doing a presentation\", \"Myself in a tense meeting\", \"Myself before an important deadline\", \"Myself right now\", \"Myself as I would like to be\", \"Myself with my family\", \"Myself after a bad day\", \"Myself in a tense meeting\", \"Myself with my friends\", \"Myself right now\", \"Myself as I would like to be\", \"Myself with lack of money\", \"Myself before an important deadline\", \"Myself with a coworker I dislike\", \"Myself after a bad day\", \"Myself right now\", \"Myself as I would like to be\", \"Myself with my boss\", \"Myself with my friends\", \"Myself with my family\", \"Myself after a good day\", \"Myself right now\", \"Myself as I would like to be\", \"Myself with my family\", \"Myself after a good day\", \"Myself doing a presentation\", \"Myself with my boss\", \"Myself right now\", \"Myself as I would like to be\", \"Myself with lack of money\", \"Myself doing a presentation\", \"Myself with my family\", \"Myself before an important deadline\", \"Myself right now\", \"Myself as I would like to be\", \"Myself with my friends\", \"Myself with my family\", \"Myself doing a presentation\", \"Myself in a normal work day\", \"Myself right now\", \"Myself as I would like to be\", \"Myself with my family\", \"Myself with lack of money\", \"Myself with my friends\", \"Myself with a coworker I like\", \"Myself right now\", \"Myself as I would like to be\", \"Myself with my family\", \"Myself after a good day\", \"Myself with my friends\", \"Myself with a coworker I like\", \"Myself right now\", \"Myself as I would like to be\", \"Myself with lack of money\", \"Myself with my family\", \"Myself with a coworker I like\", \"Myself in a normal work day\", \"Myself right now\", \"Myself as I would like to be\", \"Myself with my family\", \"Myself with my friends\", \"Myself with lack of money\", \"Myself in a normal work day\", \"Myself right now\", \"Myself as I would like to be\", \"Myself with lack of money\", \"Myself with a coworker I dislike\", \"Myself with my friends\", \"Myself in a normal work day\", \"Myself right now\", \"Myself as I would like to be\", \"Myself doing a presentation\", \"Myself with my family\", \"Myself after a good day\", \"Myself with my boss\", \"Myself right now\", \"Myself as I would like to be\", \"Myself after a bad day\", \"Myself with lack of money\", \"Myself in a normal work day\", \"Myself before an important deadline\", \"Myself right now\", \"Myself as I would like to be\", \"Myself with lack of money\", \"Myself after a bad day\", \"Myself in a tense meeting\", \"Myself with my boss\", \"Myself right now\", \"Myself as I would like to be\", \"Myself with lack of money\", \"Myself after a bad day\", \"Myself with my friends\", \"Myself in a normal work day\", \"Myself right now\", \"Myself as I would like to be\", \"Myself with my friends\", \"Myself with my family\", \"Myself with a coworker I like\", \"Myself after a good day\", \"Myself right now\", \"Myself as I would like to be\", \"Myself with my family\", \"Myself in a normal work day\", \"Myself with my boss\", \"Myself after a good day\", \"Myself right now\", \"Myself as I would like to be\", \"Myself in a normal work day\", \"Myself with my family\", \"Myself with my boss\", \"Myself after a bad day\", \"Myself right now\", \"Myself as I would like to be\", \"Myself with my family\", \"Myself with my boss\", \"Myself with my friends\", \"Myself in a normal work day\", \"Myself right now\", \"Myself as I would like to be\", \"Myself with lack of money\", \"Myself with my friends\", \"Myself with my boss\", \"Myself after a good day\", \"Myself right now\", \"Myself as I would like to be\", \"Myself in a tense meeting\", \"Myself doing a presentation\", \"Myself before an important deadline\", \"Myself with my family\", \"Myself right now\", \"Myself as I would like to be\", \"Myself with my family\", \"Myself after a good day\", \"Myself with my friends\", \"Myself doing a presentation\", \"Myself right now\", \"Myself as I would like to be\", \"Myself before an important deadline\", \"Myself with my family\", \"Myself after a bad day\", \"Myself with a coworker I dislike\", \"Myself right now\", \"Myself as I would like to be\", \"Myself after a good day\", \"Myself with my family\", \"Myself with my friends\", \"Myself with lack of money\", \"Myself right now\", \"Myself as I would like to be\", \"Myself with lack of money\", \"Myself after a bad day\", \"Myself with my friends\", \"Myself with my family\", \"Myself right now\", \"Myself as I would like to be\", \"Myself after a bad day\", \"Myself with my boss\", \"Myself with my family\", \"Myself in a tense meeting\", \"Myself right now\", \"Myself as I would like to be\", \"Myself with my friends\", \"Myself with lack of money\", \"Myself in a tense meeting\", \"Myself doing a presentation\", \"Myself with a coworker I dislike\", \"Myself after a bad day\", \"Myself right now\", \"Myself as I would like to be\", \"Myself with my family\", \"Myself with my friends\", \"Myself in a normal work day\", \"Myself after a good day\", \"Myself right now\", \"Myself as I would like to be\", \"Myself with my family\", \"Myself after a good day\", \"Myself doing a presentation\", \"Myself before an important deadline\", \"Myself right now\", \"Myself as I would like to be\", \"Myself with my family\", \"Myself after a good day\", \"Myself with my friends\", \"Myself with a coworker I like\", \"Myself right now\", \"Myself as I would like to be\", \"Myself after a good day\", \"Myself with my friends\", \"Myself in a normal work day\", \"Myself with my family\", \"Myself right now\", \"Myself as I would like to be\", \"Myself with my family\", \"Myself after a bad day\", \"Myself in a normal work day\", \"Myself with lack of money\", \"Myself after a good day\", \"Myself right now\", \"Myself as I would like to be\", \"Myself after a good day\", \"Myself with my boss\", \"Myself with a coworker I dislike\", \"Myself with my family\", \"Myself right now\", \"Myself as I would like to be\", \"Myself with my family\", \"Myself with lack of money\", \"Myself with my friends\", \"Myself before an important deadline\", \"Myself right now\", \"Myself as I would like to be\", \"Myself with my family\", \"Myself after a bad day\", \"Myself doing a presentation\", \"Myself with lack of money\", \"Myself right now\", \"Myself as I would like to be\", \"Myself with my boss\", \"Myself with my family\", \"Myself after a good day\", \"Myself with my friends\", \"Myself right now\", \"Myself as I would like to be\", \"Myself with my friends\", \"Myself with my family\", \"Myself after a good day\", \"Myself after a bad day\", \"Myself right now\", \"Myself as I would like to be\", \"Myself with my friends\", \"Myself with my family\", \"Myself with lack of money\", \"Myself in a normal work day\", \"Myself right now\", \"Myself as I would like to be\", \"Myself with my family\", \"Myself with lack of money\", \"Myself with my boss\", \"Myself with my friends\", \"Myself right now\", \"Myself as I would like to be\", \"Myself with my family\", \"Myself after a good day\", \"Myself with my friends\", \"Myself with a coworker I like\", \"Myself right now\", \"Myself as I would like to be\", \"Myself with lack of money\", \"Myself with my family\", \"Myself in a normal work day\", \"Myself before an important deadline\", \"Myself right now\", \"Myself as I would like to be\", \"Myself in a normal work day\", \"Myself with my boss\", \"Myself before an important deadline\", \"Myself after a bad day\", \"Myself right now\", \"Myself as I would like to be\", \"Myself with lack of money\", \"Myself with my friends\", \"Myself after a good day\", \"Myself after a bad day\", \"Myself right now\", \"Myself as I would like to be\", \"Myself with lack of money\", \"Myself with my friends\", \"Myself with a coworker I dislike\", \"Myself before an important deadline\", \"Myself right now\", \"Myself as I would like to be\", \"Myself with my family\", \"Myself before an important deadline\", \"Myself with my friends\", \"Myself in a normal work day\", \"Myself right now\", \"Myself as I would like to be\", \"Myself with my family\", \"Myself before an important deadline\", \"Myself with my boss\", \"Myself after a good day\", \"Myself right now\", \"Myself as I would like to be\", \"Myself with my family\", \"Myself in a normal work day\", \"Myself with my friends\", \"Myself after a good day\", \"Myself right now\", \"Myself as I would like to be\", \"Myself after a good day\", \"Myself with a coworker I dislike\", \"Myself with my family\", \"Myself with lack of money\", \"Myself right now\", \"Myself as I would like to be\", \"Myself with my family\", \"Myself doing a presentation\", \"Myself with lack of money\", \"Myself with a coworker I dislike\", \"Myself right now\", \"Myself as I would like to be\", \"Myself with my family\", \"Myself with my friends\", \"Myself in a normal work day\", \"Myself with my boss\", \"Myself right now\", \"Myself as I would like to be\", \"Myself after a bad day\", \"Myself with my family\", \"Myself with lack of money\", \"Myself in a normal work day\", \"Myself right now\", \"Myself as I would like to be\", \"Myself after a good day\", \"Myself before an important deadline\", \"Myself in a tense meeting\", \"Myself doing a presentation\", \"Myself right now\", \"Myself as I would like to be\", \"Myself in a normal work day\", \"Myself with my family\", \"Myself with my friends\", \"Myself after a bad day\", \"Myself right now\", \"Myself as I would like to be\", \"Myself with my boss\", \"Myself with a coworker I dislike\", \"Myself after a bad day\", \"Myself before an important deadline\", \"Myself right now\", \"Myself as I would like to be\", \"Myself with my friends\", \"Myself with my family\", \"Myself after a bad day\", \"Myself with a coworker I dislike\", \"Myself right now\", \"Myself as I would like to be\", \"Myself with my family\", \"Myself after a bad day\", \"Myself with my boss\", \"Myself in a normal work day\", \"Myself right now\", \"Myself as I would like to be\", \"Myself with my friends\", \"Myself before an important deadline\", \"Myself in a tense meeting\", \"Myself after a good day\", \"Myself right now\", \"Myself as I would like to be\", \"Myself with my family\", \"Myself doing a presentation\", \"Myself with my friends\", \"Myself with lack of money\", \"Myself right now\", \"Myself as I would like to be\", \"Myself with my family\", \"Myself with my friends\", \"Myself in a normal work day\", \"Myself after a good day\", \"Myself right now\", \"Myself as I would like to be\", \"Myself with a coworker I dislike\", \"Myself with my boss\", \"Myself in a tense meeting\", \"Myself after a bad day\", \"Myself right now\", \"Myself as I would like to be\", \"Myself with my family\", \"Myself with lack of money\", \"Myself after a good day\", \"Myself with a coworker I like\", \"Myself right now\", \"Myself as I would like to be\", \"Myself with my family\", \"Myself after a bad day\", \"Myself in a normal work day\", \"Myself after a good day\", \"Myself right now\", \"Myself as I would like to be\", \"Myself in a normal work day\", \"Myself with my friends\", \"Myself with my family\", \"Myself after a good day\", \"Myself right now\", \"Myself as I would like to be\", \"Myself with lack of money\", \"Myself after a bad day\", \"Myself in a normal work day\", \"Myself with a coworker I like\", \"Myself right now\", \"Myself as I would like to be\", \"Myself with lack of money\", \"Myself after a bad day\", \"Myself with my boss\", \"Myself with my family\", \"Myself right now\", \"Myself as I would like to be\", \"Myself with a coworker I like\", \"Myself after a bad day\", \"Myself with my family\", \"Myself before an important deadline\", \"Myself right now\", \"Myself as I would like to be\", \"Myself with my family\", \"Myself with a coworker I dislike\", \"Myself with lack of money\", \"Myself after a bad day\", \"Myself right now\", \"Myself as I would like to be\", \"Myself after a good day\", \"Myself with my friends\", \"Myself with my family\", \"Myself with a coworker I like\", \"Myself right now\", \"Myself as I would like to be\", \"Myself with a coworker I dislike\", \"Myself after a bad day\", \"Myself with my boss\", \"Myself in a tense meeting\", \"Myself right now\", \"Myself as I would like to be\", \"Myself with lack of money\", \"Myself with my family\", \"Myself with my friends\", \"Myself after a good day\", \"Myself right now\", \"Myself as I would like to be\", \"Myself with my friends\", \"Myself with my family\", \"Myself after a bad day\", \"Myself with lack of money\", \"Myself right now\", \"Myself as I would like to be\", \"Myself with lack of money\", \"Myself after a good day\", \"Myself with my boss\", \"Myself with my family\", \"Myself right now\", \"Myself as I would like to be\", \"Myself with lack of money\", \"Myself doing a presentation\", \"Myself after a bad day\", \"Myself before an important deadline\", \"Myself right now\", \"Myself as I would like to be\", \"Myself with my boss\", \"Myself with a coworker I dislike\", \"Myself with lack of money\", \"Myself with my friends\", \"Myself right now\", \"Myself as I would like to be\", \"Myself with my friends\", \"Myself in a tense meeting\", \"Myself with my boss\", \"Myself with a coworker I dislike\", \"Myself right now\", \"Myself as I would like to be\", \"Myself with my boss\", \"Myself with my friends\", \"Myself with lack of money\", \"Myself in a normal work day\", \"Myself right now\", \"Myself as I would like to be\", \"Myself with my friends\", \"Myself with my family\", \"Myself after a bad day\", \"Myself with lack of money\", \"Myself right now\", \"Myself as I would like to be\", \"Myself with my family\", \"Myself with a coworker I like\", \"Myself after a good day\", \"Myself with my friends\", \"Myself right now\", \"Myself as I would like to be\", \"Myself in a normal work day\", \"Myself with my family\", \"Myself after a bad day\", \"Myself after a good day\", \"Myself right now\", \"Myself as I would like to be\", \"Myself after a good day\", \"Myself with lack of money\", \"Myself with my friends\", \"Myself with my family\", \"Myself right now\", \"Myself as I would like to be\", \"Myself with my family\", \"Myself after a good day\", \"Myself with my friends\", \"Myself before an important deadline\", \"Myself right now\", \"Myself as I would like to be\", \"Myself with lack of money\", \"Myself with my friends\", \"Myself with my family\", \"Myself after a bad day\", \"Myself right now\", \"Myself as I would like to be\", \"Myself in a tense meeting\", \"Myself with a coworker I dislike\", \"Myself before an important deadline\", \"Myself with my boss\", \"Myself right now\", \"Myself as I would like to be\", \"Myself with my family\", \"Myself with my friends\", \"Myself with lack of money\", \"Myself with my boss\", \"Myself right now\", \"Myself as I would like to be\", \"Myself doing a presentation\", \"Myself in a normal work day\", \"Myself before an important deadline\", \"Myself with my family\", \"Myself right now\", \"Myself as I would like to be\", \"Myself with my friends\", \"Myself with my family\", \"Myself after a good day\", \"Myself in a normal work day\", \"Myself right now\", \"Myself as I would like to be\", \"Myself with lack of money\", \"Myself with my friends\", \"Myself with a coworker I dislike\", \"Myself before an important deadline\", \"Myself right now\", \"Myself as I would like to be\", \"Myself in a normal work day\", \"Myself with my family\", \"Myself after a bad day\", \"Myself with my friends\", \"Myself right now\", \"Myself as I would like to be\", \"Myself with lack of money\", \"Myself with my family\", \"Myself after a bad day\", \"Myself with my boss\", \"Myself right now\", \"Myself as I would like to be\", \"Myself with my family\", \"Myself with my friends\", \"Myself after a bad day\", \"Myself with lack of money\", \"Myself right now\", \"Myself as I would like to be\", \"Myself after a good day\", \"Myself after a bad day\", \"Myself with my friends\", \"Myself with my family\", \"Myself right now\", \"Myself as I would like to be\", \"Myself with my friends\", \"Myself with my family\", \"Myself before an important deadline\", \"Myself in a normal work day\", \"Myself right now\", \"Myself as I would like to be\", \"Myself with my family\", \"Myself with lack of money\", \"Myself before an important deadline\", \"Myself after a bad day\", \"Myself right now\", \"Myself as I would like to be\", \"Myself with my friends\", \"Myself with my family\", \"Myself after a good day\", \"Myself in a normal work day\", \"Myself right now\", \"Myself as I would like to be\", \"Myself with my family\", \"Myself before an important deadline\", \"Myself in a normal work day\", \"Myself with my friends\", \"Myself right now\", \"Myself as I would like to be\", \"Myself after a bad day\", \"Myself with my friends\", \"Myself with a coworker I like\", \"Myself doing a presentation\", \"Myself right now\", \"Myself as I would like to be\", \"Myself after a good day\", \"Myself with my family\", \"Myself with my friends\", \"Myself in a normal work day\", \"Myself right now\", \"Myself as I would like to be\", \"Myself with a coworker I dislike\", \"Myself after a bad day\", \"Myself with my friends\", \"Myself with my family\", \"Myself right now\", \"Myself as I would like to be\", \"Myself with a coworker I like\", \"Myself with lack of money\", \"Myself with my friends\", \"Myself after a good day\", \"Myself right now\", \"Myself as I would like to be\", \"Myself before an important deadline\", \"Myself with lack of money\", \"Myself in a tense meeting\", \"Myself after a bad day\", \"Myself right now\", \"Myself as I would like to be\", \"Myself with lack of money\", \"Myself with my friends\", \"Myself with my family\", \"Myself doing a presentation\", \"Myself right now\", \"Myself as I would like to be\", \"Myself with my family\", \"Myself after a good day\", \"Myself with my friends\", \"Myself with lack of money\", \"Myself right now\", \"Myself as I would like to be\", \"Myself with my family\", \"Myself after a good day\", \"Myself in a normal work day\", \"Myself with lack of money\", \"Myself right now\", \"Myself as I would like to be\", \"Myself with a coworker I dislike\", \"Myself in a normal work day\", \"Myself with my boss\", \"Myself before an important deadline\", \"Myself in a tense meeting\", \"Myself right now\", \"Myself as I would like to be\", \"Myself with my family\", \"Myself with my friends\", \"Myself after a bad day\", \"Myself before an important deadline\", \"Myself right now\", \"Myself as I would like to be\", \"Myself with lack of money\", \"Myself after a bad day\", \"Myself doing a presentation\", \"Myself before an important deadline\", \"Myself right now\", \"Myself as I would like to be\", \"Myself in a normal work day\", \"Myself before an important deadline\", \"Myself in a tense meeting\", \"Myself after a good day\", \"Myself right now\", \"Myself as I would like to be\", \"Myself with my family\", \"Myself doing a presentation\", \"Myself after a good day\", \"Myself in a normal work day\", \"Myself right now\", \"Myself as I would like to be\", \"Myself with my family\", \"Myself in a tense meeting\", \"Myself after a bad day\", \"Myself with a coworker I dislike\", \"Myself right now\", \"Myself as I would like to be\", \"Myself with lack of money\", \"Myself after a bad day\", \"Myself doing a presentation\", \"Myself in a tense meeting\", \"Myself right now\", \"Myself as I would like to be\", \"Myself doing a presentation\", \"Myself after a good day\", \"Myself with my friends\", \"Myself with lack of money\", \"Myself before an important deadline\", \"Myself right now\", \"Myself as I would like to be\", \"Myself with lack of money\", \"Myself with my family\", \"Myself before an important deadline\", \"Myself in a normal work day\", \"Myself right now\", \"Myself as I would like to be\", \"Myself after a bad day\", \"Myself with a coworker I dislike\", \"Myself in a normal work day\", \"Myself before an important deadline\", \"Myself right now\", \"Myself as I would like to be\", \"Myself with my family\", \"Myself with lack of money\", \"Myself before an important deadline\", \"Myself after a good day\", \"Myself right now\", \"Myself as I would like to be\", \"Myself with lack of money\", \"Myself after a bad day\", \"Myself in a normal work day\", \"Myself before an important deadline\", \"Myself right now\", \"Myself as I would like to be\", \"Myself with my family\", \"Myself after a good day\", \"Myself with my friends\", \"Myself in a normal work day\", \"Myself right now\", \"Myself as I would like to be\", \"Myself with lack of money\", \"Myself with my family\", \"Myself in a normal work day\", \"Myself after a bad day\", \"Myself right now\", \"Myself as I would like to be\", \"Myself with my family\", \"Myself with my friends\", \"Myself after a good day\", \"Myself with a coworker I like\", \"Myself right now\", \"Myself as I would like to be\", \"Myself with my friends\", \"Myself before an important deadline\", \"Myself in a tense meeting\", \"Myself after a bad day\", \"Myself right now\", \"Myself as I would like to be\", \"Myself with my boss\", \"Myself with my family\", \"Myself in a tense meeting\", \"Myself after a good day\", \"Myself with my friends\", \"Myself right now\", \"Myself as I would like to be\", \"Myself after a good day\", \"Myself with lack of money\", \"Myself in a normal work day\", \"Myself after a bad day\", \"Myself right now\", \"Myself as I would like to be\", \"Myself in a tense meeting\", \"Myself with my friends\", \"Myself with my family\", \"Myself doing a presentation\", \"Myself after a bad day\"], \"xaxis\": \"x\", \"yaxis\": \"y\"}],\n",
       "                        {\"barmode\": \"relative\", \"height\": 600, \"legend\": {\"tracegroupgap\": 0}, \"margin\": {\"t\": 60}, \"template\": {\"data\": {\"bar\": [{\"error_x\": {\"color\": \"#2a3f5f\"}, \"error_y\": {\"color\": \"#2a3f5f\"}, \"marker\": {\"line\": {\"color\": \"#E5ECF6\", \"width\": 0.5}}, \"type\": \"bar\"}], \"barpolar\": [{\"marker\": {\"line\": {\"color\": \"#E5ECF6\", \"width\": 0.5}}, \"type\": \"barpolar\"}], \"carpet\": [{\"aaxis\": {\"endlinecolor\": \"#2a3f5f\", \"gridcolor\": \"white\", \"linecolor\": \"white\", \"minorgridcolor\": \"white\", \"startlinecolor\": \"#2a3f5f\"}, \"baxis\": {\"endlinecolor\": \"#2a3f5f\", \"gridcolor\": \"white\", \"linecolor\": \"white\", \"minorgridcolor\": \"white\", \"startlinecolor\": \"#2a3f5f\"}, \"type\": \"carpet\"}], \"choropleth\": [{\"colorbar\": {\"outlinewidth\": 0, \"ticks\": \"\"}, \"type\": \"choropleth\"}], \"contour\": [{\"colorbar\": {\"outlinewidth\": 0, \"ticks\": \"\"}, \"colorscale\": [[0.0, \"#0d0887\"], [0.1111111111111111, \"#46039f\"], [0.2222222222222222, \"#7201a8\"], [0.3333333333333333, \"#9c179e\"], [0.4444444444444444, \"#bd3786\"], [0.5555555555555556, \"#d8576b\"], [0.6666666666666666, \"#ed7953\"], [0.7777777777777778, \"#fb9f3a\"], [0.8888888888888888, \"#fdca26\"], [1.0, \"#f0f921\"]], \"type\": \"contour\"}], \"contourcarpet\": [{\"colorbar\": {\"outlinewidth\": 0, \"ticks\": \"\"}, \"type\": \"contourcarpet\"}], \"heatmap\": [{\"colorbar\": {\"outlinewidth\": 0, \"ticks\": \"\"}, \"colorscale\": [[0.0, \"#0d0887\"], [0.1111111111111111, \"#46039f\"], [0.2222222222222222, \"#7201a8\"], [0.3333333333333333, \"#9c179e\"], [0.4444444444444444, \"#bd3786\"], [0.5555555555555556, \"#d8576b\"], [0.6666666666666666, \"#ed7953\"], [0.7777777777777778, \"#fb9f3a\"], [0.8888888888888888, \"#fdca26\"], [1.0, \"#f0f921\"]], \"type\": \"heatmap\"}], \"heatmapgl\": [{\"colorbar\": {\"outlinewidth\": 0, \"ticks\": \"\"}, \"colorscale\": [[0.0, \"#0d0887\"], [0.1111111111111111, \"#46039f\"], [0.2222222222222222, \"#7201a8\"], [0.3333333333333333, \"#9c179e\"], [0.4444444444444444, \"#bd3786\"], [0.5555555555555556, \"#d8576b\"], [0.6666666666666666, \"#ed7953\"], [0.7777777777777778, \"#fb9f3a\"], [0.8888888888888888, \"#fdca26\"], [1.0, \"#f0f921\"]], \"type\": \"heatmapgl\"}], \"histogram\": [{\"marker\": {\"colorbar\": {\"outlinewidth\": 0, \"ticks\": \"\"}}, \"type\": \"histogram\"}], \"histogram2d\": [{\"colorbar\": {\"outlinewidth\": 0, \"ticks\": \"\"}, \"colorscale\": [[0.0, \"#0d0887\"], [0.1111111111111111, \"#46039f\"], [0.2222222222222222, \"#7201a8\"], [0.3333333333333333, \"#9c179e\"], [0.4444444444444444, \"#bd3786\"], [0.5555555555555556, \"#d8576b\"], [0.6666666666666666, \"#ed7953\"], [0.7777777777777778, \"#fb9f3a\"], [0.8888888888888888, \"#fdca26\"], [1.0, \"#f0f921\"]], \"type\": \"histogram2d\"}], \"histogram2dcontour\": [{\"colorbar\": {\"outlinewidth\": 0, \"ticks\": \"\"}, \"colorscale\": [[0.0, \"#0d0887\"], [0.1111111111111111, \"#46039f\"], [0.2222222222222222, \"#7201a8\"], [0.3333333333333333, \"#9c179e\"], [0.4444444444444444, \"#bd3786\"], [0.5555555555555556, \"#d8576b\"], [0.6666666666666666, \"#ed7953\"], [0.7777777777777778, \"#fb9f3a\"], [0.8888888888888888, \"#fdca26\"], [1.0, \"#f0f921\"]], \"type\": \"histogram2dcontour\"}], \"mesh3d\": [{\"colorbar\": {\"outlinewidth\": 0, \"ticks\": \"\"}, \"type\": \"mesh3d\"}], \"parcoords\": [{\"line\": {\"colorbar\": {\"outlinewidth\": 0, \"ticks\": \"\"}}, \"type\": \"parcoords\"}], \"scatter\": [{\"marker\": {\"colorbar\": {\"outlinewidth\": 0, \"ticks\": \"\"}}, \"type\": \"scatter\"}], \"scatter3d\": [{\"line\": {\"colorbar\": {\"outlinewidth\": 0, \"ticks\": \"\"}}, \"marker\": {\"colorbar\": {\"outlinewidth\": 0, \"ticks\": \"\"}}, \"type\": \"scatter3d\"}], \"scattercarpet\": [{\"marker\": {\"colorbar\": {\"outlinewidth\": 0, \"ticks\": \"\"}}, \"type\": \"scattercarpet\"}], \"scattergeo\": [{\"marker\": {\"colorbar\": {\"outlinewidth\": 0, \"ticks\": \"\"}}, \"type\": \"scattergeo\"}], \"scattergl\": [{\"marker\": {\"colorbar\": {\"outlinewidth\": 0, \"ticks\": \"\"}}, \"type\": \"scattergl\"}], \"scattermapbox\": [{\"marker\": {\"colorbar\": {\"outlinewidth\": 0, \"ticks\": \"\"}}, \"type\": \"scattermapbox\"}], \"scatterpolar\": [{\"marker\": {\"colorbar\": {\"outlinewidth\": 0, \"ticks\": \"\"}}, \"type\": \"scatterpolar\"}], \"scatterpolargl\": [{\"marker\": {\"colorbar\": {\"outlinewidth\": 0, \"ticks\": \"\"}}, \"type\": \"scatterpolargl\"}], \"scatterternary\": [{\"marker\": {\"colorbar\": {\"outlinewidth\": 0, \"ticks\": \"\"}}, \"type\": \"scatterternary\"}], \"surface\": [{\"colorbar\": {\"outlinewidth\": 0, \"ticks\": \"\"}, \"colorscale\": [[0.0, \"#0d0887\"], [0.1111111111111111, \"#46039f\"], [0.2222222222222222, \"#7201a8\"], [0.3333333333333333, \"#9c179e\"], [0.4444444444444444, \"#bd3786\"], [0.5555555555555556, \"#d8576b\"], [0.6666666666666666, \"#ed7953\"], [0.7777777777777778, \"#fb9f3a\"], [0.8888888888888888, \"#fdca26\"], [1.0, \"#f0f921\"]], \"type\": \"surface\"}], \"table\": [{\"cells\": {\"fill\": {\"color\": \"#EBF0F8\"}, \"line\": {\"color\": \"white\"}}, \"header\": {\"fill\": {\"color\": \"#C8D4E3\"}, \"line\": {\"color\": \"white\"}}, \"type\": \"table\"}]}, \"layout\": {\"annotationdefaults\": {\"arrowcolor\": \"#2a3f5f\", \"arrowhead\": 0, \"arrowwidth\": 1}, \"colorscale\": {\"diverging\": [[0, \"#8e0152\"], [0.1, \"#c51b7d\"], [0.2, \"#de77ae\"], [0.3, \"#f1b6da\"], [0.4, \"#fde0ef\"], [0.5, \"#f7f7f7\"], [0.6, \"#e6f5d0\"], [0.7, \"#b8e186\"], [0.8, \"#7fbc41\"], [0.9, \"#4d9221\"], [1, \"#276419\"]], \"sequential\": [[0.0, \"#0d0887\"], [0.1111111111111111, \"#46039f\"], [0.2222222222222222, \"#7201a8\"], [0.3333333333333333, \"#9c179e\"], [0.4444444444444444, \"#bd3786\"], [0.5555555555555556, \"#d8576b\"], [0.6666666666666666, \"#ed7953\"], [0.7777777777777778, \"#fb9f3a\"], [0.8888888888888888, \"#fdca26\"], [1.0, \"#f0f921\"]], \"sequentialminus\": [[0.0, \"#0d0887\"], [0.1111111111111111, \"#46039f\"], [0.2222222222222222, \"#7201a8\"], [0.3333333333333333, \"#9c179e\"], [0.4444444444444444, \"#bd3786\"], [0.5555555555555556, \"#d8576b\"], [0.6666666666666666, \"#ed7953\"], [0.7777777777777778, \"#fb9f3a\"], [0.8888888888888888, \"#fdca26\"], [1.0, \"#f0f921\"]]}, \"colorway\": [\"#636efa\", \"#EF553B\", \"#00cc96\", \"#ab63fa\", \"#FFA15A\", \"#19d3f3\", \"#FF6692\", \"#B6E880\", \"#FF97FF\", \"#FECB52\"], \"font\": {\"color\": \"#2a3f5f\"}, \"geo\": {\"bgcolor\": \"white\", \"lakecolor\": \"white\", \"landcolor\": \"#E5ECF6\", \"showlakes\": true, \"showland\": true, \"subunitcolor\": \"white\"}, \"hoverlabel\": {\"align\": \"left\"}, \"hovermode\": \"closest\", \"mapbox\": {\"style\": \"light\"}, \"paper_bgcolor\": \"white\", \"plot_bgcolor\": \"#E5ECF6\", \"polar\": {\"angularaxis\": {\"gridcolor\": \"white\", \"linecolor\": \"white\", \"ticks\": \"\"}, \"bgcolor\": \"#E5ECF6\", \"radialaxis\": {\"gridcolor\": \"white\", \"linecolor\": \"white\", \"ticks\": \"\"}}, \"scene\": {\"xaxis\": {\"backgroundcolor\": \"#E5ECF6\", \"gridcolor\": \"white\", \"gridwidth\": 2, \"linecolor\": \"white\", \"showbackground\": true, \"ticks\": \"\", \"zerolinecolor\": \"white\"}, \"yaxis\": {\"backgroundcolor\": \"#E5ECF6\", \"gridcolor\": \"white\", \"gridwidth\": 2, \"linecolor\": \"white\", \"showbackground\": true, \"ticks\": \"\", \"zerolinecolor\": \"white\"}, \"zaxis\": {\"backgroundcolor\": \"#E5ECF6\", \"gridcolor\": \"white\", \"gridwidth\": 2, \"linecolor\": \"white\", \"showbackground\": true, \"ticks\": \"\", \"zerolinecolor\": \"white\"}}, \"shapedefaults\": {\"line\": {\"color\": \"#2a3f5f\"}}, \"ternary\": {\"aaxis\": {\"gridcolor\": \"white\", \"linecolor\": \"white\", \"ticks\": \"\"}, \"baxis\": {\"gridcolor\": \"white\", \"linecolor\": \"white\", \"ticks\": \"\"}, \"bgcolor\": \"#E5ECF6\", \"caxis\": {\"gridcolor\": \"white\", \"linecolor\": \"white\", \"ticks\": \"\"}}, \"title\": {\"x\": 0.05}, \"xaxis\": {\"automargin\": true, \"gridcolor\": \"white\", \"linecolor\": \"white\", \"ticks\": \"\", \"zerolinecolor\": \"white\", \"zerolinewidth\": 2}, \"yaxis\": {\"automargin\": true, \"gridcolor\": \"white\", \"linecolor\": \"white\", \"ticks\": \"\", \"zerolinecolor\": \"white\", \"zerolinewidth\": 2}}}, \"xaxis\": {\"anchor\": \"y\", \"categoryorder\": \"total descending\", \"domain\": [0.0, 0.98], \"title\": {\"text\": \"SelectedElements\"}}, \"yaxis\": {\"anchor\": \"x\", \"domain\": [0.0, 1.0], \"title\": {\"text\": \"count\"}}},\n",
       "                        {\"responsive\": true}\n",
       "                    ).then(function(){\n",
       "                            \n",
       "var gd = document.getElementById('32b9c3b5-00e6-4408-89bb-094ae46c6da2');\n",
       "var x = new MutationObserver(function (mutations, observer) {{\n",
       "        var display = window.getComputedStyle(gd).display;\n",
       "        if (!display || display === 'none') {{\n",
       "            console.log([gd, 'removed!']);\n",
       "            Plotly.purge(gd);\n",
       "            observer.disconnect();\n",
       "        }}\n",
       "}});\n",
       "\n",
       "// Listen for the removal of the full notebook cells\n",
       "var notebookContainer = gd.closest('#notebook-container');\n",
       "if (notebookContainer) {{\n",
       "    x.observe(notebookContainer, {childList: true});\n",
       "}}\n",
       "\n",
       "// Listen for the clearing of the current output cell\n",
       "var outputEl = gd.closest('.output');\n",
       "if (outputEl) {{\n",
       "    x.observe(outputEl, {childList: true});\n",
       "}}\n",
       "\n",
       "                        })\n",
       "                };\n",
       "                });\n",
       "            </script>\n",
       "        </div>"
      ]
     },
     "metadata": {},
     "output_type": "display_data"
    }
   ],
   "source": [
    "fig = px.histogram(df_2, x=\"SelectedElements\").update_xaxes(categoryorder=\"total descending\")\n",
    "fig.show()"
   ]
  },
  {
   "cell_type": "code",
   "execution_count": 302,
   "metadata": {},
   "outputs": [],
   "source": [
    "a = [100-19.7,100-19.5,100-23.8,100-23.8]"
   ]
  },
  {
   "cell_type": "code",
   "execution_count": 306,
   "metadata": {},
   "outputs": [
    {
     "data": {
      "text/plain": [
       "80.6"
      ]
     },
     "execution_count": 306,
     "metadata": {},
     "output_type": "execute_result"
    }
   ],
   "source": [
    "100-19.4"
   ]
  },
  {
   "cell_type": "code",
   "execution_count": 303,
   "metadata": {},
   "outputs": [
    {
     "data": {
      "text/plain": [
       "78.25"
      ]
     },
     "execution_count": 303,
     "metadata": {},
     "output_type": "execute_result"
    }
   ],
   "source": [
    "np.median(a)"
   ]
  },
  {
   "cell_type": "code",
   "execution_count": 305,
   "metadata": {},
   "outputs": [
    {
     "data": {
      "text/plain": [
       "78.3"
      ]
     },
     "execution_count": 305,
     "metadata": {},
     "output_type": "execute_result"
    }
   ],
   "source": [
    "np.mean(a)"
   ]
  },
  {
   "cell_type": "code",
   "execution_count": 311,
   "metadata": {},
   "outputs": [],
   "source": [
    "df_2 = pd.DataFrame()"
   ]
  },
  {
   "cell_type": "code",
   "execution_count": 312,
   "metadata": {},
   "outputs": [],
   "source": [
    "df_2['SelectedElements']=selected_elements"
   ]
  },
  {
   "cell_type": "code",
   "execution_count": 130,
   "metadata": {},
   "outputs": [],
   "source": [
    "?go.Histogram"
   ]
  },
  {
   "cell_type": "code",
   "execution_count": 297,
   "metadata": {},
   "outputs": [
    {
     "data": {
      "application/vnd.plotly.v1+json": {
       "config": {
        "plotlyServerURL": "https://plot.ly"
       },
       "data": [
        {
         "type": "histogram",
         "y": [
          "Myself with lack of money",
          "Myself with my boss",
          "Myself with my family",
          "Myself with my friends",
          "Myself with my friends",
          "Myself with my family",
          "Myself in a normal work day",
          "Myself after a good day",
          "Myself with my family",
          "Myself with my friends",
          "Myself after a bad day",
          "Myself in a normal work day",
          "Myself with my family",
          "Myself in a normal work day",
          "Myself with my friends",
          "Myself with my boss",
          "Myself after a good day",
          "Myself before an important deadline",
          "Myself doing a presentation",
          "Myself with a coworker I dislike",
          "Myself after a good day",
          "Myself with lack of money",
          "Myself in a normal work day",
          "Myself before an important deadline",
          "Myself with my boss",
          "Myself with a coworker I dislike",
          "Myself with my family",
          "Myself with lack of money",
          "Myself with my friends",
          "Myself after a good day",
          "Myself with my family",
          "Myself with my friends",
          "Myself after a good day",
          "Myself before an important deadline",
          "Myself after a bad day",
          "Myself with my family",
          "Myself with my friends",
          "Myself doing a presentation",
          "Myself with my friends",
          "Myself with my boss",
          "Myself after a good day",
          "Myself before an important deadline",
          "Myself with my friends",
          "Myself with my family",
          "Myself with lack of money",
          "Myself in a tense meeting",
          "Myself after a bad day",
          "Myself doing a presentation",
          "Myself in a tense meeting",
          "Myself before an important deadline",
          "Myself with my family",
          "Myself after a bad day",
          "Myself in a tense meeting",
          "Myself with my friends",
          "Myself with lack of money",
          "Myself before an important deadline",
          "Myself with a coworker I dislike",
          "Myself after a bad day",
          "Myself with my boss",
          "Myself with my friends",
          "Myself with my family",
          "Myself after a good day",
          "Myself with my family",
          "Myself after a good day",
          "Myself doing a presentation",
          "Myself with my boss",
          "Myself with lack of money",
          "Myself doing a presentation",
          "Myself with my family",
          "Myself before an important deadline",
          "Myself with my friends",
          "Myself with my family",
          "Myself doing a presentation",
          "Myself in a normal work day",
          "Myself with my family",
          "Myself with lack of money",
          "Myself with my friends",
          "Myself with a coworker I like",
          "Myself with my family",
          "Myself after a good day",
          "Myself with my friends",
          "Myself with a coworker I like",
          "Myself with lack of money",
          "Myself with my family",
          "Myself with a coworker I like",
          "Myself in a normal work day",
          "Myself with my family",
          "Myself with my friends",
          "Myself with lack of money",
          "Myself in a normal work day",
          "Myself with lack of money",
          "Myself with a coworker I dislike",
          "Myself with my friends",
          "Myself in a normal work day",
          "Myself doing a presentation",
          "Myself with my family",
          "Myself after a good day",
          "Myself with my boss",
          "Myself after a bad day",
          "Myself with lack of money",
          "Myself in a normal work day",
          "Myself before an important deadline",
          "Myself with lack of money",
          "Myself after a bad day",
          "Myself in a tense meeting",
          "Myself with my boss",
          "Myself with lack of money",
          "Myself after a bad day",
          "Myself with my friends",
          "Myself in a normal work day",
          "Myself with my friends",
          "Myself with my family",
          "Myself with a coworker I like",
          "Myself after a good day",
          "Myself with my family",
          "Myself in a normal work day",
          "Myself with my boss",
          "Myself after a good day",
          "Myself in a normal work day",
          "Myself with my family",
          "Myself with my boss",
          "Myself after a bad day",
          "Myself with my family",
          "Myself with my boss",
          "Myself with my friends",
          "Myself in a normal work day",
          "Myself with lack of money",
          "Myself with my friends",
          "Myself with my boss",
          "Myself after a good day",
          "Myself in a tense meeting",
          "Myself doing a presentation",
          "Myself before an important deadline",
          "Myself with my family",
          "Myself with my family",
          "Myself after a good day",
          "Myself with my friends",
          "Myself doing a presentation",
          "Myself before an important deadline",
          "Myself with my family",
          "Myself after a bad day",
          "Myself with a coworker I dislike",
          "Myself after a good day",
          "Myself with my family",
          "Myself with my friends",
          "Myself with lack of money",
          "Myself with lack of money",
          "Myself after a bad day",
          "Myself with my friends",
          "Myself with my family",
          "Myself after a bad day",
          "Myself with my boss",
          "Myself with my family",
          "Myself in a tense meeting",
          "Myself with my friends",
          "Myself with lack of money",
          "Myself in a tense meeting",
          "Myself doing a presentation",
          "Myself with a coworker I dislike",
          "Myself after a bad day",
          "Myself with my family",
          "Myself with my friends",
          "Myself in a normal work day",
          "Myself after a good day",
          "Myself with my family",
          "Myself after a good day",
          "Myself doing a presentation",
          "Myself before an important deadline",
          "Myself with my family",
          "Myself after a good day",
          "Myself with my friends",
          "Myself with a coworker I like",
          "Myself after a good day",
          "Myself with my friends",
          "Myself in a normal work day",
          "Myself with my family",
          "Myself with my family",
          "Myself after a bad day",
          "Myself in a normal work day",
          "Myself with lack of money",
          "Myself after a good day",
          "Myself after a good day",
          "Myself with my boss",
          "Myself with a coworker I dislike",
          "Myself with my family",
          "Myself with my family",
          "Myself with lack of money",
          "Myself with my friends",
          "Myself before an important deadline",
          "Myself with my family",
          "Myself after a bad day",
          "Myself doing a presentation",
          "Myself with lack of money",
          "Myself with my boss",
          "Myself with my family",
          "Myself after a good day",
          "Myself with my friends",
          "Myself with my friends",
          "Myself with my family",
          "Myself after a good day",
          "Myself after a bad day",
          "Myself with my friends",
          "Myself with my family",
          "Myself with lack of money",
          "Myself in a normal work day",
          "Myself with my family",
          "Myself with lack of money",
          "Myself with my boss",
          "Myself with my friends",
          "Myself with my family",
          "Myself after a good day",
          "Myself with my friends",
          "Myself with a coworker I like",
          "Myself with lack of money",
          "Myself with my family",
          "Myself in a normal work day",
          "Myself before an important deadline",
          "Myself in a normal work day",
          "Myself with my boss",
          "Myself before an important deadline",
          "Myself after a bad day",
          "Myself with lack of money",
          "Myself with my friends",
          "Myself after a good day",
          "Myself after a bad day",
          "Myself with lack of money",
          "Myself with my friends",
          "Myself with a coworker I dislike",
          "Myself before an important deadline",
          "Myself with my family",
          "Myself before an important deadline",
          "Myself with my friends",
          "Myself in a normal work day",
          "Myself with my family",
          "Myself before an important deadline",
          "Myself with my boss",
          "Myself after a good day",
          "Myself with my family",
          "Myself in a normal work day",
          "Myself with my friends",
          "Myself after a good day",
          "Myself after a good day",
          "Myself with a coworker I dislike",
          "Myself with my family",
          "Myself with lack of money",
          "Myself with my family",
          "Myself doing a presentation",
          "Myself with lack of money",
          "Myself with a coworker I dislike",
          "Myself with my family",
          "Myself with my friends",
          "Myself in a normal work day",
          "Myself with my boss",
          "Myself after a bad day",
          "Myself with my family",
          "Myself with lack of money",
          "Myself in a normal work day",
          "Myself after a good day",
          "Myself before an important deadline",
          "Myself in a tense meeting",
          "Myself doing a presentation",
          "Myself in a normal work day",
          "Myself with my family",
          "Myself with my friends",
          "Myself after a bad day",
          "Myself with my boss",
          "Myself with a coworker I dislike",
          "Myself after a bad day",
          "Myself before an important deadline",
          "Myself with my friends",
          "Myself with my family",
          "Myself after a bad day",
          "Myself with a coworker I dislike",
          "Myself with my family",
          "Myself after a bad day",
          "Myself with my boss",
          "Myself in a normal work day",
          "Myself with my friends",
          "Myself before an important deadline",
          "Myself in a tense meeting",
          "Myself after a good day",
          "Myself with my family",
          "Myself doing a presentation",
          "Myself with my friends",
          "Myself with lack of money",
          "Myself with my family",
          "Myself with my friends",
          "Myself in a normal work day",
          "Myself after a good day",
          "Myself with a coworker I dislike",
          "Myself with my boss",
          "Myself in a tense meeting",
          "Myself after a bad day",
          "Myself with my family",
          "Myself with lack of money",
          "Myself after a good day",
          "Myself with a coworker I like",
          "Myself with my family",
          "Myself after a bad day",
          "Myself in a normal work day",
          "Myself after a good day",
          "Myself in a normal work day",
          "Myself with my friends",
          "Myself with my family",
          "Myself after a good day",
          "Myself with lack of money",
          "Myself after a bad day",
          "Myself in a normal work day",
          "Myself with a coworker I like",
          "Myself with lack of money",
          "Myself after a bad day",
          "Myself with my boss",
          "Myself with my family",
          "Myself with a coworker I like",
          "Myself after a bad day",
          "Myself with my family",
          "Myself before an important deadline",
          "Myself with my family",
          "Myself with a coworker I dislike",
          "Myself with lack of money",
          "Myself after a bad day",
          "Myself after a good day",
          "Myself with my friends",
          "Myself with my family",
          "Myself with a coworker I like",
          "Myself with a coworker I dislike",
          "Myself after a bad day",
          "Myself with my boss",
          "Myself in a tense meeting",
          "Myself with lack of money",
          "Myself with my family",
          "Myself with my friends",
          "Myself after a good day",
          "Myself with my friends",
          "Myself with my family",
          "Myself after a bad day",
          "Myself with lack of money",
          "Myself with lack of money",
          "Myself after a good day",
          "Myself with my boss",
          "Myself with my family",
          "Myself with lack of money",
          "Myself doing a presentation",
          "Myself after a bad day",
          "Myself before an important deadline",
          "Myself with my boss",
          "Myself with a coworker I dislike",
          "Myself with lack of money",
          "Myself with my friends",
          "Myself with my friends",
          "Myself in a tense meeting",
          "Myself with my boss",
          "Myself with a coworker I dislike",
          "Myself with my boss",
          "Myself with my friends",
          "Myself with lack of money",
          "Myself in a normal work day",
          "Myself with my friends",
          "Myself with my family",
          "Myself after a bad day",
          "Myself with lack of money",
          "Myself with my family",
          "Myself with a coworker I like",
          "Myself after a good day",
          "Myself with my friends",
          "Myself in a normal work day",
          "Myself with my family",
          "Myself after a bad day",
          "Myself after a good day",
          "Myself after a good day",
          "Myself with lack of money",
          "Myself with my friends",
          "Myself with my family",
          "Myself with my family",
          "Myself after a good day",
          "Myself with my friends",
          "Myself before an important deadline",
          "Myself with lack of money",
          "Myself with my friends",
          "Myself with my family",
          "Myself after a bad day",
          "Myself in a tense meeting",
          "Myself with a coworker I dislike",
          "Myself before an important deadline",
          "Myself with my boss",
          "Myself with my family",
          "Myself with my friends",
          "Myself with lack of money",
          "Myself with my boss",
          "Myself doing a presentation",
          "Myself in a normal work day",
          "Myself before an important deadline",
          "Myself with my family",
          "Myself with my friends",
          "Myself with my family",
          "Myself after a good day",
          "Myself in a normal work day",
          "Myself with lack of money",
          "Myself with my friends",
          "Myself with a coworker I dislike",
          "Myself before an important deadline",
          "Myself in a normal work day",
          "Myself with my family",
          "Myself after a bad day",
          "Myself with my friends",
          "Myself with lack of money",
          "Myself with my family",
          "Myself after a bad day",
          "Myself with my boss",
          "Myself with my family",
          "Myself with my friends",
          "Myself after a bad day",
          "Myself with lack of money",
          "Myself after a good day",
          "Myself after a bad day",
          "Myself with my friends",
          "Myself with my family",
          "Myself with my friends",
          "Myself with my family",
          "Myself before an important deadline",
          "Myself in a normal work day",
          "Myself with my family",
          "Myself with lack of money",
          "Myself before an important deadline",
          "Myself after a bad day",
          "Myself with my friends",
          "Myself with my family",
          "Myself after a good day",
          "Myself in a normal work day",
          "Myself with my family",
          "Myself before an important deadline",
          "Myself in a normal work day",
          "Myself with my friends",
          "Myself after a bad day",
          "Myself with my friends",
          "Myself with a coworker I like",
          "Myself doing a presentation",
          "Myself after a good day",
          "Myself with my family",
          "Myself with my friends",
          "Myself in a normal work day",
          "Myself with a coworker I dislike",
          "Myself after a bad day",
          "Myself with my friends",
          "Myself with my family",
          "Myself with a coworker I like",
          "Myself with lack of money",
          "Myself with my friends",
          "Myself after a good day",
          "Myself before an important deadline",
          "Myself with lack of money",
          "Myself in a tense meeting",
          "Myself after a bad day",
          "Myself with lack of money",
          "Myself with my friends",
          "Myself with my family",
          "Myself doing a presentation",
          "Myself with my family",
          "Myself after a good day",
          "Myself with my friends",
          "Myself with lack of money",
          "Myself with my family",
          "Myself after a good day",
          "Myself in a normal work day",
          "Myself with lack of money",
          "Myself with a coworker I dislike",
          "Myself in a normal work day",
          "Myself with my boss",
          "Myself before an important deadline",
          "Myself in a tense meeting",
          "Myself with my family",
          "Myself with my friends",
          "Myself after a bad day",
          "Myself before an important deadline",
          "Myself with lack of money",
          "Myself after a bad day",
          "Myself doing a presentation",
          "Myself before an important deadline",
          "Myself in a normal work day",
          "Myself before an important deadline",
          "Myself in a tense meeting",
          "Myself after a good day",
          "Myself with my family",
          "Myself doing a presentation",
          "Myself after a good day",
          "Myself in a normal work day",
          "Myself with my family",
          "Myself in a tense meeting",
          "Myself after a bad day",
          "Myself with a coworker I dislike",
          "Myself with lack of money",
          "Myself after a bad day",
          "Myself doing a presentation",
          "Myself in a tense meeting",
          "Myself doing a presentation",
          "Myself after a good day",
          "Myself with my friends",
          "Myself with lack of money",
          "Myself before an important deadline",
          "Myself with lack of money",
          "Myself with my family",
          "Myself before an important deadline",
          "Myself in a normal work day",
          "Myself after a bad day",
          "Myself with a coworker I dislike",
          "Myself in a normal work day",
          "Myself before an important deadline",
          "Myself with my family",
          "Myself with lack of money",
          "Myself before an important deadline",
          "Myself after a good day",
          "Myself with lack of money",
          "Myself after a bad day",
          "Myself in a normal work day",
          "Myself before an important deadline",
          "Myself with my family",
          "Myself after a good day",
          "Myself with my friends",
          "Myself in a normal work day",
          "Myself with lack of money",
          "Myself with my family",
          "Myself in a normal work day",
          "Myself after a bad day",
          "Myself with my family",
          "Myself with my friends",
          "Myself after a good day",
          "Myself with a coworker I like",
          "Myself with my friends",
          "Myself before an important deadline",
          "Myself in a tense meeting",
          "Myself after a bad day",
          "Myself with my boss",
          "Myself with my family",
          "Myself in a tense meeting",
          "Myself after a good day",
          "Myself with my friends",
          "Myself after a good day",
          "Myself with lack of money",
          "Myself in a normal work day",
          "Myself after a bad day",
          "Myself in a tense meeting",
          "Myself with my friends",
          "Myself with my family",
          "Myself doing a presentation",
          "Myself after a bad day"
         ]
        }
       ],
       "layout": {
        "template": {
         "data": {
          "bar": [
           {
            "error_x": {
             "color": "#2a3f5f"
            },
            "error_y": {
             "color": "#2a3f5f"
            },
            "marker": {
             "line": {
              "color": "#E5ECF6",
              "width": 0.5
             }
            },
            "type": "bar"
           }
          ],
          "barpolar": [
           {
            "marker": {
             "line": {
              "color": "#E5ECF6",
              "width": 0.5
             }
            },
            "type": "barpolar"
           }
          ],
          "carpet": [
           {
            "aaxis": {
             "endlinecolor": "#2a3f5f",
             "gridcolor": "white",
             "linecolor": "white",
             "minorgridcolor": "white",
             "startlinecolor": "#2a3f5f"
            },
            "baxis": {
             "endlinecolor": "#2a3f5f",
             "gridcolor": "white",
             "linecolor": "white",
             "minorgridcolor": "white",
             "startlinecolor": "#2a3f5f"
            },
            "type": "carpet"
           }
          ],
          "choropleth": [
           {
            "colorbar": {
             "outlinewidth": 0,
             "ticks": ""
            },
            "type": "choropleth"
           }
          ],
          "contour": [
           {
            "colorbar": {
             "outlinewidth": 0,
             "ticks": ""
            },
            "colorscale": [
             [
              0,
              "#0d0887"
             ],
             [
              0.1111111111111111,
              "#46039f"
             ],
             [
              0.2222222222222222,
              "#7201a8"
             ],
             [
              0.3333333333333333,
              "#9c179e"
             ],
             [
              0.4444444444444444,
              "#bd3786"
             ],
             [
              0.5555555555555556,
              "#d8576b"
             ],
             [
              0.6666666666666666,
              "#ed7953"
             ],
             [
              0.7777777777777778,
              "#fb9f3a"
             ],
             [
              0.8888888888888888,
              "#fdca26"
             ],
             [
              1,
              "#f0f921"
             ]
            ],
            "type": "contour"
           }
          ],
          "contourcarpet": [
           {
            "colorbar": {
             "outlinewidth": 0,
             "ticks": ""
            },
            "type": "contourcarpet"
           }
          ],
          "heatmap": [
           {
            "colorbar": {
             "outlinewidth": 0,
             "ticks": ""
            },
            "colorscale": [
             [
              0,
              "#0d0887"
             ],
             [
              0.1111111111111111,
              "#46039f"
             ],
             [
              0.2222222222222222,
              "#7201a8"
             ],
             [
              0.3333333333333333,
              "#9c179e"
             ],
             [
              0.4444444444444444,
              "#bd3786"
             ],
             [
              0.5555555555555556,
              "#d8576b"
             ],
             [
              0.6666666666666666,
              "#ed7953"
             ],
             [
              0.7777777777777778,
              "#fb9f3a"
             ],
             [
              0.8888888888888888,
              "#fdca26"
             ],
             [
              1,
              "#f0f921"
             ]
            ],
            "type": "heatmap"
           }
          ],
          "heatmapgl": [
           {
            "colorbar": {
             "outlinewidth": 0,
             "ticks": ""
            },
            "colorscale": [
             [
              0,
              "#0d0887"
             ],
             [
              0.1111111111111111,
              "#46039f"
             ],
             [
              0.2222222222222222,
              "#7201a8"
             ],
             [
              0.3333333333333333,
              "#9c179e"
             ],
             [
              0.4444444444444444,
              "#bd3786"
             ],
             [
              0.5555555555555556,
              "#d8576b"
             ],
             [
              0.6666666666666666,
              "#ed7953"
             ],
             [
              0.7777777777777778,
              "#fb9f3a"
             ],
             [
              0.8888888888888888,
              "#fdca26"
             ],
             [
              1,
              "#f0f921"
             ]
            ],
            "type": "heatmapgl"
           }
          ],
          "histogram": [
           {
            "marker": {
             "colorbar": {
              "outlinewidth": 0,
              "ticks": ""
             }
            },
            "type": "histogram"
           }
          ],
          "histogram2d": [
           {
            "colorbar": {
             "outlinewidth": 0,
             "ticks": ""
            },
            "colorscale": [
             [
              0,
              "#0d0887"
             ],
             [
              0.1111111111111111,
              "#46039f"
             ],
             [
              0.2222222222222222,
              "#7201a8"
             ],
             [
              0.3333333333333333,
              "#9c179e"
             ],
             [
              0.4444444444444444,
              "#bd3786"
             ],
             [
              0.5555555555555556,
              "#d8576b"
             ],
             [
              0.6666666666666666,
              "#ed7953"
             ],
             [
              0.7777777777777778,
              "#fb9f3a"
             ],
             [
              0.8888888888888888,
              "#fdca26"
             ],
             [
              1,
              "#f0f921"
             ]
            ],
            "type": "histogram2d"
           }
          ],
          "histogram2dcontour": [
           {
            "colorbar": {
             "outlinewidth": 0,
             "ticks": ""
            },
            "colorscale": [
             [
              0,
              "#0d0887"
             ],
             [
              0.1111111111111111,
              "#46039f"
             ],
             [
              0.2222222222222222,
              "#7201a8"
             ],
             [
              0.3333333333333333,
              "#9c179e"
             ],
             [
              0.4444444444444444,
              "#bd3786"
             ],
             [
              0.5555555555555556,
              "#d8576b"
             ],
             [
              0.6666666666666666,
              "#ed7953"
             ],
             [
              0.7777777777777778,
              "#fb9f3a"
             ],
             [
              0.8888888888888888,
              "#fdca26"
             ],
             [
              1,
              "#f0f921"
             ]
            ],
            "type": "histogram2dcontour"
           }
          ],
          "mesh3d": [
           {
            "colorbar": {
             "outlinewidth": 0,
             "ticks": ""
            },
            "type": "mesh3d"
           }
          ],
          "parcoords": [
           {
            "line": {
             "colorbar": {
              "outlinewidth": 0,
              "ticks": ""
             }
            },
            "type": "parcoords"
           }
          ],
          "scatter": [
           {
            "marker": {
             "colorbar": {
              "outlinewidth": 0,
              "ticks": ""
             }
            },
            "type": "scatter"
           }
          ],
          "scatter3d": [
           {
            "line": {
             "colorbar": {
              "outlinewidth": 0,
              "ticks": ""
             }
            },
            "marker": {
             "colorbar": {
              "outlinewidth": 0,
              "ticks": ""
             }
            },
            "type": "scatter3d"
           }
          ],
          "scattercarpet": [
           {
            "marker": {
             "colorbar": {
              "outlinewidth": 0,
              "ticks": ""
             }
            },
            "type": "scattercarpet"
           }
          ],
          "scattergeo": [
           {
            "marker": {
             "colorbar": {
              "outlinewidth": 0,
              "ticks": ""
             }
            },
            "type": "scattergeo"
           }
          ],
          "scattergl": [
           {
            "marker": {
             "colorbar": {
              "outlinewidth": 0,
              "ticks": ""
             }
            },
            "type": "scattergl"
           }
          ],
          "scattermapbox": [
           {
            "marker": {
             "colorbar": {
              "outlinewidth": 0,
              "ticks": ""
             }
            },
            "type": "scattermapbox"
           }
          ],
          "scatterpolar": [
           {
            "marker": {
             "colorbar": {
              "outlinewidth": 0,
              "ticks": ""
             }
            },
            "type": "scatterpolar"
           }
          ],
          "scatterpolargl": [
           {
            "marker": {
             "colorbar": {
              "outlinewidth": 0,
              "ticks": ""
             }
            },
            "type": "scatterpolargl"
           }
          ],
          "scatterternary": [
           {
            "marker": {
             "colorbar": {
              "outlinewidth": 0,
              "ticks": ""
             }
            },
            "type": "scatterternary"
           }
          ],
          "surface": [
           {
            "colorbar": {
             "outlinewidth": 0,
             "ticks": ""
            },
            "colorscale": [
             [
              0,
              "#0d0887"
             ],
             [
              0.1111111111111111,
              "#46039f"
             ],
             [
              0.2222222222222222,
              "#7201a8"
             ],
             [
              0.3333333333333333,
              "#9c179e"
             ],
             [
              0.4444444444444444,
              "#bd3786"
             ],
             [
              0.5555555555555556,
              "#d8576b"
             ],
             [
              0.6666666666666666,
              "#ed7953"
             ],
             [
              0.7777777777777778,
              "#fb9f3a"
             ],
             [
              0.8888888888888888,
              "#fdca26"
             ],
             [
              1,
              "#f0f921"
             ]
            ],
            "type": "surface"
           }
          ],
          "table": [
           {
            "cells": {
             "fill": {
              "color": "#EBF0F8"
             },
             "line": {
              "color": "white"
             }
            },
            "header": {
             "fill": {
              "color": "#C8D4E3"
             },
             "line": {
              "color": "white"
             }
            },
            "type": "table"
           }
          ]
         },
         "layout": {
          "annotationdefaults": {
           "arrowcolor": "#2a3f5f",
           "arrowhead": 0,
           "arrowwidth": 1
          },
          "colorscale": {
           "diverging": [
            [
             0,
             "#8e0152"
            ],
            [
             0.1,
             "#c51b7d"
            ],
            [
             0.2,
             "#de77ae"
            ],
            [
             0.3,
             "#f1b6da"
            ],
            [
             0.4,
             "#fde0ef"
            ],
            [
             0.5,
             "#f7f7f7"
            ],
            [
             0.6,
             "#e6f5d0"
            ],
            [
             0.7,
             "#b8e186"
            ],
            [
             0.8,
             "#7fbc41"
            ],
            [
             0.9,
             "#4d9221"
            ],
            [
             1,
             "#276419"
            ]
           ],
           "sequential": [
            [
             0,
             "#0d0887"
            ],
            [
             0.1111111111111111,
             "#46039f"
            ],
            [
             0.2222222222222222,
             "#7201a8"
            ],
            [
             0.3333333333333333,
             "#9c179e"
            ],
            [
             0.4444444444444444,
             "#bd3786"
            ],
            [
             0.5555555555555556,
             "#d8576b"
            ],
            [
             0.6666666666666666,
             "#ed7953"
            ],
            [
             0.7777777777777778,
             "#fb9f3a"
            ],
            [
             0.8888888888888888,
             "#fdca26"
            ],
            [
             1,
             "#f0f921"
            ]
           ],
           "sequentialminus": [
            [
             0,
             "#0d0887"
            ],
            [
             0.1111111111111111,
             "#46039f"
            ],
            [
             0.2222222222222222,
             "#7201a8"
            ],
            [
             0.3333333333333333,
             "#9c179e"
            ],
            [
             0.4444444444444444,
             "#bd3786"
            ],
            [
             0.5555555555555556,
             "#d8576b"
            ],
            [
             0.6666666666666666,
             "#ed7953"
            ],
            [
             0.7777777777777778,
             "#fb9f3a"
            ],
            [
             0.8888888888888888,
             "#fdca26"
            ],
            [
             1,
             "#f0f921"
            ]
           ]
          },
          "colorway": [
           "#636efa",
           "#EF553B",
           "#00cc96",
           "#ab63fa",
           "#FFA15A",
           "#19d3f3",
           "#FF6692",
           "#B6E880",
           "#FF97FF",
           "#FECB52"
          ],
          "font": {
           "color": "#2a3f5f"
          },
          "geo": {
           "bgcolor": "white",
           "lakecolor": "white",
           "landcolor": "#E5ECF6",
           "showlakes": true,
           "showland": true,
           "subunitcolor": "white"
          },
          "hoverlabel": {
           "align": "left"
          },
          "hovermode": "closest",
          "mapbox": {
           "style": "light"
          },
          "paper_bgcolor": "white",
          "plot_bgcolor": "#E5ECF6",
          "polar": {
           "angularaxis": {
            "gridcolor": "white",
            "linecolor": "white",
            "ticks": ""
           },
           "bgcolor": "#E5ECF6",
           "radialaxis": {
            "gridcolor": "white",
            "linecolor": "white",
            "ticks": ""
           }
          },
          "scene": {
           "xaxis": {
            "backgroundcolor": "#E5ECF6",
            "gridcolor": "white",
            "gridwidth": 2,
            "linecolor": "white",
            "showbackground": true,
            "ticks": "",
            "zerolinecolor": "white"
           },
           "yaxis": {
            "backgroundcolor": "#E5ECF6",
            "gridcolor": "white",
            "gridwidth": 2,
            "linecolor": "white",
            "showbackground": true,
            "ticks": "",
            "zerolinecolor": "white"
           },
           "zaxis": {
            "backgroundcolor": "#E5ECF6",
            "gridcolor": "white",
            "gridwidth": 2,
            "linecolor": "white",
            "showbackground": true,
            "ticks": "",
            "zerolinecolor": "white"
           }
          },
          "shapedefaults": {
           "line": {
            "color": "#2a3f5f"
           }
          },
          "ternary": {
           "aaxis": {
            "gridcolor": "white",
            "linecolor": "white",
            "ticks": ""
           },
           "baxis": {
            "gridcolor": "white",
            "linecolor": "white",
            "ticks": ""
           },
           "bgcolor": "#E5ECF6",
           "caxis": {
            "gridcolor": "white",
            "linecolor": "white",
            "ticks": ""
           }
          },
          "title": {
           "x": 0.05
          },
          "xaxis": {
           "automargin": true,
           "gridcolor": "white",
           "linecolor": "white",
           "ticks": "",
           "zerolinecolor": "white",
           "zerolinewidth": 2
          },
          "yaxis": {
           "automargin": true,
           "gridcolor": "white",
           "linecolor": "white",
           "ticks": "",
           "zerolinecolor": "white",
           "zerolinewidth": 2
          }
         }
        }
       }
      },
      "text/html": [
       "<div>\n",
       "        \n",
       "        \n",
       "            <div id=\"beccbf62-9378-4fcd-adc2-199529d7c108\" class=\"plotly-graph-div\" style=\"height:525px; width:100%;\"></div>\n",
       "            <script type=\"text/javascript\">\n",
       "                require([\"plotly\"], function(Plotly) {\n",
       "                    window.PLOTLYENV=window.PLOTLYENV || {};\n",
       "                    \n",
       "                if (document.getElementById(\"beccbf62-9378-4fcd-adc2-199529d7c108\")) {\n",
       "                    Plotly.newPlot(\n",
       "                        'beccbf62-9378-4fcd-adc2-199529d7c108',\n",
       "                        [{\"type\": \"histogram\", \"y\": [\"Myself with lack of money\", \"Myself with my boss\", \"Myself with my family\", \"Myself with my friends\", \"Myself with my friends\", \"Myself with my family\", \"Myself in a normal work day\", \"Myself after a good day\", \"Myself with my family\", \"Myself with my friends\", \"Myself after a bad day\", \"Myself in a normal work day\", \"Myself with my family\", \"Myself in a normal work day\", \"Myself with my friends\", \"Myself with my boss\", \"Myself after a good day\", \"Myself before an important deadline\", \"Myself doing a presentation\", \"Myself with a coworker I dislike\", \"Myself after a good day\", \"Myself with lack of money\", \"Myself in a normal work day\", \"Myself before an important deadline\", \"Myself with my boss\", \"Myself with a coworker I dislike\", \"Myself with my family\", \"Myself with lack of money\", \"Myself with my friends\", \"Myself after a good day\", \"Myself with my family\", \"Myself with my friends\", \"Myself after a good day\", \"Myself before an important deadline\", \"Myself after a bad day\", \"Myself with my family\", \"Myself with my friends\", \"Myself doing a presentation\", \"Myself with my friends\", \"Myself with my boss\", \"Myself after a good day\", \"Myself before an important deadline\", \"Myself with my friends\", \"Myself with my family\", \"Myself with lack of money\", \"Myself in a tense meeting\", \"Myself after a bad day\", \"Myself doing a presentation\", \"Myself in a tense meeting\", \"Myself before an important deadline\", \"Myself with my family\", \"Myself after a bad day\", \"Myself in a tense meeting\", \"Myself with my friends\", \"Myself with lack of money\", \"Myself before an important deadline\", \"Myself with a coworker I dislike\", \"Myself after a bad day\", \"Myself with my boss\", \"Myself with my friends\", \"Myself with my family\", \"Myself after a good day\", \"Myself with my family\", \"Myself after a good day\", \"Myself doing a presentation\", \"Myself with my boss\", \"Myself with lack of money\", \"Myself doing a presentation\", \"Myself with my family\", \"Myself before an important deadline\", \"Myself with my friends\", \"Myself with my family\", \"Myself doing a presentation\", \"Myself in a normal work day\", \"Myself with my family\", \"Myself with lack of money\", \"Myself with my friends\", \"Myself with a coworker I like\", \"Myself with my family\", \"Myself after a good day\", \"Myself with my friends\", \"Myself with a coworker I like\", \"Myself with lack of money\", \"Myself with my family\", \"Myself with a coworker I like\", \"Myself in a normal work day\", \"Myself with my family\", \"Myself with my friends\", \"Myself with lack of money\", \"Myself in a normal work day\", \"Myself with lack of money\", \"Myself with a coworker I dislike\", \"Myself with my friends\", \"Myself in a normal work day\", \"Myself doing a presentation\", \"Myself with my family\", \"Myself after a good day\", \"Myself with my boss\", \"Myself after a bad day\", \"Myself with lack of money\", \"Myself in a normal work day\", \"Myself before an important deadline\", \"Myself with lack of money\", \"Myself after a bad day\", \"Myself in a tense meeting\", \"Myself with my boss\", \"Myself with lack of money\", \"Myself after a bad day\", \"Myself with my friends\", \"Myself in a normal work day\", \"Myself with my friends\", \"Myself with my family\", \"Myself with a coworker I like\", \"Myself after a good day\", \"Myself with my family\", \"Myself in a normal work day\", \"Myself with my boss\", \"Myself after a good day\", \"Myself in a normal work day\", \"Myself with my family\", \"Myself with my boss\", \"Myself after a bad day\", \"Myself with my family\", \"Myself with my boss\", \"Myself with my friends\", \"Myself in a normal work day\", \"Myself with lack of money\", \"Myself with my friends\", \"Myself with my boss\", \"Myself after a good day\", \"Myself in a tense meeting\", \"Myself doing a presentation\", \"Myself before an important deadline\", \"Myself with my family\", \"Myself with my family\", \"Myself after a good day\", \"Myself with my friends\", \"Myself doing a presentation\", \"Myself before an important deadline\", \"Myself with my family\", \"Myself after a bad day\", \"Myself with a coworker I dislike\", \"Myself after a good day\", \"Myself with my family\", \"Myself with my friends\", \"Myself with lack of money\", \"Myself with lack of money\", \"Myself after a bad day\", \"Myself with my friends\", \"Myself with my family\", \"Myself after a bad day\", \"Myself with my boss\", \"Myself with my family\", \"Myself in a tense meeting\", \"Myself with my friends\", \"Myself with lack of money\", \"Myself in a tense meeting\", \"Myself doing a presentation\", \"Myself with a coworker I dislike\", \"Myself after a bad day\", \"Myself with my family\", \"Myself with my friends\", \"Myself in a normal work day\", \"Myself after a good day\", \"Myself with my family\", \"Myself after a good day\", \"Myself doing a presentation\", \"Myself before an important deadline\", \"Myself with my family\", \"Myself after a good day\", \"Myself with my friends\", \"Myself with a coworker I like\", \"Myself after a good day\", \"Myself with my friends\", \"Myself in a normal work day\", \"Myself with my family\", \"Myself with my family\", \"Myself after a bad day\", \"Myself in a normal work day\", \"Myself with lack of money\", \"Myself after a good day\", \"Myself after a good day\", \"Myself with my boss\", \"Myself with a coworker I dislike\", \"Myself with my family\", \"Myself with my family\", \"Myself with lack of money\", \"Myself with my friends\", \"Myself before an important deadline\", \"Myself with my family\", \"Myself after a bad day\", \"Myself doing a presentation\", \"Myself with lack of money\", \"Myself with my boss\", \"Myself with my family\", \"Myself after a good day\", \"Myself with my friends\", \"Myself with my friends\", \"Myself with my family\", \"Myself after a good day\", \"Myself after a bad day\", \"Myself with my friends\", \"Myself with my family\", \"Myself with lack of money\", \"Myself in a normal work day\", \"Myself with my family\", \"Myself with lack of money\", \"Myself with my boss\", \"Myself with my friends\", \"Myself with my family\", \"Myself after a good day\", \"Myself with my friends\", \"Myself with a coworker I like\", \"Myself with lack of money\", \"Myself with my family\", \"Myself in a normal work day\", \"Myself before an important deadline\", \"Myself in a normal work day\", \"Myself with my boss\", \"Myself before an important deadline\", \"Myself after a bad day\", \"Myself with lack of money\", \"Myself with my friends\", \"Myself after a good day\", \"Myself after a bad day\", \"Myself with lack of money\", \"Myself with my friends\", \"Myself with a coworker I dislike\", \"Myself before an important deadline\", \"Myself with my family\", \"Myself before an important deadline\", \"Myself with my friends\", \"Myself in a normal work day\", \"Myself with my family\", \"Myself before an important deadline\", \"Myself with my boss\", \"Myself after a good day\", \"Myself with my family\", \"Myself in a normal work day\", \"Myself with my friends\", \"Myself after a good day\", \"Myself after a good day\", \"Myself with a coworker I dislike\", \"Myself with my family\", \"Myself with lack of money\", \"Myself with my family\", \"Myself doing a presentation\", \"Myself with lack of money\", \"Myself with a coworker I dislike\", \"Myself with my family\", \"Myself with my friends\", \"Myself in a normal work day\", \"Myself with my boss\", \"Myself after a bad day\", \"Myself with my family\", \"Myself with lack of money\", \"Myself in a normal work day\", \"Myself after a good day\", \"Myself before an important deadline\", \"Myself in a tense meeting\", \"Myself doing a presentation\", \"Myself in a normal work day\", \"Myself with my family\", \"Myself with my friends\", \"Myself after a bad day\", \"Myself with my boss\", \"Myself with a coworker I dislike\", \"Myself after a bad day\", \"Myself before an important deadline\", \"Myself with my friends\", \"Myself with my family\", \"Myself after a bad day\", \"Myself with a coworker I dislike\", \"Myself with my family\", \"Myself after a bad day\", \"Myself with my boss\", \"Myself in a normal work day\", \"Myself with my friends\", \"Myself before an important deadline\", \"Myself in a tense meeting\", \"Myself after a good day\", \"Myself with my family\", \"Myself doing a presentation\", \"Myself with my friends\", \"Myself with lack of money\", \"Myself with my family\", \"Myself with my friends\", \"Myself in a normal work day\", \"Myself after a good day\", \"Myself with a coworker I dislike\", \"Myself with my boss\", \"Myself in a tense meeting\", \"Myself after a bad day\", \"Myself with my family\", \"Myself with lack of money\", \"Myself after a good day\", \"Myself with a coworker I like\", \"Myself with my family\", \"Myself after a bad day\", \"Myself in a normal work day\", \"Myself after a good day\", \"Myself in a normal work day\", \"Myself with my friends\", \"Myself with my family\", \"Myself after a good day\", \"Myself with lack of money\", \"Myself after a bad day\", \"Myself in a normal work day\", \"Myself with a coworker I like\", \"Myself with lack of money\", \"Myself after a bad day\", \"Myself with my boss\", \"Myself with my family\", \"Myself with a coworker I like\", \"Myself after a bad day\", \"Myself with my family\", \"Myself before an important deadline\", \"Myself with my family\", \"Myself with a coworker I dislike\", \"Myself with lack of money\", \"Myself after a bad day\", \"Myself after a good day\", \"Myself with my friends\", \"Myself with my family\", \"Myself with a coworker I like\", \"Myself with a coworker I dislike\", \"Myself after a bad day\", \"Myself with my boss\", \"Myself in a tense meeting\", \"Myself with lack of money\", \"Myself with my family\", \"Myself with my friends\", \"Myself after a good day\", \"Myself with my friends\", \"Myself with my family\", \"Myself after a bad day\", \"Myself with lack of money\", \"Myself with lack of money\", \"Myself after a good day\", \"Myself with my boss\", \"Myself with my family\", \"Myself with lack of money\", \"Myself doing a presentation\", \"Myself after a bad day\", \"Myself before an important deadline\", \"Myself with my boss\", \"Myself with a coworker I dislike\", \"Myself with lack of money\", \"Myself with my friends\", \"Myself with my friends\", \"Myself in a tense meeting\", \"Myself with my boss\", \"Myself with a coworker I dislike\", \"Myself with my boss\", \"Myself with my friends\", \"Myself with lack of money\", \"Myself in a normal work day\", \"Myself with my friends\", \"Myself with my family\", \"Myself after a bad day\", \"Myself with lack of money\", \"Myself with my family\", \"Myself with a coworker I like\", \"Myself after a good day\", \"Myself with my friends\", \"Myself in a normal work day\", \"Myself with my family\", \"Myself after a bad day\", \"Myself after a good day\", \"Myself after a good day\", \"Myself with lack of money\", \"Myself with my friends\", \"Myself with my family\", \"Myself with my family\", \"Myself after a good day\", \"Myself with my friends\", \"Myself before an important deadline\", \"Myself with lack of money\", \"Myself with my friends\", \"Myself with my family\", \"Myself after a bad day\", \"Myself in a tense meeting\", \"Myself with a coworker I dislike\", \"Myself before an important deadline\", \"Myself with my boss\", \"Myself with my family\", \"Myself with my friends\", \"Myself with lack of money\", \"Myself with my boss\", \"Myself doing a presentation\", \"Myself in a normal work day\", \"Myself before an important deadline\", \"Myself with my family\", \"Myself with my friends\", \"Myself with my family\", \"Myself after a good day\", \"Myself in a normal work day\", \"Myself with lack of money\", \"Myself with my friends\", \"Myself with a coworker I dislike\", \"Myself before an important deadline\", \"Myself in a normal work day\", \"Myself with my family\", \"Myself after a bad day\", \"Myself with my friends\", \"Myself with lack of money\", \"Myself with my family\", \"Myself after a bad day\", \"Myself with my boss\", \"Myself with my family\", \"Myself with my friends\", \"Myself after a bad day\", \"Myself with lack of money\", \"Myself after a good day\", \"Myself after a bad day\", \"Myself with my friends\", \"Myself with my family\", \"Myself with my friends\", \"Myself with my family\", \"Myself before an important deadline\", \"Myself in a normal work day\", \"Myself with my family\", \"Myself with lack of money\", \"Myself before an important deadline\", \"Myself after a bad day\", \"Myself with my friends\", \"Myself with my family\", \"Myself after a good day\", \"Myself in a normal work day\", \"Myself with my family\", \"Myself before an important deadline\", \"Myself in a normal work day\", \"Myself with my friends\", \"Myself after a bad day\", \"Myself with my friends\", \"Myself with a coworker I like\", \"Myself doing a presentation\", \"Myself after a good day\", \"Myself with my family\", \"Myself with my friends\", \"Myself in a normal work day\", \"Myself with a coworker I dislike\", \"Myself after a bad day\", \"Myself with my friends\", \"Myself with my family\", \"Myself with a coworker I like\", \"Myself with lack of money\", \"Myself with my friends\", \"Myself after a good day\", \"Myself before an important deadline\", \"Myself with lack of money\", \"Myself in a tense meeting\", \"Myself after a bad day\", \"Myself with lack of money\", \"Myself with my friends\", \"Myself with my family\", \"Myself doing a presentation\", \"Myself with my family\", \"Myself after a good day\", \"Myself with my friends\", \"Myself with lack of money\", \"Myself with my family\", \"Myself after a good day\", \"Myself in a normal work day\", \"Myself with lack of money\", \"Myself with a coworker I dislike\", \"Myself in a normal work day\", \"Myself with my boss\", \"Myself before an important deadline\", \"Myself in a tense meeting\", \"Myself with my family\", \"Myself with my friends\", \"Myself after a bad day\", \"Myself before an important deadline\", \"Myself with lack of money\", \"Myself after a bad day\", \"Myself doing a presentation\", \"Myself before an important deadline\", \"Myself in a normal work day\", \"Myself before an important deadline\", \"Myself in a tense meeting\", \"Myself after a good day\", \"Myself with my family\", \"Myself doing a presentation\", \"Myself after a good day\", \"Myself in a normal work day\", \"Myself with my family\", \"Myself in a tense meeting\", \"Myself after a bad day\", \"Myself with a coworker I dislike\", \"Myself with lack of money\", \"Myself after a bad day\", \"Myself doing a presentation\", \"Myself in a tense meeting\", \"Myself doing a presentation\", \"Myself after a good day\", \"Myself with my friends\", \"Myself with lack of money\", \"Myself before an important deadline\", \"Myself with lack of money\", \"Myself with my family\", \"Myself before an important deadline\", \"Myself in a normal work day\", \"Myself after a bad day\", \"Myself with a coworker I dislike\", \"Myself in a normal work day\", \"Myself before an important deadline\", \"Myself with my family\", \"Myself with lack of money\", \"Myself before an important deadline\", \"Myself after a good day\", \"Myself with lack of money\", \"Myself after a bad day\", \"Myself in a normal work day\", \"Myself before an important deadline\", \"Myself with my family\", \"Myself after a good day\", \"Myself with my friends\", \"Myself in a normal work day\", \"Myself with lack of money\", \"Myself with my family\", \"Myself in a normal work day\", \"Myself after a bad day\", \"Myself with my family\", \"Myself with my friends\", \"Myself after a good day\", \"Myself with a coworker I like\", \"Myself with my friends\", \"Myself before an important deadline\", \"Myself in a tense meeting\", \"Myself after a bad day\", \"Myself with my boss\", \"Myself with my family\", \"Myself in a tense meeting\", \"Myself after a good day\", \"Myself with my friends\", \"Myself after a good day\", \"Myself with lack of money\", \"Myself in a normal work day\", \"Myself after a bad day\", \"Myself in a tense meeting\", \"Myself with my friends\", \"Myself with my family\", \"Myself doing a presentation\", \"Myself after a bad day\"]}],\n",
       "                        {\"template\": {\"data\": {\"bar\": [{\"error_x\": {\"color\": \"#2a3f5f\"}, \"error_y\": {\"color\": \"#2a3f5f\"}, \"marker\": {\"line\": {\"color\": \"#E5ECF6\", \"width\": 0.5}}, \"type\": \"bar\"}], \"barpolar\": [{\"marker\": {\"line\": {\"color\": \"#E5ECF6\", \"width\": 0.5}}, \"type\": \"barpolar\"}], \"carpet\": [{\"aaxis\": {\"endlinecolor\": \"#2a3f5f\", \"gridcolor\": \"white\", \"linecolor\": \"white\", \"minorgridcolor\": \"white\", \"startlinecolor\": \"#2a3f5f\"}, \"baxis\": {\"endlinecolor\": \"#2a3f5f\", \"gridcolor\": \"white\", \"linecolor\": \"white\", \"minorgridcolor\": \"white\", \"startlinecolor\": \"#2a3f5f\"}, \"type\": \"carpet\"}], \"choropleth\": [{\"colorbar\": {\"outlinewidth\": 0, \"ticks\": \"\"}, \"type\": \"choropleth\"}], \"contour\": [{\"colorbar\": {\"outlinewidth\": 0, \"ticks\": \"\"}, \"colorscale\": [[0.0, \"#0d0887\"], [0.1111111111111111, \"#46039f\"], [0.2222222222222222, \"#7201a8\"], [0.3333333333333333, \"#9c179e\"], [0.4444444444444444, \"#bd3786\"], [0.5555555555555556, \"#d8576b\"], [0.6666666666666666, \"#ed7953\"], [0.7777777777777778, \"#fb9f3a\"], [0.8888888888888888, \"#fdca26\"], [1.0, \"#f0f921\"]], \"type\": \"contour\"}], \"contourcarpet\": [{\"colorbar\": {\"outlinewidth\": 0, \"ticks\": \"\"}, \"type\": \"contourcarpet\"}], \"heatmap\": [{\"colorbar\": {\"outlinewidth\": 0, \"ticks\": \"\"}, \"colorscale\": [[0.0, \"#0d0887\"], [0.1111111111111111, \"#46039f\"], [0.2222222222222222, \"#7201a8\"], [0.3333333333333333, \"#9c179e\"], [0.4444444444444444, \"#bd3786\"], [0.5555555555555556, \"#d8576b\"], [0.6666666666666666, \"#ed7953\"], [0.7777777777777778, \"#fb9f3a\"], [0.8888888888888888, \"#fdca26\"], [1.0, \"#f0f921\"]], \"type\": \"heatmap\"}], \"heatmapgl\": [{\"colorbar\": {\"outlinewidth\": 0, \"ticks\": \"\"}, \"colorscale\": [[0.0, \"#0d0887\"], [0.1111111111111111, \"#46039f\"], [0.2222222222222222, \"#7201a8\"], [0.3333333333333333, \"#9c179e\"], [0.4444444444444444, \"#bd3786\"], [0.5555555555555556, \"#d8576b\"], [0.6666666666666666, \"#ed7953\"], [0.7777777777777778, \"#fb9f3a\"], [0.8888888888888888, \"#fdca26\"], [1.0, \"#f0f921\"]], \"type\": \"heatmapgl\"}], \"histogram\": [{\"marker\": {\"colorbar\": {\"outlinewidth\": 0, \"ticks\": \"\"}}, \"type\": \"histogram\"}], \"histogram2d\": [{\"colorbar\": {\"outlinewidth\": 0, \"ticks\": \"\"}, \"colorscale\": [[0.0, \"#0d0887\"], [0.1111111111111111, \"#46039f\"], [0.2222222222222222, \"#7201a8\"], [0.3333333333333333, \"#9c179e\"], [0.4444444444444444, \"#bd3786\"], [0.5555555555555556, \"#d8576b\"], [0.6666666666666666, \"#ed7953\"], [0.7777777777777778, \"#fb9f3a\"], [0.8888888888888888, \"#fdca26\"], [1.0, \"#f0f921\"]], \"type\": \"histogram2d\"}], \"histogram2dcontour\": [{\"colorbar\": {\"outlinewidth\": 0, \"ticks\": \"\"}, \"colorscale\": [[0.0, \"#0d0887\"], [0.1111111111111111, \"#46039f\"], [0.2222222222222222, \"#7201a8\"], [0.3333333333333333, \"#9c179e\"], [0.4444444444444444, \"#bd3786\"], [0.5555555555555556, \"#d8576b\"], [0.6666666666666666, \"#ed7953\"], [0.7777777777777778, \"#fb9f3a\"], [0.8888888888888888, \"#fdca26\"], [1.0, \"#f0f921\"]], \"type\": \"histogram2dcontour\"}], \"mesh3d\": [{\"colorbar\": {\"outlinewidth\": 0, \"ticks\": \"\"}, \"type\": \"mesh3d\"}], \"parcoords\": [{\"line\": {\"colorbar\": {\"outlinewidth\": 0, \"ticks\": \"\"}}, \"type\": \"parcoords\"}], \"scatter\": [{\"marker\": {\"colorbar\": {\"outlinewidth\": 0, \"ticks\": \"\"}}, \"type\": \"scatter\"}], \"scatter3d\": [{\"line\": {\"colorbar\": {\"outlinewidth\": 0, \"ticks\": \"\"}}, \"marker\": {\"colorbar\": {\"outlinewidth\": 0, \"ticks\": \"\"}}, \"type\": \"scatter3d\"}], \"scattercarpet\": [{\"marker\": {\"colorbar\": {\"outlinewidth\": 0, \"ticks\": \"\"}}, \"type\": \"scattercarpet\"}], \"scattergeo\": [{\"marker\": {\"colorbar\": {\"outlinewidth\": 0, \"ticks\": \"\"}}, \"type\": \"scattergeo\"}], \"scattergl\": [{\"marker\": {\"colorbar\": {\"outlinewidth\": 0, \"ticks\": \"\"}}, \"type\": \"scattergl\"}], \"scattermapbox\": [{\"marker\": {\"colorbar\": {\"outlinewidth\": 0, \"ticks\": \"\"}}, \"type\": \"scattermapbox\"}], \"scatterpolar\": [{\"marker\": {\"colorbar\": {\"outlinewidth\": 0, \"ticks\": \"\"}}, \"type\": \"scatterpolar\"}], \"scatterpolargl\": [{\"marker\": {\"colorbar\": {\"outlinewidth\": 0, \"ticks\": \"\"}}, \"type\": \"scatterpolargl\"}], \"scatterternary\": [{\"marker\": {\"colorbar\": {\"outlinewidth\": 0, \"ticks\": \"\"}}, \"type\": \"scatterternary\"}], \"surface\": [{\"colorbar\": {\"outlinewidth\": 0, \"ticks\": \"\"}, \"colorscale\": [[0.0, \"#0d0887\"], [0.1111111111111111, \"#46039f\"], [0.2222222222222222, \"#7201a8\"], [0.3333333333333333, \"#9c179e\"], [0.4444444444444444, \"#bd3786\"], [0.5555555555555556, \"#d8576b\"], [0.6666666666666666, \"#ed7953\"], [0.7777777777777778, \"#fb9f3a\"], [0.8888888888888888, \"#fdca26\"], [1.0, \"#f0f921\"]], \"type\": \"surface\"}], \"table\": [{\"cells\": {\"fill\": {\"color\": \"#EBF0F8\"}, \"line\": {\"color\": \"white\"}}, \"header\": {\"fill\": {\"color\": \"#C8D4E3\"}, \"line\": {\"color\": \"white\"}}, \"type\": \"table\"}]}, \"layout\": {\"annotationdefaults\": {\"arrowcolor\": \"#2a3f5f\", \"arrowhead\": 0, \"arrowwidth\": 1}, \"colorscale\": {\"diverging\": [[0, \"#8e0152\"], [0.1, \"#c51b7d\"], [0.2, \"#de77ae\"], [0.3, \"#f1b6da\"], [0.4, \"#fde0ef\"], [0.5, \"#f7f7f7\"], [0.6, \"#e6f5d0\"], [0.7, \"#b8e186\"], [0.8, \"#7fbc41\"], [0.9, \"#4d9221\"], [1, \"#276419\"]], \"sequential\": [[0.0, \"#0d0887\"], [0.1111111111111111, \"#46039f\"], [0.2222222222222222, \"#7201a8\"], [0.3333333333333333, \"#9c179e\"], [0.4444444444444444, \"#bd3786\"], [0.5555555555555556, \"#d8576b\"], [0.6666666666666666, \"#ed7953\"], [0.7777777777777778, \"#fb9f3a\"], [0.8888888888888888, \"#fdca26\"], [1.0, \"#f0f921\"]], \"sequentialminus\": [[0.0, \"#0d0887\"], [0.1111111111111111, \"#46039f\"], [0.2222222222222222, \"#7201a8\"], [0.3333333333333333, \"#9c179e\"], [0.4444444444444444, \"#bd3786\"], [0.5555555555555556, \"#d8576b\"], [0.6666666666666666, \"#ed7953\"], [0.7777777777777778, \"#fb9f3a\"], [0.8888888888888888, \"#fdca26\"], [1.0, \"#f0f921\"]]}, \"colorway\": [\"#636efa\", \"#EF553B\", \"#00cc96\", \"#ab63fa\", \"#FFA15A\", \"#19d3f3\", \"#FF6692\", \"#B6E880\", \"#FF97FF\", \"#FECB52\"], \"font\": {\"color\": \"#2a3f5f\"}, \"geo\": {\"bgcolor\": \"white\", \"lakecolor\": \"white\", \"landcolor\": \"#E5ECF6\", \"showlakes\": true, \"showland\": true, \"subunitcolor\": \"white\"}, \"hoverlabel\": {\"align\": \"left\"}, \"hovermode\": \"closest\", \"mapbox\": {\"style\": \"light\"}, \"paper_bgcolor\": \"white\", \"plot_bgcolor\": \"#E5ECF6\", \"polar\": {\"angularaxis\": {\"gridcolor\": \"white\", \"linecolor\": \"white\", \"ticks\": \"\"}, \"bgcolor\": \"#E5ECF6\", \"radialaxis\": {\"gridcolor\": \"white\", \"linecolor\": \"white\", \"ticks\": \"\"}}, \"scene\": {\"xaxis\": {\"backgroundcolor\": \"#E5ECF6\", \"gridcolor\": \"white\", \"gridwidth\": 2, \"linecolor\": \"white\", \"showbackground\": true, \"ticks\": \"\", \"zerolinecolor\": \"white\"}, \"yaxis\": {\"backgroundcolor\": \"#E5ECF6\", \"gridcolor\": \"white\", \"gridwidth\": 2, \"linecolor\": \"white\", \"showbackground\": true, \"ticks\": \"\", \"zerolinecolor\": \"white\"}, \"zaxis\": {\"backgroundcolor\": \"#E5ECF6\", \"gridcolor\": \"white\", \"gridwidth\": 2, \"linecolor\": \"white\", \"showbackground\": true, \"ticks\": \"\", \"zerolinecolor\": \"white\"}}, \"shapedefaults\": {\"line\": {\"color\": \"#2a3f5f\"}}, \"ternary\": {\"aaxis\": {\"gridcolor\": \"white\", \"linecolor\": \"white\", \"ticks\": \"\"}, \"baxis\": {\"gridcolor\": \"white\", \"linecolor\": \"white\", \"ticks\": \"\"}, \"bgcolor\": \"#E5ECF6\", \"caxis\": {\"gridcolor\": \"white\", \"linecolor\": \"white\", \"ticks\": \"\"}}, \"title\": {\"x\": 0.05}, \"xaxis\": {\"automargin\": true, \"gridcolor\": \"white\", \"linecolor\": \"white\", \"ticks\": \"\", \"zerolinecolor\": \"white\", \"zerolinewidth\": 2}, \"yaxis\": {\"automargin\": true, \"gridcolor\": \"white\", \"linecolor\": \"white\", \"ticks\": \"\", \"zerolinecolor\": \"white\", \"zerolinewidth\": 2}}}},\n",
       "                        {\"responsive\": true}\n",
       "                    ).then(function(){\n",
       "                            \n",
       "var gd = document.getElementById('beccbf62-9378-4fcd-adc2-199529d7c108');\n",
       "var x = new MutationObserver(function (mutations, observer) {{\n",
       "        var display = window.getComputedStyle(gd).display;\n",
       "        if (!display || display === 'none') {{\n",
       "            console.log([gd, 'removed!']);\n",
       "            Plotly.purge(gd);\n",
       "            observer.disconnect();\n",
       "        }}\n",
       "}});\n",
       "\n",
       "// Listen for the removal of the full notebook cells\n",
       "var notebookContainer = gd.closest('#notebook-container');\n",
       "if (notebookContainer) {{\n",
       "    x.observe(notebookContainer, {childList: true});\n",
       "}}\n",
       "\n",
       "// Listen for the clearing of the current output cell\n",
       "var outputEl = gd.closest('.output');\n",
       "if (outputEl) {{\n",
       "    x.observe(outputEl, {childList: true});\n",
       "}}\n",
       "\n",
       "                        })\n",
       "                };\n",
       "                });\n",
       "            </script>\n",
       "        </div>"
      ]
     },
     "metadata": {},
     "output_type": "display_data"
    }
   ],
   "source": [
    "fig = go.Figure(data=[go.Histogram(y=df_2['SelectedElements'])])\n",
    "fig.show()"
   ]
  },
  {
   "cell_type": "code",
   "execution_count": 146,
   "metadata": {},
   "outputs": [
    {
     "ename": "NameError",
     "evalue": "name 'time_rating' is not defined",
     "output_type": "error",
     "traceback": [
      "\u001b[0;31m---------------------------------------------------------------------------\u001b[0m",
      "\u001b[0;31mNameError\u001b[0m                                 Traceback (most recent call last)",
      "\u001b[0;32m<ipython-input-146-58820bfca8e6>\u001b[0m in \u001b[0;36m<module>\u001b[0;34m\u001b[0m\n\u001b[0;32m----> 1\u001b[0;31m \u001b[0mlen\u001b[0m\u001b[0;34m(\u001b[0m\u001b[0mtime_rating\u001b[0m\u001b[0;34m[\u001b[0m\u001b[0;34m'rating'\u001b[0m\u001b[0;34m]\u001b[0m\u001b[0;34m)\u001b[0m\u001b[0;34m\u001b[0m\u001b[0;34m\u001b[0m\u001b[0m\n\u001b[0m",
      "\u001b[0;31mNameError\u001b[0m: name 'time_rating' is not defined"
     ]
    }
   ],
   "source": [
    "len(time_rating['rating'])"
   ]
  },
  {
   "cell_type": "code",
   "execution_count": 80,
   "metadata": {},
   "outputs": [
    {
     "data": {
      "text/plain": [
       "8"
      ]
     },
     "execution_count": 80,
     "metadata": {},
     "output_type": "execute_result"
    }
   ],
   "source": [
    "sum(np.array(time_rating['rating'])<=6)"
   ]
  },
  {
   "cell_type": "code",
   "execution_count": 81,
   "metadata": {},
   "outputs": [
    {
     "data": {
      "text/plain": [
       "3"
      ]
     },
     "execution_count": 81,
     "metadata": {},
     "output_type": "execute_result"
    }
   ],
   "source": [
    "sum(np.array(time_rating['rating'])>=9)"
   ]
  },
  {
   "cell_type": "code",
   "execution_count": 305,
   "metadata": {},
   "outputs": [
    {
     "data": {
      "text/plain": [
       "4.477611940298507"
      ]
     },
     "execution_count": 305,
     "metadata": {},
     "output_type": "execute_result"
    }
   ],
   "source": [
    "(sum(np.array(time_rating['rating'])>=9) - sum(np.array(time_rating['rating'])<=6))/len(time_rating['rating'])*100"
   ]
  },
  {
   "cell_type": "code",
   "execution_count": 23,
   "metadata": {},
   "outputs": [
    {
     "ename": "TypeError",
     "evalue": "'>=' not supported between instances of 'list' and 'int'",
     "output_type": "error",
     "traceback": [
      "\u001b[0;31m---------------------------------------------------------------------------\u001b[0m",
      "\u001b[0;31mTypeError\u001b[0m                                 Traceback (most recent call last)",
      "\u001b[0;32m<ipython-input-23-ca279e7f7a07>\u001b[0m in \u001b[0;36m<module>\u001b[0;34m\u001b[0m\n\u001b[0;32m----> 1\u001b[0;31m \u001b[0maux_2\u001b[0m \u001b[0;34m=\u001b[0m \u001b[0mtime_rating\u001b[0m\u001b[0;34m[\u001b[0m\u001b[0mtime_rating\u001b[0m\u001b[0;34m[\u001b[0m\u001b[0;34m'time'\u001b[0m\u001b[0;34m]\u001b[0m\u001b[0;34m>=\u001b[0m\u001b[0;36m0\u001b[0m\u001b[0;34m]\u001b[0m\u001b[0;34m\u001b[0m\u001b[0;34m\u001b[0m\u001b[0m\n\u001b[0m",
      "\u001b[0;31mTypeError\u001b[0m: '>=' not supported between instances of 'list' and 'int'"
     ]
    }
   ],
   "source": [
    "aux_2 = time_rating[time_rating['time']>=0]"
   ]
  },
  {
   "cell_type": "code",
   "execution_count": 590,
   "metadata": {},
   "outputs": [
    {
     "data": {
      "text/plain": [
       "119"
      ]
     },
     "execution_count": 590,
     "metadata": {},
     "output_type": "execute_result"
    }
   ],
   "source": [
    "len(total)"
   ]
  },
  {
   "cell_type": "code",
   "execution_count": 695,
   "metadata": {},
   "outputs": [],
   "source": [
    "aux_2 = np.array(time_rating)"
   ]
  },
  {
   "cell_type": "code",
   "execution_count": 696,
   "metadata": {},
   "outputs": [
    {
     "ename": "IndexError",
     "evalue": "only integers, slices (`:`), ellipsis (`...`), numpy.newaxis (`None`) and integer or boolean arrays are valid indices",
     "output_type": "error",
     "traceback": [
      "\u001b[0;31m---------------------------------------------------------------------------\u001b[0m",
      "\u001b[0;31mIndexError\u001b[0m                                Traceback (most recent call last)",
      "\u001b[0;32m<ipython-input-696-75eb18fa5689>\u001b[0m in \u001b[0;36m<module>\u001b[0;34m\u001b[0m\n\u001b[0;32m----> 1\u001b[0;31m \u001b[0;34m(\u001b[0m\u001b[0msum\u001b[0m\u001b[0;34m(\u001b[0m\u001b[0maux_2\u001b[0m\u001b[0;34m[\u001b[0m\u001b[0;34m'rating'\u001b[0m\u001b[0;34m]\u001b[0m\u001b[0;34m>=\u001b[0m\u001b[0;36m9\u001b[0m\u001b[0;34m)\u001b[0m \u001b[0;34m-\u001b[0m \u001b[0msum\u001b[0m\u001b[0;34m(\u001b[0m\u001b[0maux_2\u001b[0m\u001b[0;34m[\u001b[0m\u001b[0;34m'rating'\u001b[0m\u001b[0;34m]\u001b[0m\u001b[0;34m<=\u001b[0m\u001b[0;36m6\u001b[0m\u001b[0;34m)\u001b[0m\u001b[0;34m)\u001b[0m\u001b[0;34m/\u001b[0m\u001b[0mlen\u001b[0m\u001b[0;34m(\u001b[0m\u001b[0maux_2\u001b[0m\u001b[0;34m[\u001b[0m\u001b[0;34m'rating'\u001b[0m\u001b[0;34m]\u001b[0m\u001b[0;34m)\u001b[0m\u001b[0;34m*\u001b[0m\u001b[0;36m100\u001b[0m\u001b[0;34m\u001b[0m\u001b[0;34m\u001b[0m\u001b[0m\n\u001b[0m",
      "\u001b[0;31mIndexError\u001b[0m: only integers, slices (`:`), ellipsis (`...`), numpy.newaxis (`None`) and integer or boolean arrays are valid indices"
     ]
    }
   ],
   "source": [
    "(sum(aux_2['rating']>=9) - sum(aux_2['rating']<=6))/len(aux_2['rating'])*100"
   ]
  },
  {
   "cell_type": "code",
   "execution_count": 627,
   "metadata": {},
   "outputs": [
    {
     "data": {
      "text/plain": [
       "0.03361344537815126"
      ]
     },
     "execution_count": 627,
     "metadata": {},
     "output_type": "execute_result"
    }
   ],
   "source": [
    "sum(aux_2['rating']==-1)/len(aux_2['rating'])"
   ]
  },
  {
   "cell_type": "code",
   "execution_count": 599,
   "metadata": {},
   "outputs": [
    {
     "data": {
      "image/png": "[encoded data removed]",
      "text/plain": [
       "<Figure size 864x504 with 1 Axes>"
      ]
     },
     "metadata": {},
     "output_type": "display_data"
    }
   ],
   "source": [
    "plt.figure(figsize=(12,7))\n",
    "ax = sns.boxplot(x=\"time\", y=\"rating\", data=total)"
   ]
  },
  {
   "cell_type": "code",
   "execution_count": 600,
   "metadata": {},
   "outputs": [
    {
     "data": {
      "image/png": "[encoded data removed]",
      "text/plain": [
       "<Figure size 864x504 with 1 Axes>"
      ]
     },
     "metadata": {},
     "output_type": "display_data"
    }
   ],
   "source": [
    "plt.figure(figsize=(12,7))\n",
    "ax = sns.boxplot(x=\"rating\", y=\"time\", data=total)"
   ]
  },
  {
   "cell_type": "code",
   "execution_count": 607,
   "metadata": {},
   "outputs": [
    {
     "data": {
      "text/plain": [
       "0.01282051282051282"
      ]
     },
     "execution_count": 607,
     "metadata": {},
     "output_type": "execute_result"
    }
   ],
   "source": [
    "sum(aux_2['rating']==1)/len(aux_2['rating'])"
   ]
  },
  {
   "cell_type": "code",
   "execution_count": 629,
   "metadata": {},
   "outputs": [
    {
     "data": {
      "text/plain": [
       "41"
      ]
     },
     "execution_count": 629,
     "metadata": {},
     "output_type": "execute_result"
    }
   ],
   "source": [
    "sum(total['time']<15)"
   ]
  },
  {
   "cell_type": "markdown",
   "metadata": {},
   "source": [
    "# Data frame that will store all the information regarding the participants"
   ]
  },
  {
   "cell_type": "code",
   "execution_count": 246,
   "metadata": {},
   "outputs": [],
   "source": [
    "df_study = pd.DataFrame()"
   ]
  },
  {
   "cell_type": "code",
   "execution_count": 247,
   "metadata": {},
   "outputs": [],
   "source": [
    "df_study['stress_scores'] = get_stress_score(csvRows=csvRows_study)"
   ]
  },
  {
   "cell_type": "code",
   "execution_count": null,
   "metadata": {},
   "outputs": [],
   "source": []
  }
 ],
 "metadata": {
  "kernelspec": {
   "display_name": "Python (reco_pyspark)",
   "language": "python",
   "name": "reco_pyspark"
  },
  "language_info": {
   "codemirror_mode": {
    "name": "ipython",
    "version": 3
   },
   "file_extension": ".py",
   "mimetype": "text/x-python",
   "name": "python",
   "nbconvert_exporter": "python",
   "pygments_lexer": "ipython3",
   "version": "3.6.8"
  }
 },
 "nbformat": 4,
 "nbformat_minor": 2
}
